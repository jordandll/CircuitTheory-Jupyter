{
 "cells": [
  {
   "cell_type": "code",
   "execution_count": 2,
   "id": "5b0fe197",
   "metadata": {},
   "outputs": [],
   "source": [
    "import numpy as np\n",
    "import matplotlib.pyplot as plt\n",
    "import math\n",
    "import sys\n",
    "\n",
    "sys.path.extend(['/home/jordan/Documents/Science/CircuitTheory/'])\n",
    "from Components.inductor import Inductor\n",
    "from Components.capacitor import Capacitor\n",
    "from Components.resistor import Resistor"
   ]
  },
  {
   "cell_type": "markdown",
   "id": "be7ec68e",
   "metadata": {},
   "source": [
    "# Table of Contents\n",
    "1. [Filters](#Filters)\n",
    "2. [Low Pass](#Low-Pass-Filters)\n",
    "    1. [Inductive](#Inductive-Filters)\n",
    "    2. [Capacitive](#Capacitive-Filters)\n",
    "3. [High Pass](#High-Pass-Filters)\n",
    "    1. [Capacitive](#Capacitive)\n",
    "    2. [Inductive](#Inductive-Filter)"
   ]
  },
  {
   "cell_type": "markdown",
   "id": "6776a8c4",
   "metadata": {},
   "source": [
    "# Filters\n",
    "It is sometimes desirable to have circuits capable of selectively filtering one frequency or range of frequencies out of a mix of different frequencies in a circuit. A circuit designed to perform this frequency selection is called a filter circuit, or simply a filter.\n",
    "\n",
    "# Low Pass Filters\n",
    "A low pass filter filters out voltage signals with higher frequencies by causing a higher amount of voltage to drop across the other components while allowing lower frequency voltage signals to \"pass through\" with less impedance.  \n",
    "\n",
    "## Inductive Filters\n",
    "One type of low pass filter is an inductor in series with the load.  Via the notion that the reactance of an inductor, denoted as '$X_L$', with an inductance of $L$ is proportional to the frequency of the voltage signal, the reactance, and therefore impedance, goes up as the frequency goes up, which means that the voltage dropped accross the inductor, or inductive filter, goes up with the frequency as well, since the voltage running accross the inductor, denoted as '$V_L$', is proportional to the impedance of the inductor, denoted as '$Z_L$'.  Ultimately, this leaves less voltage to drop across the load when the frequency is relatively high.\n",
    "$$ X_L = 2\\pi f L$$\n",
    "$$ Z_L = X_L\\angle90^{\\circ}$$\n",
    "$$ V_L = Z_LI$$"
   ]
  },
  {
   "cell_type": "markdown",
   "id": "b377b330",
   "metadata": {},
   "source": [
    "### Example\n",
    "\n",
    "Suppose we have a circuit with a $3$H inductor ($L_1$) in series with the $1\\text{k}\\Omega$ load ($R_\\text{load}:=R_L$) and a $1\\text{V}\\angle0$ AC power supply.  \n",
    "![inductive filter](https://www.allaboutcircuits.com/uploads/articles/inductive-low-pass-filter-circuit.png)  \n",
    "The reactance of $L_1$ is given by:\n",
    "$$ X_L = 6\\pi f \\text{H}$$\n",
    "$$ Z_L = X_L\\angle90^{\\circ}$$\n",
    "The voltage running accross the inductor and the load is:\n",
    "$$ V_L = Z_LI$$\n",
    "$$ V_R = 1\\text{k}\\Omega \\cdot I$$\n",
    "Via KVL, we can find the current.\n",
    "$$ 1\\text{V}\\angle0 = V_L + V_R = (Z_L+1000\\Omega)I$$\n",
    "$$ I = \\frac{1\\text{V}\\angle0}{Z_L+1000\\Omega}$$\n",
    "The complex number representation of the denominator of the above fraction, denoted as '$\\mathbf{D}$', in rectangular form is:\n",
    "$$\\mathbf{D}= Z_L+1000\\Omega = 1000\\Omega + j\\cdot X_L$$\n",
    "And, in polar form:\n",
    "$$ |\\mathbf{D}| = \\sqrt{X_L^2+10^6\\Omega^2} $$\n",
    "$$ D_\\theta = \\arcsin \\frac{X_L}{1000\\Omega}$$\n",
    "$$ \\mathbf{D} = |\\mathbf{D}|\\angle D_\\theta$$\n",
    "The amplitude of the current is thus:\n",
    "$$ |I|=\\frac{1}{|\\mathbf{D}|} = \\frac{1}{\\sqrt{36\\pi^2f^2\\text{H}^2 + 10^6\\Omega^2}}$$\n",
    "Via the above in conjunction with Ohm's Law, the amplitude of the voltage running accross the load is:\n",
    "$$ |V_R|:=|V_R|(f) = \\frac{1000\\Omega}{\\sqrt{36\\pi^2f^2\\text{H}^2 + 10^6\\Omega^2}} $$"
   ]
  },
  {
   "cell_type": "code",
   "execution_count": 7,
   "id": "0cadb586",
   "metadata": {},
   "outputs": [
    {
     "data": {
      "text/plain": [
       "<matplotlib.legend.Legend at 0x7f422d4b7240>"
      ]
     },
     "execution_count": 7,
     "metadata": {},
     "output_type": "execute_result"
    },
    {
     "data": {
      "image/png": "[encoded data removed]",
      "text/plain": [
       "<Figure size 540x540 with 1 Axes>"
      ]
     },
     "metadata": {
      "needs_background": "light"
     },
     "output_type": "display_data"
    }
   ],
   "source": [
    "f = np.linspace(0, 200, num=200)\n",
    "magV_R = 1000/np.sqrt(36*np.pi**2*f**2 + 10**6)\n",
    "\n",
    "fig, ax = plt.subplots(figsize=(7.5, 7.5))\n",
    "ax.set_title('Inductive Filter', size=18)\n",
    "ax.set_xlabel('frequency (Hz)')\n",
    "ax.set_ylabel('voltage (Volts)')\n",
    "ax.plot(f, magV_R, label=r'$|V_R|(f)$')\n",
    "ax.legend(fontsize=14)"
   ]
  },
  {
   "cell_type": "markdown",
   "id": "db4f5e2d",
   "metadata": {
    "slideshow": {
     "slide_type": "notes"
    }
   },
   "source": [
    "### Generalized Equations\n",
    "\n",
    "The above can be generalized by assuming an inductance of $L_1=L$, a load with a resistance of $R_L$, and an AC power supply of $E = |E|\\angle0$. \n",
    "$$ X_L = 2\\pi f L$$\n",
    "$$ E = Z_LI + R_LI = I(Z_L+R_L)$$\n",
    "$$ I = \\frac{E}{Z_L+R_L}$$\n",
    "The complex number represention of the denominator, denoted as '$\\mathbf{D}$', in polar form is:\n",
    "$$ \\mathbf{D} = |\\mathbf{D}|\\angle D_\\theta$$\n",
    "$$ D_\\theta = \\arcsin \\frac{X_L}{R_L}$$\n",
    "$$ |\\mathbf{D}| = \\sqrt{X_L^2 + R_L^2}$$\n",
    "The amplitude of the current is thus:\n",
    "$$ |I| = \\frac{|E|}{|\\mathbf{D}|}$$\n",
    "Via Ohm's Law, the voltage running accross the load is given by:\n",
    "$$ V_{RL} = R_LI$$\n",
    "And the amplitude of said voltage is given by:\n",
    "$$ |V_{RL}|:=|V_{RL}|(f) = R_L|I| = R_L\\frac{|E|}{\\sqrt{4\\pi^2f^2L^2 + R_L^2}}$$"
   ]
  },
  {
   "cell_type": "markdown",
   "id": "c4b84923",
   "metadata": {
    "slideshow": {
     "slide_type": "slide"
    }
   },
   "source": [
    "## Capacitive Filters\n",
    "A resistor in series with a parallel circuit consisting of a capacitor in parallel with a resistive load is another way of forming a low pass filter.  As the frequency goes up the reactance and therefore the voltage running accross the capacitor goes down;  And, since the voltage running accross the load is equal to that of the capacitor it is in parallel with, the voltage running accross the load goes down with the capacitor as the frequency goes up.  Conversely, the voltage running accross the capacitor and thus the load goes up as the frequency goes down.  This fits the concept of low pass filtration.  \n",
    "\n",
    "Via KVL, the voltage dropped across the resistor that is in series with the parallel circuit goes up as the frequency goes up and vice versa.\n",
    "\n",
    "### Example\n",
    "\n",
    "Suppose there is a circuit defined by '$E--R_1--C_1//R_L$', where\n",
    "* $E=1\\text{V}\\angle0$\n",
    "* $R_1 = 500\\Omega$\n",
    "* $C_1= 7\\mu\\text{F}=7\\cdot10^{-6}\\text{F}$\n",
    "* $R_L:=R_\\text{load}=1000\\Omega$\n",
    "![capacitive filter](https://www.allaboutcircuits.com/uploads/articles/capacitive-low-pass-filter-circuit.png)\n",
    "The impedance of $R_1$ is of course:\n",
    "$$ Z_1 = X_1\\angle0 = R_1\\angle0$$\n",
    "The impedance of $C_1//R_L$, denoted as '$Z_2$', is given by:\n",
    "$$Z_2 = \\frac{1}{D}$$\n",
    "where\n",
    "$$ D = \\frac{1}{Z_{C1}} + \\frac{1}{Z_{RL}}$$\n",
    "$$ Z_{RL} = R_L\\angle0 = R_L$$\n",
    "$$ Z_{C1} = X_{C1}\\angle-90^{\\circ} = - j \\cdot X_{C1}$$\n",
    "$$ X_{C1} = \\frac{1}{14\\pi f \\mu\\text{F}}$$\n",
    "$$ D = \\frac{1}{X_{C1}}\\angle90^{\\circ} + \\frac{1}{R_L}\\angle0 = \\frac{1}{R_L} + j \\cdot \\frac{1}{X_{C1}}$$\n",
    "The denominator, denoted as '$D$', in polar form is given by:\n",
    "$$ D = |D|\\angle D_\\theta$$\n",
    "$$ D_\\theta = \\arcsin \\frac{1}{X_{C1}|D|} = \\arccos \\frac{1}{R_L|D|}$$\n",
    "$$ |D| = \\sqrt{\\frac{1}{R_L^2} + \\frac{1}{X_{C1}^2}}$$\n",
    "Via KVL,\n",
    "$$ E = Z_1I + Z_2I = (Z_1+Z_2)I$$\n",
    "$$ I = \\frac{E}{Z_1+Z_2}$$\n",
    "Let $Z_T$ be defined as:\n",
    "$$ Z_T:=Z_1+Z_2 = R_1\\angle0 + \\frac{1}{|D|}\\angle-D_\\theta$$\n",
    "The rectangular form of $Z_2$ is given by:\n",
    "$$ Z_2=\\frac{1}{|D|}(\\cos -D_\\theta + j \\cdot \\sin-D_\\theta) = \\frac{1}{|D|}(\\cos D\\theta - j \\cdot \\sin D_\\theta)$$\n",
    "$$ Z_2 = \\frac{1}{|D|}\\left(\\frac{1}{R_L|D|}  - j \\cdot \\frac{1}{X_{C1}|D|} \\right)$$\n",
    "Thus $Z_T$ is given by:\n",
    "$$ Z_T = R_1 + \\frac{1}{R_L|D|^2} - j \\cdot \\frac{1}{X_{C1}|D|^2}$$"
   ]
  },
  {
   "cell_type": "markdown",
   "id": "6e625ed7",
   "metadata": {
    "slideshow": {
     "slide_type": "slide"
    }
   },
   "source": [
    "$$Z_T = \\frac{R_1R_L|D|^2 + 1}{R_L|D|^2} - j \\cdot \\frac{1}{X_{C1}|D|} $$"
   ]
  },
  {
   "cell_type": "markdown",
   "id": "045c9194",
   "metadata": {},
   "source": [
    "The polar form of $Z_T$ is given by:\n",
    "$$ Z_T = |Z_T|\\angle Z_{T\\theta}$$\n",
    "$$ |Z_T| = \\frac{1}{|D|}\\sqrt{\\frac{(R_1R_L|D|^2+1)^2}{R_L^2|D|^2} + \\frac{1}{X_{C1}^2}}$$\n",
    "$$ Z_{T\\theta} = \\arcsin - \\frac{1}{X_{C1}|D||Z_T|} $$\n",
    "The total current is given by:\n",
    "$$ I_T:=I=\\frac{|E|}{|Z_T|}\\angle-Z_{T\\theta} = \\frac{|E|}{|Z_T|}\\angle \\arcsin \\frac{1}{X_{C1}|D||Z_T|} $$"
   ]
  },
  {
   "cell_type": "markdown",
   "id": "16c28833",
   "metadata": {},
   "source": [
    "The voltage running accross the capacitor and the load is given by:\n",
    "$$ V_{C1} = Z_{C1}I_1$$\n",
    "$$ V_{RL} = Z_{RL}I_2$$\n",
    "where $I_T=I=I_1+I_2$.\n",
    "$$ V_{C1}=V_{RL}$$\n",
    "Via the above three equations and equivalance principle,\n",
    "$$ Z_{C1}I_1 = Z_{RL}(I-I_1)$$"
   ]
  },
  {
   "cell_type": "markdown",
   "id": "5c855475",
   "metadata": {},
   "source": [
    "$$ Z_{C1}I_1 + Z_{RL}I_1 = Z_{RL}I$$\n",
    "$$ I_1 = \\frac{Z_{RL}I}{Z_{C1}+Z_{RL}}$$"
   ]
  },
  {
   "cell_type": "markdown",
   "id": "ab9554df",
   "metadata": {},
   "source": [
    "The voltage running accross the load is also given by:\n",
    "$$ E - V_{R1} = V_{C1}=V_{RL} = E - Z_1I = E - R_1 \\frac{|E|}{|Z_T|}\\angle-Z_{T\\theta}$$"
   ]
  },
  {
   "cell_type": "markdown",
   "id": "6d98d8be",
   "metadata": {},
   "source": [
    "In rectangular form:\n",
    "$$ V_{RL} = |E| - R_1\\frac{|E|}{|Z_T|}(\\cos Z_{T\\theta} - j \\cdot \\sin Z_{T\\theta})$$"
   ]
  },
  {
   "cell_type": "markdown",
   "id": "bb0bfb8a",
   "metadata": {},
   "source": [
    "$$V_{RL} = |E| - R_1\\frac{|E|}{|Z_T|^2}(Z_{Tx} - j \\cdot Z_{Ty}) $$"
   ]
  },
  {
   "cell_type": "markdown",
   "id": "a23b7071",
   "metadata": {},
   "source": [
    "### Generalized Equation\n",
    "$$|V_{RL}|:=|V_{RL}|(f \\vert |E|, R_1, C, R_L) = \\sqrt{\\left( |E| - R_1\\frac{|E|Z_{Tx}}{|Z_T|^2}\\right)^2 + \\left(R_1\\frac{|E|Z_{Ty}}{|Z_T|^2} \\right)^2}$$"
   ]
  },
  {
   "cell_type": "code",
   "execution_count": 17,
   "id": "fc587cb4",
   "metadata": {},
   "outputs": [],
   "source": [
    "def X_C_gen(C):\n",
    "    return lambda f: 1/(2*np.pi*f*C)\n",
    "\n",
    "def _mag_D_gen(C, R_L):\n",
    "    X_C = X_C_gen(C)\n",
    "    return lambda f: np.sqrt(1/(R_L**2) + 1/(X_C(f)**2))\n",
    "\n",
    "def Z_Tx_gen(R_1, C, R_L):\n",
    "    \"\"\"The x-component or real part of the complex number representation of the total impedance.\"\"\"\n",
    "    mag_D = _mag_D_gen(C, R_L)\n",
    "    return lambda f: (R_1*R_L*mag_D(f)**2 + 1)/(R_L*mag_D(f)**2)\n",
    "\n",
    "def Z_Ty_gen(R_1, C, R_L):\n",
    "    \"\"\"The y-component or imaginary part of the complex number representation of the total impedance.\"\"\"\n",
    "    mag_D = _mag_D_gen(C, R_L)\n",
    "    X_C = X_C_gen(C)\n",
    "    return lambda f: - 1/(mag_D(f)*X_C(f))\n",
    "\n",
    "def magZ_T_gen(R_1, C, R_L):\n",
    "    \"\"\"Magnitude (amplitude) of the total impedance of the capacitive low pass filter circuit.\"\"\"\n",
    "    Z_Tx = Z_Tx_gen(R_1, C, R_L)\n",
    "    Z_Ty = Z_Ty_gen(R_1, C, R_L)\n",
    "    return lambda f: np.sqrt(Z_Tx(f)**2 + Z_Ty(f)**2) \n",
    "\n",
    "def magV_RL_gen(E, R_1, C, R_L):\n",
    "    \"\"\"The magnitude of the voltage drop across the load with a resistance of R_L ohms.  This is a lambda \n",
    "    (parametric) function that returns a specific function with one variable, the frequency, denoted as \n",
    "    'f'.  The parameters are:\n",
    "    E:   Amplitude of the voltage provided by the AC power supply;\n",
    "    R_1: Resistance of the resistor in series with the parallel circuit;\n",
    "    C:   Capacitance of the capacitor that is in parallel with the load;\n",
    "    R_L: Resistance of the load \"\"\"\n",
    "    Z_Tx = Z_Tx_gen(R_1, C, R_L)\n",
    "    Z_Ty = Z_Ty_gen(R_1, C, R_L)\n",
    "    return lambda f: np.sqrt((E - R_1*E*Z_Tx(f)/(Z_Tx(f)**2+Z_Ty(f)**2))**2 + (R_1*E*Z_Ty(f)/(Z_Tx(f)**2+Z_Ty(f)**2))**2)"
   ]
  },
  {
   "cell_type": "code",
   "execution_count": null,
   "id": "9ee7c18e",
   "metadata": {},
   "outputs": [],
   "source": [
    "class CapacitiveLowPass:\n",
    "    \n",
    "    def __init__(self, capacitor: Capacitor, R_1: float, R_L: float, magE: float):\n",
    "        self.c = self.capacitor = capacitor\n",
    "        self.R_1 = R_1; self.resistor = Resistor(R_1)\n",
    "        self.R_L = R_L; self.load = Resistor(R_L)\n",
    "        self.magE = magE; self.E = complex(magE, 0)\n",
    "        \n",
    "    def _D(self, f: float):\n",
    "        return complex(1/self.R_L, 1/self.c.X(f))\n",
    "    \n",
    "    def _mag_D(self, f: float):\n",
    "        D = self._D(f)\n",
    "        return np.sqrt(D.real**2 + D.imag**2)"
   ]
  },
  {
   "cell_type": "markdown",
   "id": "33146830",
   "metadata": {},
   "source": [
    "Below is some code to generate the bode plot given by the parametric function above with the values found in our latest example of a capacitive filter as arguments."
   ]
  },
  {
   "cell_type": "code",
   "execution_count": 18,
   "id": "03675c14",
   "metadata": {},
   "outputs": [
    {
     "data": {
      "text/plain": [
       "<matplotlib.legend.Legend at 0x7f644bf66b00>"
      ]
     },
     "execution_count": 18,
     "metadata": {},
     "output_type": "execute_result"
    },
    {
     "data": {
      "image/png": "[encoded data removed]",
      "text/plain": [
       "<Figure size 540x540 with 1 Axes>"
      ]
     },
     "metadata": {
      "needs_background": "light"
     },
     "output_type": "display_data"
    }
   ],
   "source": [
    "f = np.linspace(1, 200, num=200)\n",
    "magV_RL = magV_RL_gen(1, 500, 7e-6, 1000)\n",
    "Y = np.array(list(map(magV_RL, f)))\n",
    "\n",
    "fig, ax = plt.subplots(figsize=(7.5, 7.5))\n",
    "ax.set_title('Capacitive Filter', size=18)\n",
    "ax.set_xlabel('frequency (Hz)')\n",
    "ax.set_ylabel('voltage (milli Volts)')\n",
    "ax.plot(f, Y*1000, label=r'$|E|=1; R_1=500\\Omega; C_1=7\\mu F; R_L=1000\\Omega$')\n",
    "ax.legend()"
   ]
  },
  {
   "cell_type": "markdown",
   "id": "f071065f",
   "metadata": {},
   "source": [
    "# High Pass Filters\n",
    "\n",
    "A high-pass filter’s task is just the opposite of a low-pass filter: to offer easy passage of a high-frequency signal and difficult passage to a low-frequency signal.  Unsuprisingly, the design of a capacitive high pass filter is the same as an inductive low pass filter, except with the inductor being replaced by a capacitor.  The same duality exists between an inductive high pass filter and a capacitive low pass filter;  An inductive high pass filter is the same as a capacitive low pass filter, except with the capacitor being replaced by an inductor."
   ]
  },
  {
   "cell_type": "markdown",
   "id": "9db9b6f3",
   "metadata": {},
   "source": [
    "## Capacitive\n",
    "\n",
    "As was implied earlier in the parent of this subsection, a capacitive high pass filter consists of a capacitor in series with the load.  The higher the frequency, the lower the reactance and thus impedance of the capacitor, which means the higher the frequency, the lower the voltage drop will be accross the capacitor acting as a filter.\n",
    "\n",
    "### Generalized Equation\n",
    "\n",
    "Suppose there is a AC power supply with a voltage of $E_T = |E_T|\\text{V}\\angle0$ hooked up to a circuit consisting of a capacitor with a capacitance of $C$ in series with a load with a resitance of $R_\\text{load}=R_L=R$.  \n",
    "\n",
    "The voltage running accross the capacitor, henceforth '$C$', is given by:\n",
    "$$ V_C = Z_C I$$\n",
    "$$ Z_C = X_C \\angle -90^{\\circ}$$\n",
    "$$ X_C = \\frac{1}{2\\pi f C}$$\n",
    "\n",
    "And, of course the impedance of the load is given by:\n",
    "$$ Z_R = X_R\\angle0 = R \\angle 0$$\n",
    "\n",
    "Via KVL,\n",
    "$$ E_T = V_C + V_{R} = Z_C I + Z_R I$$\n",
    "\n",
    "The current, denoted as '$I$', is thus given by:\n",
    "$$ I = \\frac{E_T}{Z_C + Z_R}$$\n",
    "\n",
    "The denominator (D) of the above fraction is given by:\n",
    "$$ D = Z_C + Z_R = X_R - j \\cdot X_C$$\n",
    "\n",
    "To get $D$ in polar form, we use the following equations:\n",
    "$$ D = |D|\\angle D_\\theta$$\n",
    "\n",
    "$$ |D| = \\sqrt{R^2 + X_C^2}$$\n",
    "\n",
    "$$ D_\\theta = \\arcsin -\\frac{X_C}{X_R}$$"
   ]
  },
  {
   "cell_type": "markdown",
   "id": "78d4dacd",
   "metadata": {},
   "source": [
    "Thus,\n",
    "$$ I = \\frac{|E_T|}{|D|}\\angle -D_\\theta$$\n",
    "\n",
    "And, \n",
    "$$ |I|:=|I|(f \\vert C, R_L, |E_T|) = \\frac{|E_T|}{|D|}$$\n",
    "\n",
    "Finally, via Ohm's Law, the above equation, and substitution,\n",
    "$$ V_R = R_L I$$\n",
    "\n",
    "$$ |V_R|:=|V_R|(f \\vert C, R_L, |E_T|) = R_L |I|$$"
   ]
  },
  {
   "cell_type": "code",
   "execution_count": 20,
   "id": "00f94023",
   "metadata": {},
   "outputs": [],
   "source": [
    "class CapacitiveHighPass:\n",
    "    \n",
    "    \n",
    "    def __init__(self, capacitor: Capacitor, R: float, magE: float):\n",
    "        self.capacitor = capacitor\n",
    "        self.R = R\n",
    "        self.magE = magE\n",
    "        \n",
    "    def _magD(self, f: float):\n",
    "        return np.sqrt(self.R**2 + self.capacitor.reactance(f)**2)\n",
    "    \n",
    "    def magV_R(self, f: float):\n",
    "        return self.R*self.magE/self._magD(f)"
   ]
  },
  {
   "cell_type": "code",
   "execution_count": 3,
   "id": "0286492e",
   "metadata": {},
   "outputs": [],
   "source": [
    "\"\"\" Note that the relationships behind these lambda function only hold true in a capacitive high pass filter,\n",
    "and thus should go into some namespace -- like a module or class-- with a name that reflects this fact.\"\"\"\n",
    "\n",
    "# TODO:  Place these function into the aforementioned appropriate namespace.\n",
    "\n",
    "\n",
    "def magI_gen(C, R, E):\n",
    "    return lambda f: E / np.sqrt(R**2 + 1/(2*np.pi*f*C)**2)\n",
    "\n",
    "def magV_R_gen(C, R, E):\n",
    "    magI = magI_gen(C, R, E)\n",
    "    return lambda f: R * magI(f)"
   ]
  },
  {
   "cell_type": "markdown",
   "id": "04e10626",
   "metadata": {},
   "source": [
    "#### Critical Point\n",
    "\n",
    "The x-coordinate of the critical point of the curve given by $|V_R|$ is equal to the root of $|V_R|'$.\n",
    "\n",
    "$$ |V_R|'(CP_x)=0$$\n",
    "$$ CP_x = \\emptyset = \\{\\}$$\n",
    "\n",
    "There is no solution to $CP_x$.  Trying to find one results in a mathematical fallacy.  This means that the curve given by $|V_R|$ has no critical point;  The amplitude of the voltage running accross the load simply goes up as the frequency goes up.  This positive relationship hold true without limitation."
   ]
  },
  {
   "cell_type": "markdown",
   "id": "833012c2",
   "metadata": {},
   "source": [
    "### Specific Example\n",
    "\n",
    "Suppose we have the following circuit:\n",
    "\n",
    "![example-circuit-C](https://www.allaboutcircuits.com/uploads/articles/capacitive-high-pass-filter-circuit.png)"
   ]
  },
  {
   "cell_type": "markdown",
   "id": "01d50a4c",
   "metadata": {},
   "source": [
    "The amplitude of the voltage drop accross the load as a function of the frequency of $V_1$, denoted as '$f$', is given by:\n",
    "$$ |V_R|(f):=|V_R|( f \\vert 0.5\\mu\\text{F}, 1\\text{k}\\Omega, 1\\text{V})$$"
   ]
  },
  {
   "cell_type": "code",
   "execution_count": 4,
   "id": "907f87bf",
   "metadata": {
    "collapsed": true
   },
   "outputs": [
    {
     "data": {
      "text/plain": [
       "<matplotlib.legend.Legend at 0x7ff669468e80>"
      ]
     },
     "execution_count": 4,
     "metadata": {},
     "output_type": "execute_result"
    },
    {
     "data": {
      "image/png": "[encoded data removed]",
      "text/plain": [
       "<Figure size 540x540 with 1 Axes>"
      ]
     },
     "metadata": {
      "needs_background": "light"
     },
     "output_type": "display_data"
    }
   ],
   "source": [
    "magV_R = magV_R_gen(0.5e-6, 1000, 1)\n",
    "f = np.linspace(1, 200, num=200)\n",
    "\n",
    "fig, ax = plt.subplots(figsize=(7.5,7.5))\n",
    "ax.set(title='Capacitive High Pass Filter', xlabel='frequency (Hz)', ylabel='voltage (Volts)')\n",
    "ax.plot(f, magV_R(f), label=r'$C=0.5\\mu$' + 'F' + r'$; R=1000\\Omega ; V=1$' + 'V')\n",
    "ax.legend()"
   ]
  },
  {
   "cell_type": "code",
   "execution_count": 21,
   "id": "31231609",
   "metadata": {},
   "outputs": [
    {
     "data": {
      "text/plain": [
       "<matplotlib.legend.Legend at 0x7f23ba817fd0>"
      ]
     },
     "execution_count": 21,
     "metadata": {},
     "output_type": "execute_result"
    },
    {
     "data": {
      "image/png": "[encoded data removed]",
      "text/plain": [
       "<Figure size 540x540 with 1 Axes>"
      ]
     },
     "metadata": {
      "needs_background": "light"
     },
     "output_type": "display_data"
    }
   ],
   "source": [
    "c = Capacitor(0.5e-6)\n",
    "flt = CapacitiveHighPass(c, 1000, 1)\n",
    "f = np.linspace(1, 200, num=200)\n",
    "\n",
    "\n",
    "fig, ax = plt.subplots(figsize=(7.5,7.5))\n",
    "ax.set(title='Capacitive High Pass Filter', xlabel='frequency (Hz)', ylabel='voltage (Volts)')\n",
    "ax.plot(f, flt.magV_R(f), label=r'$C=0.5\\mu$' + 'F' + r'$; R=1000\\Omega ; V=1$' + 'V')\n",
    "ax.legend()"
   ]
  },
  {
   "cell_type": "markdown",
   "id": "5389b174",
   "metadata": {},
   "source": [
    "## Inductive Filter\n",
    "\n",
    "An inductive high pass filter consists of a resistor in series with a parallel circuit consisting of an inductor in parallel with the load.  The reactance of the inductor is proportional to the frequency of the voltage signal.  This relationship is a positive one and since the reactance is equal to the magnitude of the impedance of the inductor, the higher the frequency, the higher the magnitude of the impedance, allowing less voltage to drop accross the resistor that is in series with the parallel circuit, leaving more voltage for the parallel circuit and, subsequently, more for the load that is a part of it."
   ]
  },
  {
   "cell_type": "markdown",
   "id": "5b2973f2",
   "metadata": {},
   "source": [
    "### Generalized Equation\n",
    "\n",
    "Suppose there is an AC power supply ($E_T=E$) in series with a resistor ($R_1$) which is in series with a parallel circuit consisting of an inductor ($L$) in parallel with the load ($R_\\text{load}=R_L$).  This circuit can be re-expressed as '$E--R_1--L//R_L$'.  \n",
    "\n",
    "Via KVL,\n",
    "$$ E = Z_1I + Z_2I$$\n",
    "where,\n",
    "$$ Z_1 := X_{R1}\\angle0=R_1\\angle0$$\n",
    "and\n",
    "$$ Z_2 := \\frac{1}{D}$$\n",
    "and\n",
    "$$ D := \\frac{1}{Z_L} + \\frac{1}{Z_{RL}}$$\n",
    "\n",
    "$$ Z_{RL} = X_{RL}\\angle0=R_L\\angle0$$\n",
    "\n",
    "$$ Z_L = X_L\\angle90^{\\circ}$$\n",
    "\n",
    "$$ X_L = 2\\pi f L$$"
   ]
  },
  {
   "cell_type": "markdown",
   "id": "4adf1e39",
   "metadata": {},
   "source": [
    "First, let's evaluate the expression that defines $D$ by converting the terms into their rectangular form.\n",
    "$$ \\frac{1}{Z_L}= \\frac{1}{X_L}\\angle-90^{\\circ} = -j\\cdot \\frac{1}{X_L}$$\n",
    "\n",
    "$$ D = \\frac{1}{R_L} - j \\cdot \\frac{1}{X_L}$$\n",
    "\n",
    "Next, let's convert $D$ to it's polar form."
   ]
  },
  {
   "cell_type": "markdown",
   "id": "1b69bde3",
   "metadata": {},
   "source": [
    "$$ D = |D|\\angle D_\\theta$$\n",
    "\n",
    "$$|D| = \\sqrt{\\frac{1}{R_L^2} + \\frac{1}{X_L^2}} $$\n",
    "\n",
    "$$ D_\\theta = \\arcsin - \\frac{1}{X_L|D|} = -\\arcsin \\frac{1}{X_L|D|}$$"
   ]
  },
  {
   "cell_type": "code",
   "execution_count": 17,
   "id": "adaf0305",
   "metadata": {},
   "outputs": [],
   "source": [
    "class InductiveHighPass:\n",
    "    \"\"\"Inductive High Pass Filter\n",
    "    A filter circuit that allows easy passage of high frequency voltage signals but not low frequency ones.  \n",
    "    The circuit can be defined with the following expression: 'E--R_1--L//R_L'.\"\"\"\n",
    "    \n",
    "    def __init__(self, inductor: Inductor, R_L: float, R_1: float, magE: float):\n",
    "        self.inductor = inductor\n",
    "        self.R_L = R_L\n",
    "        self.R_1 = R_1\n",
    "        self.magE = magE\n",
    "        \n",
    "    def _magD(self, f: float):\n",
    "        return np.sqrt(1/self.R_L**2 + 1/self.inductor.reactance(f)**2)\n",
    "    \n",
    "    def _magD_T(self, f: float):\n",
    "        return np.sqrt((self.R_1 + 1/(self.R_L*self._magD(f)**2))**2 + 1/(self.inductor.reactance(f)**2*self._magD(f)**4))\n",
    "    \n",
    "    def _magD_1(self, f: float):\n",
    "        return np.sqrt(self.R_L**2 + self.inductor.reactance(f)**2)\n",
    "    \n",
    "    def magV_RL(self, f: float):\n",
    "        \"\"\"The amplitude of the voltage running accross the load as a function of the frequency, denoted as 'f',\n",
    "        of input voltage signal.\"\"\"\n",
    "        \n",
    "        return self.inductor.reactance(f)*self.R_L*self.magE/(self._magD_T(f)*self._magD_1(f))"
   ]
  },
  {
   "cell_type": "markdown",
   "id": "80bf7cc5",
   "metadata": {},
   "source": [
    "Via the above, the definition of $Z_2$,\n",
    "$$ Z_2 = \\frac{1}{|D|}\\angle \\arcsin \\frac{1}{X_L|D|}$$"
   ]
  },
  {
   "cell_type": "markdown",
   "id": "a4a3839f",
   "metadata": {},
   "source": [
    "Now, we can find $I$.\n",
    "\n",
    "$$ I = \\frac{E}{Z_1+Z_2}$$\n",
    "\n",
    "$$ Z_1 + Z_2 = R_1\\angle 0 + \\frac{1}{|D|}\\angle \\arcsin \\frac{1}{X_L|D|}$$\n",
    "\n",
    "To evaluate the above expression we will convert each term into it's rectangular form."
   ]
  },
  {
   "cell_type": "markdown",
   "id": "0ccfbfae",
   "metadata": {},
   "source": [
    "$$Z_1 = R_1$$\n",
    "\n",
    "$$ Z_2 = \\frac{1}{|D|^2}\\left( \\frac{1}{R_L} + j \\cdot \\frac{1}{X_L} \\right)$$"
   ]
  },
  {
   "cell_type": "markdown",
   "id": "206a27a2",
   "metadata": {},
   "source": [
    "$$ Z_1 + Z_2 = R_1 + \\frac{1}{R_L|D|^2} + j \\cdot \\frac{1}{X_L|D|^2}$$"
   ]
  },
  {
   "cell_type": "markdown",
   "id": "50ff656d",
   "metadata": {},
   "source": [
    "Now let '$D_T$' be defined as:\n",
    "$$ D_T := Z_1 + Z_2$$\n",
    "\n",
    "$$ D_T=|D_T|\\angle D_{T\\theta}$$\n",
    "\n",
    "$$ |D_T| = \\sqrt{\\left(R_1 + \\frac{1}{R_L|D|^2} \\right)^2 + \\frac{1}{X_L^2|D|^4}} $$\n",
    "\n",
    "$$ D_{T\\theta} = \\arcsin \\frac{1}{X_L|D|^2|D_T|}$$"
   ]
  },
  {
   "cell_type": "markdown",
   "id": "71e65d77",
   "metadata": {},
   "source": [
    "Thus,\n",
    "$$ I = \\frac{|E|}{|D_T|}\\angle -D_{T\\theta}$$\n",
    "\n",
    "To find the individual branch currents of the parallel circuit we will use the following equations:\n",
    "\n",
    "$$ I:=I_T=I_1 + I_2$$\n",
    "\n",
    "$$ V_L:=E_L=Z_L I_1$$\n",
    "\n",
    "$$ V_{RL}:=E_{RL}=Z_{RL}I_2$$\n",
    "\n",
    "$$ V_{RL}=V_L$$"
   ]
  },
  {
   "cell_type": "markdown",
   "id": "d7e99b14",
   "metadata": {},
   "source": [
    "Via the above four equations in conjunction with substitution,\n",
    "\n",
    "$$ Z_{RL}(I - I_1) = Z_LI_1$$"
   ]
  },
  {
   "cell_type": "markdown",
   "id": "60cfc29e",
   "metadata": {},
   "source": [
    "$$ Z_{RL}I = I_1(Z_L + Z_{RL})$$"
   ]
  },
  {
   "cell_type": "markdown",
   "id": "3183e198",
   "metadata": {},
   "source": [
    "$$ I_1 = \\frac{Z_{RL}I}{Z_L+Z_{RL}} = \\frac{Z_{RL}I}{D_1}$$"
   ]
  },
  {
   "cell_type": "markdown",
   "id": "a2d0b867",
   "metadata": {},
   "source": [
    "$$ D_1 = R_L + j \\cdot X_L $$\n",
    "\n",
    "$$ Z_{RL}I = R_L \\frac{|E|}{|D_T|}\\angle -D_{T\\theta}$$\n"
   ]
  },
  {
   "cell_type": "markdown",
   "id": "f8962f91",
   "metadata": {},
   "source": [
    "$$ D_1 = |D_1|\\angle D_{1\\theta}$$\n",
    "\n",
    "$$ |D_1|=\\sqrt{R_L^2 + X_L^2}$$\n",
    "\n",
    "$$ D_{1\\theta} = \\arcsin \\frac{X_L}{|D_1|}$$"
   ]
  },
  {
   "cell_type": "markdown",
   "id": "8444ff4f",
   "metadata": {},
   "source": [
    "Via the above,\n",
    "$$ I_1 = \\frac{R_L|E|}{|D_T||D_1|}\\angle(-D_{T\\theta}-D_{1\\theta})$$"
   ]
  },
  {
   "cell_type": "markdown",
   "id": "46173560",
   "metadata": {},
   "source": [
    "And since:\n",
    "$$ V_{RL}=V_L=Z_LI_1$$\n",
    "\n",
    "$$ V_{RL}=Z_LI_1 = X_L \\frac{R_L|E|}{|D_T||D_1|} \\angle (0.5\\pi - D_{T\\theta}-D_{1\\theta})$$"
   ]
  },
  {
   "cell_type": "markdown",
   "id": "5580fcde",
   "metadata": {},
   "source": [
    "### Specific Example\n",
    "\n",
    "Suppose we have the following circuit:\n",
    "\n",
    "![inductive-high-pass](https://www.allaboutcircuits.com/uploads/articles/inductive-high-pass-filter-circuit.png)"
   ]
  },
  {
   "cell_type": "code",
   "execution_count": 18,
   "id": "a842d675",
   "metadata": {},
   "outputs": [
    {
     "data": {
      "text/plain": [
       "<matplotlib.legend.Legend at 0x7f23ba782668>"
      ]
     },
     "execution_count": 18,
     "metadata": {},
     "output_type": "execute_result"
    },
    {
     "data": {
      "image/png": "[encoded data removed]",
      "text/plain": [
       "<Figure size 540x540 with 1 Axes>"
      ]
     },
     "metadata": {
      "needs_background": "light"
     },
     "output_type": "display_data"
    }
   ],
   "source": [
    "L_1 = Inductor(0.1)\n",
    "hp_filter = InductiveHighPass(inductor=L_1, R_1=200, R_L=1000, magE=1)\n",
    "\n",
    "f = np.linspace(1, 200, num=200)\n",
    "Y = hp_filter.magV_RL(f)\n",
    "\n",
    "fig, ax = plt.subplots(figsize=(7.5, 7.5))\n",
    "ax.set(title='Inductive High Pass Filter', xlabel='frequency (Hz)', ylabel='voltage (Volts)')\n",
    "ax.plot(f, Y, label=r'$R_1=200\\Omega ;  L=100$' + 'mH' + r'$; R_L=1000\\Omega; |E|=1$' + 'V')\n",
    "ax.legend()"
   ]
  },
  {
   "cell_type": "markdown",
   "id": "eee419c9",
   "metadata": {},
   "source": [
    "# Band Pass Filters\n",
    "\n",
    "Band pass filters combine the properties of both high and low pass filters to filter out signals with frequencies that are too high and signals with frequencies that are too low, leaving only a band or range of frequencies that are allowed relatively easy passage."
   ]
  },
  {
   "cell_type": "markdown",
   "id": "accf6ad3",
   "metadata": {},
   "source": [
    "## Capacitive Band Pass Filters\n",
    "\n",
    "A capacitive band pass filter consists of a capacitive high pass and low pass filter."
   ]
  }
 ],
 "metadata": {
  "kernelspec": {
   "display_name": "Python 3",
   "language": "python",
   "name": "python3"
  },
  "language_info": {
   "codemirror_mode": {
    "name": "ipython",
    "version": 3
   },
   "file_extension": ".py",
   "mimetype": "text/x-python",
   "name": "python",
   "nbconvert_exporter": "python",
   "pygments_lexer": "ipython3",
   "version": "3.6.9"
  }
 },
 "nbformat": 4,
 "nbformat_minor": 5
}
