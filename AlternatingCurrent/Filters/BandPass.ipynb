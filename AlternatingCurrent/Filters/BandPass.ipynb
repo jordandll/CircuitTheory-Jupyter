{
 "cells": [
  {
   "cell_type": "markdown",
   "id": "7ebcca1b",
   "metadata": {},
   "source": [
    "# Band Pass Filters\n",
    "\n",
    "Band pass filters combine the properties of both high and low pass filters to filter out signals with frequencies that are too high and signals with frequencies that are too low, leaving only a band or range of frequencies that are allowed relatively easy passage."
   ]
  },
  {
   "cell_type": "markdown",
   "id": "0270b1ee",
   "metadata": {},
   "source": [
    "## Capacitive Band Pass Filters\n",
    "\n",
    "A capacitive band pass filter consists of a capacitive high pass and low pass filter.  A generic capacitive band pass filter can be defined by: '$\\mathrm{E}--\\mathrm{R}_1--\\mathrm{C}_1//\\big(\\mathrm{C}_2--\\text{load}\\big)$'."
   ]
  },
  {
   "cell_type": "markdown",
   "id": "0b3954b4",
   "metadata": {},
   "source": [
    "This generic filter can be broken down into two parts:  A low pass filter consisting of $R_1$ in series with $C_1$;  And a high pass filter consisting of $C_2$ in series with the load ($R_L$)."
   ]
  },
  {
   "cell_type": "markdown",
   "id": "ec32870f",
   "metadata": {},
   "source": [
    "### Low Pass Part\n",
    "\n",
    "Less voltage will drop across $\\mathrm{C}_1$ the higher the frequency is and subsequently less voltage will drop across the branch that the load rests on and more will drop accross $\\mathrm{R}_1$ the higher the fequency of the input signal."
   ]
  },
  {
   "cell_type": "markdown",
   "id": "aeeaaf70",
   "metadata": {},
   "source": [
    "$$ E_{\\mathrm{R}1} + E_{\\mathrm{C}1} = E$$"
   ]
  },
  {
   "cell_type": "markdown",
   "id": "59eac0ad",
   "metadata": {},
   "source": [
    "$$ E_{\\mathrm{R}1} = E - E_{\\mathrm{C}1}$$"
   ]
  },
  {
   "cell_type": "markdown",
   "id": "1658333b",
   "metadata": {},
   "source": [
    "Note that one factor impacted by $R_1$, all other things equal, is the magnitude of the current flowing through $\\mathrm{R}_1$."
   ]
  },
  {
   "cell_type": "markdown",
   "id": "aeaa4927",
   "metadata": {},
   "source": [
    "### High Pass Part\n",
    "\n",
    "Less voltage will drop across $\\mathrm{C}_2$ the higher the frequency of the input signal and subsequently more voltage will be left over to drop across the load the higher the frequency is. "
   ]
  },
  {
   "cell_type": "markdown",
   "id": "71037e2c",
   "metadata": {},
   "source": [
    "$$ E_{\\mathrm{C}2} + E_\\mathrm{load} = E_{\\mathrm{C}1}$$"
   ]
  },
  {
   "cell_type": "markdown",
   "id": "e95ecff9",
   "metadata": {},
   "source": [
    "\\begin{align*}\\tag{2}\n",
    "    E_\\text{load} &= E_{\\mathrm{C}1} - E_{\\mathrm{C}2} \\\\\n",
    "     &= Z_{\\mathrm{C}1}I_1 - Z_{\\mathrm{C}2}I_2 \\\\\n",
    "     &= I_1\\,X_{\\mathrm{C}1}\\angle\\!-\\!90^\\circ \\; - \\;I_2\\,X_{\\mathrm{C}2}\\angle\\!-\\!90^\\circ\n",
    "\\end{align*}"
   ]
  },
  {
   "cell_type": "markdown",
   "id": "728058dd",
   "metadata": {},
   "source": [
    "The reactances of the capacitors are given by:"
   ]
  },
  {
   "cell_type": "markdown",
   "id": "f175cf69",
   "metadata": {},
   "source": [
    "$$ X_{\\mathrm{C}1} = \\frac{1}{2\\pi f C_1}$$"
   ]
  },
  {
   "cell_type": "markdown",
   "id": "52988390",
   "metadata": {},
   "source": [
    "and,\n",
    "$$ X_{\\mathrm{C}2} = \\frac{1}{2\\pi f C_2}$$"
   ]
  },
  {
   "cell_type": "markdown",
   "id": "c11dc6df",
   "metadata": {},
   "source": [
    "Now let $\\omega:=2\\pi f$.  Multiplying by $\\omega$ throughout equation (2) gives:  \n",
    "\n",
    "$$ \\omega\\,E_\\text{load} = \\left(\\frac{I_1}{C_1} - \\frac{I_2}{C_2}\\right)\\angle\\!-\\!90^\\circ$$"
   ]
  },
  {
   "cell_type": "markdown",
   "id": "6e94a681",
   "metadata": {},
   "source": [
    "Remember that $I_1$ and $I_2$ are vector values (they have a magnitude or amplitude and a direction or phase shift) while the capacitances, $C_1$ and $C_2$, are scalar values."
   ]
  },
  {
   "cell_type": "markdown",
   "id": "08150153",
   "metadata": {},
   "source": [
    "### Both Parts\n",
    "\n",
    "To get the amplitude of the output signal (voltage dropped across the load) as a function of the frequency of the input signal we will use the following equations:"
   ]
  },
  {
   "cell_type": "markdown",
   "id": "fa3e46b7",
   "metadata": {},
   "source": [
    "Via KVL,\n",
    "\\begin{equation}\\tag{3}\n",
    "    E = (Z_1 + Z_2)I\n",
    "\\end{equation}\n",
    "\n",
    "Here,\n",
    "$$ Z_1 = R_1\\angle0$$\n",
    "\n",
    "and,\n",
    "$$ Z_2 = \\frac{1}{D_2}$$\n",
    "\n",
    "$$ D_2 = \\frac{1}{Z_{\\mathrm{C}1}} + \\frac{1}{Z_{\\mathrm{C}2} \\!+ \\!R_\\text{load}\\angle0}$$"
   ]
  },
  {
   "cell_type": "markdown",
   "id": "ee4f3a03",
   "metadata": {},
   "source": [
    "Dividing by $(Z_1 + Z_2)$ throughout equation (3) gives:  \n",
    "\n",
    "\\begin{equation}\\tag{3}\n",
    "    I = \\frac{E}{Z_1 + Z_2}\n",
    "\\end{equation}    "
   ]
  },
  {
   "cell_type": "markdown",
   "id": "2b87af35",
   "metadata": {},
   "source": [
    "Via KCL,\n",
    "\\begin{equation}\\tag{4}\n",
    "    I = I_1 + I_2\n",
    "\\end{equation}    "
   ]
  },
  {
   "cell_type": "markdown",
   "id": "507464d1",
   "metadata": {},
   "source": [
    "Here, $I_1$ flows through $\\mathrm{C}_1$ and $I_2$ flows through the branch that is parallel to the one that $I_1$ flows through.  Thus, via KVL,"
   ]
  },
  {
   "cell_type": "markdown",
   "id": "80a8b95e",
   "metadata": {},
   "source": [
    "\\begin{equation}\\tag{5}\n",
    "    Z_{\\mathrm{C}1}I_1 = I_2(R_\\text{load}\\angle0 + Z_{\\mathrm{C}2})\n",
    "\\end{equation}    "
   ]
  },
  {
   "cell_type": "markdown",
   "id": "9682e6fa",
   "metadata": {},
   "source": [
    "Via the above equation, equation (4), and substitution,  \n",
    "\n",
    "$$Z_{\\mathrm{C}1}(I - I_2) = I_2(R_\\text{load}\\angle0 + Z_{\\mathrm{C}2})$$\n",
    "\n",
    "\\begin{equation}\\tag{5}\n",
    "    Z_{\\mathrm{C}1}I = I_2(R_\\text{load}\\angle0 + Z_{\\mathrm{C}2} + Z_{\\mathrm{C}1})\n",
    "\\end{equation}    "
   ]
  },
  {
   "cell_type": "markdown",
   "id": "15abdd8c",
   "metadata": {},
   "source": [
    "Via the above equation, equation (3), and substitution,  \n",
    "\n",
    "$$ \\frac{Z_{\\mathrm{C}1}E}{Z_1 + Z_2} = I_2(R_\\text{load}\\angle0 + Z_{\\mathrm{C}2} + Z_{\\mathrm{C}1})$$"
   ]
  },
  {
   "cell_type": "markdown",
   "id": "9726323b",
   "metadata": {},
   "source": [
    "The identity of $I_2$, which can be derived from the above equation, can be broken into it's numerator ($N$) and denominator ($D$).  \n",
    "\n",
    "$$ N = Z_{\\mathrm{C}1} E$$\n",
    "\n",
    "\\begin{align*}\n",
    "    D &= (Z_1 + Z_2)(R_\\text{load}\\angle0 + Z_{\\mathrm{C}2} + Z_{\\mathrm{C}1}) \\\\\n",
    "     &= (R_1 + Z_2)(R_\\text{load} + Z_{\\mathrm{C}2} + Z_{\\mathrm{C}1})\n",
    "\\end{align*}     "
   ]
  },
  {
   "cell_type": "markdown",
   "id": "39453551",
   "metadata": {},
   "source": [
    "Thus,\n",
    "$$ I_2 = \\frac{N}{D}$$\n",
    "\n",
    "and,\n",
    "$$ |I_2| = \\left| \\frac{N}{D} \\right| = \\frac{|N|}{|D|}$$"
   ]
  },
  {
   "cell_type": "markdown",
   "id": "b5da0f80",
   "metadata": {},
   "source": [
    "$$ |N| = X_{\\mathrm{C}1} |E|$$"
   ]
  },
  {
   "cell_type": "markdown",
   "id": "e21d4661",
   "metadata": {},
   "source": [
    "$$ \\vert D\\vert = |R_1 + Z_2|\\cdot|R_\\text{load} + Z_{\\mathrm{C}2} + Z_{\\mathrm{C}1}|$$"
   ]
  },
  {
   "cell_type": "markdown",
   "id": "b7254cf9",
   "metadata": {},
   "source": [
    "Now let $D_\\mathrm{a}:=R_1 + Z_2$ and $D_\\mathrm{b}:=R_\\text{load}+ Z_{\\mathrm{C}2} + Z_{\\mathrm{C}1}$.  It then follows that:  \n",
    "\n",
    "$$ D = D_\\mathrm{a} \\cdot D_\\mathrm{b}$$\n",
    "\n",
    "and,\n",
    "$$\\vert D\\vert = |D_\\mathrm{a} |\\cdot | D_\\mathrm{b}|$$"
   ]
  },
  {
   "cell_type": "markdown",
   "id": "c865be06",
   "metadata": {},
   "source": [
    "The magnitude of the right hand factor of $D$ is given by:  \n",
    "\n",
    "\\begin{align*}\n",
    "    |D_\\mathrm{b}| &= \\sqrt{R_\\text{load}^2 + (X_{\\mathrm{C}1} + X_{\\mathrm{C}2})^2} \\\\\n",
    "     &= \\sqrt{R_\\text{load}^2 + \\frac{1}{\\omega^2}\\left(\\frac{1}{C_1} + \\frac{1}{C_2}\\right)^2}\n",
    "\\end{align*}     "
   ]
  },
  {
   "cell_type": "code",
   "execution_count": 1,
   "id": "32850422",
   "metadata": {},
   "outputs": [],
   "source": [
    "import matplotlib.pyplot as plt\n",
    "import numpy as np\n",
    "import math"
   ]
  },
  {
   "cell_type": "code",
   "execution_count": 2,
   "id": "fcb43165",
   "metadata": {},
   "outputs": [
    {
     "data": {
      "text/plain": [
       "[<matplotlib.lines.Line2D at 0x7f0eeacd0340>]"
      ]
     },
     "execution_count": 2,
     "metadata": {},
     "output_type": "execute_result"
    },
    {
     "data": {
      "image/png": "[encoded data removed]",
      "text/plain": [
       "<Figure size 432x288 with 1 Axes>"
      ]
     },
     "metadata": {
      "needs_background": "light"
     },
     "output_type": "display_data"
    }
   ],
   "source": [
    "# Example curve given by a function that fits the above form.\n",
    "\n",
    "fig, ax = plt.subplots()\n",
    "ax.set_title(r'Amplitude of $D_\\mathrm{b}$', size=16)\n",
    "ax.set_xlabel('frequency (Hz)')\n",
    "ax.set_ylabel(r'reactance (k$\\Omega$)')\n",
    "ax.set_xlim(left=25, right=200)\n",
    "ax.set_ylim(top=10)\n",
    "\n",
    "# Parameters\n",
    "R_load = 200\n",
    "C_1 = 2.5e-6\n",
    "C_2 = 1e-6\n",
    "\n",
    "# Create frequency domain, denoted as 'f'.\n",
    "f = np.linspace(1, 200, num=200)\n",
    "\n",
    "# Defined angular velocity (w).\n",
    "w = 2*np.pi*f\n",
    "\n",
    "# Define the codomain of the function.\n",
    "mag_D_b = np.sqrt(R_load**2+1/w**2*(1/C_1 + 1/C_2)**2)\n",
    "\n",
    "ax.plot(f, mag_D_b/1000)"
   ]
  },
  {
   "cell_type": "markdown",
   "id": "ef0ef935",
   "metadata": {},
   "source": [
    "And, the amplitude of the reciprocal of $D_\\mathrm{b}$."
   ]
  },
  {
   "cell_type": "code",
   "execution_count": 3,
   "id": "f8ac9eb0",
   "metadata": {},
   "outputs": [
    {
     "data": {
      "text/plain": [
       "[<matplotlib.lines.Line2D at 0x7f0eeabc80a0>]"
      ]
     },
     "execution_count": 3,
     "metadata": {},
     "output_type": "execute_result"
    },
    {
     "data": {
      "image/png": "[encoded data removed]",
      "text/plain": [
       "<Figure size 432x288 with 1 Axes>"
      ]
     },
     "metadata": {
      "needs_background": "light"
     },
     "output_type": "display_data"
    }
   ],
   "source": [
    "fig, ax = plt.subplots()\n",
    "ax.set_title(r'Amplitude of $D_\\mathrm{b}^{-1}$', size=16)\n",
    "ax.set_xlabel('frequency (Hz)')\n",
    "ax.set_ylabel(r'$\\mathrm{reactance}^{-1}$ $(\\mathrm{k}\\Omega)^{-1}$')\n",
    "\n",
    "ax.plot(f, 1000/mag_D_b)"
   ]
  },
  {
   "cell_type": "markdown",
   "id": "40723ef0",
   "metadata": {},
   "source": [
    "With the given parameters of $R_\\text{load}=200\\Omega$, $C_1=2.5\\mu\\mathrm{F}$, and $C_2=1\\mu\\mathrm{F}$, the reciprocal of $|D_\\mathrm{b}|$ is roughly -- actually, almost exactly -- proportional to the frequency within the range of $[1\\mathrm{Hz},\\, 200\\mathrm{Hz}]$.  This means that, with the given parameters,  \n",
    "\n",
    "$$ \\left|\\frac{N}{D_\\mathrm{b}}\\right| = K$$"
   ]
  },
  {
   "cell_type": "markdown",
   "id": "80768ecb",
   "metadata": {},
   "source": [
    "where $K\\in\\mathbb{R}$ is some constant value."
   ]
  },
  {
   "cell_type": "markdown",
   "id": "80a2807c",
   "metadata": {},
   "source": [
    "That leaves us with $|D_\\mathrm{a}|^{-1}$.  There are two ways to find $|D_\\mathrm{a}|$.  One involves finding the $x$ and $y$ complements of $Z_2$.  The other involves finding the magnitude and phase angle of $Z_2$ and then using the Law of Cosines with those values."
   ]
  },
  {
   "cell_type": "markdown",
   "id": "035ad1e4",
   "metadata": {},
   "source": [
    "Let '$W$' and '$Q$' be defined as:  \n",
    "\n",
    "$$ W:= \\frac{1}{Z_{\\mathrm{C}1}} = \\frac{1}{X_{\\mathrm{C}1}}\\angle90^\\circ = \\omega C_1 \\angle90^\\circ $$"
   ]
  },
  {
   "cell_type": "markdown",
   "id": "c6e08489",
   "metadata": {},
   "source": [
    "$$ Q:= \\frac{1}{R_\\text{load}+Z_{\\mathrm{C}2}} = $$"
   ]
  },
  {
   "cell_type": "markdown",
   "id": "47cdd8d1",
   "metadata": {},
   "source": [
    "The asymptote of the curve given by $|D_\\mathrm{b}|:=|D_\\mathrm{b}|(f)$ is equal to $R_\\text{load}$ and the asymptote of the curve given by $|D_\\mathrm{b}|^{-1}$ is equal to $R_\\text{load}^{-1}$."
   ]
  },
  {
   "cell_type": "markdown",
   "id": "1e7e1cd2",
   "metadata": {},
   "source": [
    "To find the impact that the capacitances have on the  the steepness of both curves, first let's look at the derivative of both functions.  Let '$A$' be defined as:  \n",
    "\n",
    "$$ A := \\left(\\frac{1}{C_1} + \\frac{1}{C_2}\\right)^2$$"
   ]
  },
  {
   "cell_type": "markdown",
   "id": "e56fe30e",
   "metadata": {},
   "source": [
    "It then follows that:  \n",
    "\n",
    "$$ |D_\\mathrm{b}| = \\sqrt{R_\\text{load}^2 + \\frac{A}{\\omega^2}}$$"
   ]
  },
  {
   "cell_type": "markdown",
   "id": "ccd12424",
   "metadata": {},
   "source": [
    "Differentiating the identity of $|D_\\mathrm{b}|$ with respect to $\\omega$ gives:  \n",
    "\n",
    "$$ \\frac{\\mathrm{d}|D_\\mathrm{b}|}{\\mathrm{d}\\omega} = -\\frac{A}{\\omega^3|D_\\mathrm{b}|}$$"
   ]
  },
  {
   "cell_type": "code",
   "execution_count": 11,
   "id": "77d5727f",
   "metadata": {},
   "outputs": [
    {
     "data": {
      "text/plain": [
       "[<matplotlib.lines.Line2D at 0x7fb68d12ea00>]"
      ]
     },
     "execution_count": 11,
     "metadata": {},
     "output_type": "execute_result"
    },
    {
     "data": {
      "image/png": "[encoded data removed]",
      "text/plain": [
       "<Figure size 432x288 with 1 Axes>"
      ]
     },
     "metadata": {
      "needs_background": "light"
     },
     "output_type": "display_data"
    }
   ],
   "source": [
    "fig, ax = plt.subplots()\n",
    "\n",
    "x = np.linspace(0, 1000, num=200)\n",
    "y = x/np.sqrt(1+x)\n",
    "\n",
    "ax.plot(x, y)"
   ]
  },
  {
   "cell_type": "markdown",
   "id": "90a15f9d",
   "metadata": {},
   "source": [
    "The steepness of the slope (in either direction) goes up as $A$ goes up."
   ]
  },
  {
   "cell_type": "markdown",
   "id": "17cae59d",
   "metadata": {},
   "source": [
    "Now, let '$\\mathrm{f}$' be defined as $\\mathrm{f}:=|D_\\mathrm{b}|'(\\omega)$ and let $\\mathrm{f}$ also be defined as $\\mathrm{f}:=\\mathrm{f}(A):=\\mathrm{f}(A\\vert \\omega, R_\\text{load})$.  Are there any positive values for the parameters such that $\\mathrm{f}'(A)$ has real valued root(s)?"
   ]
  },
  {
   "cell_type": "markdown",
   "id": "4105c568",
   "metadata": {},
   "source": [
    "$$ \\mathrm{f}'(A) =  - \\frac{1}{\\omega^3}\\left(\\frac{1}{|D_\\mathrm{b}|} - 0.5\\frac{A}{\\omega^2|D_\\mathrm{b}|^3} \\right) = \\frac{1}{\\omega^3|D_\\mathrm{b}|}\\left(\\frac{A}{2\\omega^2|D_\\mathrm{b}|^2} - 1\\right)$$"
   ]
  },
  {
   "cell_type": "markdown",
   "id": "5ce7124f",
   "metadata": {},
   "source": [
    "The roots are given by:\n",
    "$$ f'(r) = 0$$\n",
    "\n",
    "$$ \\frac{r}{2\\omega^2|D_\\mathrm{b}|^2} = 1$$"
   ]
  },
  {
   "cell_type": "markdown",
   "id": "ea5d2568",
   "metadata": {},
   "source": [
    "$$ r= 2\\omega^2\\left(R_\\text{load}^2 + \\frac{r}{\\omega^2}\\right) $$"
   ]
  },
  {
   "cell_type": "markdown",
   "id": "46dcd16d",
   "metadata": {},
   "source": [
    "$$ r = -2\\omega^2R_\\text{load}^2$$"
   ]
  }
 ],
 "metadata": {
  "kernelspec": {
   "display_name": "Python 3 (ipykernel)",
   "language": "python",
   "name": "python3"
  },
  "language_info": {
   "codemirror_mode": {
    "name": "ipython",
    "version": 3
   },
   "file_extension": ".py",
   "mimetype": "text/x-python",
   "name": "python",
   "nbconvert_exporter": "python",
   "pygments_lexer": "ipython3",
   "version": "3.8.10"
  }
 },
 "nbformat": 4,
 "nbformat_minor": 5
}
