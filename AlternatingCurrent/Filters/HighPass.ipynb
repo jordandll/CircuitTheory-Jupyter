{
 "cells": [
  {
   "cell_type": "markdown",
   "id": "d919839a",
   "metadata": {},
   "source": [
    "# High Pass Filters\n",
    "\n",
    "A high-pass filter’s task is just the opposite of a low-pass filter: to offer easy passage of a high-frequency signal and difficult passage to a low-frequency signal.  Unsuprisingly, the design of a capacitive high pass filter is the same as an inductive low pass filter, except with the inductor being replaced by a capacitor.  The same duality exists between an inductive high pass filter and a capacitive low pass filter;  An inductive high pass filter is the same as a capacitive low pass filter, except with the capacitor being replaced by an inductor."
   ]
  }
 ],
 "metadata": {
  "kernelspec": {
   "display_name": "Python 3 (ipykernel)",
   "language": "python",
   "name": "python3"
  },
  "language_info": {
   "codemirror_mode": {
    "name": "ipython",
    "version": 3
   },
   "file_extension": ".py",
   "mimetype": "text/x-python",
   "name": "python",
   "nbconvert_exporter": "python",
   "pygments_lexer": "ipython3",
   "version": "3.8.10"
  }
 },
 "nbformat": 4,
 "nbformat_minor": 5
}
