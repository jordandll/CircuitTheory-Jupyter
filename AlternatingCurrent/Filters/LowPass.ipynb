{
 "cells": [
  {
   "cell_type": "code",
   "execution_count": 2,
   "id": "0de408e2",
   "metadata": {},
   "outputs": [],
   "source": [
    "import numpy as np\n",
    "import matplotlib.pyplot as plt\n",
    "import math"
   ]
  },
  {
   "cell_type": "markdown",
   "id": "9427555f",
   "metadata": {},
   "source": [
    "# Low Pass Filters\n",
    "A low pass filter filters out voltage signals with higher frequencies by causing a higher amount of voltage to drop across the other components while allowing lower frequency voltage signals to \"pass through\" with less impedance.  \n",
    "\n",
    "## Inductive Filters\n",
    "One type of low pass filter is an inductor in series with the load.  Via the notion that the reactance of an inductor, denoted as '$X_L$', with an inductance of $L$ is proportional to the frequency of the voltage signal, the reactance, and therefore impedance, goes up as the frequency goes up, which means that the voltage dropped accross the inductor, or inductive filter, goes up with the frequency as well, since the voltage running accross the inductor, denoted as '$V_L$', is proportional to the impedance of the inductor, denoted as '$Z_L$'.  Ultimately, this leaves less voltage to drop across the load when the frequency is relatively high.\n",
    "$$ X_L = 2\\pi f L$$\n",
    "$$ Z_L = X_L\\angle90^{\\circ}$$\n",
    "$$ V_L = Z_LI$$"
   ]
  },
  {
   "cell_type": "markdown",
   "id": "cb15dd4e",
   "metadata": {},
   "source": [
    "### Example\n",
    "\n",
    "Suppose we have a circuit with a $3$H inductor ($L_1$) in series with the $1\\text{k}\\Omega$ load ($R_\\text{load}:=R_L$) and a $1\\text{V}\\angle0$ AC power supply.  \n",
    "![inductive filter](https://www.allaboutcircuits.com/uploads/articles/inductive-low-pass-filter-circuit.png)  \n",
    "The reactance of $L_1$ is given by:\n",
    "$$ X_L = 6\\pi f \\text{H}$$\n",
    "$$ Z_L = X_L\\angle90^{\\circ}$$\n",
    "The voltage running accross the inductor and the load is:\n",
    "$$ V_L = Z_LI$$\n",
    "$$ V_R = 1\\text{k}\\Omega \\cdot I$$\n",
    "Via KVL, we can find the current.\n",
    "$$ 1\\text{V}\\angle0 = V_L + V_R = (Z_L+1000\\Omega)I$$\n",
    "$$ I = \\frac{1\\text{V}\\angle0}{Z_L+1000\\Omega}$$\n",
    "The complex number representation of the denominator of the above fraction, denoted as '$\\mathbf{D}$', in rectangular form is:\n",
    "$$\\mathbf{D}= Z_L+1000\\Omega = 1000\\Omega + j\\cdot X_L$$\n",
    "And, in polar form:\n",
    "$$ |\\mathbf{D}| = \\sqrt{X_L^2+10^6\\Omega^2} $$\n",
    "$$ D_\\theta = \\arcsin \\frac{X_L}{1000\\Omega}$$\n",
    "$$ \\mathbf{D} = |\\mathbf{D}|\\angle D_\\theta$$\n",
    "The amplitude of the current is thus:\n",
    "$$ |I|=\\frac{1}{|\\mathbf{D}|} = \\frac{1}{\\sqrt{36\\pi^2f^2\\text{H}^2 + 10^6\\Omega^2}}$$\n",
    "Via the above in conjunction with Ohm's Law, the amplitude of the voltage running accross the load is:\n",
    "$$ |V_R|:=|V_R|(f) = \\frac{1000\\Omega}{\\sqrt{36\\pi^2f^2\\text{H}^2 + 10^6\\Omega^2}} $$"
   ]
  },
  {
   "cell_type": "code",
   "execution_count": 3,
   "id": "bc257e3b",
   "metadata": {},
   "outputs": [
    {
     "data": {
      "text/plain": [
       "<matplotlib.legend.Legend at 0x7f1c4a3cdd60>"
      ]
     },
     "execution_count": 3,
     "metadata": {},
     "output_type": "execute_result"
    },
    {
     "data": {
      "image/png": "[encoded data removed]",
      "text/plain": [
       "<Figure size 540x540 with 1 Axes>"
      ]
     },
     "metadata": {
      "needs_background": "light"
     },
     "output_type": "display_data"
    }
   ],
   "source": [
    "f = np.linspace(0, 200, num=200)\n",
    "magV_R = 1000/np.sqrt(36*np.pi**2*f**2 + 10**6)\n",
    "\n",
    "fig, ax = plt.subplots(figsize=(7.5, 7.5))\n",
    "ax.set_title('Inductive Filter', size=18)\n",
    "ax.set_xlabel('frequency (Hz)')\n",
    "ax.set_ylabel('voltage (Volts)')\n",
    "ax.plot(f, magV_R, label=r'$|V_R|(f)$')\n",
    "ax.legend(fontsize=14)"
   ]
  },
  {
   "cell_type": "markdown",
   "id": "d3c6df87",
   "metadata": {},
   "source": [
    "### Generalized Equations\n",
    "\n",
    "The above can be generalized by assuming an inductance of $L_1=L$, a load with a resistance of $R_L$, and an AC power supply of $E = |E|\\angle0$. \n",
    "$$ X_L = 2\\pi f L$$\n",
    "$$ E = Z_LI + R_LI = I(Z_L+R_L)$$\n",
    "$$ I = \\frac{E}{Z_L+R_L}$$\n",
    "The complex number represention of the denominator, denoted as '$\\mathbf{D}$', in polar form is:\n",
    "$$ \\mathbf{D} = |\\mathbf{D}|\\angle D_\\theta$$\n",
    "$$ D_\\theta = \\arcsin \\frac{X_L}{R_L}$$\n",
    "$$ |\\mathbf{D}| = \\sqrt{X_L^2 + R_L^2}$$\n",
    "The amplitude of the current is thus:\n",
    "$$ |I| = \\frac{|E|}{|\\mathbf{D}|}$$\n",
    "Via Ohm's Law, the voltage running accross the load is given by:\n",
    "$$ V_{RL} = R_LI$$\n",
    "And the amplitude of said voltage is given by:\n",
    "$$ |V_{RL}|:=|V_{RL}|(f) = R_L|I| = R_L\\frac{|E|}{\\sqrt{4\\pi^2f^2L^2 + R_L^2}}$$"
   ]
  },
  {
   "cell_type": "markdown",
   "id": "69ce6024",
   "metadata": {},
   "source": [
    "## Capacitive Filters\n",
    "A resistor in series with a parallel circuit consisting of a capacitor in parallel with a resistive load is another way of forming a low pass filter.  As the frequency goes up the reactance and therefore the voltage running accross the capacitor goes down;  And, since the voltage running accross the load is equal to that of the capacitor it is in parallel with, the voltage running accross the load goes down with the capacitor as the frequency goes up.  Conversely, the voltage running accross the capacitor and thus the load goes up as the frequency goes down.  This fits the concept of low pass filtration.  \n",
    "\n",
    "Via KVL, the voltage dropped across the resistor that is in series with the parallel circuit goes up as the frequency goes up and vice versa.\n",
    "\n",
    "### Example\n",
    "\n",
    "Suppose there is a circuit defined by '$E--R_1--C_1//R_L$', where\n",
    "* $E=1\\text{V}\\angle0$\n",
    "* $R_1 = 500\\Omega$\n",
    "* $C_1= 7\\mu\\text{F}=7\\cdot10^{-6}\\text{F}$\n",
    "* $R_L:=R_\\text{load}=1000\\Omega$\n",
    "![capacitive filter](https://www.allaboutcircuits.com/uploads/articles/capacitive-low-pass-filter-circuit.png)\n",
    "The impedance of $R_1$ is of course:\n",
    "$$ Z_1 = X_1\\angle0 = R_1\\angle0$$\n",
    "The impedance of $C_1//R_L$, denoted as '$Z_2$', is given by:\n",
    "$$Z_2 = \\frac{1}{D}$$\n",
    "where\n",
    "$$ D = \\frac{1}{Z_{C1}} + \\frac{1}{Z_{RL}}$$\n",
    "$$ Z_{RL} = R_L\\angle0 = R_L$$\n",
    "$$ Z_{C1} = X_{C1}\\angle-90^{\\circ} = - j \\cdot X_{C1}$$\n",
    "$$ X_{C1} = \\frac{1}{14\\pi f \\mu\\text{F}}$$\n",
    "$$ D = \\frac{1}{X_{C1}}\\angle90^{\\circ} + \\frac{1}{R_L}\\angle0 = \\frac{1}{R_L} + j \\cdot \\frac{1}{X_{C1}}$$\n",
    "The denominator, denoted as '$D$', in polar form is given by:\n",
    "$$ D = |D|\\angle D_\\theta$$\n",
    "$$ D_\\theta = \\arcsin \\frac{1}{X_{C1}|D|} = \\arccos \\frac{1}{R_L|D|}$$\n",
    "$$ |D| = \\sqrt{\\frac{1}{R_L^2} + \\frac{1}{X_{C1}^2}}$$\n",
    "Via KVL,\n",
    "$$ E = Z_1I + Z_2I = (Z_1+Z_2)I$$\n",
    "$$ I = \\frac{E}{Z_1+Z_2}$$\n",
    "Let $Z_T$ be defined as:\n",
    "$$ Z_T:=Z_1+Z_2 = R_1\\angle0 + \\frac{1}{|D|}\\angle-D_\\theta$$\n",
    "The rectangular form of $Z_2$ is given by:\n",
    "$$ Z_2=\\frac{1}{|D|}(\\cos -D_\\theta + j \\cdot \\sin-D_\\theta) = \\frac{1}{|D|}(\\cos D\\theta - j \\cdot \\sin D_\\theta)$$\n",
    "$$ Z_2 = \\frac{1}{|D|}\\left(\\frac{1}{R_L|D|}  - j \\cdot \\frac{1}{X_{C1}|D|} \\right)$$\n",
    "Thus $Z_T$ is given by:\n",
    "$$ Z_T = R_1 + \\frac{1}{R_L|D|^2} - j \\cdot \\frac{1}{X_{C1}|D|^2}$$"
   ]
  },
  {
   "cell_type": "markdown",
   "id": "45e5b0bc",
   "metadata": {},
   "source": [
    "$$Z_T = \\frac{R_1R_L|D|^2 + 1}{R_L|D|^2} - j \\cdot \\frac{1}{X_{C1}|D|} $$"
   ]
  }
 ],
 "metadata": {
  "kernelspec": {
   "display_name": "Python 3 (ipykernel)",
   "language": "python",
   "name": "python3"
  },
  "language_info": {
   "codemirror_mode": {
    "name": "ipython",
    "version": 3
   },
   "file_extension": ".py",
   "mimetype": "text/x-python",
   "name": "python",
   "nbconvert_exporter": "python",
   "pygments_lexer": "ipython3",
   "version": "3.8.10"
  }
 },
 "nbformat": 4,
 "nbformat_minor": 5
}
