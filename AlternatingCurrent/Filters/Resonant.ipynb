{
 "cells": [
  {
   "cell_type": "markdown",
   "id": "14eaa52d",
   "metadata": {},
   "source": [
    "# Resonant Filters\n",
    "\n",
    "So far, the filter designs we’ve concentrated on have employed either capacitors or inductors, but never *both* at the same time. We should know by now that combinations of L and C will tend to resonate, and this property can be exploited in designing band-pass and band-stop filter circuits.\n",
    "\n",
    "Series LC circuits give minimum impedance at resonance, while parallel LC (“tank”) circuits give maximum impedance at their resonant frequency. Knowing this, we have two basic strategies for designing either band-pass or band-stop filters.\n",
    "\n",
    "For band-pass filters, the two basic resonant strategies are this: series LC to pass a signal, or parallel LC to short a signal. The two schemes will be contrasted and simulated here:"
   ]
  },
  {
   "cell_type": "markdown",
   "id": "f2b2ac51",
   "metadata": {},
   "source": [
    "Recall that the resonant frequency ($f_\\mathrm{res}$) is defined as the fequency at which:  \n",
    "\n",
    "$$ X_L = X_C$$\n",
    "\n",
    "$$ 2\\pi f_\\mathrm{res} L = \\frac{1}{2\\pi f_\\mathrm{res} C}$$"
   ]
  },
  {
   "cell_type": "markdown",
   "id": "d3191f67",
   "metadata": {},
   "source": [
    "$$ f_\\mathrm{res}^2 = \\frac{1}{4\\pi^2L C}$$"
   ]
  },
  {
   "cell_type": "markdown",
   "id": "1f100da7",
   "metadata": {},
   "source": [
    "Finally, \n",
    "$$ f_\\mathrm{res} = \\frac{1}{2\\pi\\sqrt{LC}}$$"
   ]
  },
  {
   "cell_type": "code",
   "execution_count": 1,
   "id": "748cda0f",
   "metadata": {},
   "outputs": [],
   "source": [
    "import CircuitTheory.filters as filters\n",
    "import numpy as np\n",
    "import matplotlib.pyplot as plt"
   ]
  },
  {
   "cell_type": "code",
   "execution_count": 2,
   "id": "87697cc8",
   "metadata": {},
   "outputs": [],
   "source": [
    "def f_res(L: float, C: float):\n",
    "    \"\"\" The resonant frequency in Hertz. \"\"\"\n",
    "    return 1/(2*np.pi*np.sqrt(L*C))"
   ]
  },
  {
   "cell_type": "markdown",
   "id": "66c4010e",
   "metadata": {},
   "source": [
    "# Series LC Filter\n",
    "\n",
    "This kind of filter is an RLC series circuit of the form:  $\\mathrm{E}--\\mathrm{L}_1--\\mathrm{C}_1--\\mathrm{load}$."
   ]
  },
  {
   "cell_type": "markdown",
   "id": "ae31e28d",
   "metadata": {},
   "source": [
    "This kind of filter has minimum impedance at resonance meaning the voltage dropped across the load is at it's highest at this frequency."
   ]
  },
  {
   "cell_type": "markdown",
   "id": "6d14cc2d",
   "metadata": {},
   "source": [
    "### Generalized Equation(s)\n",
    "\n",
    "Via KVL and Ohm's Law,\n",
    "$$ E = ZI$$\n",
    "\n",
    "and,\n",
    "$$ Z = R_\\mathrm{load} + j \\cdot (X_{\\mathrm{L}1} - X_{\\mathrm{C}1})$$"
   ]
  },
  {
   "cell_type": "markdown",
   "id": "dea9ecc4",
   "metadata": {},
   "source": [
    "At resonance the imaginary part of $Z$ is equal to zero;  But, at any other frequency, the imaginary part is non-zero, hence the minimum impedance occuring at resonance."
   ]
  },
  {
   "cell_type": "markdown",
   "id": "2d7f2f7c",
   "metadata": {},
   "source": [
    "$$ I = \\frac{E}{Z}$$\n",
    "\n",
    "$$ |I| = \\frac{|E|}{|Z|} = \\frac{|E|}{\\sqrt{R_\\mathrm{load}^2 + \\big(X_{\\mathrm{L}1} - X_{\\mathrm{C}1} \\big)^2}}$$"
   ]
  },
  {
   "cell_type": "markdown",
   "id": "5b25290f",
   "metadata": {},
   "source": [
    "The output voltage signal is given by:  \n",
    "\n",
    "$$ E_\\mathrm{load} = R_\\mathrm{load} I$$\n",
    "\n",
    "And, finally, the amplitude of said signal is given by:\n",
    "\n",
    "$$ |E_\\mathrm{load}| = R_\\mathrm{load}|I|$$"
   ]
  },
  {
   "cell_type": "code",
   "execution_count": 3,
   "id": "0355a8a1",
   "metadata": {},
   "outputs": [],
   "source": [
    "Resistor = filters.Resistor\n",
    "Capacitor = filters.Capacitor\n",
    "Inductor = filters.Inductor"
   ]
  },
  {
   "cell_type": "markdown",
   "id": "780c1242",
   "metadata": {},
   "source": [
    "## Specific Example\n",
    "\n",
    "![lc-series-example](https://www.allaboutcircuits.com/uploads/articles/series-resonant-lc-band-pass-filter.png)"
   ]
  },
  {
   "cell_type": "code",
   "execution_count": 10,
   "id": "fd36daa5",
   "metadata": {},
   "outputs": [
    {
     "data": {
      "text/plain": [
       "<matplotlib.legend.Legend at 0x7f0d0e2c36d0>"
      ]
     },
     "execution_count": 10,
     "metadata": {},
     "output_type": "execute_result"
    },
    {
     "data": {
      "image/png": "[encoded data removed]",
      "text/plain": [
       "<Figure size 576x360 with 1 Axes>"
      ]
     },
     "metadata": {
      "needs_background": "light"
     },
     "output_type": "display_data"
    }
   ],
   "source": [
    "L1 = Inductor(1)\n",
    "C1 = Capacitor(1e-6)\n",
    "load = Resistor(1000)\n",
    "\n",
    "flt = filters.SeriesLCResonantFilter(complex(1, 0), L1, C1, load)\n",
    "\n",
    "# Create frequency domain.\n",
    "f = np.linspace(1, 300, num=200)\n",
    "\n",
    "mag_E_load = np.array(list(map(flt.load_voltage_mag, f)))\n",
    "\n",
    "fig, ax = plt.subplots(figsize=(8,5))\n",
    "ax.set_title('LC Series Bode Plot', size=14)\n",
    "ax.set_xlabel('frequency (Hz)', size=10)\n",
    "ax.set_ylabel('voltage (V)', size=10)\n",
    "ax.grid()\n",
    "\n",
    "L = ax.plot(f, mag_E_load, label=r'$R_\\mathrm{load} = 1000\\Omega$')\n",
    "ax.legend()"
   ]
  },
  {
   "cell_type": "markdown",
   "id": "0f3fa5a9",
   "metadata": {},
   "source": [
    "The resonant frequency of this filter is:"
   ]
  },
  {
   "cell_type": "code",
   "execution_count": 9,
   "id": "1a81c832",
   "metadata": {},
   "outputs": [
    {
     "name": "stdout",
     "output_type": "stream",
     "text": [
      "f_res = 159.15Hz.\n"
     ]
    }
   ],
   "source": [
    "print(f'f_res = {f_res(L = L1.inductance, C = C1.capacitance):.2f}Hz.')"
   ]
  },
  {
   "cell_type": "markdown",
   "id": "8542c260",
   "metadata": {},
   "source": [
    "### Different Load Resistance\n",
    "\n",
    "Suppose we were to change the load's resistance, but keep everything else the same.  The resonant frequency does not depend on the resistance, so that will remain the same.  The only thing that may change is the shape of the bode plot (plot of the amplitude of the output voltage signal)."
   ]
  },
  {
   "cell_type": "markdown",
   "id": "4b64ad83",
   "metadata": {},
   "source": [
    "**Decreasing the load resistance** to $500\\Omega$ yields the following bode plot."
   ]
  },
  {
   "cell_type": "code",
   "execution_count": 11,
   "id": "e29490f8",
   "metadata": {},
   "outputs": [
    {
     "data": {
      "text/plain": [
       "<matplotlib.legend.Legend at 0x7f0d0f800f70>"
      ]
     },
     "execution_count": 11,
     "metadata": {},
     "output_type": "execute_result"
    },
    {
     "data": {
      "image/png": "[encoded data removed]",
      "text/plain": [
       "<Figure size 576x360 with 1 Axes>"
      ]
     },
     "metadata": {
      "needs_background": "light"
     },
     "output_type": "display_data"
    }
   ],
   "source": [
    "del load\n",
    "load = Resistor(560)\n",
    "\n",
    "flt = filters.SeriesLCResonantFilter(complex(1, 0), L1, C1, load)\n",
    "\n",
    "\n",
    "\n",
    "fig, ax = plt.subplots(figsize=(8,5))\n",
    "ax.set_title('LC Series Bode Plot', size=14)\n",
    "ax.set_xlabel('frequency (Hz)', size=10)\n",
    "ax.set_ylabel('voltage (V)', size=10)\n",
    "ax.grid()\n",
    "\n",
    "L = ax.plot(f, mag_E_load, label=r'$R_\\mathrm{load} = 1000\\Omega$')\n",
    "mag_E_load = np.array(list(map(flt.load_voltage_mag, f)))\n",
    "L.extend(ax.plot(f, mag_E_load, label=r'$R_\\mathrm{load} = 560\\Omega$'))\n",
    "\n",
    "ax.legend(fontsize=11)\n"
   ]
  },
  {
   "cell_type": "markdown",
   "id": "62b4fa26",
   "metadata": {},
   "source": [
    "Decreasing the load made the curve steeper and thus the frequency band narrower."
   ]
  },
  {
   "cell_type": "markdown",
   "id": "148db2be",
   "metadata": {},
   "source": [
    "To find out why this is and determine if this relationship holds across the various resistances that a load may have, first let's differentiate the amplitude of the output signal with respect to the frequency."
   ]
  },
  {
   "cell_type": "markdown",
   "id": "e232ed55",
   "metadata": {},
   "source": [
    "$$ \\frac{\\mathrm{d}|E_\\mathrm{load}|}{\\mathrm{d}f} = R_\\mathrm{load} \\frac{\\mathrm{d}|I|}{\\mathrm{d}f}$$"
   ]
  },
  {
   "cell_type": "markdown",
   "id": "eb1db558",
   "metadata": {},
   "source": [
    "\\begin{align*}\n",
    "    \\frac{\\mathrm{d}|I|}{\\mathrm{d}f} &= -\\frac{|E|}{|Z|^3} \\cdot 2\\big(X_{\\mathrm{L}1} - X_{\\mathrm{C}1}\\big) \\cdot \\left(2\\pi L_1 + \\frac{1}{2\\pi f^2 C_1} \\right) \\\\ \\\\\n",
    "     &= -\\frac{|E|}{|Z|^3} \\cdot 2\\left(2\\pi f L_1 - \\frac{1}{2\\pi f C_1}\\right) \\cdot \\left(2\\pi L_1 + \\frac{1}{2\\pi f^2 C_1} \\right) \n",
    "\\end{align*}"
   ]
  },
  {
   "cell_type": "markdown",
   "id": "64182b17",
   "metadata": {},
   "source": [
    "Now suppose we have two series LC filters that only differ by their load resistances, $R_1$ and $R_2$, and that:  \n",
    "\n",
    "$$ R_1 < R_2$$"
   ]
  },
  {
   "cell_type": "markdown",
   "id": "a7e5df12",
   "metadata": {},
   "source": [
    "It should then follow that:  \n",
    "\n",
    "$$ |E_1|'(f) > |E_2|'(f) \\quad \\text{where }f \\ne f_\\mathrm{res}$$\n",
    "\n",
    "and,\n",
    "$$ |E_1|'(f_\\mathrm{res}) = |E_2|'(f_\\mathrm{res}) = 0$$"
   ]
  },
  {
   "cell_type": "markdown",
   "id": "7c3f1f95",
   "metadata": {},
   "source": [
    "Dividing through by the last two factors on the right of the identity $|I|'(f)$ and $-|E|$ gives:"
   ]
  },
  {
   "cell_type": "markdown",
   "id": "9cd49b74",
   "metadata": {},
   "source": [
    "$$ \\frac{R_1}{|Z_1|^3} > \\frac{R_2}{|Z_2|^3}$$"
   ]
  },
  {
   "cell_type": "markdown",
   "id": "9eb9b471",
   "metadata": {},
   "source": [
    "$$ \\frac{|Z_2|^3}{|Z_1|^3} > \\frac{R_2}{R_1} > 1$$"
   ]
  },
  {
   "cell_type": "markdown",
   "id": "8b46cebd",
   "metadata": {},
   "source": [
    "Which leaves us with:\n",
    "$$ \\frac{|Z_2|^2}{|Z_1|^2} = \\frac{\\big|R_2^2 - \\big(X_{\\mathrm{L}1} - X_{\\mathrm{C}1} \\big)^2 \\big|}{\\big|R_1^2 - \\big(X_{\\mathrm{L}1} - X_{\\mathrm{C}1} \\big)^2\\big|} > 1$$"
   ]
  },
  {
   "cell_type": "markdown",
   "id": "7cb4a49c",
   "metadata": {},
   "source": [
    "$$ R_2^2 - \\big(X_{\\mathrm{L}1} - X_{\\mathrm{C}1} \\big)^2 > R_1^2 - \\big(X_{\\mathrm{L}1} - X_{\\mathrm{C}1} \\big)^2$$\n",
    "\n",
    "$$ R_2^2 > R_1^2$$\n",
    "\n",
    "$$ R_2 > R_1$$"
   ]
  }
 ],
 "metadata": {
  "kernelspec": {
   "display_name": "Python 3 (ipykernel)",
   "language": "python",
   "name": "python3"
  },
  "language_info": {
   "codemirror_mode": {
    "name": "ipython",
    "version": 3
   },
   "file_extension": ".py",
   "mimetype": "text/x-python",
   "name": "python",
   "nbconvert_exporter": "python",
   "pygments_lexer": "ipython3",
   "version": "3.8.10"
  }
 },
 "nbformat": 4,
 "nbformat_minor": 5
}
