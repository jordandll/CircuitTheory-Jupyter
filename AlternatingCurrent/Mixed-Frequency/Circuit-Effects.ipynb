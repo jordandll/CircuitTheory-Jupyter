{
 "cells": [
  {
   "cell_type": "markdown",
   "id": "740d1d57",
   "metadata": {},
   "source": [
    "# Circuit Effects\n",
    "\n",
    "To illustrate the effects that a mixed-frequency signal may have on a circuit and it's components, let's analyse the circuit defined by:\n",
    "$$ E_1--E_2--R--C$$\n",
    "Here,\n",
    "* $E_1 :=E_1(t)= 5\\text{V}\\cdot\\sin 2\\pi 60 \\text{Hz} \\cdot t = 5\\text{V }60 \\text{Hz} $\n",
    "* $E_2 := E_2(t) = 5\\text{V}\\cdot\\sin 2\\pi 90 \\text{Hz}\\cdot t = 5\\text{V } 90 \\text{Hz}$\n",
    "* $R = 2200 \\Omega$\n",
    "* $C = 1\\mu \\text{F}$\n",
    "\n",
    "Since $E_1$ and $E_2$ have different frequencies, we can't add their complex number representations.  Instead we use Superposition Theorem to analyse this circuit.  This means we will analyse this circuit one power supply at a time and then superimpose the results each circuit onto each other."
   ]
  },
  {
   "cell_type": "markdown",
   "id": "18c5514b",
   "metadata": {},
   "source": [
    "## Power Supply 1\n",
    "\n",
    "Here we will ignore $E_2$ and analyse the circuit defined by:\n",
    "$$ E_1--R--C$$\n",
    "\n",
    "Via Ohm's Law and KVL,\n",
    "$$ I = \\frac{E_1}{Z}$$\n",
    "\n",
    "where\n",
    "$$ Z = Z_R + Z_C = R\\angle0 + X_C\\angle-0.5\\pi = R - j \\cdot X_C$$\n",
    "\n",
    "$$I = \\frac{|E_1|}{|Z|}\\angle - Z_\\theta = \\frac{|E_1|}{|Z|}\\left( \\frac{R}{|Z|} + j \\cdot \\frac{X_C}{|Z|}\\right ) $$"
   ]
  },
  {
   "cell_type": "code",
   "execution_count": 2,
   "id": "f3975fae",
   "metadata": {},
   "outputs": [
    {
     "name": "stdout",
     "output_type": "stream",
     "text": [
      "|I| = 1.45mA;\tI_theta = 50.33 degrees\n",
      "|E_R| = 3.19V;\tE_R_theta = 50.33 degrees\n",
      " |E_C| = 3.85V;\tE_C_theta = -39.67 degrees.\n"
     ]
    }
   ],
   "source": [
    "import math\n",
    "\n",
    "def mag(z: complex):\n",
    "    return math.sqrt(z.real**2 + z.imag**2)\n",
    "\n",
    "R = 2200; C = 1e-6; f = 60\n",
    "X_C = 1/(2*math.pi*f*C)\n",
    "Z_C = complex(0, -X_C)\n",
    "I = 5/(R**2 + X_C**2)*complex(R, X_C)\n",
    "E_R = V_R = R * I\n",
    "E_C = V_C = Z_C*I\n",
    "\n",
    "I_a = math.asin(I.imag / mag(I))\n",
    "E_Ra = I_a\n",
    "E_Ca = I_a - 0.5*math.pi\n",
    "\n",
    "print(f'|I| = {mag(I)*1000:.2f}mA;\\tI_theta = {math.degrees(I_a):.2f} degrees\\n' + \n",
    "     f'|E_R| = {mag(E_R):.2f}V;\\tE_R_theta = {math.degrees(E_Ra):.2f} degrees\\n' +\n",
    "     f' |E_C| = {mag(E_C):.2f}V;\\tE_C_theta = {math.degrees(E_Ca):.2f} degrees.')"
   ]
  }
 ],
 "metadata": {
  "kernelspec": {
   "display_name": "Python 3",
   "language": "python",
   "name": "python3"
  },
  "language_info": {
   "codemirror_mode": {
    "name": "ipython",
    "version": 3
   },
   "file_extension": ".py",
   "mimetype": "text/x-python",
   "name": "python",
   "nbconvert_exporter": "python",
   "pygments_lexer": "ipython3",
   "version": "3.6.9"
  }
 },
 "nbformat": 4,
 "nbformat_minor": 5
}
