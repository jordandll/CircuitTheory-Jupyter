{
 "cells": [
  {
   "cell_type": "markdown",
   "id": "75fbf528",
   "metadata": {},
   "source": [
    "# Other Waveshapes\n",
    "\n",
    "In this section we will examine waveforms other than square and sinusoidal waves.  One of the concepts invoked in this section is AC to DC wave rectification, whereby an AC input signal is 'rectified' into a DC signal;  Which means the current never changes direction, i.e. change signs by having a negative value after having a positive one, or vice versa.  A DC signal does not have a constant value per se, although often times that is the case with DC signals."
   ]
  },
  {
   "cell_type": "markdown",
   "id": "54cb00c0",
   "metadata": {},
   "source": [
    "## Half-wave Rectification\n",
    "\n",
    "One type of AC to DC rectification is half-wave rectification, which is when half of an AC signal is blocked, leaving only the non-positive or non-negative part of the signal, implying that the current never changes direction.  One way to realize half-wave rectification is through a circuit with an AC power supply and a diode that allows the current to only flow in one direction.  This is illustrated in the figure below.  \n",
    "\n",
    "![half-wave-rect](https://www.allaboutcircuits.com/uploads/articles/half-wave-rectitier.jpg)"
   ]
  },
  {
   "cell_type": "markdown",
   "id": "809ea017",
   "metadata": {},
   "source": [
    "### Example 1\n",
    "\n",
    "Suppose that the AC power supply has an amplitude of $15$ volts and frequency of $60\\text{Hz}$ and the load has a resistance of $10\\text{k}\\Omega$.\n",
    "\n",
    "$$ E :=E(t)= \\begin{cases}\n",
    "15 \\text{V} \\cdot \\sin 120\\pi t \\quad &\\text{if } 0\\le t < L \\\\\n",
    "0 \\quad & \\text{if } L\\le t < 2L = p\n",
    "\\end{cases}$$\n",
    "\n",
    "Note that the above repeats indefinitely for all whole mulitples of $L$, the half period of waveform.\n",
    "\n",
    "\n",
    "$$ R_\\text{load} := R = 10^4 \\Omega$$"
   ]
  },
  {
   "cell_type": "markdown",
   "id": "3956a92d",
   "metadata": {},
   "source": [
    "![wave-plot](https://www.allaboutcircuits.com/uploads/articles/half-wave-rectifier-waveforms.jpg)"
   ]
  },
  {
   "cell_type": "markdown",
   "id": "62fab293",
   "metadata": {},
   "source": [
    "The blue curve in the above figure is the voltage running accross the circuit and the red curve is what the voltage would be if the input signal was not rectified by the diode.  Note that the red curve was shifted up by $0.4$ volts for visibility;  In reality, it would have the same peak as the blue curve."
   ]
  },
  {
   "cell_type": "markdown",
   "id": "3f304af7",
   "metadata": {},
   "source": [
    "The period and half-period are given by:\n",
    "\n",
    "$$ p = 2L = \\frac{1}{f} = \\frac{1\\text{s}}{60}\\approxeq 16.67 \\text{ms} = 0.01667 \\text{s}$$\n",
    "\n",
    "$$ L = \\frac{1}{2f} = \\frac{1}{120} \\text{s}$$"
   ]
  },
  {
   "cell_type": "code",
   "execution_count": 10,
   "id": "051ea7ac",
   "metadata": {},
   "outputs": [
    {
     "name": "stdout",
     "output_type": "stream",
     "text": [
      "p = 16.67ms\n",
      "L = 8.33ms\n"
     ]
    }
   ],
   "source": [
    "p = 1/60\n",
    "L = p/2\n",
    "\n",
    "print(f'p = {p*1000:.2f}ms\\nL = {L*1000:.2f}ms')"
   ]
  },
  {
   "cell_type": "markdown",
   "id": "346fc292",
   "metadata": {},
   "source": [
    "When finding the Fourier coefficients of $E(t)$, the midpoint of each integral is $t=L$.\n",
    "\n",
    "$$ a_n = 120\\text{s} \\cdot \\int_0^p E(t) \\cos 120\\pi n t \\cdot dt$$\n",
    "\n",
    "$$ b_n = 120\\text{s} \\cdot \\int_0^p E(t) \\sin 120 \\pi n t \\cdot dt$$"
   ]
  },
  {
   "cell_type": "markdown",
   "id": "4f6eeb8d",
   "metadata": {},
   "source": [
    "$$ a_0 = \\frac{1}{L}\\int_0^p E(t) \\cdot dt$$"
   ]
  },
  {
   "cell_type": "markdown",
   "id": "0e2ec6ee",
   "metadata": {},
   "source": [
    "Since, via the first equation of this example, half of each integral is equal to zero.\n",
    "\n",
    "$$ a_n = 120\\text{s} \\cdot \\int_0^L E(t) \\cos 120\\pi n t \\cdot dt$$\n",
    "\n",
    "$$ b_n = 120\\text{s} \\cdot \\int_0^L E(t) \\sin 120 \\pi n t \\cdot dt$$"
   ]
  },
  {
   "cell_type": "markdown",
   "id": "8218d724",
   "metadata": {},
   "source": [
    "$$ a_0 = \\frac{1}{L} \\int_0^L E(t) \\cdot dt$$"
   ]
  },
  {
   "cell_type": "markdown",
   "id": "5a0998b0",
   "metadata": {},
   "source": [
    "Via the first equation of this example, \n",
    "\n",
    "$$ E(t) = 15 \\text{V} \\cdot \\sin 120\\pi t$$\n",
    "\n",
    "throughout the range of the integrals found in the equations that give the Fourier coefficients."
   ]
  },
  {
   "cell_type": "markdown",
   "id": "b4fd43bb",
   "metadata": {},
   "source": [
    "$$ a_0 = \\frac{15 \\text{V}}{L}\\int_0^L\\sin \\frac{\\pi t}{L} \\cdot dt$$"
   ]
  },
  {
   "cell_type": "markdown",
   "id": "b8cebe72",
   "metadata": {},
   "source": [
    "$$ a_n = 120\\text{s} \\cdot \\int_0^L 15 \\text{V} \\cdot \\sin 120\\pi t \\cdot \\cos 120\\pi n t \\cdot dt $$\n",
    "\n",
    "$$ b_n = 120\\text{s} \\cdot \\int_0^L  15 \\text{V} \\cdot \\sin 120 \\pi t \\cdot \\sin 120 \\pi n t \\cdot dt$$"
   ]
  },
  {
   "cell_type": "markdown",
   "id": "8fb4ede4",
   "metadata": {},
   "source": [
    "First, we will find the mean value, $0.5a_0$."
   ]
  },
  {
   "cell_type": "markdown",
   "id": "c0b2b180",
   "metadata": {},
   "source": [
    "$$U(t):= \\int \\sin \\frac{\\pi t}{L} \\cdot dt = - \\frac{L}{\\pi}\\cos \\frac{\\pi t}{L} + K$$"
   ]
  },
  {
   "cell_type": "markdown",
   "id": "3ff75811",
   "metadata": {},
   "source": [
    "$$ a_0 = 120 \\cdot 15 \\cdot \\big(U(L) - U(0)\\big) $$\n",
    "\n",
    "$$ U(L) = \\frac{L}{\\pi}$$\n",
    "\n",
    "$$U(0) = - \\frac{L}{\\pi} = -U(L) $$\n",
    "\n",
    "Thus,\n",
    "$$ a_0 = 120 \\cdot 15 \\cdot 2U(L) = 120 \\cdot 15 \\cdot \\frac{2}{120 \\pi}$$"
   ]
  },
  {
   "cell_type": "markdown",
   "id": "bdf82f6a",
   "metadata": {},
   "source": [
    "$$ a_0 = \\frac{30}{\\pi}$$\n",
    "\n",
    "Finally, the mean value -- a.k.a the DC component -- is:\n",
    "\n",
    "$$ 0.5 a_0 = \\frac{15}{\\pi}$$"
   ]
  },
  {
   "cell_type": "code",
   "execution_count": 11,
   "id": "e0540d99",
   "metadata": {},
   "outputs": [
    {
     "data": {
      "text/plain": [
       "4.7746482927568605"
      ]
     },
     "execution_count": 11,
     "metadata": {},
     "output_type": "execute_result"
    }
   ],
   "source": [
    "15/np.pi"
   ]
  },
  {
   "cell_type": "markdown",
   "id": "234dc112",
   "metadata": {},
   "source": [
    "Next we will find the values of $a_n$, up until some finite index.  We may need to find a specific solution for each value of $a_n$ that we are willing to find.  \n",
    "\n",
    "Let $\\theta$ and $U$ be defined as:\n",
    "\n",
    "$$ \\theta := \\theta(t):= 120\\pi t = \\frac{\\pi t}{L}$$\n",
    "\n",
    "$$ U:= U(\\theta)=\\int \\sin \\theta \\cdot \\cos n \\theta \\cdot d\\theta$$"
   ]
  },
  {
   "cell_type": "markdown",
   "id": "791a7d75",
   "metadata": {},
   "source": [
    "I do not know of a solution to the above equation that is generalized to all $n \\in \\mathbb{N}$."
   ]
  },
  {
   "cell_type": "markdown",
   "id": "ee651fa4",
   "metadata": {},
   "source": [
    "**When $\\mathbf{n=1}$,**\n",
    "$$ U'=U'(\\theta) = \\sin \\theta \\cdot \\cos \\theta = 0.5\\sin 2 \\theta $$\n",
    "\n",
    "$$ U = \\int U' \\cdot d\\theta = \\int 0.5 \\sin 2 \\theta \\cdot d\\theta$$"
   ]
  },
  {
   "cell_type": "markdown",
   "id": "70d6ea28",
   "metadata": {},
   "source": [
    "\\begin{align*}\n",
    "    U(\\theta) &= -0.25\\cos 2 \\theta  + K \\\\\n",
    "    U(t)&= - 0.25 \\cdot\\frac{L}{\\pi}\\cdot\\cos \\frac{2\\pi t}{L}+ K   \n",
    "\\end{align*}"
   ]
  },
  {
   "cell_type": "markdown",
   "id": "c078dbdd",
   "metadata": {},
   "source": [
    "Thus,\n",
    "\n",
    "$$ a_1 = 120\\text{s} \\cdot 15\\text{V} \\cdot \\big(U(L) - U(0)\\big) = 0$$"
   ]
  },
  {
   "cell_type": "markdown",
   "id": "7d961afe",
   "metadata": {},
   "source": [
    "**When $\\mathbf{n=2}$,**\n",
    "$$ U' = \\sin \\theta \\cdot \\cos 2 \\theta = \\sin \\theta \\cdot (\\cos^2\\theta - \\sin^2\\theta)$$"
   ]
  },
  {
   "cell_type": "markdown",
   "id": "86cd101c",
   "metadata": {},
   "source": [
    "$$ U := \\int U'(t) \\cdot dt = - \\frac{1}{3\\theta'(t)}\\cos^3\\theta - \\int \\sin^3 \\theta \\cdot dt$$"
   ]
  },
  {
   "cell_type": "markdown",
   "id": "6758e73a",
   "metadata": {},
   "source": [
    "To find the other primitive integral, first let $Q$ be defined as:\n",
    "$$ Q:= - \\cos \\theta \\cdot \\sin^2\\theta$$\n"
   ]
  },
  {
   "cell_type": "markdown",
   "id": "cb21f177",
   "metadata": {},
   "source": [
    "$$ Q' = \\theta'(t)\\cdot(\\sin^3\\theta - 2\\cos^2\\theta \\sin \\theta)$$\n",
    "\n",
    "$$ -2\\int \\cos^2\\theta \\sin \\theta \\cdot d\\theta =  \\frac{2}{3} \\cos^3\\theta$$"
   ]
  },
  {
   "cell_type": "markdown",
   "id": "845eb429",
   "metadata": {},
   "source": [
    "$$ -2\\int \\cos^2\\theta \\sin \\theta \\cdot dt =  \\frac{2}{3\\theta'(t)} \\cos^3\\theta$$"
   ]
  },
  {
   "cell_type": "markdown",
   "id": "e3e76ce4",
   "metadata": {},
   "source": [
    "Now, let $Q$ be redfined as:\n",
    "$$ Q(\\theta):= - \\cos \\theta \\cdot \\sin^2 \\theta - \\frac{2}{3} \\cos^3\\theta$$\n",
    "\n",
    "$$ Q'(\\theta) = \\sin^3\\theta$$"
   ]
  },
  {
   "cell_type": "markdown",
   "id": "0966ccd7",
   "metadata": {},
   "source": [
    "Let $Q$ be redefined yet again as:\n",
    "\n",
    "$$ Q := - \\frac{1}{\\theta'(t)} \\left(\\cos \\theta \\cdot \\sin^2\\theta +\\frac{2}{3}\\cos^3\\theta \\right)$$"
   ]
  },
  {
   "cell_type": "markdown",
   "id": "e8349008",
   "metadata": {},
   "source": [
    "$$ Q'(t) = \\sin^3\\theta$$"
   ]
  },
  {
   "cell_type": "markdown",
   "id": "928fe5ae",
   "metadata": {},
   "source": [
    "Thus,\n",
    "$$ Q = \\int Q' \\cdot dt = \\int \\sin^3 \\theta \\cdot dt = - \\frac{1}{\\theta'(t)} \\left(\\cos \\theta \\cdot \\sin^2\\theta +\\frac{2}{3}\\cos^3\\theta \\right)$$\n",
    "\n",
    "and,\n",
    "$$ U = \\int U' \\cdot dt = - \\frac{1}{3\\theta'(t)}\\cos^3\\theta - Q =  \\frac{1}{\\theta'(t)} \\left(\\cos \\theta \\cdot \\sin^2\\theta +\\frac{2}{3}\\cos^3\\theta \\right)- \\frac{1}{3\\theta'(t)}\\cos^3\\theta$$"
   ]
  },
  {
   "cell_type": "markdown",
   "id": "7ee8f55b",
   "metadata": {},
   "source": [
    "Finally,\n",
    "\n",
    "\\begin{align*}\n",
    "    U &= \\frac{1}{\\theta'(t)}\\left(\\cos \\theta \\cdot \\sin^2 \\theta  + \\frac{1}{3} \\cos^3 \\theta\\right) + K \\\\\n",
    "     &= \\frac{L}{\\pi}\\left( \\cos\\frac{\\pi t}{L} \\cdot \\sin^2 \\frac{\\pi t}{L}  + \\frac{1}{3} \\cos^3 \\frac{\\pi t}{L}\\right) + K\n",
    "\\end{align*}"
   ]
  },
  {
   "cell_type": "markdown",
   "id": "568a0f49",
   "metadata": {},
   "source": [
    "$$a_2 = 120\\text{s} \\cdot 15\\text{V} \\cdot \\big(U(L)-U(0)\\big) = 120\\text{s} \\cdot 15\\text{V} \\cdot \\frac{L}{\\pi} \\left(-\\frac{1}{3} - \\frac{1}{3}\\right)$$"
   ]
  },
  {
   "cell_type": "markdown",
   "id": "08985976",
   "metadata": {},
   "source": [
    "$$ a_2 = - 15 \\frac{2}{3\\pi} = -\\frac{10}{\\pi}$$"
   ]
  },
  {
   "cell_type": "code",
   "execution_count": 12,
   "id": "0c347183",
   "metadata": {},
   "outputs": [
    {
     "data": {
      "text/plain": [
       "-3.183098861837907"
      ]
     },
     "execution_count": 12,
     "metadata": {},
     "output_type": "execute_result"
    }
   ],
   "source": [
    "-10/np.pi"
   ]
  },
  {
   "cell_type": "markdown",
   "id": "a34e58c1",
   "metadata": {},
   "source": [
    "**When $\\mathbf{n=3}$,**\n",
    "\n",
    "$$ U' = \\sin \\theta \\cdot \\cos 3 \\theta = \\sin \\theta \\cdot \\cos (\\theta + 2\\theta)$$\n",
    "\n",
    "Via equation (4) in the [Trig. Identities](/notebooks/Math/Trigonometry.ipynb#Compound-Angles) chapter,"
   ]
  },
  {
   "cell_type": "markdown",
   "id": "eed16a91",
   "metadata": {},
   "source": [
    "\\begin{align*}\n",
    "    \\cos(\\theta + 2\\theta) &= \\cos \\theta \\cdot \\cos 2\\theta - \\sin \\theta \\cdot \\sin 2\\theta \\\\\n",
    "     &= \\cos\\theta \\cdot (\\cos ^2 \\theta - \\sin^2\\theta) - 2\\sin^2\\theta \\cdot \\cos \\theta\n",
    "\\end{align*}"
   ]
  },
  {
   "cell_type": "markdown",
   "id": "ca4dc980",
   "metadata": {},
   "source": [
    "Via the above two equations and substitution,\n",
    "\n",
    "\\begin{align*}\n",
    "    U' &= \\sin \\theta \\cdot \\big(\\cos\\theta(\\cos^2\\theta - \\sin^2\\theta) - 2\\sin^2\\theta \\cdot \\cos\\theta \\big) \\\\\n",
    "     &= \\sin \\theta \\cdot (\\cos^3\\theta - \\sin^2\\theta \\cdot \\cos\\theta - 2\\sin^2\\theta \\cdot \\cos\\theta ) \\\\\n",
    "     &= \\sin \\theta \\cdot(\\cos^3\\theta - 3\\sin^2\\theta \\cdot \\cos\\theta) \\\\\n",
    "     &= \\sin \\theta \\cdot \\cos^3\\theta - 3 \\sin^3\\theta \\cdot \\cos \\theta\n",
    "\\end{align*}"
   ]
  },
  {
   "cell_type": "markdown",
   "id": "ab8590ee",
   "metadata": {},
   "source": [
    "$$ U := \\int U'(\\theta) \\cdot d\\theta = - 0.25 \\cos^4\\theta - 0.75 \\sin^4\\theta + K$$"
   ]
  },
  {
   "cell_type": "markdown",
   "id": "986fa458",
   "metadata": {},
   "source": [
    "Now, let $U$ be redefined as:\n",
    "\n",
    "$$ U:=U(t):=\\int U'(t)\\cdot dt = \\frac{1}{\\theta'(t)} \\cdot \\int U'(\\theta)\\cdot d\\theta$$"
   ]
  },
  {
   "cell_type": "markdown",
   "id": "45bf56fd",
   "metadata": {},
   "source": [
    "$$ U = U(t) = K - \\frac{L}{4\\pi}\\left(\\cos^4\\frac{\\pi t}{L} + 3\\sin^4\\frac{\\pi t}{L} \\right)$$"
   ]
  },
  {
   "cell_type": "markdown",
   "id": "6d0006ac",
   "metadata": {},
   "source": [
    "Finally,\n",
    "\n",
    "$$ a_3 = 120\\text{s} \\cdot 15\\text{V} \\cdot \\big(U(L) - U(0)\\big) = 0$$"
   ]
  },
  {
   "cell_type": "markdown",
   "id": "b6b5cb53",
   "metadata": {},
   "source": [
    "**Now we find the $b_n$ coefficients.**"
   ]
  },
  {
   "cell_type": "markdown",
   "id": "c1afdc5e",
   "metadata": {},
   "source": [
    "While finding the $b_n$ coefficients, let $U$ be redefined as:\n",
    "\n",
    "$$ U:=U(t):=\\int \\sin \\theta \\cdot \\sin n \\theta \\cdot dt$$"
   ]
  },
  {
   "cell_type": "markdown",
   "id": "158f8abb",
   "metadata": {},
   "source": [
    "**When $\\mathbf{n=1}$,**\n",
    "$$ U'(t) = \\sin^2 \\theta = 0.5 - 0.5\\cos 2 \\theta $$"
   ]
  },
  {
   "cell_type": "markdown",
   "id": "7eae823d",
   "metadata": {},
   "source": [
    "$$ U = \\int U'(t) \\cdot dt = \\int 0.5 \\cdot dt - 0.5\\int\\cos 2 \\theta \\cdot dt$$"
   ]
  },
  {
   "cell_type": "markdown",
   "id": "3cfd3846",
   "metadata": {},
   "source": [
    "$$ U = 0.5 t - \\frac{1}{4\\theta'(t)} \\sin 2 \\theta + K$$"
   ]
  },
  {
   "cell_type": "markdown",
   "id": "1aff6f6a",
   "metadata": {},
   "source": [
    "$$ \\theta'(t) = \\frac{\\pi}{L}$$\n",
    "\n",
    "$$ U = 0.5 t - \\frac{L}{4\\pi}\\sin \\frac{2\\pi t}{L} + K$$\n"
   ]
  },
  {
   "cell_type": "markdown",
   "id": "0dc5e11a",
   "metadata": {},
   "source": [
    "\\begin{align*}\n",
    "    b_1 &= 120 \\text{s} \\cdot 15\\text{V} \\cdot \\int_0^L U'(t) \\cdot dt \\\\\n",
    "     &= 120 \\cdot 15 \\big(U(L) - U(0)\\big) \\\\\n",
    "     &= 120 \\cdot 15 \\cdot (0.5L - 0.5\\cdot 0) \\\\\n",
    "     &= 60 \\cdot 15 L\n",
    "\\end{align*}    "
   ]
  },
  {
   "cell_type": "code",
   "execution_count": 13,
   "id": "38478e37",
   "metadata": {},
   "outputs": [
    {
     "data": {
      "text/plain": [
       "900"
      ]
     },
     "execution_count": 13,
     "metadata": {},
     "output_type": "execute_result"
    }
   ],
   "source": [
    "60*15"
   ]
  },
  {
   "cell_type": "markdown",
   "id": "c3437d7c",
   "metadata": {},
   "source": [
    "$$b_1 = 900L = \\frac{900}{2f} = \\frac{900}{120}$$"
   ]
  },
  {
   "cell_type": "code",
   "execution_count": 14,
   "id": "91288776",
   "metadata": {},
   "outputs": [
    {
     "data": {
      "text/plain": [
       "7.5"
      ]
     },
     "execution_count": 14,
     "metadata": {},
     "output_type": "execute_result"
    }
   ],
   "source": [
    "900/120"
   ]
  },
  {
   "cell_type": "markdown",
   "id": "5a6507ce",
   "metadata": {},
   "source": [
    "Finally, \n",
    "$$b_1 = 7.5$$"
   ]
  },
  {
   "cell_type": "markdown",
   "id": "97198057",
   "metadata": {},
   "source": [
    "**When $\\mathbf{n=2}$,**\n",
    "\n",
    "$$ U'(t) = \\sin \\theta \\cdot \\sin 2 \\theta = 2\\sin^2\\theta \\cdot \\cos \\theta$$"
   ]
  },
  {
   "cell_type": "markdown",
   "id": "3c5b14b2",
   "metadata": {},
   "source": [
    "$$ U = \\int U'(t) \\cdot dt = \\frac{2}{3\\theta'(t)}\\sin^3 \\theta + K$$"
   ]
  },
  {
   "cell_type": "markdown",
   "id": "4e663522",
   "metadata": {},
   "source": [
    "$$ U = \\frac{2L}{3\\pi} \\sin^3 \\frac{\\pi t}{L} + K$$"
   ]
  },
  {
   "cell_type": "markdown",
   "id": "d3a7950c",
   "metadata": {},
   "source": [
    "$$ b_2 = 120 \\cdot 15 \\cdot \\big(U(L) - U(0)\\big)$$"
   ]
  },
  {
   "cell_type": "markdown",
   "id": "e6d2fea8",
   "metadata": {},
   "source": [
    "$$ b_2 = 0$$"
   ]
  },
  {
   "cell_type": "markdown",
   "id": "c062c4ca",
   "metadata": {},
   "source": [
    "**When $\\mathbf{n=3}$,**\n",
    "\n",
    "$$ U'(t) = \\sin \\theta \\cdot \\sin 3 \\theta$$"
   ]
  },
  {
   "cell_type": "code",
   "execution_count": 1,
   "id": "4c62912b",
   "metadata": {},
   "outputs": [],
   "source": [
    "import numpy as np\n",
    "import matplotlib.pyplot as plt"
   ]
  },
  {
   "cell_type": "code",
   "execution_count": 2,
   "id": "59142e20",
   "metadata": {
    "code_folding": [
     0
    ]
   },
   "outputs": [
    {
     "data": {
      "text/plain": [
       "[<matplotlib.lines.Line2D at 0x7fd971c7d6d0>]"
      ]
     },
     "execution_count": 2,
     "metadata": {},
     "output_type": "execute_result"
    },
    {
     "data": {
      "image/png": "[encoded data removed]",
      "text/plain": [
       "<Figure size 936x360 with 1 Axes>"
      ]
     },
     "metadata": {
      "needs_background": "light"
     },
     "output_type": "display_data"
    }
   ],
   "source": [
    "# Fundamental Frequency (in Hertz or Hz)\n",
    "f = f_1 = 60\n",
    "\n",
    "# Fundamental Angular Velocity (in radians per second)\n",
    "w = 120 * np.pi\n",
    "\n",
    "# The period of the waveform in seconds.\n",
    "p = 1/f\n",
    "\n",
    "# The half-period of the waveform in seconds.\n",
    "L = p/2\n",
    "\n",
    "\"\"\" The mean value -- a.k.a. the dc level or dc component, denoted as 'dc_level' -- of the Fourier Series \n",
    "is given by a_0/2. \"\"\"\n",
    "\n",
    "a_0 = 30/np.pi\n",
    "dc_level = a_0/2\n",
    "\n",
    "\"\"\" Throughout this code cell, the n'th harmonic amplitude is denoted as 'C_n'.  I.e. the first or fundamental\n",
    "harmonic amplitude is denoted as 'C_1'.  The n'th phase shift or phase angle is denoted as 'p_n'. \"\"\"\n",
    "\n",
    "C_1, C_2 = 7.5, -10/np.pi\n",
    "\n",
    "p_1, p_2 = 0, 0.5*np.pi\n",
    "\n",
    "# Define the time domain, in terms of seconds, of the function (Fourier Series) that will be plotted.\n",
    "t = np.linspace(0, 2*p, num=200)\n",
    "\n",
    "# Define the Fourier Series.\n",
    "f = a_0/2 + C_1*np.sin(w*t) + C_2*np.cos(2*w*t)\n",
    "\n",
    "# Create the figure and axes that shall contain the plot.\n",
    "fig, ax = plt.subplots(figsize=(13, 5))\n",
    "\n",
    "# Set the axes properties.\n",
    "ax.set_title('Half-wave Rectification', size=18)\n",
    "ax.set_xlabel('time (ms)', size=12)\n",
    "ax.set_ylabel('voltage (volts)', size=12)\n",
    "\n",
    "# Create the plot.\n",
    "ax.plot(t*1000, f)"
   ]
  },
  {
   "cell_type": "markdown",
   "id": "84dcb095",
   "metadata": {},
   "source": [
    "Notice how, with only two terms, the Fourier Series, denoted as '`f`' in the code cell above, approximates the desired waveform quite well.  This implies that the first two harmonic amplitudes have the most significance, while the rest have very little.  An external source which performed it's own Fourier analysis on the waveform confirms this prediction. "
   ]
  },
  {
   "cell_type": "markdown",
   "id": "138cbad8",
   "metadata": {},
   "source": [
    "# Full-wave Rectification\n",
    "\n",
    "Another method of AC/DC conversion is called *full-wave* (Figure below), which as you may have guessed utilizes the full cycle of AC power from the source, reversing the polarity of half the AC cycle to get electrons to flow through the load the same direction all the time."
   ]
  },
  {
   "cell_type": "markdown",
   "id": "13830b7c",
   "metadata": {},
   "source": [
    "### Example  2\n",
    "\n",
    "Here is an example of full-wave rectification that uses the same power supply as example 1 in the half-wave section."
   ]
  },
  {
   "cell_type": "markdown",
   "id": "3e0ba099",
   "metadata": {},
   "source": [
    "![full-wave-circuit](https://www.allaboutcircuits.com/uploads/articles/full-wave-rectifier-circuit.jpg)"
   ]
  },
  {
   "cell_type": "markdown",
   "id": "b6c98807",
   "metadata": {},
   "source": [
    "And below is a plot of the recticified DC waveform (in blue) and, for the sake of juxtaposition, the unrectified AC waveform (in red)."
   ]
  },
  {
   "cell_type": "markdown",
   "id": "965053a7",
   "metadata": {},
   "source": [
    "![full-wave-plot](https://www.allaboutcircuits.com/uploads/articles/waveforms-for-full-wave-rectifier.jpg)"
   ]
  },
  {
   "cell_type": "markdown",
   "id": "3052f724",
   "metadata": {},
   "source": [
    "Note that I got this from another website, and they did not say whether the red or blue plot is shifted up or down for the sake of illustration and visibility, but I am certain that the amplitude of both waveforms should be the same (15 volts)."
   ]
  },
  {
   "cell_type": "markdown",
   "id": "05f266db",
   "metadata": {},
   "source": [
    "Basically, this fully rectified DC waveform is given by:\n",
    "\n",
    "$$ E:=E(t)= 15 \\text{V} \\cdot \\begin{cases}\n",
    "\\sin 2\\pi f t \\quad &\\text{if }\\hspace{2ex} 0\\le t < L \\\\\n",
    "-\\sin 2\\pi f t \\quad &\\text{if }\\hspace{2ex} L\\le t < 2L = p\n",
    "\\end{cases}\n",
    "$$"
   ]
  },
  {
   "cell_type": "markdown",
   "id": "8f08ada5",
   "metadata": {},
   "source": [
    "Here, the frequency ($f$) and period ($p$) of the waveform are the same as they were in the half-wave rectification example.\n",
    "\n",
    "$$ f = 60\\text{Hz}$$\n",
    "\n",
    "$$ p = 2L = \\frac{1}{f} \\approxeq 16.67\\text{ms}$$\n",
    "\n",
    "$$ L = \\frac{1}{2f} = 0.5p = \\frac{1}{120\\text{s}} \\approxeq 8.33\\text{ms}$$\n",
    "\n",
    "$$ \\frac{1}{L} = 120 \\text{s}$$"
   ]
  },
  {
   "cell_type": "markdown",
   "id": "d2f94fcf",
   "metadata": {},
   "source": [
    "The mean value or **dc component** of the Fourier Series of $E(t)$ is $0.5a_0$, where:\n",
    "\n",
    "$$ a_0 = \\frac{1}{L} \\int_0^p E(t) \\cdot dt = \\frac{2}{L}\\int_0^L E(t) \\cdot dt$$"
   ]
  },
  {
   "cell_type": "markdown",
   "id": "3c888180",
   "metadata": {},
   "source": [
    "And, since   $\\hspace{2ex}E(t) = 15 \\text{V}\\cdot\\sin 2\\pi f t\\hspace{2ex}$ in the range of the intregral of the above equation,\n",
    "\n",
    "$$ a_0 = \\frac{30}{L}\\int_0^L \\sin 2\\pi f t \\cdot dt = \\frac{30}{L}\\int_0^L \\sin \\frac{\\pi t}{L} \\cdot dt$$"
   ]
  },
  {
   "cell_type": "markdown",
   "id": "552db2cd",
   "metadata": {},
   "source": [
    "Let $U(t)$ be defined as:"
   ]
  },
  {
   "cell_type": "markdown",
   "id": "bdb07050",
   "metadata": {},
   "source": [
    "$$U(t):=\\int  \\sin 2\\pi f t \\cdot dt = - \\frac{L}{\\pi } \\cos \\frac{\\pi t}{L} + K$$"
   ]
  },
  {
   "cell_type": "markdown",
   "id": "b71f4b71",
   "metadata": {},
   "source": [
    "Via the above two equations,\n",
    "\n",
    "$$ a_0 = \\frac{30}{L} \\cdot \\big(U(L) - U(0)\\big) = \\frac{30}{L} \\cdot \\left(\\frac{L}{\\pi} + \\frac{L}{\\pi}\\right) = \\frac{60}{L} \\cdot \\frac{L}{\\pi} = \\frac{60}{\\pi}$$"
   ]
  },
  {
   "cell_type": "markdown",
   "id": "79741e3f",
   "metadata": {},
   "source": [
    "Finally, the **dc component** is:\n",
    "\n",
    "$$ 0.5a_0 = \\frac{30}{\\pi} \\approxeq 9.55$$"
   ]
  },
  {
   "cell_type": "code",
   "execution_count": 6,
   "id": "a92dbf1e",
   "metadata": {},
   "outputs": [
    {
     "data": {
      "text/plain": [
       "19.098593171027442"
      ]
     },
     "execution_count": 6,
     "metadata": {},
     "output_type": "execute_result"
    }
   ],
   "source": [
    "a_0 = 60/np.pi\n",
    "a_0"
   ]
  },
  {
   "cell_type": "markdown",
   "id": "b4f829e9",
   "metadata": {},
   "source": [
    "As for the Fourier Coefficients, $a_n$ and $b_n$, where $n \\in \\mathbb{N}$, via the family of equations (2), in the [Fourier Series](/notebooks/Math/FourierSeries.ipynb) chapter,"
   ]
  },
  {
   "cell_type": "markdown",
   "id": "31cefea2",
   "metadata": {},
   "source": [
    "$$ a_n = \\frac{1}{L}\\int_0^p E(t) \\cdot \\cos \\frac{n \\pi t}{L} \\cdot dt$$\n",
    "\n",
    "$$ b_n = \\frac{1}{L}\\int_0^p E(t) \\cdot \\sin \\frac{n \\pi t}{L} \\cdot dt$$"
   ]
  },
  {
   "cell_type": "markdown",
   "id": "609ebca2",
   "metadata": {},
   "source": [
    "Here, $t=L$ is the midpoint of the range of the integral instead of $t=0$, which is the case in the aforementioned Fourer Series chapter."
   ]
  },
  {
   "cell_type": "markdown",
   "id": "a0089ff8",
   "metadata": {},
   "source": [
    "**First, we will find the $a_n$ coefficients.**"
   ]
  },
  {
   "cell_type": "markdown",
   "id": "556078f0",
   "metadata": {},
   "source": [
    "The curve given by the integrand, denoted as '$Q$', of the integral found in the identity of $a_n$ is reflectively symmetric about the vertical line given by $t = L$, which is the midpoint of the range of said integral, for all $n\\in\\mathbb{N}$.  Thus,\n",
    "\n",
    "$$ a_n = \\frac{2}{L}\\int_0^L E(t) \\cdot \\cos \\frac{n \\pi t}{L} \\cdot dt$$"
   ]
  },
  {
   "cell_type": "markdown",
   "id": "6aaf2b94",
   "metadata": {},
   "source": [
    "**When $\\mathbf{n=1}$,**"
   ]
  },
  {
   "cell_type": "markdown",
   "id": "8f190d31",
   "metadata": {},
   "source": [
    "$$a_1 = 0$$"
   ]
  },
  {
   "cell_type": "markdown",
   "id": "6c4dd16c",
   "metadata": {},
   "source": [
    "The integral in the above equation is equal to zero since the curve given by $Q$ is reflectively symmetric about the time axis and the vertical line given by $t=0.5L$ within the range of the integral, $[0, L]$, which implies that:\n",
    "\n",
    "$$ \\int_0^{0.5L} Q \\cdot dt = - \\int_{0.5L}^L Q \\cdot dt$$"
   ]
  },
  {
   "cell_type": "markdown",
   "id": "076b7ce9",
   "metadata": {},
   "source": [
    "And, of course,\n",
    "$$ a_1 = \\frac{2}{L} \\int_0^L Q \\cdot dt = \\frac{2}{L} \\left(\\int_0^{0.5L}Q \\cdot dt + \\int_{0.5L}^L Q \\cdot dt \\right) = 0$$"
   ]
  },
  {
   "cell_type": "markdown",
   "id": "d9a2d573",
   "metadata": {},
   "source": [
    "**When $\\mathbf{n=2}$,**\n",
    "\n",
    "The curve given by $Q$ is reflectively symmetric about the line given by $t=0.5L$.  Thus,\n",
    "\n",
    "$$ a_2 = \\frac{4}{L}\\int_0^{0.5L} E(t) \\cdot \\cos \\frac{2\\pi t}{L} \\cdot dt = \\frac{4}{L}\\int_{0.5L}^L E(t) \\cdot \\cos \\frac{2\\pi t}{L} \\cdot dt$$"
   ]
  },
  {
   "cell_type": "code",
   "execution_count": 3,
   "id": "2f3eba7f",
   "metadata": {
    "code_folding": [
     0
    ]
   },
   "outputs": [
    {
     "data": {
      "text/plain": [
       "<matplotlib.legend.Legend at 0x7fd971c12700>"
      ]
     },
     "execution_count": 3,
     "metadata": {},
     "output_type": "execute_result"
    },
    {
     "data": {
      "image/png": "[encoded data removed]",
      "text/plain": [
       "<Figure size 936x360 with 1 Axes>"
      ]
     },
     "metadata": {
      "needs_background": "light"
     },
     "output_type": "display_data"
    }
   ],
   "source": [
    "# Fundamental frequency of the rectified waveform.\n",
    "f = 60\n",
    "\n",
    "# Set the index of the Fourier coefficient, denoted as 'n'.\n",
    "n = 2\n",
    "\n",
    "# Create the time domain for the first period of the fully rectified signal, denoted as 'E'.\n",
    "t = np.linspace(0, p, num=200)\n",
    "\n",
    "E_lhs = 15 * np.sin(2*np.pi*f*t[:100])\n",
    "E_rhs = -15 * np.sin(2*np.pi*f*t[100:])\n",
    "E = np.array(E_lhs.tolist() + E_rhs.tolist())\n",
    "\n",
    "y = 15*np.cos(n*2*np.pi*f*t)\n",
    "\n",
    "# Create the figure and axes.\n",
    "fig, ax = plt.subplots(figsize=(13,5))\n",
    "\n",
    "# Set the axes props.\n",
    "ax.set_title('Full-wave Rectification ' + r'$a_' + str(n) +r'$' , size=18)\n",
    "ax.set_xlabel('time (ms)', size=12)\n",
    "ax.set_ylabel('voltage (volts)', size=12)\n",
    "\n",
    "# Plot the data.\n",
    "ax.plot(t*1000, E, label=r'$E(t) | 15$V $60$Hz')\n",
    "ax.plot(t*1000, y, label=r'$15$V$\\cdot\\cos' + str(n*2) +r'\\pi f t$')\n",
    "ax.plot(t*1000, E*y/15, label=r'$E(t)\\cdot\\cos' + str(n*2) +  r'\\pi f t$')\n",
    "ax.legend()"
   ]
  },
  {
   "cell_type": "markdown",
   "id": "611f25d0",
   "metadata": {},
   "source": [
    "Let $\\theta$ be defined as:\n",
    "\n",
    "$$\\theta:=\\theta(t):=\\frac{\\pi t}{L} $$\n",
    "\n",
    "It the follows that:\n",
    "\n",
    "$$Q = 15\\text{V} \\cdot \\sin \\theta \\cdot \\cos 2\\theta$$"
   ]
  },
  {
   "cell_type": "markdown",
   "id": "53266b8d",
   "metadata": {},
   "source": [
    "Now let $U$ be defined as:\n",
    "\n",
    "$$ U:= U(t) := \\int \\sin \\theta \\cdot \\cos 2\\theta \\cdot dt = \\int \\sin \\theta \\cdot(\\cos^2\\theta - \\sin^2\\theta)\\cdot dt$$"
   ]
  },
  {
   "cell_type": "markdown",
   "id": "96f03ef7",
   "metadata": {},
   "source": [
    "$$ U(t) = \\int \\sin\\theta\\cdot\\cos^2\\theta\\cdot dt - \\int \\sin^3\\theta \\cdot dt$$"
   ]
  },
  {
   "cell_type": "markdown",
   "id": "9a44b0cd",
   "metadata": {},
   "source": [
    "Let's start with the first term from left to right.\n",
    "\n",
    "$$ U_1:=U_1(t):= \\int \\sin\\theta \\cdot \\cos^2\\theta \\cdot dt = -\\frac{1}{3\\theta'(t)}\\cos^3\\theta + K_1$$"
   ]
  },
  {
   "cell_type": "markdown",
   "id": "9d03f34f",
   "metadata": {},
   "source": [
    "$$ U_1 = K_1 - \\frac{L}{3\\pi} \\cdot \\cos^3\\frac{\\pi t}{L}$$"
   ]
  },
  {
   "cell_type": "markdown",
   "id": "4d305185",
   "metadata": {},
   "source": [
    "And, now we do the second term.\n",
    "\n",
    "$$U_2:=U_2(t):=\\int \\sin^3\\theta\\cdot dt$$"
   ]
  },
  {
   "cell_type": "markdown",
   "id": "e9f49865",
   "metadata": {},
   "source": [
    "Let $V_1$ be defined as:\n",
    "$$ V_1 := V_1(t):= - \\frac{1}{\\theta'(t)} \\cos \\theta \\sin^2\\theta$$"
   ]
  },
  {
   "cell_type": "markdown",
   "id": "ee7e65e6",
   "metadata": {},
   "source": [
    "$$ V_1'(t) = \\sin^3\\theta - 2\\sin \\theta \\cos^2\\theta$$"
   ]
  },
  {
   "cell_type": "markdown",
   "id": "e745fe6f",
   "metadata": {},
   "source": [
    "Now let $V_2$ be defined as:\n",
    "$$ V_2 := V_2(t) := 2\\cdot\\int\\sin\\theta\\cdot\\cos^2\\theta\\cdot dt$$"
   ]
  },
  {
   "cell_type": "markdown",
   "id": "5f49c005",
   "metadata": {},
   "source": [
    "$$ V_2 = K_2 - \\frac{2}{3\\theta'(t)}\\cos^3\\theta$$"
   ]
  },
  {
   "cell_type": "markdown",
   "id": "43fc7e2a",
   "metadata": {},
   "source": [
    "It now follows that:\n",
    "$$ U_2 = V_1 + V_2$$\n",
    "\n",
    "$$ U_2(t) = K - \\frac{L}{\\pi}\\left( \\cos \\frac{\\pi t}{L} \\cdot \\sin^2\\frac{\\pi t}{L} + \\frac{2}{3}\\cos^3\\frac{\\pi t}{L}\\right)$$"
   ]
  },
  {
   "cell_type": "markdown",
   "id": "313bf7e4",
   "metadata": {},
   "source": [
    "$$ a_2 = \\frac{60}{L} \\cdot \\big(U(0.5L) - U(0)\\big) = \\frac{60}{L}\\big(U(L)-U(0.5L)\\big)$$"
   ]
  },
  {
   "cell_type": "markdown",
   "id": "efc75b1b",
   "metadata": {},
   "source": [
    "Via previous equations,\n",
    "$$ U = U_1 - U_2 = K - \\frac{L}{3\\pi}\\cdot\\cos^3\\frac{\\pi t}{L} + \\frac{L}{\\pi}\\left( \\cos \\frac{\\pi t}{L} \\cdot \\sin^2\\frac{\\pi t}{L} + \\frac{2}{3}\\cos^3\\frac{\\pi t}{L}\\right)$$"
   ]
  },
  {
   "cell_type": "markdown",
   "id": "98d690cd",
   "metadata": {},
   "source": [
    "$$ U(0.5L) = -\\frac{L}{\\pi}(0 +0) =K- 0 = K$$\n",
    "$$ U(0) = K-\\frac{L}{3\\pi}+\\frac{L}{\\pi} \\cdot \\frac{2}{3} = \\frac{L}{3\\pi} + K$$"
   ]
  },
  {
   "cell_type": "markdown",
   "id": "6cde00fd",
   "metadata": {},
   "source": [
    "Thus,\n",
    "$$ a_2 = -\\frac{60}{L}\\cdot\\frac{L}{3\\pi}= -\\frac{20}{\\pi}$$"
   ]
  },
  {
   "cell_type": "code",
   "execution_count": 4,
   "id": "06699322",
   "metadata": {},
   "outputs": [
    {
     "name": "stdout",
     "output_type": "stream",
     "text": [
      "f_2 = 120.00\n",
      "a_2 = -6.37.\n"
     ]
    }
   ],
   "source": [
    "a_2 = -20/np.pi\n",
    "f_2 = f*2\n",
    "print(f'f_2 = {f_2:.2f}\\na_2 = {a_2:.2f}.')"
   ]
  },
  {
   "cell_type": "markdown",
   "id": "79743a37",
   "metadata": {},
   "source": [
    "**When $\\mathbf{n=4}$,**\n",
    "\n",
    "Since, assuming $n$ is even, the curve given by $Q$ is reflectively symmetric about the line given by $t = 0.5L$ within the range $[0,L]$ and $[L,p]$,\n",
    "\n",
    "$$ a_4 = \\frac{4}{L} \\cdot \\int_0^{0.5L} Q \\cdot dt$$\n",
    "\n",
    "Recall that:\n",
    "$$ Q = E(t) \\cdot \\cos \\frac{4\\pi t}{L} = 15 \\text{V}\\cdot \\sin \\frac{\\pi t}{L} \\cdot \\cos \\frac{4 \\pi t}{L} = 15\\text{V} \\cdot \\sin \\theta \\cdot \\cos 4 \\theta$$"
   ]
  },
  {
   "cell_type": "markdown",
   "id": "6cd5e071",
   "metadata": {},
   "source": [
    "Now let $U$ be defined as:\n",
    "\n",
    "$$ U:=U(t):=\\int \\sin \\theta \\cdot \\cos 4\\theta \\cdot dt$$"
   ]
  },
  {
   "cell_type": "markdown",
   "id": "fccdbe55",
   "metadata": {},
   "source": [
    "Via equation (2) in the [Trig Identities](/notebooks/Math/Trigonometry.ipynb) chapter,\n",
    "\n",
    "$$ \\cos 4 \\theta = \\cos(2 \\cdot 2\\theta) = \\cos^2 2\\theta - \\sin^2 2\\theta$$"
   ]
  },
  {
   "cell_type": "markdown",
   "id": "5e858793",
   "metadata": {},
   "source": [
    "Via equation (2) in the aforementioned chapter,\n",
    "\n",
    "\\begin{align*}\n",
    "    \\cos^2 2\\theta &= \\left(\\cos^2 \\theta - \\sin^2 \\theta \\right)^2 \\\\\n",
    "     &= \\cos^4\\theta + \\sin^4\\theta - 2 \\cdot \\cos^2\\theta \\cdot \\sin^2\\theta\n",
    "\\end{align*}     "
   ]
  },
  {
   "cell_type": "markdown",
   "id": "5c4a996c",
   "metadata": {},
   "source": [
    "And, via equation (1) in said chapter,\n",
    "\n",
    "$$ \\sin^2 2\\theta = 4 \\cdot \\sin^2 \\theta \\cdot \\cos^2\\theta$$"
   ]
  },
  {
   "cell_type": "markdown",
   "id": "441615a6",
   "metadata": {},
   "source": [
    "Via the above 3 equations,\n",
    "\n",
    "$$ \\cos 4 \\theta = \\cos^4 \\theta + \\sin^4 \\theta - 6\\cos^2\\theta\\cdot\\sin^2\\theta$$"
   ]
  },
  {
   "cell_type": "markdown",
   "id": "9ac6e176",
   "metadata": {},
   "source": [
    "Thus, \n",
    "$$ U = U(t) = \\int \\sin \\theta \\cdot \\cos^4 \\theta \\cdot dt  +  \\int \\sin^5\\theta \\cdot dt - \\int 6 \\cdot \\cos^2\\theta \\cdot \\sin^3\\theta \\cdot dt$$"
   ]
  },
  {
   "cell_type": "markdown",
   "id": "5a61c75d",
   "metadata": {},
   "source": [
    "Starting with the first term from left to right:\n",
    "\n",
    "$$ U_1:=\\int \\sin \\theta \\cdot \\cos^4 \\theta \\cdot dt = - \\frac{1}{5\\theta'(t)}\\cdot\\cos^5\\theta + K_1$$"
   ]
  },
  {
   "cell_type": "markdown",
   "id": "c74a0b19",
   "metadata": {},
   "source": [
    "The second:\n",
    "$$ U_2:=\\int \\sin^5\\theta \\cdot dt = \\text{???}$$"
   ]
  },
  {
   "cell_type": "markdown",
   "id": "68f2232b",
   "metadata": {},
   "source": [
    "Let $V$ be defined as:\n",
    "$$ V:=V(t):= - \\frac{1}{\\theta'(t)}\\cos \\theta \\sin^4\\theta + V_2(t)+ K_2$$\n",
    "\n",
    "$$ V'(t) = \\sin^5\\theta - 4\\cos^2\\theta\\sin^3\\theta + V_2'(t)$$"
   ]
  },
  {
   "cell_type": "markdown",
   "id": "1912c8c8",
   "metadata": {},
   "source": [
    "It then follows that:\n",
    "$$ V_2:=V_2(t)=4\\int\\cos^2\\theta\\sin^3\\theta\\cdot dt$$"
   ]
  },
  {
   "cell_type": "markdown",
   "id": "e5bc06e8",
   "metadata": {},
   "source": [
    "$$V_2 = -\\frac{4}{3\\theta'(t)}\\cos^3\\theta\\sin^2\\theta  + V_3(t)$$\n",
    "\n",
    "$$V_2'(t) = 4\\cos^2\\theta\\sin^3\\theta - \\frac{8}{3}\\cos^4\\theta\\sin\\theta + V_3'(t)$$"
   ]
  },
  {
   "cell_type": "markdown",
   "id": "9c5135f8",
   "metadata": {},
   "source": [
    "It then follows that:\n",
    "$$ V_3:=V_3(t) = \\frac{8}{3}\\int\\cos^4\\theta\\sin\\theta\\cdot dt $$"
   ]
  },
  {
   "cell_type": "markdown",
   "id": "e0fad1f8",
   "metadata": {},
   "source": [
    "$$ V_3 = - \\frac{8}{15\\theta'(t)} \\cos^5 \\theta$$"
   ]
  },
  {
   "cell_type": "markdown",
   "id": "87b460d9",
   "metadata": {},
   "source": [
    "Thus,\n",
    "$$ U_2 = V = -\\frac{1}{\\theta'(t)}\\left(\\cos \\theta \\sin^4\\theta + \\frac{4}{3}\\cos^3\\theta\\sin^2\\theta + \\frac{8}{15} \\cos^5\\theta + K_2 \\right)$$"
   ]
  },
  {
   "cell_type": "markdown",
   "id": "2cd12b5a",
   "metadata": {},
   "source": [
    "Finally, for the third term of the identity of $U$, via the solution for $V_2$ and dividing throughout by $4$,\n",
    "\n",
    "$$ \\frac{1}{4}V_2 = \\int\\cos^2\\theta\\sin^3\\theta \\cdot dt = -\\frac{1}{\\theta'(t)}\\left( \\frac{1}{3}\\cos^3\\theta\\sin^2\\theta + \\frac{2}{15}\\cos^5\\theta \\right)$$"
   ]
  },
  {
   "cell_type": "markdown",
   "id": "659de5d2",
   "metadata": {},
   "source": [
    "Thus,\n",
    "$$ U_3:=6\\int\\cos^2\\theta\\sin^3\\theta\\cdot dt = -\\frac{2}{\\theta'(t)}\\left( \\cos^3\\theta\\sin^2\\theta + \\frac{2}{5}\\cos^5\\theta \\right) + K_3$$"
   ]
  },
  {
   "cell_type": "markdown",
   "id": "3247b3d7",
   "metadata": {},
   "source": [
    "Now, recall that:\n",
    "$$ \\theta(t) = \\frac{\\pi t}{L}$$\n",
    "\n",
    "$$ \\theta'(t) = \\frac{\\pi}{L}$$"
   ]
  },
  {
   "cell_type": "markdown",
   "id": "7fa51ce6",
   "metadata": {},
   "source": [
    "It then follows that:\n",
    "\n",
    "\\begin{align*}\n",
    "    U &= U_1 + U_2 - U_3 \\\\\n",
    "     &= K-\\frac{L}{\\pi}\\left(\\cos\\theta\\sin^4\\theta-\\frac{2}{3}\\cos^3\\theta\\sin\\theta - \\frac{1}{15}\\cos^5\\theta  \\right)\n",
    "\\end{align*}"
   ]
  },
  {
   "cell_type": "markdown",
   "id": "c4668656",
   "metadata": {},
   "source": [
    "where $K\\in\\mathbb{R}$ is an arbitrary constant that could be, but doesn't need to be, solved for with some initial value or boundary problem."
   ]
  },
  {
   "cell_type": "markdown",
   "id": "488a7ec8",
   "metadata": {},
   "source": [
    "\\begin{align*}\n",
    "    a_4 &= \\frac{4}{L}\\int_0^{0.5L}E(t)\\cos4\\theta \\cdot dt \\\\ \\\\\n",
    "     &= \\frac{60}{L} \\big(U(0.5L) - U(0)\\big)\n",
    "\\end{align*}"
   ]
  },
  {
   "cell_type": "markdown",
   "id": "27f5b8c6",
   "metadata": {},
   "source": [
    "To ease the computational burden, note that any term in the definition of $U(t)$ with both $\\sin\\theta$ and $\\cos\\theta$ as a factor will evaluate to zero when either $0$, $0.5L$, or any whole multiple of $0.5L$ is passed as an argument to $U(t)$.  Let $u(t)$ be defined as:\n",
    "\n",
    "$$ u(t):= \\frac{L}{15\\pi}\\cos^5\\frac{\\pi t}{L} $$"
   ]
  },
  {
   "cell_type": "markdown",
   "id": "b1a1ed91",
   "metadata": {},
   "source": [
    "It then follows that:\n",
    "\n",
    "$$ a_4 = \\frac{60}{L} \\big(u(0.5L) - u(0)\\big) = \\frac{4}{\\pi}\\left(\\cos^50.5\\pi - \\cos^5 0\\right)$$"
   ]
  },
  {
   "cell_type": "markdown",
   "id": "45141a06",
   "metadata": {},
   "source": [
    "Finally,\n",
    "$$ a_4 = - \\frac{4}{\\pi}$$"
   ]
  },
  {
   "cell_type": "code",
   "execution_count": 5,
   "id": "47413892",
   "metadata": {},
   "outputs": [
    {
     "name": "stdout",
     "output_type": "stream",
     "text": [
      "a_4 = -1.27\n",
      "f_4 = 240.00\n"
     ]
    }
   ],
   "source": [
    "a_4 = -4/np.pi\n",
    "f_4 = f*4\n",
    "print(f'a_4 = {a_4:.2f}\\nf_4 = {f_4:.2f}')"
   ]
  },
  {
   "cell_type": "markdown",
   "id": "ff17ac01",
   "metadata": {},
   "source": [
    "**When $n$ is odd**.\n",
    "\n",
    "$$ a_n = 0 \\quad \\text{for all odd } n \\text{.}$$"
   ]
  },
  {
   "cell_type": "markdown",
   "id": "7de8f9e6",
   "metadata": {},
   "source": [
    "This is because the curve given by $Q$, when $n$ is odd, is reflectively symmetric about the time axis and the vertical line given by $t=0.5L$ within the range of the integral, $[0, L]$, which implies that:\n",
    "\n",
    "$$ \\int_0^{0.5L} Q \\cdot dt = - \\int_{0.5L}^L Q \\cdot dt$$"
   ]
  },
  {
   "cell_type": "markdown",
   "id": "420d7982",
   "metadata": {},
   "source": [
    "And, of course, assuming $n$ is odd,\n",
    "$$ a_n = \\frac{2}{L} \\int_0^L Q \\cdot dt = \\frac{2}{L} \\left(\\int_0^{0.5L}Q \\cdot dt + \\int_{0.5L}^L Q \\cdot dt \\right) = 0$$"
   ]
  },
  {
   "cell_type": "code",
   "execution_count": 35,
   "id": "9815019d",
   "metadata": {
    "code_folding": [
     0
    ]
   },
   "outputs": [
    {
     "data": {
      "text/plain": [
       "<matplotlib.legend.Legend at 0x7f1774c08130>"
      ]
     },
     "execution_count": 35,
     "metadata": {},
     "output_type": "execute_result"
    },
    {
     "data": {
      "image/png": "[encoded data removed]",
      "text/plain": [
       "<Figure size 936x360 with 1 Axes>"
      ]
     },
     "metadata": {
      "needs_background": "light"
     },
     "output_type": "display_data"
    }
   ],
   "source": [
    "# Define the trig function of the integrand.\n",
    "n = 3\n",
    "y = 15*np.cos(n*2*np.pi*f*t)\n",
    "\n",
    "# Create the figure and axes.\n",
    "fig, ax = plt.subplots(figsize=(13,5))\n",
    "\n",
    "# Set the axes props.\n",
    "ax.set_title('Full-wave Rectification ' + r'$a_' + str(n) + r'$' , size=18)\n",
    "ax.set_xlabel('time (ms)', size=12)\n",
    "ax.set_ylabel('voltage (volts)', size=12)\n",
    "\n",
    "# Plot the data.\n",
    "ax.plot(t*1000, E, label=r'$E(t) | 15$V $60$Hz')\n",
    "ax.plot(t*1000, y, label=r'$15$V$\\cdot\\cos' +  str(n*2)+ r'\\pi f t$')\n",
    "ax.plot(t*1000, E*y/15, label=r'$E(t)\\cdot\\cos' + str(n*2) + r'pi f t$')\n",
    "ax.legend()"
   ]
  },
  {
   "cell_type": "markdown",
   "id": "946c7126",
   "metadata": {},
   "source": [
    "**Now we will find the $b_n$ coefficients**."
   ]
  },
  {
   "cell_type": "markdown",
   "id": "15eafcc5",
   "metadata": {},
   "source": [
    "**When $n$ is odd,**"
   ]
  },
  {
   "cell_type": "markdown",
   "id": "70747c3e",
   "metadata": {},
   "source": [
    "$$b_n = 0 \\quad \\text{for all odd } n \\text{.}$$"
   ]
  },
  {
   "cell_type": "markdown",
   "id": "1f56ffc0",
   "metadata": {},
   "source": [
    "This is because, when $n$ is odd, the curve given by the integrand, denoted as '$Q$', of the integral found in the identity of $b_n$ is reflectively symmetric about the vertical line given by $t=L$ and about the time axis within the range of the aforementioned integral, $[0,p]$, implying that:\n",
    "\n",
    "$$ \\int_0^L Q \\cdot dt = -\\int_L^p Q \\cdot dt$$"
   ]
  },
  {
   "cell_type": "markdown",
   "id": "e623b499",
   "metadata": {},
   "source": [
    "And, of course, assuming $n$ is odd,\n",
    "\n",
    "$$ b_n = \\frac{1}{L}\\int_0^p Q \\cdot dt = \\frac{1}{L}\\left(\\int_0^L Q \\cdot dt + \\int_L^p Q \\cdot dt \\right) = 0$$"
   ]
  },
  {
   "cell_type": "code",
   "execution_count": 28,
   "id": "938959cb",
   "metadata": {
    "code_folding": []
   },
   "outputs": [
    {
     "data": {
      "text/plain": [
       "<matplotlib.legend.Legend at 0x7f1775699220>"
      ]
     },
     "execution_count": 28,
     "metadata": {},
     "output_type": "execute_result"
    },
    {
     "data": {
      "image/png": "[encoded data removed]",
      "text/plain": [
       "<Figure size 936x360 with 1 Axes>"
      ]
     },
     "metadata": {
      "needs_background": "light"
     },
     "output_type": "display_data"
    }
   ],
   "source": [
    "# Define the trig function of the integrand.\n",
    "y = 15*np.sin(6*np.pi*f*t)\n",
    "\n",
    "# Create the figure and axes.\n",
    "fig, ax = plt.subplots(figsize=(13,5))\n",
    "\n",
    "# Set the axes props.\n",
    "ax.set_title('Full-wave Rectification ' + r'$b_3$' , size=18)\n",
    "ax.set_xlabel('time (ms)', size=12)\n",
    "ax.set_ylabel('voltage (volts)', size=12)\n",
    "xticks = np.linspace(0.0, p, num=7)*1000\n",
    "ax.set_xticks(xticks)\n",
    "ax.grid()\n",
    "\n",
    "# Plot the data.\n",
    "ax.plot(t*1000, E, label=r'$E(t) | 15$V $60$Hz')\n",
    "ax.plot(t*1000, y, label=r'$15$V$\\cdot\\sin 6\\pi f t$')\n",
    "ax.plot(t*1000, E*y/15, label=r'$E(t)\\cdot\\sin 6\\pi f t$')\n",
    "ax.legend()"
   ]
  },
  {
   "cell_type": "markdown",
   "id": "ca71d38d",
   "metadata": {},
   "source": [
    "**When $n$ is even.**"
   ]
  },
  {
   "cell_type": "markdown",
   "id": "dc1f33af",
   "metadata": {},
   "source": [
    "Since the curve given by $Q$ is reflectively symmetric around the vertical line given by $t=L$, which is the midpoint of the range of the integral, when $n$ is even,\n",
    "\n",
    "$$ b_n = \\frac{2}{L}\\int_0^L E(t) \\cdot \\sin \\frac{n\\pi t}{L} \\cdot dt\\quad\\text{for all even } n \\text{.}$$"
   ]
  },
  {
   "cell_type": "markdown",
   "id": "fdd7a57a",
   "metadata": {},
   "source": [
    "**When $\\mathbf{n=2}$,**"
   ]
  },
  {
   "cell_type": "markdown",
   "id": "f7c27c2c",
   "metadata": {},
   "source": [
    "Let $\\theta$ be defined as:\n",
    "$$ \\theta := \\theta(t) := \\frac{\\pi t}{L}$$"
   ]
  },
  {
   "cell_type": "markdown",
   "id": "288b489f",
   "metadata": {},
   "source": [
    "$$b_2 = \\frac{30}{L}\\cdot\\int_0^L \\sin \\theta \\cdot \\sin 2 \\theta \\cdot dt$$"
   ]
  },
  {
   "cell_type": "markdown",
   "id": "0b2c4f65",
   "metadata": {},
   "source": [
    "Let $U$ be defined as:"
   ]
  },
  {
   "cell_type": "markdown",
   "id": "b6c9c509",
   "metadata": {},
   "source": [
    "$$U:= U(t) := \\int \\sin \\theta \\cdot \\sin 2 \\theta \\cdot dt = 2\\int \\sin^2\\theta \\cdot \\cos \\theta \\cdot dt$$"
   ]
  },
  {
   "cell_type": "markdown",
   "id": "b0bb7d62",
   "metadata": {},
   "source": [
    "It the follows that:\n",
    "\n",
    "$$ b_2 = \\frac{30}{L}\\big(U(L) - U(0)\\big)$$"
   ]
  },
  {
   "cell_type": "markdown",
   "id": "4e92a8fc",
   "metadata": {},
   "source": [
    "But to find $b_2$ we must first find the primitive integral that defines $U(t)$.\n",
    "\n",
    "$$ U(t) = \\frac{1}{3\\theta'(t)} \\cdot \\sin^3\\theta + K$$"
   ]
  },
  {
   "cell_type": "markdown",
   "id": "0f793b4a",
   "metadata": {},
   "source": [
    "$$ \\theta'(t) = \\frac{\\pi}{L}$$"
   ]
  },
  {
   "cell_type": "markdown",
   "id": "646fa0a0",
   "metadata": {},
   "source": [
    "Thus,\n",
    "$$ U(t) = \\frac{L}{3\\pi} \\cdot \\sin^3 \\frac{\\pi t}{L} + K$$"
   ]
  },
  {
   "cell_type": "markdown",
   "id": "2fb0ed59",
   "metadata": {},
   "source": [
    "And now we can find $b_2$.\n",
    "\n",
    "$$b_2 = \\frac{30}{L}(0 - 0) = 0 $$"
   ]
  },
  {
   "cell_type": "markdown",
   "id": "bb5430ee",
   "metadata": {},
   "source": [
    "### Plotting the Fourier Series\n",
    "\n",
    "Below is a code cell that plots the Fourier Series of $E(t)$.  Note that this only contains the second and fourth harmonic, which are the two most significant ones."
   ]
  },
  {
   "cell_type": "code",
   "execution_count": 8,
   "id": "1bbc713a",
   "metadata": {
    "code_folding": [
     0
    ]
   },
   "outputs": [
    {
     "data": {
      "text/plain": [
       "<matplotlib.legend.Legend at 0x7fd97010d670>"
      ]
     },
     "execution_count": 8,
     "metadata": {},
     "output_type": "execute_result"
    },
    {
     "data": {
      "image/png": "[encoded data removed]",
      "text/plain": [
       "<Figure size 936x360 with 1 Axes>"
      ]
     },
     "metadata": {
      "needs_background": "light"
     },
     "output_type": "display_data"
    }
   ],
   "source": [
    "# Define the Fourier Series of 'E', denoted as 'f'.\n",
    "\n",
    "f = 0.5*a_0 + a_2*np.cos(f_2*2*np.pi*t) + a_4*np.cos(f_4*2*np.pi*t)\n",
    "\n",
    "# Create the figure and axes.\n",
    "fig, ax = plt.subplots(figsize=(13,5))\n",
    "\n",
    "# Set the axes props.\n",
    "ax.set_title('Full-wave Fourier Series', size=18)\n",
    "ax.set_xlabel('time (ms)', size=12)\n",
    "ax.set_ylabel('voltage (V)', size=12)\n",
    "\n",
    "# Plot the data given by 'f'.\n",
    "ax.plot(t*1000, f, label=r'Fourier Series of $E(t)$')\n",
    "ax.plot(t*1000, E, label=r'$E(t)$')\n",
    "ax.legend()"
   ]
  },
  {
   "cell_type": "markdown",
   "id": "66cf957b",
   "metadata": {},
   "source": [
    "As one should be able to observe, the Fourier Series of $E(t)$ closely approximates the actual waveform with only the two most significant harmonic terms, the second and fourth."
   ]
  }
 ],
 "metadata": {
  "kernelspec": {
   "display_name": "Python 3",
   "language": "python",
   "name": "python3"
  },
  "language_info": {
   "codemirror_mode": {
    "name": "ipython",
    "version": 3
   },
   "file_extension": ".py",
   "mimetype": "text/x-python",
   "name": "python",
   "nbconvert_exporter": "python",
   "pygments_lexer": "ipython3",
   "version": "3.8.10"
  }
 },
 "nbformat": 4,
 "nbformat_minor": 5
}
