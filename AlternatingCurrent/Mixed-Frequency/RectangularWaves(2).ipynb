{
 "cells": [
  {
   "cell_type": "markdown",
   "id": "8a388d9c",
   "metadata": {},
   "source": [
    "### Fourier Series\n",
    "\n",
    "The Fourier Series that gives the voltage running accross the circuit at any point in time ($t$) is given by:"
   ]
  },
  {
   "cell_type": "markdown",
   "id": "43a01636",
   "metadata": {},
   "source": [
    "$$ f(t) = \\frac{a_0}{2} + \\sum_{n=1}^{\\infty} b_n \\, \\sin \\frac{n \\pi t}{L}$$"
   ]
  },
  {
   "cell_type": "markdown",
   "id": "81340271",
   "metadata": {},
   "source": [
    "Where\n",
    "$$ a_0 = \\frac{1}{L}\\int_0^p f(t) \\, \\mathrm{d}t =\\frac{1}{L} \\int_0^L f(t)\\,\\mathrm{d}t = 9 \\mathrm{V}$$"
   ]
  },
  {
   "cell_type": "markdown",
   "id": "b7acc9e9",
   "metadata": {},
   "source": [
    "and,\n",
    "$$ b_n = \\frac{1}{L}\\int_0^L f(t) \\, \\sin \\frac{n \\pi t}{L} \\, \\mathrm{d}t$$"
   ]
  },
  {
   "cell_type": "markdown",
   "id": "f064a16b",
   "metadata": {},
   "source": [
    "Note that all of the $a_n$ coefficients are equal to zero."
   ]
  },
  {
   "cell_type": "markdown",
   "id": "94e5567a",
   "metadata": {},
   "source": [
    "When $n$ is even, $b_n = 0$."
   ]
  },
  {
   "cell_type": "markdown",
   "id": "6e554b45",
   "metadata": {},
   "source": [
    "And, $f(t)$ is equal to the magnitude or amplitude -- $E = 9\\mathrm{V}$ -- of the voltage signal throughout the range of the integral in the identity of $b_n$, which is $[0, L]$.  Thus,"
   ]
  },
  {
   "cell_type": "markdown",
   "id": "f0e96ee1",
   "metadata": {},
   "source": [
    "$$ b_n = \\frac{E}{L}\\int_0^L \\sin \\frac{n \\pi t}{L} \\, \\mathrm{d}t$$"
   ]
  },
  {
   "cell_type": "markdown",
   "id": "dafa119c",
   "metadata": {},
   "source": [
    "To find the integral in the above equation for any $n$, we first need to find the primitive integral."
   ]
  },
  {
   "cell_type": "markdown",
   "id": "39afadc7",
   "metadata": {},
   "source": [
    "$$ g(t) := \\int \\sin \\frac{n \\pi t}{L} \\, \\mathrm{d}t$$"
   ]
  },
  {
   "cell_type": "markdown",
   "id": "db03e010",
   "metadata": {},
   "source": [
    "$$ g(t) = - \\frac{L}{n\\pi} \\, \\cos \\frac{n\\pi t}{L} + K$$"
   ]
  },
  {
   "cell_type": "markdown",
   "id": "14d772ef",
   "metadata": {},
   "source": [
    "Some relevant generalizations:"
   ]
  },
  {
   "cell_type": "markdown",
   "id": "9d91c327",
   "metadata": {},
   "source": [
    "$$ g(0) = K - \\frac{L}{n\\pi}$$"
   ]
  },
  {
   "cell_type": "markdown",
   "id": "485d9d5f",
   "metadata": {},
   "source": [
    "$$ g(L) = \\frac{L}{n \\pi} + K \\quad \\text{where }n\\text{ is odd.}$$"
   ]
  },
  {
   "cell_type": "markdown",
   "id": "830f9e54",
   "metadata": {},
   "source": [
    "Finally,"
   ]
  },
  {
   "cell_type": "markdown",
   "id": "8cc65929",
   "metadata": {},
   "source": [
    "$$ b_n = \\frac{E}{L} \\big(g(L)-g(0) \\big) = 2\\frac{E}{L} \\, \\frac{L}{n\\pi} = \\frac{2E}{n\\pi} \\quad \\text{where }n\\text{ is odd.}$$"
   ]
  },
  {
   "cell_type": "markdown",
   "id": "c6489305",
   "metadata": {},
   "source": [
    "**When $n=1$:**"
   ]
  },
  {
   "cell_type": "markdown",
   "id": "27986f46",
   "metadata": {},
   "source": [
    "$$ b_1 = $$"
   ]
  },
  {
   "cell_type": "markdown",
   "id": "7f5cecea",
   "metadata": {},
   "source": [
    "### Example\n",
    "\n",
    "For an example, suppose that $a=b=20\\mathrm{ms}$.  It then follows that:  \n",
    "\n",
    "$$ L = a = b = 20\\mathrm{ms} = 0.02\\mathrm{s}$$\n",
    "\n",
    "and,\n",
    "$$ p = 2a = 40\\mathrm{ms} = 0.04\\mathrm{s}$$"
   ]
  },
  {
   "cell_type": "code",
   "execution_count": 1,
   "id": "c06eda59",
   "metadata": {},
   "outputs": [],
   "source": [
    "import numpy as np\n",
    "import matplotlib.pyplot as plt"
   ]
  },
  {
   "cell_type": "code",
   "execution_count": 3,
   "id": "5d9788d9",
   "metadata": {},
   "outputs": [],
   "source": [
    "# Here we plot four cycles of our square wave.\n",
    "p = 0.04\n",
    "cycles = 4\n",
    "mag_E = 9\n",
    "\n",
    "# Create the time domain.\n",
    "t = np.linspace(0, cycles*p, num=200)\n",
    "\n",
    "\"\"\"Now we get the period and half-period in terms of the index, denoted as 'i', of each time value instead of \n",
    "in terms of seconds.\"\"\"\n",
    "p = len(t)/cycles\n",
    "L = p/2\n",
    "\n",
    "# Generate the voltage (E) domain, which is the codomain of the function being plotted.\n",
    "E = []\n",
    "for c in range(cycles):\n",
    "    E.extend([mag_E for i in range(int(L))])\n",
    "    E.extend([0 for i in range(int(L))])"
   ]
  },
  {
   "cell_type": "code",
   "execution_count": 6,
   "id": "f67cada0",
   "metadata": {},
   "outputs": [
    {
     "data": {
      "text/plain": [
       "[<matplotlib.lines.Line2D at 0x7f85e9d3e2b0>]"
      ]
     },
     "execution_count": 6,
     "metadata": {},
     "output_type": "execute_result"
    },
    {
     "data": {
      "image/png": "[encoded data removed]",
      "text/plain": [
       "<Figure size 936x360 with 1 Axes>"
      ]
     },
     "metadata": {
      "needs_background": "light"
     },
     "output_type": "display_data"
    }
   ],
   "source": [
    "# Create figure and axes objects.\n",
    "fig, ax = plt.subplots(figsize=(13, 5))\n",
    "ax.set_title('Square Wave', size=14)\n",
    "ax.set_xlabel('time (ms)')\n",
    "ax.set_ylabel('voltage (V)')\n",
    "\n",
    "# Plot data given by the function outlined in the cell above this one.\n",
    "ax.plot(t*1000, E)"
   ]
  }
 ],
 "metadata": {
  "kernelspec": {
   "display_name": "Python 3",
   "language": "python",
   "name": "python3"
  },
  "language_info": {
   "codemirror_mode": {
    "name": "ipython",
    "version": 3
   },
   "file_extension": ".py",
   "mimetype": "text/x-python",
   "name": "python",
   "nbconvert_exporter": "python",
   "pygments_lexer": "ipython3",
   "version": "3.8.10"
  }
 },
 "nbformat": 4,
 "nbformat_minor": 5
}
