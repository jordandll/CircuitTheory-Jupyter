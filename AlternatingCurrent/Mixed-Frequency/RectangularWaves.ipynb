{
 "cells": [
  {
   "cell_type": "markdown",
   "id": "8ff08778",
   "metadata": {},
   "source": [
    "# Rectangular Waves\n",
    "\n",
    "Suppose we were to pulse (periodically turn on and off) a 9 volt battery by periodically closing the circuit it is attached to for $a$ seconds and then opening the circuit for $b$ seconds."
   ]
  },
  {
   "cell_type": "markdown",
   "id": "98c700c7",
   "metadata": {},
   "source": [
    "The voltage waveform created by doing this will have an amplitude of $9$ volts and a period, denoted as '$p$', given by:  \n",
    "\n",
    "$$ p = a + b = 2L = \\frac{1}{f}$$"
   ]
  },
  {
   "cell_type": "markdown",
   "id": "51930e88",
   "metadata": {},
   "source": [
    "The frequency ($f$) is of course given by:\n",
    "$$ f = \\frac{1}{p} = \\frac{1}{2L}$$"
   ]
  },
  {
   "cell_type": "markdown",
   "id": "0f180f31",
   "metadata": {},
   "source": [
    "## Square Waves\n",
    "\n",
    "Assuming $a=b$, our waveform has a duty cycle of $50\\mathrm{\\%}$ and is a square wave."
   ]
  },
  {
   "cell_type": "markdown",
   "id": "d128b90b",
   "metadata": {},
   "source": [
    "### Fourier Series\n",
    "\n",
    "The Fourier Series that gives the voltage running accross the circuit at any point in time ($t$) is given by:"
   ]
  },
  {
   "cell_type": "markdown",
   "id": "43a01636",
   "metadata": {},
   "source": [
    "$$ \\mathrm{f}(t) = \\frac{a_0}{2} + \\sum_{n=1}^{\\infty} b_n \\, \\sin \\frac{n \\pi t}{L}$$"
   ]
  },
  {
   "cell_type": "markdown",
   "id": "81340271",
   "metadata": {},
   "source": [
    "Where\n",
    "$$ a_0 = \\frac{1}{L}\\int_0^p \\mathrm{f}(t) \\, \\mathrm{d}t =\\frac{1}{L} \\int_0^L \\mathrm{f}(t)\\,\\mathrm{d}t = 9 \\mathrm{V}$$"
   ]
  },
  {
   "cell_type": "markdown",
   "id": "b7acc9e9",
   "metadata": {},
   "source": [
    "and,\n",
    "$$ b_n = \\frac{1}{L}\\int_0^L \\mathrm{f}(t) \\, \\sin \\frac{n \\pi t}{L} \\, \\mathrm{d}t$$"
   ]
  },
  {
   "cell_type": "markdown",
   "id": "f064a16b",
   "metadata": {},
   "source": [
    "Note that all of the $a_n$ coefficients are equal to zero."
   ]
  },
  {
   "cell_type": "markdown",
   "id": "531b69f1",
   "metadata": {},
   "source": [
    "The **dc component** ($a_0$) is given by:  \n",
    "\n",
    "$$ a_0 = \\frac{1}{L}\\int_0^p \\mathrm{f}(t)\\,\\mathrm{d}t = E = 9\\mathrm{V}$$"
   ]
  },
  {
   "cell_type": "markdown",
   "id": "94e5567a",
   "metadata": {},
   "source": [
    "When $n$ is even, $b_n = 0$."
   ]
  },
  {
   "cell_type": "markdown",
   "id": "6e554b45",
   "metadata": {},
   "source": [
    "And, $\\mathrm{f}(t)$ is equal to the magnitude or amplitude -- $E = 9\\mathrm{V}$ -- of the voltage signal throughout the range of the integral in the identity of $b_n$, which is $[0, L]$.  Thus,"
   ]
  },
  {
   "cell_type": "markdown",
   "id": "f0e96ee1",
   "metadata": {},
   "source": [
    "$$ b_n = \\frac{E}{L}\\int_0^L \\sin \\frac{n \\pi t}{L} \\, \\mathrm{d}t$$"
   ]
  },
  {
   "cell_type": "markdown",
   "id": "dafa119c",
   "metadata": {},
   "source": [
    "To find the integral in the above equation for any $n$, we first need to find the primitive integral."
   ]
  },
  {
   "cell_type": "markdown",
   "id": "39afadc7",
   "metadata": {},
   "source": [
    "$$ g(t) := \\int \\sin \\frac{n \\pi t}{L} \\, \\mathrm{d}t$$"
   ]
  },
  {
   "cell_type": "markdown",
   "id": "db03e010",
   "metadata": {},
   "source": [
    "$$ g(t) = - \\frac{L}{n\\pi} \\, \\cos \\frac{n\\pi t}{L} + K$$"
   ]
  },
  {
   "cell_type": "markdown",
   "id": "14d772ef",
   "metadata": {},
   "source": [
    "Some relevant generalizations:"
   ]
  },
  {
   "cell_type": "markdown",
   "id": "9d91c327",
   "metadata": {},
   "source": [
    "$$ g(0) = K - \\frac{L}{n\\pi}$$"
   ]
  },
  {
   "cell_type": "markdown",
   "id": "485d9d5f",
   "metadata": {},
   "source": [
    "$$ g(L) = \\frac{L}{n \\pi} + K \\quad \\text{where }n\\text{ is odd.}$$"
   ]
  },
  {
   "cell_type": "markdown",
   "id": "830f9e54",
   "metadata": {},
   "source": [
    "Finally,"
   ]
  },
  {
   "cell_type": "markdown",
   "id": "8cc65929",
   "metadata": {},
   "source": [
    "$$ b_n = \\frac{E}{L} \\big(g(L)-g(0) \\big) = 2\\frac{E}{L} \\, \\frac{L}{n\\pi} = \\frac{2E}{n\\pi} \\quad \\text{where }n\\text{ is odd.}$$"
   ]
  },
  {
   "cell_type": "markdown",
   "id": "c6489305",
   "metadata": {},
   "source": [
    "**Parametric Approximation:**"
   ]
  },
  {
   "cell_type": "markdown",
   "id": "22ed8d7d",
   "metadata": {},
   "source": [
    "Below is a function that approximates the square wave using every odd numbered harmonic up to, but not including, $m$."
   ]
  },
  {
   "cell_type": "markdown",
   "id": "27986f46",
   "metadata": {},
   "source": [
    "$$ \\mathrm{f}(t \\vert m) = \\frac{E}{2} + \\frac{2E}{\\pi}\\,\\sum_{n\\in M} \\frac{1}{n}\\,\\sin\\frac{n\\pi t}{L}$$"
   ]
  },
  {
   "cell_type": "markdown",
   "id": "133a8069",
   "metadata": {},
   "source": [
    "Here,  \n",
    "\n",
    "$$ M := \\{i \\in \\mathbb{N}\\,:\\,i < m \\,\\text{ and }\\,i\\equiv 1 \\;\\mathrm{ mod } \\;2 \\}$$"
   ]
  },
  {
   "cell_type": "markdown",
   "id": "1801d5ba",
   "metadata": {},
   "source": [
    "To get the half-period ($L$) from the frequency ($f$) use the following equation:  \n",
    "\n",
    "$$ p = 2L = \\frac{1}{f}$$"
   ]
  },
  {
   "cell_type": "markdown",
   "id": "b9f76ca9",
   "metadata": {},
   "source": [
    "$$ L = \\frac{1}{2f}$$"
   ]
  },
  {
   "cell_type": "markdown",
   "id": "d2003eeb",
   "metadata": {},
   "source": [
    "Thus,  \n",
    "\n",
    "$$ \\mathrm{f}(t \\vert m) = \\frac{E}{2} + \\frac{2E}{\\pi}\\,\\sum_{n\\in M}\\frac{1}{n}\\,\\sin \\big(n \\cdot 2\\pi f t\\big)$$"
   ]
  },
  {
   "cell_type": "markdown",
   "id": "9a9a565a",
   "metadata": {},
   "source": [
    "And, considering the angular velocity ($\\omega$) is given by $\\omega = 2\\pi f$,  \n",
    "\n",
    "$$ \\mathrm{f}(t \\vert m) = \\frac{E}{2} + \\frac{2E}{\\pi}\\,\\sum_{n\\in M} \\frac{1}{n}\\,\\sin\\big(n \\, \\omega t\\big)$$"
   ]
  },
  {
   "cell_type": "code",
   "execution_count": 5,
   "id": "c06eda59",
   "metadata": {},
   "outputs": [],
   "source": [
    "import numpy as np\n",
    "import matplotlib.pyplot as plt"
   ]
  },
  {
   "cell_type": "code",
   "execution_count": 6,
   "id": "306b2b1f",
   "metadata": {
    "code_folding": []
   },
   "outputs": [],
   "source": [
    "# Parametric Approximation\n",
    "\n",
    "def F(m: int, E = 9.0, f = 25.0):\n",
    "    \"\"\"This is a lambda (parametric) function that returns a function that \n",
    "    approximates the square wave using every odd numbered harmonic up to 'm'.\n",
    "    Parameters:\n",
    "        E:  The magnitude or amplitude of the waveform;\n",
    "        f:  The frequency.\"\"\"\n",
    "    \n",
    "    # The angular velocity, denoted as 'w', of the waveform.\n",
    "    w = 2*np.pi *f\n",
    "    \n",
    "    from math import sin\n",
    "    \n",
    "    return lambda t: E*(0.5 + 2/np.pi * sum((1/n * sin(n*w*t) for n in range(1, m, 2))))"
   ]
  },
  {
   "cell_type": "markdown",
   "id": "492ed579",
   "metadata": {},
   "source": [
    "### Temporal Phase Shift\n",
    "\n",
    "Now suppose we wanted to approximate the square wave given when the circuit is *off* for the first half of every period and is on for the second half."
   ]
  },
  {
   "cell_type": "markdown",
   "id": "7cee9522",
   "metadata": {},
   "source": [
    "The Fourier Series that approximates the waveform under these conditions is given by:  \n",
    "\n",
    "$$ \\mathrm{f}(t) = \\mathrm{f}(t \\pm L)$$"
   ]
  },
  {
   "cell_type": "markdown",
   "id": "940e2a3e",
   "metadata": {},
   "source": [
    "Basically, the new wave is equal to the old wave shifted along the time axis in the positive or negative direction by a half-period ($L$)."
   ]
  },
  {
   "cell_type": "markdown",
   "id": "7f5cecea",
   "metadata": {},
   "source": [
    "### Example\n",
    "\n",
    "For an example, suppose that $a=b=20\\mathrm{ms}$.  It then follows that:  \n",
    "\n",
    "$$ L = a = b = 20\\mathrm{ms} = 0.02\\mathrm{s}$$\n",
    "\n",
    "and,\n",
    "$$ p = 2a = 40\\mathrm{ms} = 0.04\\mathrm{s}$$"
   ]
  },
  {
   "cell_type": "code",
   "execution_count": 7,
   "id": "5d9788d9",
   "metadata": {
    "code_folding": [
     13
    ]
   },
   "outputs": [],
   "source": [
    "# Here we plot four cycles of our square wave.\n",
    "p = 0.04\n",
    "cycles = 4\n",
    "mag_E = 9\n",
    "\n",
    "# Create the time domain.\n",
    "t = np.linspace(0, cycles*p, num=200)\n",
    "\n",
    "\"\"\"Now we get the period and half-period in terms of the index, denoted as 'i', of each time value instead of \n",
    "in terms of seconds.\"\"\"\n",
    "p = len(t)/cycles\n",
    "L = p/2\n",
    "\n",
    "\"\"\"Generate the voltage (E) values given by the function that says that:\n",
    "    E = mag_E throughout the first half of every period or cycle;\n",
    "    And E = 0 throughout the second half of every period.\"\"\"\n",
    "\n",
    "E = []\n",
    "for c in range(cycles):\n",
    "    E.extend([mag_E for i in range(int(L))])\n",
    "    E.extend([0 for i in range(int(L))])"
   ]
  },
  {
   "cell_type": "code",
   "execution_count": 8,
   "id": "f67cada0",
   "metadata": {
    "code_folding": []
   },
   "outputs": [
    {
     "data": {
      "text/plain": [
       "[<matplotlib.lines.Line2D at 0x7fe97f876940>]"
      ]
     },
     "execution_count": 8,
     "metadata": {},
     "output_type": "execute_result"
    },
    {
     "data": {
      "image/png": "[encoded data removed]",
      "text/plain": [
       "<Figure size 936x360 with 1 Axes>"
      ]
     },
     "metadata": {
      "needs_background": "light"
     },
     "output_type": "display_data"
    }
   ],
   "source": [
    "# Create figure and axes objects.\n",
    "fig, ax = plt.subplots(figsize=(13, 5))\n",
    "ax.set_title('Square Wave', size=14)\n",
    "ax.set_xlabel('time (ms)')\n",
    "ax.set_ylabel('voltage (V)')\n",
    "ax.set_yticks([y for y in range(1, 10, 2)])\n",
    "\n",
    "# Plot the square wave given by the function outlined in the cell above this one.\n",
    "ax.plot(t*1000, E)"
   ]
  },
  {
   "cell_type": "code",
   "execution_count": 9,
   "id": "190653d8",
   "metadata": {},
   "outputs": [
    {
     "data": {
      "image/png": "[encoded data removed]",
      "text/plain": [
       "<Figure size 936x360 with 1 Axes>"
      ]
     },
     "execution_count": 9,
     "metadata": {},
     "output_type": "execute_result"
    }
   ],
   "source": [
    "L = 20.0\n",
    "ax.set_xlabel('time')\n",
    "ax.set_xticks([L*i for i in range(cycles*2)], [str(i) + 'L' for i in range(cycles*2)])\n",
    "fig"
   ]
  },
  {
   "cell_type": "markdown",
   "id": "4b9972ea",
   "metadata": {},
   "source": [
    "And now we plot the curve given by the Fourier Series up to, but not including, the $m$'th harmonic.  Said function, denoted as '$\\mathrm{fs}(t)$', approximates the square wave shown above."
   ]
  },
  {
   "cell_type": "code",
   "execution_count": 10,
   "id": "49b1c144",
   "metadata": {},
   "outputs": [
    {
     "data": {
      "text/plain": [
       "9.09161321240124"
      ]
     },
     "execution_count": 10,
     "metadata": {},
     "output_type": "execute_result"
    }
   ],
   "source": [
    "fs = F(6)\n",
    "fs(0.055)"
   ]
  },
  {
   "cell_type": "code",
   "execution_count": 11,
   "id": "4db9d12e",
   "metadata": {
    "code_folding": [
     0
    ]
   },
   "outputs": [],
   "source": [
    "# Parametric Approximation\n",
    "\n",
    "def F2(m: int, E = 9.0, f = 25.0):\n",
    "    \"\"\"This is a lambda (parametric) function that returns a function that \n",
    "    approximates the shifted square wave using every odd numbered harmonic up to 'm'.\n",
    "    Parameters:\n",
    "        E:  The magnitude or amplitude of the waveform;\n",
    "        f:  The frequency.\"\"\"\n",
    "    \n",
    "    # The angular velocity, denoted as 'w', of the waveform.\n",
    "    w = 2*np.pi *f\n",
    "    \n",
    "    # Duration of a half-period.\n",
    "    L = 1/(2*f)\n",
    "    \n",
    "    from math import sin\n",
    "    \n",
    "    return lambda t: E*(0.5 + 2/np.pi * sum((1/n * sin(n*w*(t-L)) for n in range(1, m, 2))))"
   ]
  },
  {
   "cell_type": "code",
   "execution_count": 12,
   "id": "535718f8",
   "metadata": {},
   "outputs": [
    {
     "data": {
      "text/plain": [
       "9.465634224467134"
      ]
     },
     "execution_count": 12,
     "metadata": {},
     "output_type": "execute_result"
    }
   ],
   "source": [
    "fs2 = F2(6)\n",
    "fs2(0.03)"
   ]
  },
  {
   "cell_type": "markdown",
   "id": "d988fa92",
   "metadata": {},
   "source": [
    "## Non-Square Waves\n",
    "\n",
    "Assuming $a \\ne b$, our voltage signal will be rectangular but not a square wave."
   ]
  },
  {
   "cell_type": "markdown",
   "id": "6a2dd3af",
   "metadata": {},
   "source": [
    "### Quarter Duty Cycle\n",
    "\n",
    "Assuming $3a = b$, the signal has a duty cycle of $25\\mathrm{\\%}$."
   ]
  },
  {
   "cell_type": "markdown",
   "id": "34e42567",
   "metadata": {},
   "source": [
    "The Fourier Series is given by:\n",
    "$$ \\mathrm{f}(t) = \\frac{a_0}{2} + \\sum_{n=1}^\\infty a_n \\, \\cos \\frac{n \\pi t}{L} + \\sum_{n=1}^\\infty b_n \\, \\sin \\frac{n \\pi t}{L}$$"
   ]
  },
  {
   "cell_type": "markdown",
   "id": "25836c2f",
   "metadata": {},
   "source": [
    "Here, the **dc component** ($a_0$) is given by:\n",
    "$$ a_0 = \\frac{1}{L} \\int_0^{0.5L} \\mathrm{f}(t)\\,\\mathrm{d}t = 0.5E = 4.5\\mathrm{V}$$"
   ]
  },
  {
   "cell_type": "markdown",
   "id": "a0802a2a",
   "metadata": {},
   "source": [
    "**The $a_n$ coefficients are given by:**\n",
    "$$ a_n = \\frac{1}{L} \\int_0^{0.5L} \\mathrm{f}(t) \\cos \\frac{n \\pi t}{L} \\,\\mathrm{d}t = \\frac{E}{L} \\int_0^{0.5L}\\cos \\frac{n \\pi t}{L} \\,\\mathrm{d}t $$"
   ]
  },
  {
   "cell_type": "markdown",
   "id": "d152e3ad",
   "metadata": {},
   "source": [
    "Let $g(t)$ be defined as:\n",
    "$$ g(t) := \\int \\cos \\frac{n\\pi t}{L} \\; \\mathrm{d}t = \\frac{L}{n\\pi} \\,\\sin \\frac{n \\pi t}{L} + K$$"
   ]
  },
  {
   "cell_type": "markdown",
   "id": "fd019d4c",
   "metadata": {},
   "source": [
    "$$ g(0) = K$$\n",
    "\n",
    "$$ g(0.5L) = K \\quad \\text{when }n\\text{ is even.}$$"
   ]
  },
  {
   "cell_type": "markdown",
   "id": "23b87fc3",
   "metadata": {},
   "source": [
    "When $n$ is odd, $g(0.5L)$ get's a little trickier."
   ]
  },
  {
   "cell_type": "markdown",
   "id": "3ba4aade",
   "metadata": {},
   "source": [
    "$$ g(0.5L) = \\frac{L}{n\\pi} + K \\quad \\text{when }n\\in\\{1, 5, 9, \\dots\\}$$"
   ]
  },
  {
   "cell_type": "markdown",
   "id": "5910c3c6",
   "metadata": {},
   "source": [
    "and,\n",
    "$$ g(0.5L) = - \\frac{L}{n\\pi} + K \\quad \\text{when }n\\in\\{3,7,11,\\dots\\}$$"
   ]
  },
  {
   "cell_type": "markdown",
   "id": "fc8bd306",
   "metadata": {},
   "source": [
    "Thus,\n",
    "$$ a_n = \\frac{E}{L}\\big(g(0.5L) - g(0)\\big)$$"
   ]
  },
  {
   "cell_type": "code",
   "execution_count": 17,
   "id": "f972e34d",
   "metadata": {},
   "outputs": [],
   "source": [
    "from math import cos, sin, pi\n",
    "\n",
    "def a(n, E = 9, L = 0.02):\n",
    "    return E/(n*pi)*sin(0.5*n*pi)"
   ]
  },
  {
   "cell_type": "markdown",
   "id": "e14853b6",
   "metadata": {},
   "source": [
    "Which can be broken down into three general cases:"
   ]
  },
  {
   "cell_type": "markdown",
   "id": "3df50ffd",
   "metadata": {},
   "source": [
    "\\begin{align*}\n",
    "    a_n &= 0  \\quad \\hspace{3ex} \\text{when }n\\text{ is even.} \\\\ \\\\\n",
    "    a_n &= \\frac{E}{n\\pi} \\quad\\hspace{1ex} \\text{when }n\\in\\{1,5,9,\\dots\\} \\\\ \\\\\n",
    "    a_n &= -\\frac{E}{n\\pi} \\quad \\text{when }n\\in\\{3,7,11,\\dots\\}\n",
    "\\end{align*}"
   ]
  },
  {
   "cell_type": "markdown",
   "id": "f1ca3557",
   "metadata": {},
   "source": [
    "**And the $b_n$ coefficients are given by:**\n",
    "$$ b_n = \\frac{E}{L}\\int_0^{0.5L}\\sin \\frac{n \\pi t}{L} \\,\\mathrm{d}t  $$"
   ]
  },
  {
   "cell_type": "markdown",
   "id": "80fa783c",
   "metadata": {},
   "source": [
    "Let $g(t)$ be redefined as:\n",
    "$$ g(t) := \\int \\sin \\frac{n \\pi t}{L}\\,\\mathrm{d}t = K - \\frac{L}{n\\pi}\\,\\cos\\frac{n\\pi t}{L}$$"
   ]
  },
  {
   "cell_type": "markdown",
   "id": "e43f8394",
   "metadata": {},
   "source": [
    "The identity of $b_n$ can thus be rewritten as:  \n",
    "\n",
    "$$ b_n = \\frac{E}{L}\\big(g(0.5L)-g(0)\\big)$$"
   ]
  },
  {
   "cell_type": "markdown",
   "id": "ffcbc04b",
   "metadata": {},
   "source": [
    "$$ g(0) = K - \\frac{L}{n\\pi}$$"
   ]
  },
  {
   "cell_type": "markdown",
   "id": "8c9c5f72",
   "metadata": {},
   "source": [
    "$$ g(0.5L) = K \\quad \\text{when }n\\text{ is odd.}$$"
   ]
  },
  {
   "cell_type": "markdown",
   "id": "e4418851",
   "metadata": {},
   "source": [
    "When $n$ is even:\n",
    "$$ g(0.5L) = K - \\frac{L}{n\\pi} \\quad \\text{when }n\\in\\{4,8,12,\\dots\\}$$"
   ]
  },
  {
   "cell_type": "markdown",
   "id": "9187156a",
   "metadata": {},
   "source": [
    "$$ g(0.5L) = K + \\frac{L}{n\\pi} \\quad \\text{when }n\\in\\{2,6,10,\\dots\\}$$"
   ]
  },
  {
   "cell_type": "code",
   "execution_count": 15,
   "id": "b4bd0715",
   "metadata": {},
   "outputs": [],
   "source": [
    "def b(n, E = 9, L = 0.02):\n",
    "    return E/(n*pi)*(1-cos(0.5*n*pi))"
   ]
  },
  {
   "cell_type": "code",
   "execution_count": 16,
   "id": "38c071bc",
   "metadata": {},
   "outputs": [
    {
     "data": {
      "text/plain": [
       "0.0"
      ]
     },
     "execution_count": 16,
     "metadata": {},
     "output_type": "execute_result"
    }
   ],
   "source": [
    "b(4)"
   ]
  },
  {
   "cell_type": "markdown",
   "id": "fee622e1",
   "metadata": {},
   "source": [
    "Finally, we are left with three general cases for $b_n$.  \n",
    "\n",
    "\\begin{align*}\n",
    "    b_n &= 0 \\quad \\hspace{2ex} \\text{when }n\\in\\{4,8,12,\\dots\\} \\\\ \\\\\n",
    "    b_n &= \\frac{E}{n\\pi} \\quad \\text{when }n\\text{ is odd.} \\\\ \\\\\n",
    "    b_n &= \\frac{2E}{n\\pi} \\quad \\text{when }n\\in\\{2,6,10,\\dots\\}\n",
    "\\end{align*}"
   ]
  },
  {
   "cell_type": "markdown",
   "id": "88a6a400",
   "metadata": {},
   "source": [
    "**The Fourier Series** can thus be rewritten such that the two generic terms containing $a_n$ and $b_n$ as factors can be combined into one term with $C_n$ as a constant factor (the magnitude or amplitude) and a sine function with the same frequency as the two terms being combined through addition as the other factor.  \n",
    "\n",
    "This can be acheived by first, converting the two terms into their complex number representation and performing complex addition on the rectangular form of the two complex numbers;  And then converting the result into it's polar form.  The magnitude of the result is equal to $C_n$ and the phase angle is equal to the phase shift of the aforementioned sine function.  This is possible because the two terms being added share the same frequency, which is equal to the fundamental frequency multiplied by $n$."
   ]
  },
  {
   "cell_type": "markdown",
   "id": "af8e743d",
   "metadata": {},
   "source": [
    "$$ \\mathrm{f}(t) = \\frac{a_0}{2} + \\sum_{n=1}^\\infty C_n\\,\\sin \\left( \\frac{n \\pi t}{L} + \\varphi_n\\right)$$"
   ]
  },
  {
   "cell_type": "markdown",
   "id": "d523c45f",
   "metadata": {},
   "source": [
    "Let $\\theta$ be defined as:\n",
    "$$ \\theta := \\theta(t):=\\frac{n\\pi t}{L} = n \\cdot 2\\pi ft = n \\cdot \\omega t$$"
   ]
  },
  {
   "cell_type": "markdown",
   "id": "ab5ad13c",
   "metadata": {},
   "source": [
    "$$ a_n \\, \\cos \\theta = a_n \\sin \\big(\\theta + 0.5\\pi\\big) = a_n \\angle 90^\\circ = j \\cdot a_n$$"
   ]
  },
  {
   "cell_type": "markdown",
   "id": "12eb3913",
   "metadata": {},
   "source": [
    "$$ b_n \\sin \\theta = b_n\\angle 0 = b_n$$"
   ]
  },
  {
   "cell_type": "markdown",
   "id": "3ff6ed1a",
   "metadata": {},
   "source": [
    "Remember that the right hand side of the above equation is the rectangular form of the complex number representation of the left hand side!"
   ]
  },
  {
   "cell_type": "markdown",
   "id": "edbca841",
   "metadata": {},
   "source": [
    "Thus, through complex number addition,\n",
    "$$ a_n \\cos \\theta + b_n \\sin \\theta = b_n + j\\cdot a_n = C_n \\angle \\varphi_n$$"
   ]
  },
  {
   "cell_type": "markdown",
   "id": "de6e6a0f",
   "metadata": {},
   "source": [
    "where,\n",
    "$$ C_n = \\sqrt{a_n^2 + b_n^2}$$\n",
    "\n",
    "and,\n",
    "$$ \\varphi_n = \\arcsin \\frac{a_n}{C_n}$$"
   ]
  },
  {
   "cell_type": "markdown",
   "id": "95578781",
   "metadata": {},
   "source": [
    "There are four general cases to consider for both the magnitude and the phase angle of each harmonic.  \n",
    "\n",
    "**First, we consider the magnitude.**"
   ]
  },
  {
   "cell_type": "markdown",
   "id": "25bfbc44",
   "metadata": {},
   "source": [
    "$$ C_n = \\sqrt{2}\\,\\frac{E}{n\\pi} \\quad \\text{when }n\\in\\{1,5,9,\\dots\\}$$\n",
    "\n",
    "$$C_n = 2\\,\\frac{E}{n\\pi} \\quad\\hspace{2ex} \\text{when }n\\in\\{2,6,10,\\dots\\} $$\n",
    "\n",
    "$$ C_n = \\sqrt{2}\\,\\frac{E}{n\\pi} \\quad \\text{when }n\\in\\{3,7,11,\\dots\\}$$\n",
    "\n",
    "$$ C_n = 0 \\quad \\text{when }n\\in\\{4,8,12,\\dots\\}$$"
   ]
  },
  {
   "cell_type": "markdown",
   "id": "619f30f0",
   "metadata": {},
   "source": [
    "The above can be reduced to three general cases.\n",
    "\n",
    "$$ C_n = \\frac{E}{n\\pi} \\cdot \\begin{cases}\n",
    "\\sqrt{2} \\quad &\\text{if }n\\text{ is odd.} \\\\\n",
    "2  &\\text{if }n\\in\\{2,6,10,\\dots\\} \\\\\n",
    "0  &\\text{if }n\\in\\{4,8,12,\\dots\\}\n",
    "\\end{cases}\n",
    "$$"
   ]
  },
  {
   "cell_type": "code",
   "execution_count": 25,
   "id": "c26f779e",
   "metadata": {},
   "outputs": [],
   "source": [
    "def C(n, E = 9, L = 0.02):\n",
    "    return np.sqrt(a(n, E, L)**2 + b(n, E, L)**2)"
   ]
  },
  {
   "cell_type": "markdown",
   "id": "5db911f8",
   "metadata": {},
   "source": [
    "### Generic Duty Cycle\n",
    "\n",
    "Suppose our signal has a duty cycle of $X\\mathrm{\\%}$ and let $\\alpha:=X\\div 100$.  It then follows that the dc component ($a_0$) of the Fourier Series is given by:"
   ]
  },
  {
   "cell_type": "markdown",
   "id": "32557911",
   "metadata": {},
   "source": [
    "$$ a_0 = \\frac{1}{L}\\,\\int_0^p \\mathrm{f}(t) \\,\\mathrm{d}t = \\frac{E}{L}\\,\\int_0^{2\\alpha L} 1\\, \\mathrm{d}t = 2\\alpha E$$"
   ]
  },
  {
   "cell_type": "markdown",
   "id": "1a406f3d",
   "metadata": {},
   "source": [
    "**The $a_n$ coefficients are given by:**  \n",
    "\n",
    "$$ a_n = \\frac{E}{L}\\,\\int_0^{2\\alpha L} \\cos \\frac{n \\pi t}{L} \\, \\mathrm{d} t$$"
   ]
  },
  {
   "cell_type": "markdown",
   "id": "66c2d039",
   "metadata": {},
   "source": [
    "Let $g(t)$ be defined as:\n",
    "$$ g(t) := \\int \\cos \\frac{n \\pi t}{L} \\,\\mathrm{d}t = \\frac{L}{n\\pi}\\sin\\frac{n\\pi t}{L} + K$$"
   ]
  },
  {
   "cell_type": "markdown",
   "id": "3d5ae9ff",
   "metadata": {},
   "source": [
    "The identity of $a_n$ can be rewritten as:  \n",
    "\n",
    "$$ a_n = \\frac{E}{L}\\big(g(2\\alpha L) - g(0)\\big)$$"
   ]
  },
  {
   "cell_type": "markdown",
   "id": "3294c6bf",
   "metadata": {},
   "source": [
    "$$ g(0) = K$$\n",
    "\n",
    "$$ g(2\\alpha L) = \\frac{L}{n\\pi}$$"
   ]
  },
  {
   "cell_type": "markdown",
   "id": "1e68d849",
   "metadata": {},
   "source": [
    "### Relation to Filters\n",
    "\n",
    "Recall the rectangular waveform with a [duty cycle of $25\\mathrm{\\%}$](#Quarter-Duty-Cycle).  If we were to run this signal through a band pass filter that filtered out every harmonic frequency except the $4$'th, $8$'th, $12$'th, $\\dots$ harmonic frequencies, then the amplitude of the voltage signal will approach the dc component ($0.5a_0$) of the Fourier Series as the strength of the filter increases.  Basically, the stronger the filter is, the closer the amplitude will be to $0.5a_0$."
   ]
  }
 ],
 "metadata": {
  "kernelspec": {
   "display_name": "Python 3",
   "language": "python",
   "name": "python3"
  },
  "language_info": {
   "codemirror_mode": {
    "name": "ipython",
    "version": 3
   },
   "file_extension": ".py",
   "mimetype": "text/x-python",
   "name": "python",
   "nbconvert_exporter": "python",
   "pygments_lexer": "ipython3",
   "version": "3.8.10"
  }
 },
 "nbformat": 4,
 "nbformat_minor": 5
}
