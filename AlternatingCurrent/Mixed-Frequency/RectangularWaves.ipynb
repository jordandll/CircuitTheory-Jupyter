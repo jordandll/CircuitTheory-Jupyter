{
 "cells": [
  {
   "cell_type": "markdown",
   "id": "8ff08778",
   "metadata": {},
   "source": [
    "# Rectangular Waves\n",
    "\n",
    "Suppose we were to pulse (periodically turn on and off) a 9 volt battery by periodically closing the circuit it is attached to for $a$ seconds and then opening the circuit for $b$ seconds."
   ]
  },
  {
   "cell_type": "markdown",
   "id": "98c700c7",
   "metadata": {},
   "source": [
    "The voltage waveform created by doing this will have an amplitude of $9$ volts and a period, denoted as '$p$', given by:  \n",
    "\n",
    "$$ p = a + b = 2L = \\frac{1}{f}$$"
   ]
  },
  {
   "cell_type": "markdown",
   "id": "51930e88",
   "metadata": {},
   "source": [
    "The frequency ($f$) is of course given by:\n",
    "$$ f = \\frac{1}{p} = \\frac{1}{2L}$$"
   ]
  },
  {
   "cell_type": "markdown",
   "id": "0f180f31",
   "metadata": {},
   "source": [
    "## Square Waves\n",
    "\n",
    "Assuming $a=b$, our waveform has a duty cycle of $50\\mathrm{\\%}$ and is a square wave."
   ]
  }
 ],
 "metadata": {
  "kernelspec": {
   "display_name": "Python 3",
   "language": "python",
   "name": "python3"
  },
  "language_info": {
   "codemirror_mode": {
    "name": "ipython",
    "version": 3
   },
   "file_extension": ".py",
   "mimetype": "text/x-python",
   "name": "python",
   "nbconvert_exporter": "python",
   "pygments_lexer": "ipython3",
   "version": "3.8.10"
  }
 },
 "nbformat": 4,
 "nbformat_minor": 5
}
