{
 "cells": [
  {
   "cell_type": "markdown",
   "id": "9ac88818",
   "metadata": {},
   "source": [
    "# Harmonics in Polyphase Power Systems\n",
    "### *Chapter 10 - Polyphase AC Circuits*"
   ]
  },
  {
   "cell_type": "markdown",
   "id": "a84a3516",
   "metadata": {},
   "source": [
    "In the chapter on mixed-frequency signals, we explored the concept of harmonics in AC systems: frequencies that are integer multiples of the fundamental source frequency.\n",
    "\n",
    "With AC power systems where the source voltage waveform coming from an AC generator (alternator) is supposed to be a single-frequency sine wave, undistorted, there should be no harmonic content . . . ideally."
   ]
  },
  {
   "cell_type": "markdown",
   "id": "ce53420e",
   "metadata": {},
   "source": [
    "## Nonlinear Components on AC Systems\n",
    "\n",
    "This would be true were it not for nonlinear components. Nonlinear components draw current disproportionately with respect to the source voltage, causing non-sinusoidal current waveforms.\n",
    "\n",
    "Examples of nonlinear components include gas-discharge lamps, semiconductor power-control devices (diodes, transistors, SCRs, TRIACs), Transformers (primary winding magnetization current is usually non-sinusoidal due to the B/H saturation curve of the core), and electric motors (again, when magnetic fields within the motor’s core operate near saturation levels).\n",
    "\n",
    "Even incandescent lamps generate slightly nonsinusoidal currents, as the filament resistance changes throughout the cycle due to rapid fluctuations in temperature.\n",
    "\n",
    "As we learned in the mixed-frequency chapter, any distortion of an otherwise sine-wave shaped waveform constitutes the presence of harmonic frequencies.\n",
    "\n",
    "When the nonsinusoidal waveform in question is symmetrical above and below its average centerline, the harmonic frequencies will be odd integer multiples of the fundamental source frequency only, with no even integer multiples.\n",
    "\n",
    "Most nonlinear loads produce current waveforms like this, and so even-numbered harmonics (2nd, 4th, 6th, 8th, 10th, 12th, etc.) are absent or only minimally present in most AC power systems."
   ]
  },
  {
   "cell_type": "markdown",
   "id": "5a6e1d81",
   "metadata": {},
   "source": [
    "![nonsine-symmetric-waveforms](https://www.allaboutcircuits.com/uploads/articles/symmetrical-waveforms-example.jpg)"
   ]
  },
  {
   "cell_type": "markdown",
   "id": "3390a045",
   "metadata": {},
   "source": [
    "Examples of nonsymmetrical waveforms with even harmonics present are shown for reference in the figure below.\n",
    "\n",
    "![nonsine-nonsymmetric-waveforms](https://www.allaboutcircuits.com/uploads/articles/nonsymmetrical-waveforms-example.jpg)"
   ]
  },
  {
   "cell_type": "markdown",
   "id": "b7fba8bf",
   "metadata": {},
   "source": [
    "Even though half of the possible harmonic frequencies are eliminated by the typically symmetrical distortion of nonlinear loads, the odd harmonics can still cause problems. Some of these problems are general to all power systems, single-phase or otherwise.\n",
    "\n",
    "Transformer overheating due to eddy current losses, for example, can occur in any AC power system where there is significant harmonic content.\n",
    "\n",
    "However, there are some problems caused by harmonic currents that are specific to polyphase power systems, and it is these problems to which this section is specifically devoted."
   ]
  },
  {
   "cell_type": "markdown",
   "id": "edcb6abd",
   "metadata": {},
   "source": [
    "## Linear AC System Simulation\n",
    "\n",
    "First, we’ll begin our simulation with a very simple AC circuit: a single sine-wave voltage source with a purely linear load and all associated resistances: "
   ]
  },
  {
   "cell_type": "markdown",
   "id": "1500f379",
   "metadata": {},
   "source": [
    "![linear-ac-system](https://www.allaboutcircuits.com/uploads/articles/spice-circuit-with-single-sine-wave-source.jpg)"
   ]
  },
  {
   "cell_type": "markdown",
   "id": "73bd440c",
   "metadata": {},
   "source": [
    "The $R_\\text{source}$, henceforth '$R_\\text{src}$', and $R_\\text{line}$ resistances in this circuit do more than just mimic the real world: they also provide convenient shunt resistances for measuring currents in the SPICE simulation: by reading voltage across a $1\\Omega$ resistance, you obtain a direct indication of current through it, since E = IR.\n",
    "\n",
    "A SPICE simulation of this circuit (SPICE listing: “linear load simulation”) with Fourier analysis on the voltage measured across $R_\\text{line}$ should show us the harmonic content of this circuit’s line current. Being completely linear in nature, we should expect no harmonics other than the 1st (fundamental) of $60$ Hz, assuming a $60$ Hz source."
   ]
  },
  {
   "cell_type": "markdown",
   "id": "bde3602b",
   "metadata": {},
   "source": [
    "Via KVL and Ohm's Law:  \n",
    "\n",
    "$$ 120\\mathrm{V} = I\\,(R_\\text{src} + R_\\text{line} + R_\\text{load}) = 1002\\Omega \\cdot I$$\n",
    "\n",
    "Dividing throughout by $1002\\Omega$ gives:  \n",
    "\n",
    "$$I = \\frac{120\\mathrm{V}}{1002\\Omega} \\approxeq 119.76\\,\\mathrm{mA} $$"
   ]
  },
  {
   "cell_type": "code",
   "execution_count": 1,
   "id": "14bdb5db",
   "metadata": {},
   "outputs": [
    {
     "data": {
      "text/plain": [
       "0.11976047904191617"
      ]
     },
     "execution_count": 1,
     "metadata": {},
     "output_type": "execute_result"
    }
   ],
   "source": [
    "120/1002"
   ]
  },
  {
   "cell_type": "markdown",
   "id": "74d2c03f",
   "metadata": {},
   "source": [
    "## Simple Nonlinear Single-Phase AC System Simulation\n",
    "\n",
    "Next, I’d like to simulate a nonlinear load so as to generate harmonic currents. This can be done in two fundamentally different ways. One way is to design a load using nonlinear components such as diodes or other semiconductor devices which are easy to simulate with SPICE. Another is to add some AC current sources in parallel with the load resistor.\n",
    "\n",
    "The latter method is often preferred by engineers for simulating harmonics since current sources of known value lend themselves better to mathematical network analysis than components with highly complex response characteristics.\n",
    "\n",
    "Since we’re letting SPICE do all the math work, the complexity of a semiconductor component would cause no trouble for us, but since current sources can be fine-tuned to produce any arbitrary amount of current (a convenient feature), I’ll choose the latter approach shown in the figure below, and in the SPICE listing “Nonlinear load simulation”."
   ]
  },
  {
   "cell_type": "markdown",
   "id": "79677acf",
   "metadata": {},
   "source": [
    "![nonlinear-single-phase-AC System](https://www.allaboutcircuits.com/uploads/articles/spice-listing-nonlinear-load-simulation.jpg)"
   ]
  },
  {
   "cell_type": "markdown",
   "id": "41a6b569",
   "metadata": {},
   "source": [
    "To solve this circuit we will use superposition.  \n",
    "\n",
    "With $120\\mathrm{V}\\,60\\mathrm{Hz}$ as the only power supply:  \n",
    "\n",
    "$$ I \\approxeq 119.76\\mathrm{mA}\\,60\\mathrm{Hz} $$"
   ]
  },
  {
   "cell_type": "markdown",
   "id": "db2d34d0",
   "metadata": {},
   "source": [
    "With $50\\mathrm{mA}\\,180\\mathrm{Hz}$ as the only power supply:  \n",
    "\n",
    "Via Ohm's Law and KVL,  \n",
    "\n",
    "$$ R_\\text{load}I_1 - (R_\\text{src} + R_\\text{line})\\,I_2 = 0$$\n",
    "\n",
    "$$ 1000\\,\\Omega \\cdot I_1 = 2\\,\\Omega\\cdot I_2$$"
   ]
  },
  {
   "cell_type": "markdown",
   "id": "75e6e034",
   "metadata": {},
   "source": [
    "And, via KCL,  \n",
    "\n",
    "$$ I_1 + I_2 = I_\\text{src} = 50\\mathrm{mA}\\,180\\mathrm{Hz}$$"
   ]
  },
  {
   "cell_type": "markdown",
   "id": "00825495",
   "metadata": {},
   "source": [
    "Via the above two equations and substitution,  \n",
    "\n",
    "$$ I_1 + 500I_1 = I_\\text{src}$$\n",
    "\n",
    "$$ I_1 = \\frac{I_\\text{src}}{501} \\approxeq 99.8\\mu \\mathrm{A}\\,180\\mathrm{Hz}$$"
   ]
  },
  {
   "cell_type": "code",
   "execution_count": 2,
   "id": "93847dd2",
   "metadata": {},
   "outputs": [
    {
     "data": {
      "text/plain": [
       "0.0998003992015968"
      ]
     },
     "execution_count": 2,
     "metadata": {},
     "output_type": "execute_result"
    }
   ],
   "source": [
    "50/501"
   ]
  },
  {
   "cell_type": "markdown",
   "id": "ff164596",
   "metadata": {},
   "source": [
    "And, via the above equation, KCL, and substitution,  \n",
    "\n",
    "$$ I_2 = I_\\text{src} - I_1 \\approxeq 49.9\\mathrm{mA}\\,180\\mathrm{Hz} $$"
   ]
  },
  {
   "cell_type": "code",
   "execution_count": 3,
   "id": "597fb909",
   "metadata": {},
   "outputs": [
    {
     "data": {
      "text/plain": [
       "49.9001996007984"
      ]
     },
     "execution_count": 3,
     "metadata": {},
     "output_type": "execute_result"
    }
   ],
   "source": [
    "50 - 50/501"
   ]
  },
  {
   "cell_type": "code",
   "execution_count": 4,
   "id": "61a0c4bc",
   "metadata": {},
   "outputs": [],
   "source": [
    "import numpy as np\n",
    "import matplotlib.pyplot as plt"
   ]
  },
  {
   "cell_type": "code",
   "execution_count": 5,
   "id": "f155925f",
   "metadata": {
    "code_folding": []
   },
   "outputs": [
    {
     "data": {
      "image/png": "[encoded data removed]",
      "text/plain": [
       "<Figure size 936x360 with 1 Axes>"
      ]
     },
     "metadata": {
      "needs_background": "light"
     },
     "output_type": "display_data"
    }
   ],
   "source": [
    "# Plot the current of the above circuit.\n",
    "f = 60\n",
    "w = f*2*np.pi\n",
    "p = 1/f\n",
    "\n",
    "# Create the time domain.\n",
    "t = np.linspace(0, 2*p, num=200)\n",
    "\n",
    "# Define the Fourier Series, denoted as 'I'.\n",
    "C_1, C_3 = 119.76, 49.9\n",
    "I = C_1*np.sin(w*t) + C_3*np.sin(w*3*t)\n",
    "\n",
    "# Create the figure and axes object.\n",
    "fig, ax = plt.subplots(figsize=(13,5))\n",
    "ax.set_title('Nonlinear Single Phase Power System', size=14)\n",
    "ax.set_xlabel('time (ms)')\n",
    "ax.set_ylabel('current (mA)')\n",
    "\n",
    "# Plot the current.\n",
    "L = ax.plot(t*1000, I)"
   ]
  },
  {
   "cell_type": "markdown",
   "id": "d10e6fe3",
   "metadata": {},
   "source": [
    "## Nonlinear Single-Phase AC System Simulation with Multiple Current Sources\n",
    "\n",
    "If we were to add more current sources to the “load,” we would see a further distortion of the line current waveform from the ideal sine-wave shape, and each of those harmonic currents would appear in the Fourier analysis breakdown. See the figure below and the SPICE listing: “Nonlinear load simulation”."
   ]
  },
  {
   "cell_type": "markdown",
   "id": "596822f1",
   "metadata": {},
   "source": [
    "![nonlinear-single-phase-AC System-2](https://www.allaboutcircuits.com/uploads/articles/nonlinear-load-simulation.jpg)"
   ]
  },
  {
   "cell_type": "markdown",
   "id": "05cad856",
   "metadata": {},
   "source": [
    "The fundamental frequency and the amplitude of the first and third harmonic are the same as the previous circuit.  The amplitude of the other harmonics are equal to the third's."
   ]
  },
  {
   "cell_type": "code",
   "execution_count": 6,
   "id": "c763c60d",
   "metadata": {
    "code_folding": []
   },
   "outputs": [
    {
     "data": {
      "image/png": "[encoded data removed]",
      "text/plain": [
       "<Figure size 936x360 with 1 Axes>"
      ]
     },
     "metadata": {
      "needs_background": "light"
     },
     "output_type": "display_data"
    }
   ],
   "source": [
    "# Plot the current of the above circuit.\n",
    "\n",
    "# Define the Fourier Series.\n",
    "I = I + C_3*(np.sin(w*5*t) + np.sin(w*7*t) + np.sin(w*9*t))\n",
    "\n",
    "# Create the figure and axes object.\n",
    "fig, ax = plt.subplots(figsize=(13,5))\n",
    "ax.set_title('Nonlinear Single-phase Power System w/ Multiple Current Sources', size=13)\n",
    "ax.set_xlabel('time (ms)')\n",
    "ax.set_ylabel('current (mA)')\n",
    "\n",
    "# Plot the current.\n",
    "L = ax.plot(t*1000, I)"
   ]
  },
  {
   "cell_type": "markdown",
   "id": "65c611bd",
   "metadata": {},
   "source": [
    "# Three-phase AC System Simulation\n",
    "\n",
    "Things get more interesting when we make it a three-phase simulation. Two Fourier analyses will be performed: one for the voltage across a line resistor, and one for the voltage across the neutral resistor.\n",
    "\n",
    "As before, reading voltages across fixed resistances of 1 Ω each gives direct indications of current through those resistors. See the figure below and the SPICE listing “Y-Y source/load 4-wire system with harmonics”."
   ]
  },
  {
   "cell_type": "markdown",
   "id": "34f86886",
   "metadata": {},
   "source": [
    "![Three-phase-AC System](https://www.allaboutcircuits.com/uploads/articles/analysis-of-line-current-and-neutral-current.jpg)"
   ]
  },
  {
   "cell_type": "markdown",
   "id": "55f1899e",
   "metadata": {},
   "source": [
    "*Note that the bottom-most power supply should have a phase angle of $240^\\circ$ instead of $120^\\circ$.*"
   ]
  },
  {
   "cell_type": "markdown",
   "id": "8ccb0f89",
   "metadata": {},
   "source": [
    "Even though this is a nonlinear circuit, superposition theorem may apply on a frequency by frequency basis.  Fourier analysis, afterall, relies on adding or superimposing voltages with different frequencies running across corresponding circuit components."
   ]
  },
  {
   "cell_type": "markdown",
   "id": "d5083186",
   "metadata": {},
   "source": [
    "Solving this circuit will also involve treating each current source and it's load resistance as a Norton equivalent circuit and then converting these circuits into their Thievin equivalent circuit, consisting of Thievin voltage source *in series* with the load resistance.  The frequency and phase angle of each Theivin source is the same as it's associated Norton current source.  The amplitude of each Theivin source, denoted as '$E$', is given by, via Ohm's Law:  \n",
    "\n",
    "$$ E = 50\\mathrm{mA}\\cdot 1000\\,\\Omega = 50\\mathrm{V}$$"
   ]
  },
  {
   "cell_type": "markdown",
   "id": "14d8f6b7",
   "metadata": {},
   "source": [
    "### 60 Hertz Power Supply\n",
    "\n",
    "First, we will look at the $60\\mathrm{Hz}$ power supply, one phase winding at a time.\n",
    "\n",
    "Let $R:= R_\\text{src} + R_\\text{line} + R_\\text{load} = 1002\\Omega$.  \n",
    "\n",
    "Throughout this section, '$E_1$', '$E_2$', and '$E_3$' denote the voltage dropped across the resistances -- that is, the source ($R_\\text{source}=R_\\text{src}$), line ($R_\\text{line}$) and load ($R_\\text{load}$) resistances -- connected to phase winding \\#1, \\#2, and \\#3  respectively."
   ]
  },
  {
   "cell_type": "markdown",
   "id": "0b86b126",
   "metadata": {},
   "source": [
    "**With phase winding \\#1**($120\\mathrm{V}\\angle\\,0^\\circ\\,60\\mathrm{Hz}$) as the only power supply:"
   ]
  },
  {
   "cell_type": "markdown",
   "id": "5f49bac8",
   "metadata": {},
   "source": [
    "Via KVL,  \n",
    "\n",
    "$$ 120\\mathrm{V}\\angle\\,0^\\circ = I\\,(1002 + 501 )\\,\\Omega = 1503\\,\\Omega \\cdot I $$\n",
    "\n",
    "$$ I = \\frac{120\\mathrm{V}\\angle\\,0^\\circ}{1503\\,\\Omega}\\approxeq 79.84\\mathrm{mA}\\,\\angle\\,0^\\circ $$"
   ]
  },
  {
   "cell_type": "code",
   "execution_count": 7,
   "id": "0acd4671",
   "metadata": {},
   "outputs": [
    {
     "data": {
      "text/plain": [
       "0.07984031936127745"
      ]
     },
     "execution_count": 7,
     "metadata": {},
     "output_type": "execute_result"
    }
   ],
   "source": [
    "120/1503"
   ]
  },
  {
   "cell_type": "markdown",
   "id": "2b5494e7",
   "metadata": {},
   "source": [
    "The current flowing through the resistances ($R_\\text{src}$, $R_\\text{line}$, and $R_\\text{load}$) that are in series with phase winding \\#1 is given by:  \n",
    "\n",
    "$$ I_1 = I$$"
   ]
  },
  {
   "cell_type": "markdown",
   "id": "2ea3b520",
   "metadata": {},
   "source": [
    "And, the voltage running across said resistances, denoted as '$E_1$', is given by:  \n",
    "\n",
    "$$ E_1 = 1002\\,\\Omega \\cdot I_1 = 80\\mathrm{V} $$"
   ]
  },
  {
   "cell_type": "code",
   "execution_count": 8,
   "id": "564084ce",
   "metadata": {},
   "outputs": [
    {
     "data": {
      "text/plain": [
       "80.0"
      ]
     },
     "execution_count": 8,
     "metadata": {},
     "output_type": "execute_result"
    }
   ],
   "source": [
    "1002*120/1503"
   ]
  },
  {
   "cell_type": "markdown",
   "id": "a1b69457",
   "metadata": {},
   "source": [
    "Via, KVL, the voltage running across the resistances that are in parallel with each other is given by:  \n",
    "\n",
    "$$ 120\\mathrm{V}\\angle\\,0^\\circ = E_1 + E_2$$\n",
    "\n",
    "$$E_3= E_2 = 120\\mathrm{V}\\angle\\,0^\\circ - 80\\mathrm{V}\\angle\\,0^\\circ = 40\\mathrm{V}\\angle\\,0^\\circ$$"
   ]
  },
  {
   "cell_type": "markdown",
   "id": "edb11f54",
   "metadata": {},
   "source": [
    "The current ($I_2$) flowing through each branch of the aforementioned parallel circuit is given by, via Ohm's Law and KVL:  \n",
    "\n",
    "$$ I_3 = I_2 = \\frac{E_2}{1002\\,\\Omega} = \\frac{I}{2} \\approxeq 39.92\\mathrm{mA}\\,\\angle\\,0^\\circ$$"
   ]
  },
  {
   "cell_type": "code",
   "execution_count": 9,
   "id": "b929cea1",
   "metadata": {},
   "outputs": [
    {
     "data": {
      "text/plain": [
       "0.03992015968063872"
      ]
     },
     "execution_count": 9,
     "metadata": {},
     "output_type": "execute_result"
    }
   ],
   "source": [
    "40/1002"
   ]
  },
  {
   "cell_type": "markdown",
   "id": "8145eadb",
   "metadata": {},
   "source": [
    "**With phase winding \\#2**($120\\mathrm{V}\\angle\\,120^\\circ\\,60\\mathrm{Hz}$) as the only power supply:"
   ]
  },
  {
   "cell_type": "markdown",
   "id": "ec9c4877",
   "metadata": {},
   "source": [
    "$$ I \\approxeq 79.84\\mathrm{mA}\\,\\angle\\,120^\\circ$$\n",
    "\n",
    "$$ I_2 = I$$\n",
    "\n",
    "$$ E_2 = 1002\\,\\Omega \\cdot I_2 = 80\\mathrm{V}\\angle\\,120^\\circ$$\n",
    "\n",
    "$$ E_1 = E_3 = 40\\mathrm{V}\\angle\\,120^\\circ$$\n",
    "\n",
    "$$ I_1 = I_3 \\approxeq 39.92\\mathrm{mA}\\,\\angle\\,120^\\circ$$"
   ]
  },
  {
   "cell_type": "markdown",
   "id": "403897be",
   "metadata": {},
   "source": [
    "**With phase winding \\#3**($120\\mathrm{V}\\angle\\,240^\\circ\\,60\\mathrm{Hz}$) as the only power supply:"
   ]
  },
  {
   "cell_type": "markdown",
   "id": "8a0e8898",
   "metadata": {},
   "source": [
    "$$ I \\approxeq 79.84\\mathrm{mA}\\,\\angle\\,240^\\circ$$\n",
    "\n",
    "$$ I_3 = I$$\n",
    "\n",
    "$$ E_3 = 1002\\,\\Omega \\cdot I_3 = 80\\mathrm{V}\\angle\\,240^\\circ$$\n",
    "\n",
    "$$ E_1 = E_2 = 40\\mathrm{V}\\angle\\,240^\\circ$$\n",
    "\n",
    "$$ I_1 = I_2 \\approxeq 39.92\\mathrm{mA}\\,\\angle\\,240^\\circ$$"
   ]
  },
  {
   "cell_type": "markdown",
   "id": "24ebec28",
   "metadata": {},
   "source": [
    "Via **superposition theorem**,  \n",
    "\n",
    "\\begin{align*}\n",
    "    E_1 &= 80\\mathrm{V}\\angle\\,0^\\circ - 40\\mathrm{V}\\,\\big(1\\angle\\,120^\\circ + 1\\angle\\!-120^\\circ \\big) \\\\\n",
    "     &= 80\\mathrm{V} -80\\mathrm{V}\\,\\cos120^\\circ \\\\\n",
    "     &= 80\\mathrm{V}\\,\\big(1-\\cos120^\\circ \\big) \\\\\n",
    "     &= 120\\mathrm{V}\\angle\\,0^\\circ\n",
    "\\end{align*}"
   ]
  },
  {
   "cell_type": "code",
   "execution_count": 10,
   "id": "69e285ed",
   "metadata": {},
   "outputs": [],
   "source": [
    "def cos(deg: float) -> float:\n",
    "    return np.cos(np.radians(deg))\n",
    "\n",
    "def sin(deg: float) -> float:\n",
    "    return np.sin(np.radians(deg))"
   ]
  },
  {
   "cell_type": "code",
   "execution_count": 11,
   "id": "1fd5d2e6",
   "metadata": {},
   "outputs": [
    {
     "data": {
      "text/plain": [
       "-0.4999999999999998"
      ]
     },
     "execution_count": 11,
     "metadata": {},
     "output_type": "execute_result"
    }
   ],
   "source": [
    "cos(120)"
   ]
  },
  {
   "cell_type": "markdown",
   "id": "db785e62",
   "metadata": {},
   "source": [
    "\\begin{align*}\n",
    "    E_2 &= 40\\mathrm{V}\\,\\big(1\\angle\\,0^\\circ + 1\\angle\\,240^\\circ \\big) - 80\\mathrm{V}\\angle\\,120^\\circ \\\\\n",
    "     &= 40\\mathrm{V}\\,\\big(1 + \\cos120^\\circ - j\\,\\sin120^\\circ \\big) - 80\\mathrm{V}\\,\\big(\\cos120^\\circ + j\\,\\sin120^\\circ\\big) \\\\\n",
    "     &= 40\\mathrm{V}\\,\\big(1 - \\cos120^\\circ\\big) - j\\cdot 120\\mathrm{V}\\,\\sin120^\\circ \\\\\n",
    "     &\\approxeq 60\\mathrm{V} - j\\cdot 103.92\\mathrm{V}\n",
    "\\end{align*}"
   ]
  },
  {
   "cell_type": "code",
   "execution_count": 12,
   "id": "3339688d",
   "metadata": {},
   "outputs": [
    {
     "data": {
      "text/plain": [
       "(120.0, -59.999272219172624)"
      ]
     },
     "execution_count": 12,
     "metadata": {},
     "output_type": "execute_result"
    }
   ],
   "source": [
    "mag = np.sqrt((120*sin(120))**2 + 60**2)\n",
    "theta = np.degrees(np.arctan(-103.92/60))\n",
    "(mag, theta)"
   ]
  },
  {
   "cell_type": "markdown",
   "id": "98290cce",
   "metadata": {},
   "source": [
    "Thus, in polar form:  \n",
    "\n",
    "$$ E_2 = 120\\mathrm{V}\\angle\\!-60^\\circ$$"
   ]
  },
  {
   "cell_type": "markdown",
   "id": "0bff4946",
   "metadata": {},
   "source": [
    "And,\n",
    "\\begin{align*}\n",
    "    E_3 &= 40\\mathrm{V}\\,\\big(1\\angle\\,0^\\circ + 1\\angle\\,120^\\circ \\big) - 80\\mathrm{V}\\angle\\!-120^\\circ \\\\\n",
    "     &= 40\\mathrm{V}\\,\\big(1 + \\cos120^\\circ + j\\cdot\\sin120^\\circ\\big) - 80\\mathrm{V}\\,\\cos120^\\circ + j\\cdot 80\\mathrm{V}\\,\\sin120^\\circ \\\\\n",
    "     &= 40\\mathrm{V}\\,\\big(1 - \\cos120^\\circ \\big) + j\\cdot 120\\mathrm{V}\\,\\sin120^\\circ \\\\\n",
    "     &\\approxeq 60\\mathrm{V} + j\\cdot 103.92\\mathrm{V}\n",
    "\\end{align*}"
   ]
  },
  {
   "cell_type": "markdown",
   "id": "85b25a49",
   "metadata": {},
   "source": [
    "Thus, in polar form:  \n",
    "\n",
    "$$ E_3 = 120\\mathrm{V}\\angle\\,60^\\circ$$"
   ]
  },
  {
   "cell_type": "code",
   "execution_count": 13,
   "id": "a4c69a67",
   "metadata": {},
   "outputs": [
    {
     "data": {
      "text/plain": [
       "0.11976047904191617"
      ]
     },
     "execution_count": 13,
     "metadata": {},
     "output_type": "execute_result"
    }
   ],
   "source": [
    "120/1002"
   ]
  },
  {
   "cell_type": "markdown",
   "id": "f954e581",
   "metadata": {},
   "source": [
    "## Higher Frequency Harmonics\n",
    "\n",
    "Here we examine harmonics other than the first."
   ]
  },
  {
   "cell_type": "markdown",
   "id": "cd73d7c1",
   "metadata": {},
   "source": [
    "### Triplen Harmonics\n",
    "\n",
    "A triplen harmonic is a harmonic whose index, using one-style indexing, is a multiple of three.  In the case of our circuit, the tiplen harmonics are the third and ninth harmonics.\n",
    "\n",
    "Via Millman's theorem, the voltage dropped across each branch is given by:  \n",
    "\n",
    "$$ E = \\frac{3\\cdot\\frac{50\\mathrm{V}}{1002\\,\\Omega}}{\\frac{3}{1002\\,\\Omega} + 1\\,\\Omega} \\approxeq 149.25\\mathrm{mV} $$"
   ]
  },
  {
   "cell_type": "markdown",
   "id": "2b5eb275",
   "metadata": {},
   "source": [
    "Via KVL, the voltage dropped across the resistances resting on each branch or line is given by:  \n",
    "\n",
    "$$ E_R:=E_1=E_2=E_3$$\n",
    "\n",
    "$$ 50\\mathrm{V}\\angle\\,0^\\circ-E_R = 149.25\\mathrm{mV}\\angle\\,0^\\circ = E$$\n",
    "\n",
    "$$ E_R = 50\\mathrm{V}\\angle\\,0^\\circ - E \\approxeq 49.85\\mathrm{V}\\angle\\,0^\\circ$$"
   ]
  },
  {
   "cell_type": "markdown",
   "id": "b2db921c",
   "metadata": {},
   "source": [
    "And, via Ohm's law, the current flowing each branch with a load resistance is given by:  \n",
    "\n",
    "$$ I = \\frac{E_R}{1002\\,\\Omega}\\approxeq 49.75\\mathrm{mA}\\,\\angle\\,0^\\circ $$"
   ]
  },
  {
   "cell_type": "markdown",
   "id": "f7a05042",
   "metadata": {},
   "source": [
    "The line voltage (voltage dropped across $R_\\text{line}$), denoted as '$E_\\text{line}$', is equal to the \"hot\" current ($I$), the current flowing through the branches with load resistances, except obviously in units of volts instead of amps.  \n",
    "\n",
    "$$ E_\\text{line} = 1\\Omega \\cdot I \\approxeq 49.75\\mathrm{mV}\\angle\\,0^\\circ$$"
   ]
  },
  {
   "cell_type": "markdown",
   "id": "61e4f7be",
   "metadata": {},
   "source": [
    "Via KCL, the current flowing through the load ($I_\\text{load}$) is given by:  \n",
    "\n",
    "$$ I_\\text{load} = 50\\mathrm{mA}\\,\\angle\\,0^\\circ - I  \\approxeq 0.25\\mathrm{mA}\\,\\angle\\,0^\\circ$$"
   ]
  },
  {
   "cell_type": "markdown",
   "id": "f9466c09",
   "metadata": {},
   "source": [
    "To better understand the above relationship, recall that the current source of $50\\mathrm{mA}$ that is in parallel with the load is, for lack of a better term, \"imaginary\".  It is there to help us model a circuit with a nonlinear load, such as a semiconductor like a transistor.  While this imaginary current source is in parallel with the load, the parallel circuit itself, which, from the perspective of the rest of the circuit, *is* the load itself, is in series with the line resistance and the phase winding."
   ]
  },
  {
   "cell_type": "markdown",
   "id": "831a0ecf",
   "metadata": {},
   "source": [
    "Via the above equation and Ohm's Law, the voltage dropped across the load is given by:  \n",
    "\n",
    "$$ E_\\text{load} = -1000\\,\\Omega \\cdot I_\\text{load} \\approxeq 0.25\\mathrm{V}\\angle\\,180^\\circ$$"
   ]
  },
  {
   "cell_type": "markdown",
   "id": "aee5b5d6",
   "metadata": {},
   "source": [
    "Finally, the current flowing through the neutral wire is, via Ohm's Law,  \n",
    "\n",
    "$$ I_\\mathrm{N} = - E \\cdot 1\\,\\Omega = 149.25\\mathrm{mA}\\,\\angle\\,180^\\circ$$"
   ]
  },
  {
   "cell_type": "markdown",
   "id": "6da21f77",
   "metadata": {},
   "source": [
    "It appears that the current flowing through the neutral conductor is atleast *roughly* -- maybe even *exactly* -- equal to three times that of the current flowing through each branch with a load resistance.  Also, note how the current is negative with respect to $E$.  This is because the voltage polarity falsely implies that the current is flowing *away from* the center of the source \"Y\" configuration, when it is actually flowing *back towards* said center point."
   ]
  },
  {
   "cell_type": "markdown",
   "id": "0b009a6c",
   "metadata": {},
   "source": [
    "This relationship might have gone unnoticed due to working with specific values instead of symbolic equations, which can serve as generalizations instead of specific equations.  In other words, the notion that $I_\\mathrm{N} = 3I$ could be made more apparent by working with symbolic equations when solving for both $I_\\mathrm{N}$ and $I$ in terms of known quantites."
   ]
  },
  {
   "cell_type": "markdown",
   "id": "22b061a1",
   "metadata": {},
   "source": [
    "**A note on triplen harmonics:**  \n",
    "\n",
    "As was mentioned before, what has been mentioned in this section only applies to harmonics that are a multiple of three, which, in this case, equates to the third and ninth harmonics.  Such harmonics are sometimes referred to as 'triplen harmonics'.  \n",
    "\n",
    "The first equation of this section is true because the three current sources making up each of these types of harmonics (triplen) are *in phase*.  To understand this, first we must acknowledge that we skipped a step when applying Millman's Theorem at the beginning of this section and simply assumed the current sources were in phase when this is not really a given."
   ]
  },
  {
   "cell_type": "markdown",
   "id": "df884b12",
   "metadata": {},
   "source": [
    "This phase angle of the $n$'th harmonic, denoted as '$\\theta_n$', is given by:  \n",
    "\n",
    "$$ \\theta_n = n\\theta$$"
   ]
  },
  {
   "cell_type": "markdown",
   "id": "a30ea155",
   "metadata": {},
   "source": [
    "where $\\theta$ is the rotational angle of the phase winding that rests on the same branch as the current source."
   ]
  },
  {
   "cell_type": "markdown",
   "id": "505ac224",
   "metadata": {},
   "source": [
    "This relationship stems from the fact that the waveform of any current source is equal to:  \n",
    "\n",
    "$$ 50\\mathrm{mA}\\,\\sin \\big(\\omega_n (t - \\theta_\\text{time})\\big)$$"
   ]
  },
  {
   "cell_type": "markdown",
   "id": "843504f8",
   "metadata": {},
   "source": [
    "where '$\\omega_n$' denotes the angular velocity of the $n$'th harmonic and '$\\theta_\\text{time}$' denotes the 'phase time', both of which are given by:  \n",
    "\n",
    "$$ \\omega_n = 2\\pi \\, n \\, f = n\\cdot120\\pi \\mathrm{Hz} $$\n",
    "\n",
    "$$ \\theta_\\text{time} = \\frac{\\theta}{\\omega_1}$$"
   ]
  },
  {
   "cell_type": "markdown",
   "id": "6787221c",
   "metadata": {},
   "source": [
    "Via the above three equation and substitution,  \n",
    "\n",
    "\\begin{align*}\n",
    "    50\\mathrm{mA}\\,\\sin \\big(\\omega_n(t - \\theta_\\text{time})\\big) &= 50\\mathrm{mA}\\,\\sin\\left(n\\cdot 2\\pi f\\left(t - \\frac{\\theta}{2\\pi f} \\right) \\right)\\\\ \\\\\n",
    "     &= 50\\mathrm{mA}\\,\\sin (\\omega_n t - n\\theta) \\\\\n",
    "     &= 50\\mathrm{mA}\\,\\sin(\\omega_n t - \\theta_n)\n",
    "\\end{align*}"
   ]
  },
  {
   "cell_type": "markdown",
   "id": "64d140e0",
   "metadata": {},
   "source": [
    "Hence,  $\\theta_n = n\\theta$."
   ]
  },
  {
   "cell_type": "markdown",
   "id": "71dceb25",
   "metadata": {},
   "source": [
    "The third and ninth harmonics -- and, more broadly speaking, all harmonic that are a multiple of three -- are in phase because of the fact that the rotational angle of a phase winding is always a multiple of $360^\\circ$ or $2\\pi$ radians divided by three."
   ]
  },
  {
   "cell_type": "markdown",
   "id": "c38d8560",
   "metadata": {},
   "source": [
    "$$ \\theta = i\\,\\frac{2\\pi}{3} \\quad \\text{where }i\\in\\mathbb{N}\\cup\\{0\\}\\text{ and }i < 3$$"
   ]
  },
  {
   "cell_type": "markdown",
   "id": "88cc32cb",
   "metadata": {},
   "source": [
    "here, '$i$' denotes the index of the phase winding using zero style indexing.  For example, phase winding \\#1 has an index of $i=0$ while phase winding \\#3 has an index of $i=2$."
   ]
  },
  {
   "cell_type": "markdown",
   "id": "41ceaa48",
   "metadata": {},
   "source": [
    "Thus, assuming $n$ is a mutliple of three,\n",
    "$$ n = 3m \\quad \\text{where } m\\in\\mathbb{N}$$"
   ]
  },
  {
   "cell_type": "markdown",
   "id": "90919796",
   "metadata": {},
   "source": [
    "the phase angle of the $n$'th harmonic, regardless of which phase winding it rests on the same branch as, is a multiple of $2\\pi$ or $360^\\circ$ which is means it is congruent with a phase angle of $0^\\circ$.  \n",
    "\n",
    "$$ \\theta_n = ni\\,\\frac{2\\pi}{3} = mi\\cdot2\\pi  \\equiv 0^\\circ$$"
   ]
  },
  {
   "cell_type": "markdown",
   "id": "35009e6c",
   "metadata": {},
   "source": [
    "When $n$ is not a multiple of three -- for example, when $n=5$ -- the phase angle of the current source is given by:  \n",
    "\n",
    "$$ \\theta_5 = \\frac{5}{3}\\, 2\\pi i = \\left(1 + \\frac{2}{3}\\right)\\,2\\pi i = 2\\pi i + \\frac{4\\pi i}{3} \\equiv \\frac{4\\pi i}{3}i = \\frac{2}{3}\\,2\\pi i$$"
   ]
  },
  {
   "cell_type": "markdown",
   "id": "ed377363",
   "metadata": {},
   "source": [
    "It is also given by:  \n",
    "\n",
    "$$\\theta_5 \\equiv (5\\,\\%\\,3)\\,\\frac{1}{3}\\,2\\pi i = \\frac{2}{3}\\,2\\pi i$$"
   ]
  },
  {
   "cell_type": "markdown",
   "id": "e13fb88a",
   "metadata": {},
   "source": [
    "Here, '$\\%$' denotes 'modulo'.  Moreover, '$5\\,\\%\\,3$' denotes 'five modulo three', or, in other words, 'the remainder of five divided by three', which is equal to two."
   ]
  },
  {
   "cell_type": "markdown",
   "id": "be2829f1",
   "metadata": {},
   "source": [
    "The above relationship can be generalized to all harmonics, including the first.  \n",
    "\n",
    "$$ \\theta_n \\equiv (n\\,\\%\\,3)\\,\\frac{1}{3}\\,2\\pi i$$"
   ]
  },
  {
   "cell_type": "markdown",
   "id": "6319f622",
   "metadata": {},
   "source": [
    "For another example, when $n=3$:  \n",
    "\n",
    "$$ \\theta_3 \\equiv (3\\,\\%\\,3)\\,\\frac{1}{3}\\,2\\pi i = 0$$"
   ]
  },
  {
   "cell_type": "markdown",
   "id": "c4446d48",
   "metadata": {},
   "source": [
    "This can be further generalized to power systems with winding configurations that consist of more or less than three pairs of windings that are, when the degree of rotation is equal to $2\\pi$ or $360^\\circ$ divided by the number of winding pairs, henceforth '$N$', rotationally symmetric around the alternator."
   ]
  },
  {
   "cell_type": "markdown",
   "id": "8cf89c74",
   "metadata": {},
   "source": [
    "$$ \\theta_n \\equiv (n\\,\\%\\,N)\\,\\frac{1}{N}\\,2\\pi i$$"
   ]
  },
  {
   "cell_type": "markdown",
   "id": "75bf934a",
   "metadata": {},
   "source": [
    "where $i$ is a non-negative whole number that is less than $N$."
   ]
  },
  {
   "cell_type": "markdown",
   "id": "69a30a20",
   "metadata": {},
   "source": [
    "### Non-triplen Harmonics\n",
    "\n",
    "Now that we have that covered let's look at some harmonics that are *not* a multiple of three.  First we will do the fifth harmonic."
   ]
  },
  {
   "cell_type": "markdown",
   "id": "224db2d7",
   "metadata": {},
   "source": [
    "Recall that:  \n",
    "\n",
    "$$ \\theta_5\\equiv \\frac{2}{3}2\\pi i$$\n",
    "\n",
    "and let $\\theta:=\\theta(i)$ and $\\theta_n:=\\theta_n(i)$.  It then follows that:  \n",
    "\n",
    "\\begin{align*}\n",
    "     \\theta_5(0) &= 0 \\\\\n",
    "     \\theta_5(1) &= \\frac{2}{3}\\,2\\pi = 240^\\circ \\equiv -120^\\circ \\\\ \\\\\n",
    "     \\theta_5(2) &= \\frac{4}{3}\\,360^\\circ \\equiv 120^\\circ\n",
    "\\end{align*}\n"
   ]
  },
  {
   "cell_type": "markdown",
   "id": "693ca93c",
   "metadata": {},
   "source": [
    "Via Millman's theorem,  \n",
    "\n",
    "$$ E = \\frac{50\\mathrm{V}}{1002\\,\\Omega}\\,\\frac{1\\angle\\,0^\\circ + 1\\angle\\,120^\\circ + 1\\angle\\!-120^\\circ}{\\frac{3}{1002\\,\\Omega} + 1\\,\\Omega} = 0$$"
   ]
  },
  {
   "cell_type": "markdown",
   "id": "52381a21",
   "metadata": {},
   "source": [
    "Via the above and KVL, the voltages dropped across the resistances resting on each branch, except the neutral one, is given by:  \n",
    "\n",
    "$$ E_1 = 50\\mathrm{V}\\angle\\,0^\\circ$$\n",
    "$$ E_2 = 50\\mathrm{V}\\angle\\,240^\\circ$$\n",
    "$$ E_3 = 50\\mathrm{V}\\angle\\,120^\\circ$$\n",
    "\n",
    "Ultimately,  $E_k = 50\\mathrm{V}\\angle\\,\\theta_5(k-1)$."
   ]
  },
  {
   "cell_type": "markdown",
   "id": "709b8327",
   "metadata": {},
   "source": [
    "Via the above and Ohm's Law, the current flowing through each \"hot\" branch is given by:  \n",
    "\n",
    "$$ I_k = \\frac{E_k}{1002\\,\\Omega} \\approxeq 49.9\\mathrm{mA}\\,\\angle\\,\\theta_5(k-1)$$"
   ]
  },
  {
   "cell_type": "markdown",
   "id": "09bad7b9",
   "metadata": {},
   "source": [
    "The line voltage is, per usual, equal to the current flowing through the line, but in terms of volts instead of amps."
   ]
  },
  {
   "cell_type": "markdown",
   "id": "2e7af1d0",
   "metadata": {},
   "source": [
    "Via KCL, the current flowing through the load resistance is:  \n",
    "\n",
    "$$ I_\\text{load} = 50\\mathrm{mA}\\,\\angle\\,\\theta_5(i) - I_k \\approxeq 0.1\\mathrm{mA}\\,\\angle\\,\\theta_5(i)$$"
   ]
  },
  {
   "cell_type": "markdown",
   "id": "54f14264",
   "metadata": {},
   "source": [
    "The index, which is equal to $i$ when using zero-style indexing and is equal to $k$ when using one-style indexing, is determined by the branch that the load rests on."
   ]
  },
  {
   "cell_type": "markdown",
   "id": "03a4a3a2",
   "metadata": {},
   "source": [
    "Via Ohm's Law,  \n",
    "\n",
    "$$ E_\\text{load} = -1000\\,\\Omega \\cdot I_\\text{load} \\approxeq -0.1\\mathrm{V}\\angle\\,\\theta_5(i)$$"
   ]
  },
  {
   "cell_type": "markdown",
   "id": "58171c2e",
   "metadata": {},
   "source": [
    "The neutral current, just like the neutral voltage, is equal to zero.  \n",
    "\n",
    "$$ I_\\mathrm{N} = E \\cdot 1\\,\\Omega = 0 \\cdot 1\\,\\Omega = 0$$"
   ]
  },
  {
   "cell_type": "markdown",
   "id": "7bea4b10",
   "metadata": {},
   "source": [
    "### Analysis of the Effects of Triplen Harmonics in a Y-Y Circuit\n",
    "\n",
    "To recap, the neutral voltage is equal to zero when looking at non-triplen harmonics, while the neutral voltage is non-zero when looking at triplen harmonics.  This means that only the triplen harmonics are contributing to the neutral current.  This effect is illustrated in the diagram below:  \n",
    "\n",
    "![effects-triplen-harmonics](https://www.allaboutcircuits.com/uploads/articles/harmonic-currents-add-in-neutral-conductor.jpg)"
   ]
  },
  {
   "cell_type": "markdown",
   "id": "fe06df0e",
   "metadata": {},
   "source": [
    "We can also see how, to satisfy KCL, the neutral current is equal to three times the sum of the triplen harmonics flowing through any single branch $I_\\mathrm{N}=3I$.  The non-triplen harmonics add up to zero."
   ]
  },
  {
   "cell_type": "markdown",
   "id": "bbd41686",
   "metadata": {},
   "source": [
    "Note that the '$\\omega$' symbol found in the labels in the above illustration denote the fundamental angular velocity, just like that same symbol does throughout this document."
   ]
  },
  {
   "cell_type": "markdown",
   "id": "29db859d",
   "metadata": {},
   "source": [
    "It should be obvious that the \"neutral\" conductor isn't really neutral;  It has a non-zero current flowing through it.  This means the neutral conductor may fail if it does not have adequate ampacity and maybe other attributes.  But what happens when we remove the neutral conductor?"
   ]
  },
  {
   "cell_type": "markdown",
   "id": "0ecbf16e",
   "metadata": {},
   "source": [
    "This will have no impact when looking at the non-triplen harmonics.  When looking at the triplen harmonics, via Millman's theorem, the voltage running across each branch is given by:  \n",
    "\n",
    "$$ E = \\frac{150\\mathrm{V}\\angle\\,0^\\circ}{1002\\,\\Omega}\\,\\frac{1002\\,\\Omega}{3} = 50\\mathrm{V}\\angle\\,0^\\circ$$"
   ]
  },
  {
   "cell_type": "markdown",
   "id": "46d4bcec",
   "metadata": {},
   "source": [
    "Via KVL, the voltage dropped across the resistances resting on each branch is given by:  \n",
    "\n",
    "$$ E_R = E_1 = E_2 =E_3$$\n",
    "\n",
    "$$ 50\\mathrm{V}\\angle\\,0^\\circ - E_R = E$$\n",
    "\n",
    "$$ -E_R = 0$$"
   ]
  },
  {
   "cell_type": "markdown",
   "id": "d1584ab1",
   "metadata": {},
   "source": [
    "Without the neutral conductor, the triplen harmonics have an amplitude of zero across each line or branch!"
   ]
  },
  {
   "cell_type": "markdown",
   "id": "ae414cb9",
   "metadata": {},
   "source": [
    "Before I explain what happened to the currents associated with these harmonics, something needs to be properly understood about the load *device* and it's inner workings, which includes the internal load *resistance*.  While it is true that there is no voltage dropped across the resistances, what we mean is the line resistance and the two source resistances, one with a value of $1\\,\\Omega$ and the other with a value of $1000\\,\\Omega$.  "
   ]
  },
  {
   "cell_type": "markdown",
   "id": "f0891556",
   "metadata": {},
   "source": [
    "Furthermore, there is zero voltage running across the two terminals that connect the load *device*, which is modelled as a parallel circuit consisting of an internal load resistance in parallel with an imaginary current source, with the rest of the circuit;  But, while there is zero voltage running across the terminals of this device, there is a current with an amplitude of $50\\mathrm{mA}$ flowing through this device and subsequently a voltage drop across the internal load resistance.  Via Ohm's Law, this voltage is given by:  "
   ]
  },
  {
   "cell_type": "markdown",
   "id": "ba90c726",
   "metadata": {},
   "source": [
    "$$ E_\\text{load} = -1000\\,\\Omega \\cdot 50\\mathrm{mA}\\,\\angle\\,0^\\circ = 50\\mathrm{V}\\angle\\,180^\\circ$$"
   ]
  },
  {
   "cell_type": "markdown",
   "id": "3abae328",
   "metadata": {},
   "source": [
    "Now that the inner workings of the load device has been explained we can continue with our explanation of what happened to the triplin harmonic currents. "
   ]
  },
  {
   "cell_type": "markdown",
   "id": "d095dcbe",
   "metadata": {},
   "source": [
    "Instead of being divided up between the line or branch current and the internal load current, the triplin harmonic currents stay inside the device, leaving all of the current to flow through the internal load resistance."
   ]
  },
  {
   "cell_type": "markdown",
   "id": "d12d94ea",
   "metadata": {},
   "source": [
    "**With the neutral conductor**, the line current and internal load current are given by:\n",
    "\n",
    "$$ I_\\text{line} = I \\approxeq 49.75\\mathrm{mA}\\,\\angle\\,0^\\circ$$\n",
    "\n",
    "and,\n",
    "$$ I_\\text{load} \\approxeq 0.25\\mathrm{mA}\\,\\angle\\,0^\\circ$$"
   ]
  },
  {
   "cell_type": "markdown",
   "id": "e9f83777",
   "metadata": {},
   "source": [
    "These of course add up to $50\\mathrm{mA}\\,\\angle\\,0^\\circ$, which is equal to the current flow created by the imaginary current source inside the load device which is equal to the current flowing through the internal load resistance when there is no neutral conductor."
   ]
  },
  {
   "cell_type": "markdown",
   "id": "2620f09d",
   "metadata": {},
   "source": [
    "$$ I_\\text{line} + I_\\text{load} = 50\\mathrm{mA}\\,\\angle\\,0^\\circ$$"
   ]
  },
  {
   "cell_type": "markdown",
   "id": "bb3e2f8a",
   "metadata": {},
   "source": [
    "**Without the neutral conductor**:  \n",
    "\n",
    "$$ I_\\text{line} = 0\\mathrm{mA}$$\n",
    "\n",
    "and, \n",
    "$$I_\\text{load} = 50\\mathrm{mA}\\,\\angle\\,0^\\circ $$"
   ]
  },
  {
   "cell_type": "markdown",
   "id": "4220ea34",
   "metadata": {},
   "source": [
    "# Analysis of the Effects of Triplen Harmonics in a Delta-Wye(Y) Circuit\n",
    "\n",
    "Since removing the neutral wire didn’t seem to work in eliminating the problems caused by harmonics, perhaps switching to a Δ configuration will. Let’s try a Δ source instead of a Y, keeping the load in its present Y configuration, and see what happens.\n",
    "\n",
    "The measured parameters will be line current (voltage across Rline, nodes 0 and 8), load phase voltage (nodes 8 and 7), and source phase current (voltage across Rsource, nodes 1 and 2). (Figure below)"
   ]
  },
  {
   "cell_type": "markdown",
   "id": "7075df3f",
   "metadata": {},
   "source": [
    "![nonlinear-delta-y-power-system](https://www.allaboutcircuits.com/uploads/articles/delta-y-sourceload-with-harmonics.jpg)"
   ]
  },
  {
   "cell_type": "markdown",
   "id": "77991e30",
   "metadata": {},
   "source": [
    "## First Harmonic"
   ]
  },
  {
   "cell_type": "markdown",
   "id": "a0d78880",
   "metadata": {},
   "source": [
    "### Line Currents\n",
    "\n",
    "First we convert the \"Y\"-connect load into it's $\\Delta$-connected equivalent."
   ]
  },
  {
   "cell_type": "markdown",
   "id": "845c316b",
   "metadata": {},
   "source": [
    "Using the paradigm that says that, in the \"Y\"-connected load, load \\#1 faces terminal $\\mathrm{A}$, load \\#2 faces terminal $\\mathrm{C}$, and load \\#3 faces terminal $\\mathrm{B}$,  \n",
    "\n",
    "$$ R_\\text{AB} = R_\\text{AC} = R_\\text{BC} = 3R_\\text{load} = 3000\\,\\Omega$$"
   ]
  },
  {
   "cell_type": "markdown",
   "id": "2bc5fbfe",
   "metadata": {},
   "source": [
    "Now, for a note on load polarities:  The positive pole of $E_\\text{AC}$ faces terminal $\\mathrm{C}$;  $E_\\text{AB}$ faces terminal $\\mathrm{A}$;  and $E_\\text{BC}$ faces terminal $\\mathrm{B}$."
   ]
  },
  {
   "cell_type": "markdown",
   "id": "a50e2941",
   "metadata": {},
   "source": [
    "$$ E_\\text{AC} = 120\\mathrm{V}\\angle\\,0^\\circ$$\n",
    "\n",
    "$$ E_\\text{CB} = 120\\mathrm{V}\\angle\\,120^\\circ$$\n",
    "\n",
    "$$ E_\\text{BA} = 120\\mathrm{V}\\angle\\,240^\\circ$$"
   ]
  },
  {
   "cell_type": "markdown",
   "id": "bae9919b",
   "metadata": {},
   "source": [
    "$$ I_\\text{AC} = 40\\mathrm{mA}\\angle\\,0^\\circ$$\n",
    "\n",
    "$$ I_\\text{CB} = 40\\mathrm{mA}\\angle\\,120^\\circ$$\n",
    "\n",
    "$$ I_\\text{BA} = 40\\mathrm{mA}\\angle\\,240^\\circ$$"
   ]
  },
  {
   "cell_type": "markdown",
   "id": "c58aa0ae",
   "metadata": {},
   "source": [
    "Assuming **line current \\#1**, denoted as '$I_1$', enters terminal $\\mathrm{A}$, via KCL,  \n",
    "\n",
    "$$ I_\\text{AC} + I_1 - I_\\text{BA} = 0$$\n",
    "\n",
    "\\begin{align*}\n",
    "    I_1 = I_\\text{BA} - I_\\text{AC} &= 40\\mathrm{mA}\\,\\big(1\\angle\\,240^\\circ - 1\\angle\\,0^\\circ \\big) \\\\\n",
    "     &\\approxeq -40\\mathrm{mA}\\,(1.5+8.66j) \\\\\n",
    "     &\\approxeq 69.28\\mathrm{mA}\\,\\angle\\,210^\\circ\n",
    "\\end{align*}     "
   ]
  },
  {
   "cell_type": "markdown",
   "id": "18a1a321",
   "metadata": {},
   "source": [
    "Thus,  \n",
    "\n",
    "$$ I_1 = \\frac{120\\mathrm{mA}}{\\sqrt{3}}\\,\\angle\\,210^\\circ \\approxeq 69.28\\mathrm{mA}\\,\\angle\\,210^\\circ$$"
   ]
  },
  {
   "cell_type": "markdown",
   "id": "fa302cec",
   "metadata": {},
   "source": [
    "Assuming **line current \\#2** ($I_2$) enters terminal $\\mathrm{C}$, via KCL,  \n",
    "\n",
    "$$ I_2 - I_\\text{AC} + I_\\text{CB} = 0$$\n",
    "\n",
    "\\begin{align*}\n",
    "    I_2 &= 40\\mathrm{mA}\\,\\big(1\\angle\\,0^\\circ - 1\\angle\\,120^\\circ \\big) \\\\\n",
    "     &\\approxeq 40\\mathrm{mA}\\,(1.5 - 1.866j) \\\\\n",
    "     &\\approxeq 69.28\\mathrm{mA}\\,\\angle\\,330^\\circ\n",
    "\\end{align*}     "
   ]
  },
  {
   "cell_type": "markdown",
   "id": "f735b503",
   "metadata": {},
   "source": [
    "And, assuming **line current \\#3** ($I_3$) enters terminal $\\mathrm{B}$, via KCL,  \n",
    "\n",
    "$$ I_3  + I_\\text{AB} - I_\\text{BC} = 0$$\n",
    "\n",
    "\\begin{align*}\n",
    "    I_3 &= 40\\mathrm{mA}\\,\\big(1\\angle\\,120^\\circ - 1\\angle\\,240^\\circ \\big) \\\\\n",
    "     &\\approxeq 69.28\\mathrm{mA}\\,\\angle\\,90^\\circ\n",
    "\\end{align*}"
   ]
  },
  {
   "cell_type": "markdown",
   "id": "ed97d4a0",
   "metadata": {},
   "source": [
    "### Phase Currents\n",
    "\n",
    "Next we will find the phase currents (the currents flowing through each phase winding and source resistance).  \n",
    "\n",
    "Via the fact that the amplitude of each line current, denoted as '$I_\\text{line}$', is given by:  \n",
    "\n",
    "$$ I_\\text{line} = |I_1| = |I_2| = |I_3| = \\frac{120\\mathrm{mA}}{\\sqrt{3}} \\approxeq 69.28\\mathrm{mA}$$\n",
    "\n",
    "in conjunction with equation (4b) in the [Thee-phase \"Y\" Delta Configuration](/notebooks/CircuitTheory/AlternatingCurrent/PolyphaseCircuits/ThreePhase-Y-Delta-Config.ipynb) section of this chapter, the amplitude of each phase or source current, denoted as '$I_\\text{phase}$', is given by:  \n",
    "\n",
    "$$ I_\\text{line} = \\sqrt{3}\\,I_\\text{phase}$$\n",
    "\n",
    "$$ I_\\text{phase} = \\frac{I_\\text{line}}{\\sqrt{3}} = \\frac{120\\mathrm{mA}}{3} = 40\\mathrm{mA}$$"
   ]
  },
  {
   "cell_type": "markdown",
   "id": "13a39e6c",
   "metadata": {},
   "source": [
    "Now let's test the above against KCL and find the phase angles of each phase current in the process.  Via KCL, phase currents \\#1 to \\#3, denoted as '$i_1$', '$i_2$', and '$i_3$' respectively, are given by: \n",
    "\n",
    "\\begin{equation}\\tag{2.1}\n",
    "     i_1 - i_2 - I_2 = 0\n",
    "\\end{equation}\n",
    "\n",
    "\\begin{equation}\\tag{2.2}\n",
    "     i_3 - i_1 -I_1 = 0\n",
    "\\end{equation}\n",
    "\n",
    "\\begin{equation}\\tag{2.3}\n",
    "      i_2 - i_3 - I_3 = 0\n",
    "\\end{equation}"
   ]
  },
  {
   "cell_type": "markdown",
   "id": "a16ccf5e",
   "metadata": {},
   "source": [
    "As it turns out, each phase current is equal to it's corresponding load current."
   ]
  },
  {
   "cell_type": "markdown",
   "id": "8dedf962",
   "metadata": {},
   "source": [
    "## Other Harmonics\n",
    "\n",
    "To find the attributes of the harmonics other than the first, which are powered solely by the current sources found in the nonlinear loads, we must first convert the $\\Delta$-connected source into it's \"Y\"-connected equivalent."
   ]
  },
  {
   "cell_type": "markdown",
   "id": "69b61d39",
   "metadata": {},
   "source": [
    "Using the paradigm that says that, in the equivalent \"Y\"-connected source, phase (winding) \\#1 faces terminal $\\mathrm{A}$, phase \\#2 faces terminal $\\mathrm{C}$, and phase \\#3 faces terminal $\\mathrm{B}$, via the formulae for converting from $\\Delta$ configurations to their equivalent \"Y\" configuration in the DC Network Analysis chapter,  the source resistance ($R_\\text{src}$) in the equivalent \"Y\"-connected source is equal to one third of the same quantity in the $\\Delta$-connected source.  \n",
    "\n",
    "$$ R_\\text{src} = R_\\mathrm{A} = R_\\mathrm{B} = R_\\mathrm{C} = \\frac{1}{3}\\,\\Omega$$"
   ]
  },
  {
   "cell_type": "markdown",
   "id": "938bbe50",
   "metadata": {},
   "source": [
    "Next we must convert the parallel circuits realizing said loads into their Theivin equivalent circuits."
   ]
  },
  {
   "cell_type": "markdown",
   "id": "a13a4bc9",
   "metadata": {},
   "source": [
    "Via Ohm's Law, the amplitude of the Theivin source, denoted as '$E_\\text{Theivin}$', is given by:  \n",
    "\n",
    "$$ E_\\text{Theivin} = I_\\text{src}R_\\text{load} = 50\\mathrm{mA}\\cdot 1000\\,\\Omega = 50\\mathrm{V}$$"
   ]
  },
  {
   "cell_type": "markdown",
   "id": "c94f706e",
   "metadata": {},
   "source": [
    "Now we can apply Millman's Theorem, which will give the voltage running across each branch of this equivalent Y-Y power system since it actually forms a parallel circuit with three branches.  The amplitude of this quantities waveform depends on the harmonic number, among other things. "
   ]
  },
  {
   "cell_type": "markdown",
   "id": "dd18a200",
   "metadata": {},
   "source": [
    "## Triplen Harmonics\n",
    "\n",
    "Here we find the third and ninth harmonics' attributes."
   ]
  },
  {
   "cell_type": "markdown",
   "id": "f7462506",
   "metadata": {},
   "source": [
    "Via Millman's Theorem, the voltage running across each branch ($E$), which includes a source, line, and load resistance ($R_\\text{src}$, $R_\\text{load}$, and $R_\\text{line}$) and an equivalent Theivin source ($E_\\text{Theivin}\\angle\\,0^\\circ)$ all in series with one another, is equal to $E_\\text{Theivin}\\angle\\,0^\\circ$.  \n",
    "\n",
    "$$ E = E_\\text{Theivin}\\angle\\,0^\\circ = 50\\mathrm{V}\\angle\\,0^\\circ$$"
   ]
  },
  {
   "cell_type": "markdown",
   "id": "e65552a9",
   "metadata": {},
   "source": [
    "This quantity ($E$) is non-zero because the Theivin sources of triplen harmonics are in phase."
   ]
  },
  {
   "cell_type": "markdown",
   "id": "0d461fa1",
   "metadata": {},
   "source": [
    "Via KVL, the voltage running across the source and line resistances along with the terminals of of the load device is equal to zero volts.  All of the current produce by the internal current source flows through the internal load resistance that is in parallel with said current source."
   ]
  },
  {
   "cell_type": "markdown",
   "id": "08be61b2",
   "metadata": {},
   "source": [
    "Thus, via Ohm's Law, the branch current, and subsequently the line and source or phase currents, are equal to zero amps."
   ]
  },
  {
   "cell_type": "markdown",
   "id": "e1bec792",
   "metadata": {},
   "source": [
    "Note that if the aforementioned currents had a non-zero amplitude, KCL would be violated at the junction between the phase windings.  This is due to the fact that the current sources are all in phase."
   ]
  },
  {
   "cell_type": "markdown",
   "id": "2733f0ab",
   "metadata": {},
   "source": [
    "## Non-triplen Harmonics\n",
    "\n",
    "Here we analyse the fifth and seventh harmonics."
   ]
  },
  {
   "cell_type": "markdown",
   "id": "ada974df",
   "metadata": {},
   "source": [
    "Via Millman's Theorem, the voltage running across each branch is equal to zero volts.  \n",
    "\n",
    "$$ E = 0\\mathrm{V}$$"
   ]
  },
  {
   "cell_type": "markdown",
   "id": "fcb75823",
   "metadata": {},
   "source": [
    "This is because the current sources of these harmonics are out of phase and their phase angles are symmetric."
   ]
  },
  {
   "cell_type": "markdown",
   "id": "c5a59462",
   "metadata": {},
   "source": [
    "Via the above equation and KVL, the voltage dropped across the source, line and load resistances is equal to $50\\mathrm{V}\\angle\\,\\theta_n(i)$.  Recall that '$n$' denotes the harmonic number and '$i$' denotes the index of the load using zero-style indexing.  "
   ]
  },
  {
   "cell_type": "markdown",
   "id": "56bd312b",
   "metadata": {},
   "source": [
    "Note that, in the context of the Theivin equivalent circuit, the voltage running across the load resistance is equal to the voltage running across the load device, not to be confused with the voltage running across the internal load resistance, which is a different quantity.  The value of the internal load resistance and the load resistance in the Theivin equivalent circuit are the same, however."
   ]
  },
  {
   "cell_type": "markdown",
   "id": "0b6068f2",
   "metadata": {},
   "source": [
    "### Line Currents"
   ]
  },
  {
   "cell_type": "markdown",
   "id": "7f565396",
   "metadata": {},
   "source": [
    "Via Ohm's Law, the current flowing through line \\#k is given by:  \n",
    "\n",
    "$$ 50\\mathrm{V}\\angle\\,\\theta_n(i) = I_k\\,\\left(1000 + 1 + \\frac{1}{3} \\right)\\,\\Omega = I_k\\,\\frac{3004\\,\\Omega}{3}$$\n",
    "\n",
    "where $n\\in\\{5, 7\\}$, $i=k-1$, and $k\\in\\{1,2,3\\}$."
   ]
  },
  {
   "cell_type": "markdown",
   "id": "83561c6c",
   "metadata": {},
   "source": [
    "$$ I_k = \\frac{150\\mathrm{A}}{3004}\\,\\angle\\,\\theta_n(i)$$"
   ]
  },
  {
   "cell_type": "code",
   "execution_count": 14,
   "id": "8be59c61",
   "metadata": {},
   "outputs": [
    {
     "data": {
      "text/plain": [
       "0.049933422103861515"
      ]
     },
     "execution_count": 14,
     "metadata": {},
     "output_type": "execute_result"
    }
   ],
   "source": [
    "150/3004"
   ]
  },
  {
   "cell_type": "markdown",
   "id": "acdd9283",
   "metadata": {},
   "source": [
    "$$ I_k \\approxeq 49.93\\mathrm{mA}\\,\\angle\\,\\theta_n(i)$$"
   ]
  },
  {
   "cell_type": "markdown",
   "id": "c46ca055",
   "metadata": {},
   "source": [
    "The amplitude of each line current is thus,  \n",
    "\n",
    "$$ I_\\text{line} = |I_k| \\approxeq 49.93\\mathrm{mA}$$"
   ]
  },
  {
   "cell_type": "markdown",
   "id": "49ce77b2",
   "metadata": {},
   "source": [
    "### Phase Currents\n",
    "\n",
    "Going back to the original $\\Delta$-connect source, the amplitude of each phase current is given by:  \n",
    "\n",
    "$$ I_\\text{line} = \\sqrt{3}\\,I_\\text{phase}$$"
   ]
  },
  {
   "cell_type": "markdown",
   "id": "f564dc78",
   "metadata": {},
   "source": [
    "$$ I_\\text{phase} = \\frac{150\\mathrm{A}}{\\sqrt{3}\\,3004}\\approxeq 28.83\\mathrm{mA}$$"
   ]
  },
  {
   "cell_type": "code",
   "execution_count": 15,
   "id": "e9166bb2",
   "metadata": {},
   "outputs": [
    {
     "data": {
      "text/plain": [
       "0.028829074693223655"
      ]
     },
     "execution_count": 15,
     "metadata": {},
     "output_type": "execute_result"
    }
   ],
   "source": [
    "150/(np.sqrt(3)*3004)"
   ]
  },
  {
   "cell_type": "markdown",
   "id": "c277968d",
   "metadata": {},
   "source": [
    "Now, the current (not *just* the amplitude) flowing through phase (winding) \\#$k$, denoted as '$i_k$', is given by:  \n",
    "\n",
    "$$ i_k = \\frac{I_k}{\\sqrt{3}}$$"
   ]
  },
  {
   "cell_type": "markdown",
   "id": "0bfde887",
   "metadata": {},
   "source": [
    "For the **fifth harmonic**, the phase currents are:  \n",
    "\n",
    "$$ i_1 \\approxeq 28.83\\mathrm{mA}\\,\\angle\\,\\Theta_1$$\n",
    "\n",
    "$$ i_2 \\approxeq 28.83\\mathrm{mA}\\,\\angle\\,\\Theta_2$$\n",
    "\n",
    "$$ i_3 \\approxeq 28.83\\mathrm{mA}\\,\\angle\\,\\Theta_3$$"
   ]
  },
  {
   "cell_type": "markdown",
   "id": "2660d811",
   "metadata": {},
   "source": [
    "To find the first phase angle of the first phase current ($\\Theta_1$), first we solve for $\\varphi$ in the equation below:  \n",
    "\n",
    "$$ 2|i_k|\\,\\cos\\varphi = I_\\text{line}$$"
   ]
  },
  {
   "cell_type": "markdown",
   "id": "0c9526a0",
   "metadata": {},
   "source": [
    "Dividing throughout by $|I_k| = I_\\text{line}$ and multiplying throughout by $\\sqrt{3}$ gives:  \n",
    "\n",
    "$$ 2\\,\\cos\\varphi = \\sqrt{3}$$"
   ]
  },
  {
   "cell_type": "markdown",
   "id": "2f2f08da",
   "metadata": {},
   "source": [
    "Finally,  \n",
    "\n",
    "$$ \\varphi = \\arccos \\frac{\\sqrt{3}}{2} = 30^\\circ$$"
   ]
  },
  {
   "cell_type": "markdown",
   "id": "79a173c3",
   "metadata": {},
   "source": [
    "$$ \\Theta_1 = 210^\\circ$$\n",
    "\n",
    "$$ \\Theta_3 = -30^\\circ$$"
   ]
  },
  {
   "cell_type": "markdown",
   "id": "3dcd8d6f",
   "metadata": {},
   "source": [
    "Via KCL,  \n",
    "\n",
    "$$ i_1 + I_1 - i_3 = 0$$"
   ]
  },
  {
   "cell_type": "markdown",
   "id": "772cdf56",
   "metadata": {},
   "source": [
    "Dividing throughout by $|I_k| = I_\\text{line}$ and multiplying throughout by $\\sqrt{3}$ gives:  \n",
    "\n",
    "$$ 1\\angle\\,210^\\circ + \\sqrt{3}\\angle\\,0^\\circ - 1\\angle\\!-30^\\circ = 1\\angle\\,210^\\circ + 1\\angle\\,150^\\circ + \\sqrt{3}\\angle\\,0^\\circ = 0$$"
   ]
  },
  {
   "cell_type": "markdown",
   "id": "5a2dfc0f",
   "metadata": {},
   "source": [
    "Which leaves us with:  \n",
    "\n",
    "$$ \\sqrt{3}\\angle\\,0^\\circ = 1\\angle\\,30^\\circ + 1\\angle\\!-30^\\circ$$"
   ]
  },
  {
   "cell_type": "markdown",
   "id": "b63ebb0d",
   "metadata": {},
   "source": [
    "The test was passed, verifying the phase angles of $i_1$ and $i_3$."
   ]
  },
  {
   "cell_type": "markdown",
   "id": "4456dae6",
   "metadata": {},
   "source": [
    "Now we find $i_2$.  Via KCL,  \n",
    "\n",
    "$$ I_2+i_2-i_1 =0$$"
   ]
  },
  {
   "cell_type": "markdown",
   "id": "bb165c4a",
   "metadata": {},
   "source": [
    "Dividing throughout by $|I_k| = I_\\text{line}$ and multiplying throughout by $\\sqrt{3}$ gives:  \n",
    "\n",
    "$$ \\sqrt{3}\\angle\\,240^\\circ + 1\\angle\\,\\Theta_2 - 1\\angle\\,210^\\circ = 0$$"
   ]
  },
  {
   "cell_type": "markdown",
   "id": "f12bcd8a",
   "metadata": {},
   "source": [
    "To make solving for $\\Theta_2$ easier, let's convert each complex number in the above equation into it's rectangular form.  \n",
    "\n",
    "$$ \\sqrt{3}\\,\\big(\\cos240^\\circ + j\\,\\sin240^\\circ \\big) + \\cos\\Theta_2 + j\\,\\sin\\Theta_2 - \\cos210^\\circ - j\\,\\sin210^\\circ = 0$$"
   ]
  },
  {
   "cell_type": "markdown",
   "id": "9dcfa1b7",
   "metadata": {},
   "source": [
    "Next, we solve for $\\Theta_2$ in the pair of equations below:  \n",
    "\n",
    "$$ \\cos\\Theta_2 = \\cos210^\\circ - \\sqrt{3}\\,\\cos240^\\circ$$\n",
    "\n",
    "$$ \\sin\\Theta_2 = \\sin210^\\circ - \\sqrt{3}\\,\\sin240^\\circ$$"
   ]
  },
  {
   "cell_type": "markdown",
   "id": "4b531729",
   "metadata": {},
   "source": [
    "Note that the first equation comes from the real value terms while the second comes from the imaginary ones."
   ]
  },
  {
   "cell_type": "code",
   "execution_count": 16,
   "id": "52f2c951",
   "metadata": {},
   "outputs": [
    {
     "data": {
      "text/plain": [
       "89.99999999999996"
      ]
     },
     "execution_count": 16,
     "metadata": {},
     "output_type": "execute_result"
    }
   ],
   "source": [
    "np.degrees(np.arccos(cos(210) - np.sqrt(3)*cos(240)))"
   ]
  },
  {
   "cell_type": "code",
   "execution_count": 17,
   "id": "f4bbef39",
   "metadata": {},
   "outputs": [
    {
     "data": {
      "text/plain": [
       "0.9999999999999992"
      ]
     },
     "execution_count": 17,
     "metadata": {},
     "output_type": "execute_result"
    }
   ],
   "source": [
    "sin(210) - np.sqrt(3)*sin(240)"
   ]
  },
  {
   "cell_type": "markdown",
   "id": "a034553e",
   "metadata": {},
   "source": [
    "Based on the above,  \n",
    "\n",
    "$$ \\Theta_2 = 90^\\circ$$"
   ]
  },
  {
   "cell_type": "markdown",
   "id": "895a5a60",
   "metadata": {},
   "source": [
    "# Analysis of the Effects of Triplen Harmonics in a Delta - Delta Circuit\n",
    "\n",
    "If we were to reconfigure the system into a $\\Delta$-$\\Delta$ arrangement, (Figure below) that should guarantee that each load component receives non-harmonic voltage, since each load phase would be directly connected in parallel with each source phase.\n",
    "\n",
    "The complete lack of any neutral wires or “center points” in a $\\Delta$-$\\Delta$ system prevents strange voltages or additive currents from occurring.\n",
    "\n",
    "It would seem to be the ideal solution. Let’s simulate and observe, analyzing line current, load phase voltage, and source phase current. See SPICE listing: “Delta-Delta source/load with harmonics”, “Fourier analysis: Fourier components of transient response v(0,6)”, and “Fourier components of transient response v(2,1)”."
   ]
  },
  {
   "cell_type": "markdown",
   "id": "d91bc348",
   "metadata": {},
   "source": [
    "![nonlinear-delta-delta-ac-power-system](https://www.allaboutcircuits.com/uploads/articles/delta-delta-source-load-with-harmonics.jpg)"
   ]
  },
  {
   "cell_type": "markdown",
   "id": "c0625555",
   "metadata": {},
   "source": [
    "## First Harmonic\n",
    "\n",
    "Here we analyse the first harmonic."
   ]
  },
  {
   "cell_type": "markdown",
   "id": "1cd75123",
   "metadata": {},
   "source": [
    "Via equation (4a) in the [Three-phase \"Y\" Delta Configuration](ThreePhase-Y-Delta-Config.ipynb) section of this chapter, the voltage dropped across load \\#1, \\#2, and \\#3 ($E_1$, $E_2$, and $E_3$) is given by:  \n",
    "\n",
    "\\begin{align*}\n",
    "    E_1 &= 120\\mathrm{V}\\angle\\,0^\\circ \\\\\n",
    "    E_2 &= 120\\mathrm{V}\\angle\\,120^\\circ \\\\\n",
    "    E_3 &= 120\\mathrm{V}\\angle\\,240^\\circ\n",
    "\\end{align*}    "
   ]
  },
  {
   "cell_type": "markdown",
   "id": "2dce7b28",
   "metadata": {},
   "source": [
    "The current running through load \\#$k$, denoted as '$i_k$', where $k\\in\\{1,2,3\\}$, is, via Ohm's Law,  \n",
    "\n",
    "$$ i_k = \\frac{E_k}{1000\\,\\Omega}$$"
   ]
  },
  {
   "cell_type": "markdown",
   "id": "67cf1cfd",
   "metadata": {},
   "source": [
    "Thus,  \n",
    "\n",
    "\\begin{align*}\n",
    "    i_1 &= 120\\mathrm{mA}\\,\\angle\\,0^\\circ \\\\\n",
    "    i_2 &= 120\\mathrm{mA}\\,\\angle\\,120^\\circ \\\\\n",
    "    i_3 &= 120\\mathrm{mA}\\,\\angle\\,240^\\circ\n",
    "\\end{align*}    "
   ]
  },
  {
   "cell_type": "markdown",
   "id": "74e0bd99",
   "metadata": {},
   "source": [
    "Below is a diagram of the same circuit with pole markings.  \n",
    "\n",
    "![nonlinear-delta-delta-w/poles](nonlinear-delta-delta-poles.svg)"
   ]
  },
  {
   "cell_type": "markdown",
   "id": "068ce759",
   "metadata": {},
   "source": [
    "Now we find the line currents.  "
   ]
  },
  {
   "cell_type": "markdown",
   "id": "936b1d59",
   "metadata": {},
   "source": [
    "**Line current \\#1**:  Via KCL,  \n",
    "\n",
    "$$ I_1 + i_1 - i_3 = 0$$\n",
    "\n",
    "\\begin{align*}\n",
    "    I_1 &= 120\\mathrm{mA}\\,\\big(1\\angle\\,240^\\circ - 1\\angle\\,0^\\circ \\big) \\\\\n",
    "     &\\approxeq -120\\mathrm{mA}\\,(1.5+0.866j) \\\\\n",
    "     &\\approxeq 207.85\\mathrm{mA}\\,\\angle\\,210^\\circ\n",
    "\\end{align*}     "
   ]
  },
  {
   "cell_type": "markdown",
   "id": "866cdb5c",
   "metadata": {},
   "source": [
    "To avoid approximations,  \n",
    "\n",
    "$$ I_1 = \\sqrt{3}\\,120\\mathrm{mA}\\,\\angle\\,210^\\circ$$"
   ]
  },
  {
   "cell_type": "markdown",
   "id": "d2f9e98d",
   "metadata": {},
   "source": [
    "**Line current \\#2**:  Via KCL,  \n",
    "\n",
    "$$ I_2 + i_2 - i_1 = 0$$  \n",
    "\n",
    "\\begin{align*}\n",
    "    I_2 &= 120\\mathrm{mA}\\,\\big(1\\angle\\,0^\\circ - 1\\angle\\,120^\\circ \\big) \\\\\n",
    "     &\\approxeq 120\\mathrm{mA}\\,(1.5-0.866j) \\\\\n",
    "     &\\approxeq 207.85\\mathrm{mA}\\,\\angle\\,330^\\circ\n",
    "\\end{align*}     "
   ]
  },
  {
   "cell_type": "markdown",
   "id": "c0ad5233",
   "metadata": {},
   "source": [
    "And, to avoid approximations,  \n",
    "\n",
    "$$ I_2 = \\sqrt{3}\\,120\\mathrm{mA}\\,\\angle\\,330^\\circ$$"
   ]
  },
  {
   "cell_type": "markdown",
   "id": "48375a53",
   "metadata": {},
   "source": [
    "**Line current \\#3**:  Via KCL,  \n",
    "\n",
    "\\begin{align*}\n",
    "    I_3 &= 120\\mathrm{mA}\\,\\big(1\\angle\\,120^\\circ - 1\\angle\\,240^\\circ \\big) \\\\\n",
    "     &= \\sqrt{3}\\,120\\mathrm{mA}\\,\\angle\\,90^\\circ \\\\\n",
    "     &\\approxeq 207.85\\mathrm{mA}\\,\\angle\\,90^\\circ\n",
    "\\end{align*}"
   ]
  },
  {
   "cell_type": "markdown",
   "id": "f135f869",
   "metadata": {},
   "source": [
    "Now, is each phase current equal to it's corresponding load current?  Via equation (4b) in the [Three-phase \"Y\" Delta Configuration](ThreePhase-Y-Delta-Config.ipynb) section of this chapter, their amplitudes are equal to one another, but what about phase angles?"
   ]
  },
  {
   "cell_type": "markdown",
   "id": "8468230c",
   "metadata": {},
   "source": [
    "**Phase current \\#1**:  Via KCL,  \n",
    "\n",
    "$$ I_{\\text{src}1} - I_{\\text{src}2} - I_2 = 0$$\n",
    "\n",
    "Dividing throughout by $120\\mathrm{mA}$ gives:  \n",
    "\n",
    "$$ 1\\angle\\,0^\\circ - 1\\angle\\,120^\\circ = \\sqrt{3}\\angle\\,330^\\circ$$"
   ]
  },
  {
   "cell_type": "code",
   "execution_count": 18,
   "id": "b1d574a4",
   "metadata": {},
   "outputs": [
    {
     "data": {
      "text/plain": [
       "(1.4999999999999998-0.8660254037844387j)"
      ]
     },
     "execution_count": 18,
     "metadata": {},
     "output_type": "execute_result"
    }
   ],
   "source": [
    "v = complex(1-cos(120), -sin(120))\n",
    "v"
   ]
  },
  {
   "cell_type": "code",
   "execution_count": 19,
   "id": "288b8ed2",
   "metadata": {},
   "outputs": [
    {
     "data": {
      "text/plain": [
       "-30.000000000000004"
      ]
     },
     "execution_count": 19,
     "metadata": {},
     "output_type": "execute_result"
    }
   ],
   "source": [
    "np.degrees(np.arctan(v.imag/v.real))"
   ]
  },
  {
   "cell_type": "markdown",
   "id": "d4fdfe49",
   "metadata": {},
   "source": [
    "The answer to the original question is yes!  The proof is that the equation obtained by applying KCL to two adjacent phase currents is the same as the equation obtained by applying KCL to the two corresponding load currents and then multiplying throughout by negative one."
   ]
  },
  {
   "cell_type": "markdown",
   "id": "a401066b",
   "metadata": {},
   "source": [
    "## Other Harmonics\n",
    "\n",
    "Here we look at what needs to be done to analyse harmonics other than the first."
   ]
  },
  {
   "cell_type": "markdown",
   "id": "d12dcbae",
   "metadata": {},
   "source": [
    "We may need to convert the power system into a Y-Y circuit before we can find the line currents and thus other attributes.  While it is true that, via equation (4b) in the [Three-phase \"Y\" Delta Configuration](ThreePhase-Y-Delta-Config.ipynb) section of this chapter, the amplitude of each line current is given by the amplitude of the phase current, which in this case is the current exiting the terminal of the load device;  Said current amplitude, which is also the leftovers from the intenal current source, is not always equal to $50\\mathrm{mA}$ and, thus, is not a given.  To find the line current we may have to first convert from a $\\Delta$-$\\Delta$ configuration to a Y-Y configuration and then apply Millman's Theorem to find the voltage running across each branch of the resulting parallel (Y-Y) circuit.  We can then apply some basic laws of circuit theory to find the line currents and other attributes."
   ]
  },
  {
   "cell_type": "markdown",
   "id": "3cd06d49",
   "metadata": {},
   "source": [
    "## Triplen Harmonics\n",
    "\n",
    "Here we analyse the third and ninth harmonics."
   ]
  }
 ],
 "metadata": {
  "kernelspec": {
   "display_name": "Python 3 (ipykernel)",
   "language": "python",
   "name": "python3"
  },
  "language_info": {
   "codemirror_mode": {
    "name": "ipython",
    "version": 3
   },
   "file_extension": ".py",
   "mimetype": "text/x-python",
   "name": "python",
   "nbconvert_exporter": "python",
   "pygments_lexer": "ipython3",
   "version": "3.8.10"
  }
 },
 "nbformat": 4,
 "nbformat_minor": 5
}
