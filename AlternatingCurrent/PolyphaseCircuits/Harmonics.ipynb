{
 "cells": [
  {
   "cell_type": "markdown",
   "id": "fc016692",
   "metadata": {},
   "source": [
    "# Harmonics in Polyphase Power Systems\n",
    "### *Chapter 10 - Polyphase AC Circuits*"
   ]
  },
  {
   "cell_type": "markdown",
   "id": "3a944e48",
   "metadata": {},
   "source": [
    "In the chapter on mixed-frequency signals, we explored the concept of harmonics in AC systems: frequencies that are integer multiples of the fundamental source frequency.\n",
    "\n",
    "With AC power systems where the source voltage waveform coming from an AC generator (alternator) is supposed to be a single-frequency sine wave, undistorted, there should be no harmonic content . . . ideally."
   ]
  },
  {
   "cell_type": "markdown",
   "id": "0383d9ac",
   "metadata": {},
   "source": [
    "## Nonlinear Components on AC Systems\n",
    "\n",
    "This would be true were it not for nonlinear components. Nonlinear components draw current disproportionately with respect to the source voltage, causing non-sinusoidal current waveforms.\n",
    "\n",
    "Examples of nonlinear components include gas-discharge lamps, semiconductor power-control devices (diodes, transistors, SCRs, TRIACs), Transformers (primary winding magnetization current is usually non-sinusoidal due to the B/H saturation curve of the core), and electric motors (again, when magnetic fields within the motor’s core operate near saturation levels).\n",
    "\n",
    "Even incandescent lamps generate slightly nonsinusoidal currents, as the filament resistance changes throughout the cycle due to rapid fluctuations in temperature.\n",
    "\n",
    "As we learned in the mixed-frequency chapter, any distortion of an otherwise sine-wave shaped waveform constitutes the presence of harmonic frequencies.\n",
    "\n",
    "When the nonsinusoidal waveform in question is symmetrical above and below its average centerline, the harmonic frequencies will be odd integer multiples of the fundamental source frequency only, with no even integer multiples.\n",
    "\n",
    "Most nonlinear loads produce current waveforms like this, and so even-numbered harmonics (2nd, 4th, 6th, 8th, 10th, 12th, etc.) are absent or only minimally present in most AC power systems."
   ]
  },
  {
   "cell_type": "markdown",
   "id": "ac392eb1",
   "metadata": {},
   "source": [
    "![nonsine-symmetric-waveforms](https://www.allaboutcircuits.com/uploads/articles/symmetrical-waveforms-example.jpg)"
   ]
  },
  {
   "cell_type": "markdown",
   "id": "d451bb8f",
   "metadata": {},
   "source": [
    "Examples of nonsymmetrical waveforms with even harmonics present are shown for reference in the figure below.\n",
    "\n",
    "![nonsine-nonsymmetric-waveforms](https://www.allaboutcircuits.com/uploads/articles/nonsymmetrical-waveforms-example.jpg)"
   ]
  },
  {
   "cell_type": "markdown",
   "id": "997a016a",
   "metadata": {},
   "source": [
    "Even though half of the possible harmonic frequencies are eliminated by the typically symmetrical distortion of nonlinear loads, the odd harmonics can still cause problems. Some of these problems are general to all power systems, single-phase or otherwise.\n",
    "\n",
    "Transformer overheating due to eddy current losses, for example, can occur in any AC power system where there is significant harmonic content.\n",
    "\n",
    "However, there are some problems caused by harmonic currents that are specific to polyphase power systems, and it is these problems to which this section is specifically devoted."
   ]
  },
  {
   "cell_type": "markdown",
   "id": "6c91f393",
   "metadata": {},
   "source": [
    "## Linear AC System Simulation\n",
    "\n",
    "First, we’ll begin our simulation with a very simple AC circuit: a single sine-wave voltage source with a purely linear load and all associated resistances: "
   ]
  },
  {
   "cell_type": "markdown",
   "id": "4f2b3078",
   "metadata": {},
   "source": [
    "![linear-ac-system](https://www.allaboutcircuits.com/uploads/articles/spice-circuit-with-single-sine-wave-source.jpg)"
   ]
  },
  {
   "cell_type": "markdown",
   "id": "14618333",
   "metadata": {},
   "source": [
    "The $R_\\text{source}$, henceforth '$R_\\text{src}$', and $R_\\text{line}$ resistances in this circuit do more than just mimic the real world: they also provide convenient shunt resistances for measuring currents in the SPICE simulation: by reading voltage across a $1\\Omega$ resistance, you obtain a direct indication of current through it, since E = IR.\n",
    "\n",
    "A SPICE simulation of this circuit (SPICE listing: “linear load simulation”) with Fourier analysis on the voltage measured across $R_\\text{line}$ should show us the harmonic content of this circuit’s line current. Being completely linear in nature, we should expect no harmonics other than the 1st (fundamental) of $60$ Hz, assuming a $60$ Hz source."
   ]
  },
  {
   "cell_type": "markdown",
   "id": "1a903a7c",
   "metadata": {},
   "source": [
    "Via KVL and Ohm's Law:  \n",
    "\n",
    "$$ 120\\mathrm{V} = I\\,(R_\\text{src} + R_\\text{line} + R_\\text{load}) = 1002\\Omega \\cdot I$$\n",
    "\n",
    "Dividing throughout by $1002\\Omega$ gives:  \n",
    "\n",
    "$$I = \\frac{120\\mathrm{V}}{1002\\Omega} \\approxeq 119.76\\,\\mathrm{mA} $$"
   ]
  },
  {
   "cell_type": "code",
   "execution_count": 1,
   "id": "64e46299",
   "metadata": {},
   "outputs": [
    {
     "data": {
      "text/plain": [
       "0.11976047904191617"
      ]
     },
     "execution_count": 1,
     "metadata": {},
     "output_type": "execute_result"
    }
   ],
   "source": [
    "120/1002"
   ]
  },
  {
   "cell_type": "markdown",
   "id": "52c1ea12",
   "metadata": {},
   "source": [
    "## Simple Nonlinear Single-Phase AC System Simulation\n",
    "\n",
    "Next, I’d like to simulate a nonlinear load so as to generate harmonic currents. This can be done in two fundamentally different ways. One way is to design a load using nonlinear components such as diodes or other semiconductor devices which are easy to simulate with SPICE. Another is to add some AC current sources in parallel with the load resistor.\n",
    "\n",
    "The latter method is often preferred by engineers for simulating harmonics since current sources of known value lend themselves better to mathematical network analysis than components with highly complex response characteristics.\n",
    "\n",
    "Since we’re letting SPICE do all the math work, the complexity of a semiconductor component would cause no trouble for us, but since current sources can be fine-tuned to produce any arbitrary amount of current (a convenient feature), I’ll choose the latter approach shown in the figure below, and in the SPICE listing “Nonlinear load simulation”."
   ]
  },
  {
   "cell_type": "markdown",
   "id": "1df70cdd",
   "metadata": {},
   "source": [
    "![nonlinear-single-phase-AC System](https://www.allaboutcircuits.com/uploads/articles/spice-listing-nonlinear-load-simulation.jpg)"
   ]
  },
  {
   "cell_type": "markdown",
   "id": "e6cbe19c",
   "metadata": {},
   "source": [
    "To solve this circuit we will use superposition.  \n",
    "\n",
    "With $120\\mathrm{V}\\,60\\mathrm{Hz}$ as the only power supply:  \n",
    "\n",
    "$$ I \\approxeq 119.76\\mathrm{mA}\\,60\\mathrm{Hz} $$"
   ]
  },
  {
   "cell_type": "markdown",
   "id": "2aff257d",
   "metadata": {},
   "source": [
    "With $50\\mathrm{mA}\\,180\\mathrm{Hz}$ as the only power supply:  \n",
    "\n",
    "Via Ohm's Law and KVL,  \n",
    "\n",
    "$$ R_\\text{load}I_1 - (R_\\text{src} + R_\\text{line})\\,I_2 = 0$$\n",
    "\n",
    "$$ 1000\\,\\Omega \\cdot I_1 = 2\\,\\Omega\\cdot I_2$$"
   ]
  },
  {
   "cell_type": "markdown",
   "id": "d3cda2fa",
   "metadata": {},
   "source": [
    "And, via KCL,  \n",
    "\n",
    "$$ I_1 + I_2 = I_\\text{src} = 50\\mathrm{mA}\\,180\\mathrm{Hz}$$"
   ]
  }
 ],
 "metadata": {
  "kernelspec": {
   "display_name": "Python 3",
   "language": "python",
   "name": "python3"
  },
  "language_info": {
   "codemirror_mode": {
    "name": "ipython",
    "version": 3
   },
   "file_extension": ".py",
   "mimetype": "text/x-python",
   "name": "python",
   "nbconvert_exporter": "python",
   "pygments_lexer": "ipython3",
   "version": "3.8.10"
  }
 },
 "nbformat": 4,
 "nbformat_minor": 5
}
