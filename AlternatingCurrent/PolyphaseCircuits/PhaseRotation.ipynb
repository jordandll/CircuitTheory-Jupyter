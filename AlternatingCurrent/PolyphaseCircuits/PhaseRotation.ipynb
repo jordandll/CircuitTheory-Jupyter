{
 "cells": [
  {
   "cell_type": "markdown",
   "id": "83024269",
   "metadata": {},
   "source": [
    "# Phase Rotation\n",
    "### *Chapter 10 - Polyphase AC Circuits*"
   ]
  },
  {
   "cell_type": "markdown",
   "id": "a245b836",
   "metadata": {},
   "source": [
    "## Three-Phase Alternator\n",
    "\n",
    "Let’s take the three-phase alternator design laid out earlier and watch what happens as the magnet rotates."
   ]
  },
  {
   "cell_type": "markdown",
   "id": "a873b8fe",
   "metadata": {},
   "source": [
    "![three-phase-alternator](https://www.allaboutcircuits.com/uploads/articles/three-phase-alternator.jpg)"
   ]
  },
  {
   "cell_type": "markdown",
   "id": "abc9a352",
   "metadata": {},
   "source": [
    "The phase angle shift of 120° is a function of the actual rotational angle shift of the three pairs of windings.\n",
    "\n",
    "If the magnet is rotating clockwise, winding 3 will generate its peak instantaneous voltage exactly 120° (of alternator shaft rotation) after winding 2, which will hit its peak 120° after winding 1. The magnet passes by each pole pair at different positions in the rotational movement of the shaft.\n",
    "\n",
    "Where we decide to place the windings will dictate the amount of phase shift between the windings’ AC voltage waveforms.\n",
    "\n",
    "If we make winding 1 our “reference” voltage source for phase angle (0°), then winding 2 will have a phase angle of -120° (120° lagging, or 240° leading) and winding 3 an angle of -240° (or 120° leading)."
   ]
  },
  {
   "cell_type": "markdown",
   "id": "c87f996b",
   "metadata": {},
   "source": [
    "## Phase Sequence\n",
    "\n",
    "This sequence of phase shifts has a definite order. For clockwise rotation of the shaft, the order is 1-2-3 (winding 1 peak first, them winding 2, then winding 3). This order keeps repeating itself as long as we continue to rotate the alternator’s shaft."
   ]
  },
  {
   "cell_type": "markdown",
   "id": "82f3254e",
   "metadata": {},
   "source": [
    "*Note that the above notion*, and anything that depends on it, including a plot, assumes that the positions of $2$b and $2$a are swapped in the above diagram and that positions of winding pairs $2$ and $3$ are subsequently swapped.  Without this assumption, winding $2$ would have a phase angle of $-60^\\circ$ (i.e. it would lag by $60^\\circ$) and winding $3$ would have a phase angle of $-120^\\circ$ (i.e. it would lag by $120^\\circ$)."
   ]
  }
 ],
 "metadata": {
  "kernelspec": {
   "display_name": "Python 3 (ipykernel)",
   "language": "python",
   "name": "python3"
  },
  "language_info": {
   "codemirror_mode": {
    "name": "ipython",
    "version": 3
   },
   "file_extension": ".py",
   "mimetype": "text/x-python",
   "name": "python",
   "nbconvert_exporter": "python",
   "pygments_lexer": "ipython3",
   "version": "3.8.10"
  }
 },
 "nbformat": 4,
 "nbformat_minor": 5
}
