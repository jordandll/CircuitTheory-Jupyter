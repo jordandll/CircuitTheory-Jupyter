{
 "cells": [
  {
   "cell_type": "markdown",
   "id": "83024269",
   "metadata": {},
   "source": [
    "# Phase Rotation\n",
    "### *Chapter 10 - Polyphase AC Circuits*"
   ]
  },
  {
   "cell_type": "markdown",
   "id": "a245b836",
   "metadata": {},
   "source": [
    "## Three-Phase Alternator\n",
    "\n",
    "Let’s take the three-phase alternator design laid out earlier and watch what happens as the magnet rotates."
   ]
  },
  {
   "cell_type": "markdown",
   "id": "a873b8fe",
   "metadata": {},
   "source": [
    "![three-phase-alternator](https://www.allaboutcircuits.com/uploads/articles/three-phase-alternator.jpg)"
   ]
  },
  {
   "cell_type": "markdown",
   "id": "abc9a352",
   "metadata": {},
   "source": [
    "The phase angle shift of 120° is a function of the actual rotational angle shift of the three pairs of windings.\n",
    "\n",
    "If the magnet is rotating clockwise, winding 3 will generate its peak instantaneous voltage exactly 120° (of alternator shaft rotation) after winding 2, which will hit its peak 120° after winding 1. The magnet passes by each pole pair at different positions in the rotational movement of the shaft.\n",
    "\n",
    "Where we decide to place the windings will dictate the amount of phase shift between the windings’ AC voltage waveforms.\n",
    "\n",
    "If we make winding 1 our “reference” voltage source for phase angle (0°), then winding 2 will have a phase angle of -120° (120° lagging, or 240° leading) and winding 3 an angle of -240° (or 120° leading)."
   ]
  },
  {
   "cell_type": "markdown",
   "id": "c87f996b",
   "metadata": {},
   "source": [
    "## Phase Sequence\n",
    "\n",
    "This sequence of phase shifts has a definite order. For clockwise rotation of the shaft, the order is 1-2-3 (winding 1 peak first, them winding 2, then winding 3). This order keeps repeating itself as long as we continue to rotate the alternator’s shaft."
   ]
  },
  {
   "cell_type": "markdown",
   "id": "b6823643",
   "metadata": {},
   "source": [
    "![phase-sequence-plot](https://www.allaboutcircuits.com/uploads/articles/clockwise-rotation-phase.jpg)"
   ]
  },
  {
   "cell_type": "markdown",
   "id": "82f3254e",
   "metadata": {},
   "source": [
    "*Note that the above notion*, and anything that depends on it, including any plot, assumes that the positions of $2$b and $2$a are swapped in the above diagram and that positions of winding pairs $2$ and $3$ are subsequently swapped.  Without this assumption, winding $2$ would have a phase angle of $-60^\\circ$ (i.e. it would lag by $60^\\circ$) and winding $3$ would have a phase angle of $-120^\\circ$ (i.e. it would lag by $120^\\circ$)."
   ]
  },
  {
   "cell_type": "markdown",
   "id": "0ee98118",
   "metadata": {},
   "source": [
    "Below is the diagram with the right winding configuration.  \n",
    "\n",
    "![correct-alternator](three-phase-alternator.svg)"
   ]
  },
  {
   "cell_type": "markdown",
   "id": "44b3d1a8",
   "metadata": {},
   "source": [
    "Now, getting back to describing the phase sequence of the above depicted alternator, when we reverse direction -- that is to say, when the alternator is rotating in the counter-clockwise direction -- the associated phase sequence is reversed accordingly."
   ]
  },
  {
   "cell_type": "markdown",
   "id": "bfe8e0cc",
   "metadata": {},
   "source": [
    "![reverse-phase-sequence](https://www.allaboutcircuits.com/uploads/articles/counterclockwise-rotation-phase.jpg)"
   ]
  },
  {
   "cell_type": "markdown",
   "id": "3f5b2b65",
   "metadata": {},
   "source": [
    "## Phase Sequence Detector\n",
    "\n",
    "Since voltmeters and ammeters would be useless in telling us what the phase rotation of an operating power system is, we need to have some other kind of instrument capable of doing the job.\n",
    "\n",
    "One ingenious circuit design uses a capacitor to introduce a phase shift between voltage and current, which is then used to detect the sequence by way of comparison between the brightness of two indicator lamps in the figure below."
   ]
  },
  {
   "cell_type": "markdown",
   "id": "74e7813c",
   "metadata": {},
   "source": [
    "![phase-sequence-detector](https://www.allaboutcircuits.com/uploads/articles/phase-sequence-detector.jpg)"
   ]
  },
  {
   "cell_type": "markdown",
   "id": "8f2ba88e",
   "metadata": {},
   "source": [
    "The two lamps are of equal filament resistance and wattage. The capacitor is sized to have approximately the same amount of reactance at system frequency as each lamp’s resistance.\n",
    "\n",
    "If the capacitor were to be replaced by a resistor of equal value to the lamps’ resistance, the two lamps would glow at equal brightness, the circuit is balanced. However, the capacitor introduces a phase shift between voltage and current in the third leg of the circuit equal to 90°.\n",
    "\n",
    "This phase shift, greater than 0° but less than 120°, skews the voltage and current values across the two lamps according to their phase shifts relative to phase 3."
   ]
  },
  {
   "cell_type": "code",
   "execution_count": 1,
   "id": "41a3e5f6",
   "metadata": {},
   "outputs": [],
   "source": [
    "import numpy as np"
   ]
  },
  {
   "cell_type": "code",
   "execution_count": 3,
   "id": "f4dd1763",
   "metadata": {},
   "outputs": [],
   "source": [
    "\"\"\" Define basic trig function that accept degrees by default. \"\"\"\n",
    "\n",
    "def sin(deg: float) -> float:\n",
    "    return np.sin(np.radians(deg))\n",
    "\n",
    "def cos(deg: float) -> float:\n",
    "    return np.cos(np.radians(deg))"
   ]
  },
  {
   "cell_type": "markdown",
   "id": "8796bfc2",
   "metadata": {},
   "source": [
    "### With Resistor as Load \\#3"
   ]
  },
  {
   "cell_type": "markdown",
   "id": "56474074",
   "metadata": {},
   "source": [
    "Suppose all three loads have a resistance of $2650 \\Omega$ and are connected to a power supply (an alternator) of $120\\mathrm{V}$ with phase angles, from \\#$1$ to \\#$3$, each denoted as '$\\theta_1$', '$\\theta_2$', and '$\\theta_3$' respectively, of $\\theta_1 = 0$, $\\theta_2 = 120^\\circ$, and $\\theta_3 = 240^\\circ$."
   ]
  },
  {
   "cell_type": "markdown",
   "id": "ffa291f7",
   "metadata": {},
   "source": [
    "### With Capacitor as Load \\#3"
   ]
  },
  {
   "cell_type": "markdown",
   "id": "5359d028",
   "metadata": {},
   "source": [
    "When using **superposition theorem**, we evaluate the circuit one power supply at a time and then superimpose the results onto each other, keeping the polarities of each component whose values are being added in mind, to get the final result."
   ]
  },
  {
   "cell_type": "markdown",
   "id": "2f04e462",
   "metadata": {},
   "source": [
    "With **phase \\#1** as the sole power supply, the circuit is of the form $120\\mathrm{V}\\angle\\,0^\\circ \\text{--} R_1 \\text{--}  C \\text{//} R_2$."
   ]
  },
  {
   "cell_type": "markdown",
   "id": "8ff005ca",
   "metadata": {},
   "source": [
    "The circuit equation is:  \n",
    "\n",
    "$$ 120\\mathrm{V}\\angle\\,0^\\circ = I(R_1 + Z_2)$$\n",
    "\n",
    "where the impedance of the parallel part of the circuit ($Z_2$) is given by:  \n",
    "\n",
    "$$ Z_2 = \\frac{1}{D_2}$$"
   ]
  },
  {
   "cell_type": "markdown",
   "id": "f7261444",
   "metadata": {},
   "source": [
    "and, \n",
    "\n",
    "\\begin{align*}\n",
    "    D_2 &= \\frac{1}{Z_\\mathrm{C}} + \\frac{1}{R_2} = \\frac{1}{Z_\\mathrm{C}} + \\frac{1}{R_1} \\\\\n",
    "     &= \\frac{1}{R_1}\\,\\angle\\,90^\\circ + \\frac{1}{R_1} \\\\ \\\\\n",
    "     &= \\frac{1\\angle\\,90^\\circ + 1}{R_1} \\\\ \\\\\n",
    "     &= \\frac{1 + j}{R_1}\n",
    "\\end{align*}     "
   ]
  },
  {
   "cell_type": "code",
   "execution_count": 2,
   "id": "31240a79",
   "metadata": {},
   "outputs": [
    {
     "data": {
      "text/plain": [
       "45.0"
      ]
     },
     "execution_count": 2,
     "metadata": {},
     "output_type": "execute_result"
    }
   ],
   "source": [
    "np.degrees(np.arctan(1))"
   ]
  },
  {
   "cell_type": "markdown",
   "id": "5e404eaf",
   "metadata": {},
   "source": [
    "Thus, in polar form:  \n",
    "\n",
    "$$ D_2 = \\frac{\\sqrt{2}}{R_1}\\,\\angle\\,45^\\circ$$"
   ]
  },
  {
   "cell_type": "markdown",
   "id": "b0e7b8ae",
   "metadata": {},
   "source": [
    "and,\n",
    "$$ Z_2 = \\frac{R_1}{\\sqrt{2}}\\,\\angle\\!-45^\\circ$$"
   ]
  },
  {
   "cell_type": "markdown",
   "id": "7755796b",
   "metadata": {},
   "source": [
    "Via the above equation and susbtitution,  \n",
    "\n",
    "\\begin{align*}\n",
    "    R_1 +Z_2 &= R_1\\left(1 + \\frac{1}{\\sqrt{2}}\\,\\angle\\!-45^\\circ \\right) \\\\ \\\\\n",
    "     &= R_1(1.5 - 0.5j) \\\\\n",
    "     &\\approxeq 1.58R_1\\,\\angle\\!-18.43^\\circ\n",
    "\\end{align*}     "
   ]
  },
  {
   "cell_type": "code",
   "execution_count": 8,
   "id": "52f55706",
   "metadata": {},
   "outputs": [
    {
     "data": {
      "text/plain": [
       "(1.5811388300841898, -18.434948822922006)"
      ]
     },
     "execution_count": 8,
     "metadata": {},
     "output_type": "execute_result"
    }
   ],
   "source": [
    "v1 = complex(1 + 1/np.sqrt(2) * cos(-45), 1/np.sqrt(2) * sin(-45))\n",
    "mag1 = np.sqrt(v1.real**2 + v1.imag**2)\n",
    "theta1 = np.degrees(np.arctan(v1.imag/v1.real))\n",
    "(mag1, theta1)"
   ]
  },
  {
   "cell_type": "markdown",
   "id": "4f84d4ec",
   "metadata": {},
   "source": [
    "Via the above approximate equality, the original circuit equation, and substitution,  \n",
    "\n",
    "$$ 120\\mathrm{V}\\angle\\,0^\\circ \\approxeq 1.58R_1I\\,\\angle\\!-18.43^\\circ$$"
   ]
  },
  {
   "cell_type": "markdown",
   "id": "a57d7c38",
   "metadata": {},
   "source": [
    "Which leads us to the approximate identity of $I_1$.  \n",
    "\n",
    "$$ I \\approxeq \\frac{120\\mathrm{V}}{1.58R_1}\\,\\angle\\,18.43^\\circ \\approxeq 28.66\\,\\mathrm{mA}\\,\\angle\\,18.43^\\circ$$"
   ]
  },
  {
   "cell_type": "code",
   "execution_count": 9,
   "id": "2b1358cf",
   "metadata": {},
   "outputs": [
    {
     "data": {
      "text/plain": [
       "0.028660138524002867"
      ]
     },
     "execution_count": 9,
     "metadata": {},
     "output_type": "execute_result"
    }
   ],
   "source": [
    "120/(1.58*2650)"
   ]
  },
  {
   "cell_type": "markdown",
   "id": "1d644e31",
   "metadata": {},
   "source": [
    "The voltage drop across the first load, denoted as '$E_1$', is given by, via Ohm's Law, the above equation, and substitution,  \n",
    "\n",
    "$$ E_1 = R_1I \\approxeq \\frac{120\\mathrm{V}}{1.58}\\,\\angle\\,18.43^\\circ \\approxeq 75.95\\mathrm{V}\\angle\\,18.43^\\circ$$"
   ]
  },
  {
   "cell_type": "code",
   "execution_count": 10,
   "id": "33121d3e",
   "metadata": {},
   "outputs": [
    {
     "data": {
      "text/plain": [
       "75.94936708860759"
      ]
     },
     "execution_count": 10,
     "metadata": {},
     "output_type": "execute_result"
    }
   ],
   "source": [
    "120/1.58"
   ]
  },
  {
   "cell_type": "markdown",
   "id": "e92302f5",
   "metadata": {},
   "source": [
    "As for the other components that are in parallel with one another, via KVL, the above approximate equality, and substitution,  \n",
    "\n",
    "$$ E_2 = E_3 = 120\\mathrm{V}\\angle\\,0^\\circ - E_1 \\approxeq 120\\mathrm{V}\\angle\\,0^\\circ - 75.85\\mathrm{V}\\angle\\,18.43^\\circ$$"
   ]
  },
  {
   "cell_type": "code",
   "execution_count": 11,
   "id": "3b555202",
   "metadata": {},
   "outputs": [
    {
     "data": {
      "text/plain": [
       "(48.040300373118484-23.979660748413163j)"
      ]
     },
     "execution_count": 11,
     "metadata": {},
     "output_type": "execute_result"
    }
   ],
   "source": [
    "v2 = complex(120 - 75.85*cos(18.43), -75.85*sin(18.43))\n",
    "v2"
   ]
  },
  {
   "cell_type": "markdown",
   "id": "29680369",
   "metadata": {},
   "source": [
    "Thus,\n",
    "$$ E_2 = E_3 \\approxeq (48.04 - 23.98j)\\mathrm{V}$$"
   ]
  },
  {
   "cell_type": "markdown",
   "id": "c0dc8bd3",
   "metadata": {},
   "source": [
    "And, in polar form:  \n",
    "\n",
    "$$ E_2 = E_3 \\approxeq 53.69\\mathrm{V}\\angle\\!-26.53^\\circ$$"
   ]
  },
  {
   "cell_type": "code",
   "execution_count": 12,
   "id": "1e0d5134",
   "metadata": {},
   "outputs": [
    {
     "data": {
      "text/plain": [
       "(53.692593432878944, -26.5264060243863)"
      ]
     },
     "execution_count": 12,
     "metadata": {},
     "output_type": "execute_result"
    }
   ],
   "source": [
    "mag2 = np.sqrt(v2.real**2 + v2.imag**2)\n",
    "theta2 = np.degrees(np.arctan(v2.imag/v2.real))\n",
    "(mag2, theta2)"
   ]
  },
  {
   "cell_type": "markdown",
   "id": "de9ba0ad",
   "metadata": {},
   "source": [
    "With **phase \\#2** as the sole power supply, the circuit is of the form $120\\mathrm{V}\\angle\\,120^\\circ \\text{--} R_2\\text{--}  R_1 \\text{//} C$."
   ]
  },
  {
   "cell_type": "markdown",
   "id": "55cad97f",
   "metadata": {},
   "source": [
    "$$120\\mathrm{V}\\angle\\,120^\\circ \\approxeq 1.58R_1I\\,\\angle\\!-18.43^\\circ$$"
   ]
  },
  {
   "cell_type": "markdown",
   "id": "82b0ea1a",
   "metadata": {},
   "source": [
    "Thus, the current is given by:  \n",
    "\n",
    "$$ I \\approxeq \\frac{120\\mathrm{V}}{1.58R_1}\\,\\angle\\,138.43^\\circ$$"
   ]
  },
  {
   "cell_type": "markdown",
   "id": "146b81e5",
   "metadata": {},
   "source": [
    "The voltage drop across the second load, denoted as '$E_2$', is given by, via Ohm's Law, the above equation, and substitution,  \n",
    "\n",
    "$$ E_2 = R_1I \\approxeq \\frac{120\\mathrm{V}}{1.58}\\,\\angle\\,138.43^\\circ \\approxeq 75.95\\mathrm{V}\\angle\\,138.43^\\circ$$"
   ]
  },
  {
   "cell_type": "markdown",
   "id": "5b91a4d8",
   "metadata": {},
   "source": [
    "As for the other components that are in parallel with one another, via KVL, the above approximate equality, and substitution,  \n",
    "\n",
    "$$ E_1 = E_3 = 120\\mathrm{V}\\angle\\,120^\\circ - E_2 \\approxeq 120\\mathrm{V}\\angle\\,120^\\circ - 75.85\\mathrm{V}\\angle\\,138.43^\\circ$$"
   ]
  },
  {
   "cell_type": "code",
   "execution_count": 13,
   "id": "3ca8e750",
   "metadata": {},
   "outputs": [
    {
     "data": {
      "text/plain": [
       "(-3.2531548043008343+53.593950902762245j)"
      ]
     },
     "execution_count": 13,
     "metadata": {},
     "output_type": "execute_result"
    }
   ],
   "source": [
    "v3 = complex(120*cos(120) - 75.85*cos(138.43), 120*sin(120) - 75.85*sin(138.43))\n",
    "v3"
   ]
  },
  {
   "cell_type": "markdown",
   "id": "52e187cc",
   "metadata": {},
   "source": [
    "Thus, in rectangular form:  \n",
    "\n",
    "$$ E_1 = E_3 \\approxeq (-3.25 + 53.59j)\\mathrm{V}$$"
   ]
  },
  {
   "cell_type": "markdown",
   "id": "0e3cc0b4",
   "metadata": {},
   "source": [
    "And, in polar form:  \n",
    "\n",
    "$$ E_1 = E_3 \\approxeq 53.69\\mathrm{V}\\angle\\!-86.53^\\circ$$"
   ]
  },
  {
   "cell_type": "code",
   "execution_count": 14,
   "id": "c8e43e73",
   "metadata": {},
   "outputs": [
    {
     "data": {
      "text/plain": [
       "(53.69259343287895, -86.52640602438635)"
      ]
     },
     "execution_count": 14,
     "metadata": {},
     "output_type": "execute_result"
    }
   ],
   "source": [
    "mag3 = np.sqrt(v3.real**2 + v3.imag**2)\n",
    "theta3 = np.degrees(np.arctan(v3.imag/v3.real))\n",
    "(mag3, theta3)"
   ]
  },
  {
   "cell_type": "markdown",
   "id": "6032171e",
   "metadata": {},
   "source": [
    "With **phase \\#3** as the sole power supply, the circuit is of the form $120\\mathrm{V}\\angle\\,240^\\circ \\text{--} C \\text{--}  R_1 \\text{//} R_2$."
   ]
  },
  {
   "cell_type": "markdown",
   "id": "eb385bc5",
   "metadata": {},
   "source": [
    "$$ 120\\mathrm{V}\\angle\\,240^\\circ = R_1I\\big(1\\angle\\!-90^\\circ + 0.5 \\big) = R_1I(0.5 - j)$$"
   ]
  },
  {
   "cell_type": "markdown",
   "id": "6aa622a3",
   "metadata": {},
   "source": [
    "In polar form:  \n",
    "\n",
    "$$120\\mathrm{V}\\angle\\,240^\\circ \\approxeq 1.11R_1I\\angle\\!-63.43^\\circ $$"
   ]
  },
  {
   "cell_type": "code",
   "execution_count": 15,
   "id": "e889759d",
   "metadata": {},
   "outputs": [
    {
     "data": {
      "text/plain": [
       "(1.118033988749895, -63.43494882292201)"
      ]
     },
     "execution_count": 15,
     "metadata": {},
     "output_type": "execute_result"
    }
   ],
   "source": [
    "mag4 = np.sqrt(0.5**2 + 1)\n",
    "theta4 = np.degrees(np.arctan(-2))\n",
    "(mag4, theta4)"
   ]
  },
  {
   "cell_type": "markdown",
   "id": "fe8a88be",
   "metadata": {},
   "source": [
    "Which leaves us with a current of:  \n",
    "\n",
    "$$ I \\approxeq \\frac{120\\mathrm{V}}{1.11R_1}\\,\\angle\\,303.43^\\circ$$"
   ]
  },
  {
   "cell_type": "markdown",
   "id": "ec8e0465",
   "metadata": {},
   "source": [
    "Via the above equation, Ohm's Law, and substitution,  \n",
    "\n",
    "$$ E_3 = Z_\\mathrm{C}I \\approxeq \\frac{120\\mathrm{V}}{1.11}\\,\\angle\\,\\big(303.43^\\circ - 90^\\circ \\big)$$"
   ]
  },
  {
   "cell_type": "code",
   "execution_count": 16,
   "id": "c75b17e9",
   "metadata": {},
   "outputs": [
    {
     "data": {
      "text/plain": [
       "(108.1081081081081, 213.43)"
      ]
     },
     "execution_count": 16,
     "metadata": {},
     "output_type": "execute_result"
    }
   ],
   "source": [
    "(120/1.11, 303.43-90)"
   ]
  },
  {
   "cell_type": "markdown",
   "id": "390b97d5",
   "metadata": {},
   "source": [
    "Thus,\n",
    "$$ E_3 \\approxeq 108.19\\mathrm{V}\\angle\\,213.43^\\circ$$"
   ]
  },
  {
   "cell_type": "markdown",
   "id": "6ea707e7",
   "metadata": {},
   "source": [
    "The other three voltages are given by:  \n",
    "\n",
    "$$ E_1 = E_2 = 120\\mathrm{V}\\angle\\,240^\\circ - E_3 \\approxeq 120\\mathrm{V}\\angle\\,240^\\circ - 108.19\\mathrm{V}\\angle\\,213.43^\\circ$$"
   ]
  },
  {
   "cell_type": "code",
   "execution_count": null,
   "id": "0c36b1ef",
   "metadata": {},
   "outputs": [],
   "source": [
    "v5 = complex()"
   ]
  },
  {
   "cell_type": "markdown",
   "id": "02096a23",
   "metadata": {},
   "source": [
    "$$ $$"
   ]
  }
 ],
 "metadata": {
  "kernelspec": {
   "display_name": "Python 3 (ipykernel)",
   "language": "python",
   "name": "python3"
  },
  "language_info": {
   "codemirror_mode": {
    "name": "ipython",
    "version": 3
   },
   "file_extension": ".py",
   "mimetype": "text/x-python",
   "name": "python",
   "nbconvert_exporter": "python",
   "pygments_lexer": "ipython3",
   "version": "3.8.10"
  }
 },
 "nbformat": 4,
 "nbformat_minor": 5
}
