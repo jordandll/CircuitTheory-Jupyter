{
 "cells": [
  {
   "cell_type": "markdown",
   "id": "83024269",
   "metadata": {},
   "source": [
    "# Phase Rotation\n",
    "### *Chapter 10 - Polyphase AC Circuits*"
   ]
  },
  {
   "cell_type": "markdown",
   "id": "a245b836",
   "metadata": {},
   "source": [
    "## Three-Phase Alternator\n",
    "\n",
    "Let’s take the three-phase alternator design laid out earlier and watch what happens as the magnet rotates."
   ]
  },
  {
   "cell_type": "markdown",
   "id": "a873b8fe",
   "metadata": {},
   "source": [
    "![three-phase-alternator](https://www.allaboutcircuits.com/uploads/articles/three-phase-alternator.jpg)"
   ]
  },
  {
   "cell_type": "markdown",
   "id": "abc9a352",
   "metadata": {},
   "source": [
    "The phase angle shift of 120° is a function of the actual rotational angle shift of the three pairs of windings.\n",
    "\n",
    "If the magnet is rotating clockwise, winding 3 will generate its peak instantaneous voltage exactly 120° (of alternator shaft rotation) after winding 2, which will hit its peak 120° after winding 1. The magnet passes by each pole pair at different positions in the rotational movement of the shaft.\n",
    "\n",
    "Where we decide to place the windings will dictate the amount of phase shift between the windings’ AC voltage waveforms.\n",
    "\n",
    "If we make winding 1 our “reference” voltage source for phase angle (0°), then winding 2 will have a phase angle of -120° (120° lagging, or 240° leading) and winding 3 an angle of -240° (or 120° leading)."
   ]
  },
  {
   "cell_type": "markdown",
   "id": "c87f996b",
   "metadata": {},
   "source": [
    "## Phase Sequence\n",
    "\n",
    "This sequence of phase shifts has a definite order. For clockwise rotation of the shaft, the order is 1-2-3 (winding 1 peak first, them winding 2, then winding 3). This order keeps repeating itself as long as we continue to rotate the alternator’s shaft."
   ]
  },
  {
   "cell_type": "markdown",
   "id": "3f247969",
   "metadata": {},
   "source": [
    "![phase-sequence](https://www.allaboutcircuits.com/uploads/articles/clockwise-rotation-phase.jpg)"
   ]
  },
  {
   "cell_type": "markdown",
   "id": "82f3254e",
   "metadata": {},
   "source": [
    "*Note that the above notion*, and anything that depends on it, including any plot, assumes that the positions of $2$b and $2$a are swapped in the above diagram and that positions of winding pairs $2$ and $3$ are subsequently swapped.  Without this assumption, winding $2$ would have a phase angle of $-60^\\circ$ (i.e. it would lag by $60^\\circ$) and winding $3$ would have a phase angle of $-120^\\circ$ (i.e. it would lag by $120^\\circ$)."
   ]
  },
  {
   "cell_type": "markdown",
   "id": "3f3adad4",
   "metadata": {},
   "source": [
    "Below is a diagram of an alternator with the correct winding configuration.  \n",
    "\n",
    "![corrected-alternator](three-phase-alternator.svg)"
   ]
  },
  {
   "cell_type": "markdown",
   "id": "e12c5ae6",
   "metadata": {},
   "source": [
    "Now, getting back to describing the phase sequence, when the rotation is reversed -- i.e., when the alternator's shaft is rotated in the counter-clockwise direction -- the phase sequence's order reverses accordingly."
   ]
  },
  {
   "cell_type": "markdown",
   "id": "06fb00c8",
   "metadata": {},
   "source": [
    "![phase-sequence-reversed](https://www.allaboutcircuits.com/uploads/articles/counterclockwise-rotation-phase.jpg)"
   ]
  },
  {
   "cell_type": "markdown",
   "id": "0258276d",
   "metadata": {},
   "source": [
    "## Phase Sequence Detectors\n",
    "\n",
    "Since voltmeters and ammeters would be useless in telling us what the phase rotation of an operating power system is, we need to have some other kind of instrument capable of doing the job.\n",
    "\n",
    "One ingenious circuit design uses a capacitor to introduce a phase shift between voltage and current, which is then used to detect the sequence by way of comparison between the brightness of two indicator lamps in the figure below."
   ]
  },
  {
   "cell_type": "markdown",
   "id": "5335a22b",
   "metadata": {},
   "source": [
    "![phase-sequence-detector](https://www.allaboutcircuits.com/uploads/articles/phase-sequence-detector.jpg)"
   ]
  },
  {
   "cell_type": "markdown",
   "id": "f087dc10",
   "metadata": {},
   "source": [
    "The two lamps are of equal filament resistance and wattage. The capacitor is sized to have approximately the same amount of reactance at system frequency as each lamp’s resistance.\n",
    "\n",
    "If the capacitor were to be replaced by a resistor of equal value to the lamps’ resistance, the two lamps would glow at equal brightness, the circuit is balanced. However, the capacitor introduces a phase shift between voltage and current in the third leg of the circuit equal to 90°.\n",
    "\n",
    "This phase shift, greater than 0° but less than 120°, skews the voltage and current values across the two lamps according to their phase shifts relative to phase 3."
   ]
  },
  {
   "cell_type": "markdown",
   "id": "0c96dc24",
   "metadata": {},
   "source": [
    "### With Resistor\n",
    "\n",
    "Herein is a full analysis with a resistor with the same resistance, and subsequently power dissapation or wattage, as the two lamps' filament resistance and wattage in place of capacitor connected to phase \\#3."
   ]
  },
  {
   "cell_type": "markdown",
   "id": "68477af4",
   "metadata": {},
   "source": [
    "Suppose all three loads have a resistance of $2650\\,\\Omega$ and are connected to a power supply (an alternator) with a voltage of $120 \\mathrm{V}$ and phase angles, from \\#$1$ to \\#$3$, denoted as '$\\theta_1$', '$\\theta_2$', and '$\\theta_3$' respectively, of $\\theta_1 = 0$, $\\theta_2 = 120^\\circ$, and $\\theta_3 = 240^\\circ$."
   ]
  },
  {
   "cell_type": "markdown",
   "id": "d980e9d4",
   "metadata": {},
   "source": [
    "The amplitude of each current is given by, via Ohm's Law,  \n",
    "\n",
    "$$ |E| = R|I|$$\n",
    "\n",
    "$$ |I| = \\frac{|E|}{R} = \\frac{120\\mathrm{V}}{2650\\,\\Omega}\\approxeq 45.283\\,\\mathrm{mA}$$"
   ]
  },
  {
   "cell_type": "code",
   "execution_count": 1,
   "id": "d12d5124",
   "metadata": {},
   "outputs": [
    {
     "data": {
      "text/plain": [
       "45.283018867924525"
      ]
     },
     "execution_count": 1,
     "metadata": {},
     "output_type": "execute_result"
    }
   ],
   "source": [
    "1000*120/2650"
   ]
  },
  {
   "cell_type": "markdown",
   "id": "1e3eaeb2",
   "metadata": {},
   "source": [
    "And the phase angle of each current, since the loads are balanced, is equal to the phase angle of the the voltage of it's respective load."
   ]
  },
  {
   "cell_type": "markdown",
   "id": "c9b7bc0a",
   "metadata": {},
   "source": [
    "Now, let's **verify** this against KCL.  Via KCL,  \n",
    "\n",
    "$$ I_1 + I_2 + I_3 = 0$$\n",
    "\n",
    "$$ 45.283\\,\\mathrm{mA}\\,\\angle\\,0 \\:+ \\:45.283\\,\\mathrm{mA}\\,\\angle\\,120^\\circ = - 45.283\\,\\mathrm{mA}\\,\\angle\\,240^\\circ = 45.283\\,\\mathrm{mA}\\,\\angle\\,60^\\circ$$"
   ]
  },
  {
   "cell_type": "markdown",
   "id": "cec864bd",
   "metadata": {},
   "source": [
    "In rectangular form, the above can be rewritten as:  \n",
    "\n",
    "$$ 45.283\\,\\mathrm{mA}\\,\\big(1 + \\cos120^\\circ + j\\cdot\\sin120^\\circ \\big) = 45.283\\,\\mathrm{mA}\\big(\\cos60^\\circ + j\\cdot\\sin60^\\circ \\big)$$"
   ]
  },
  {
   "cell_type": "markdown",
   "id": "9df01d48",
   "metadata": {},
   "source": [
    "Dividing throughout by the amplitude gives:  \n",
    "\n",
    "$$ \\big(1 + \\cos120^\\circ + j\\cdot\\sin120^\\circ\\big ) = \\big(\\cos60^\\circ + j\\cdot\\sin60^\\circ\\big)$$"
   ]
  },
  {
   "cell_type": "code",
   "execution_count": 2,
   "id": "6edc087a",
   "metadata": {},
   "outputs": [],
   "source": [
    "import numpy as np"
   ]
  },
  {
   "cell_type": "code",
   "execution_count": 3,
   "id": "74f12c39",
   "metadata": {},
   "outputs": [
    {
     "data": {
      "text/plain": [
       "(-0.4999999999999998, 0.8660254037844387)"
      ]
     },
     "execution_count": 3,
     "metadata": {},
     "output_type": "execute_result"
    }
   ],
   "source": [
    "(np.cos(np.radians(120)), np.sin(np.radians(120)))"
   ]
  },
  {
   "cell_type": "code",
   "execution_count": 4,
   "id": "9bac5987",
   "metadata": {},
   "outputs": [
    {
     "data": {
      "text/plain": [
       "(0.5000000000000001, 0.8660254037844386)"
      ]
     },
     "execution_count": 4,
     "metadata": {},
     "output_type": "execute_result"
    }
   ],
   "source": [
    "(np.cos(np.radians(60)), np.sin(np.radians(60)))"
   ]
  },
  {
   "cell_type": "markdown",
   "id": "6e16ac95",
   "metadata": {},
   "source": [
    "Note that, throughout this subsection, it is assumed that the polarity of the power system is the same as the one shown below, in the next subsection, with the added assumption that the positive poles of each load are adjacent to the positive poles of their respective power supply."
   ]
  },
  {
   "cell_type": "markdown",
   "id": "c3a5c044",
   "metadata": {},
   "source": [
    "### With Capacitor\n",
    "\n",
    "Suppose we have the following circuit:  \n",
    "\n",
    "![phase-sequence-detector-w/capacitor](https://www.allaboutcircuits.com/uploads/articles/spice-circuit-for-phase-sequence-detector.jpg)"
   ]
  },
  {
   "cell_type": "markdown",
   "id": "5528b379",
   "metadata": {},
   "source": [
    "First, let's consider that the frequency ($f$) can be found via the presuppostion that the reactance of $\\mathrm{C}_1$, denoted as '$X_{\\mathrm{C}1}$', is equal to $2650\\,\\Omega$.  \n",
    "\n",
    "$$ X_{\\mathrm{C}1} = \\frac{1}{2\\pi f C_1} = 2650\\,\\Omega = R_1, R_2$$"
   ]
  },
  {
   "cell_type": "markdown",
   "id": "09c72f55",
   "metadata": {},
   "source": [
    "$$ f = \\frac{1}{2\\pi \\cdot 2650\\,\\Omega\\cdot1\\mu\\mathrm{F}}\\approxeq60\\mathrm{Hz}$$"
   ]
  },
  {
   "cell_type": "code",
   "execution_count": 5,
   "id": "dd77fb19",
   "metadata": {},
   "outputs": [
    {
     "data": {
      "text/plain": [
       "60.05846909128126"
      ]
     },
     "execution_count": 5,
     "metadata": {},
     "output_type": "execute_result"
    }
   ],
   "source": [
    "f = 1 / (2*np.pi*2650*1e-6)\n",
    "f"
   ]
  },
  {
   "cell_type": "markdown",
   "id": "38aa8144",
   "metadata": {},
   "source": [
    "Assuming that the positive poles of each load are adjacent to the positive poles of their respective power supplies, via KVL and Ohm's Law,  \n",
    "\n",
    "\\begin{equation}\\tag{1}\n",
    "    120\\mathrm{V}\\angle\\,0\\:-\\:R_1I_1 \\:-\\:(I_1+I_2)\\,R_1\\angle\\!-90^\\circ\\:-\\:120\\mathrm{V}\\angle\\,240^\\circ = 0\n",
    "\\end{equation}    "
   ]
  },
  {
   "cell_type": "markdown",
   "id": "3a547909",
   "metadata": {},
   "source": [
    "and,\n",
    "\\begin{equation}\\tag{2}\n",
    "    120\\mathrm{V}\\angle\\,120^\\circ = R_1I_2 \\:+\\: (I_1 +I_2)\\,R_1\\angle\\!-90^\\circ \\:+\\: 120\\mathrm{V}\\angle\\,240^\\circ\n",
    "\\end{equation}    "
   ]
  },
  {
   "cell_type": "markdown",
   "id": "2ec940b0",
   "metadata": {},
   "source": [
    "\\begin{equation}\\tag{2a}\n",
    "    I_1 R_1\\angle\\!-90^\\circ =  120\\mathrm{V}\\angle\\,120^\\circ \\:-\\: R_1I_2 \\:-\\: I_2R_1\\angle\\!-90^\\circ \\:-\\: 120\\mathrm{V}\\angle\\,240^\\circ\n",
    "\\end{equation}    "
   ]
  },
  {
   "cell_type": "markdown",
   "id": "35ccf35c",
   "metadata": {},
   "source": [
    "Dividing throughout by $1\\angle\\!-90^\\circ$ gives:  \n",
    "\n",
    "\\begin{equation}\\tag{2b}\n",
    "    R_1I_1 = 120\\mathrm{V}\\angle\\,210^\\circ \\:-\\:R_1I_2\\angle\\,90^\\circ \\:-\\:R_1I_2 \\:-\\: 120\\mathrm{V}\\angle\\,330^\\circ\n",
    "\\end{equation}    "
   ]
  },
  {
   "cell_type": "markdown",
   "id": "1e657fcd",
   "metadata": {},
   "source": [
    "Via equations (2a), (2b), and (1) in conjunction with substitution,  \n",
    "\n",
    "$$ 120\\mathrm{V}\\angle\\,0 = 120\\mathrm{V}\\angle\\,210^\\circ \\:-\\:R_1I_2\\angle\\,90^\\circ \\:-\\:R_1I_2 \\:-\\: 120\\mathrm{V}\\angle\\,330^\\circ \\:+\\: R_1I_2\\angle\\!-90^\\circ \\:+\\: 120\\mathrm{V}\\angle\\,120^\\circ \\:-\\: R_1I_2 \\:-\\: I_2R_1\\angle\\!-90^\\circ \\:-\\: 120\\mathrm{V}\\angle\\,240^\\circ + 120\\mathrm{V}\\angle\\,240^\\circ$$"
   ]
  },
  {
   "cell_type": "markdown",
   "id": "ca4957f9",
   "metadata": {},
   "source": [
    "We can solve for $I_2$ in the above equation, but first let's simplify it."
   ]
  },
  {
   "cell_type": "markdown",
   "id": "4a2ab534",
   "metadata": {},
   "source": [
    "\\begin{align*}\\tag{1a}\n",
    "    2R_1I_2 + R_1I_2\\angle\\,90^\\circ &= 120\\mathrm{V}\\big(1\\angle\\,210^\\circ - 1 - 1\\angle\\,330^\\circ + 1\\angle\\,120^\\circ \\big) \\\\\n",
    "    R_1I_2(2 + 1\\angle\\,90^\\circ)&= 120\\mathrm{V}\\big(1\\angle\\,210^\\circ - 1 - 1\\angle\\,330^\\circ + 1\\angle\\,120^\\circ \\big) \\\\\n",
    "    I_2 &= \\frac{120\\mathrm{V}}{R_1(2 + 1\\angle\\,90^\\circ)}\\,\\big(1\\angle\\,210^\\circ - 1 - 1\\angle\\,330^\\circ + 1\\angle\\,120^\\circ \\big)\n",
    "\\end{align*}    "
   ]
  },
  {
   "cell_type": "markdown",
   "id": "99b7b2ee",
   "metadata": {},
   "source": [
    "To convert $I_2$ to rectangular form, let's break it's identity down into it's numerator and denominator.  The numerator, denoted as '$\\mathrm{num}$', in rectangular form is given by:  \n",
    "\n",
    "\\begin{align*}\n",
    "    \\mathrm{num} &= 120\\mathrm{V}\\,\\big(1\\angle\\,210^\\circ - 1 - 1\\angle\\,330^\\circ + 1\\angle\\,120^\\circ \\big) \\\\\n",
    "     &= 120\\mathrm{V}\\,\\big(\\cos210^\\circ - 1 - \\cos330^\\circ + \\cos120^\\circ + j\\cdot(\\sin210^\\circ - \\sin330^\\circ + \\sin120^\\circ) \\big) \\\\\n",
    "     &\\approxeq 120\\mathrm{V}\\,(-3.23 + j\\cdot 0.866)\n",
    "\\end{align*}     "
   ]
  },
  {
   "cell_type": "code",
   "execution_count": 6,
   "id": "aba0c271",
   "metadata": {},
   "outputs": [],
   "source": [
    "def cos(deg: float):\n",
    "    return np.cos(np.radians(deg))\n",
    "\n",
    "def sin(deg: float):\n",
    "    return np.sin(np.radians(deg))"
   ]
  },
  {
   "cell_type": "code",
   "execution_count": 7,
   "id": "bb96bafd",
   "metadata": {},
   "outputs": [
    {
     "data": {
      "text/plain": [
       "(-3.2320508075688767+0.866025403784439j)"
      ]
     },
     "execution_count": 7,
     "metadata": {},
     "output_type": "execute_result"
    }
   ],
   "source": [
    "num = complex(cos(210) - 1 - cos(330) + cos(120), sin(210) -sin(330) + sin(120))\n",
    "num"
   ]
  },
  {
   "cell_type": "markdown",
   "id": "68ea65c9",
   "metadata": {},
   "source": [
    "And the denominator ($\\mathrm{den}$) is given by:  \n",
    "\n",
    "\\begin{align*}\n",
    "    \\mathrm{den} &= R_1(2 + 1\\angle\\,90^\\circ) \\\\\n",
    "     &= R_1(2 + j)\n",
    "\\end{align*}"
   ]
  },
  {
   "cell_type": "code",
   "execution_count": 8,
   "id": "a8db8a3c",
   "metadata": {},
   "outputs": [
    {
     "data": {
      "text/plain": [
       "(-1.119615242270663+0.9928203230275511j)"
      ]
     },
     "execution_count": 8,
     "metadata": {},
     "output_type": "execute_result"
    }
   ],
   "source": [
    "den = complex(2, 1)\n",
    "num/den"
   ]
  },
  {
   "cell_type": "markdown",
   "id": "c40ee336",
   "metadata": {},
   "source": [
    "Via the above two equation, equation (1a), and substitution,  \n",
    "\n",
    "$$ I_2 =\\frac{\\mathrm{num}}{\\mathrm{den}} \\approxeq \\frac{120\\mathrm{V}}{2650\\,\\Omega}\\,(-1.12 + j)$$"
   ]
  },
  {
   "cell_type": "code",
   "execution_count": 9,
   "id": "fe7c892f",
   "metadata": {},
   "outputs": [
    {
     "data": {
      "text/plain": [
       "0.06799091095833405"
      ]
     },
     "execution_count": 9,
     "metadata": {},
     "output_type": "execute_result"
    }
   ],
   "source": [
    "np.sqrt(1.12**2+1)*120/2650"
   ]
  },
  {
   "cell_type": "code",
   "execution_count": 10,
   "id": "515ab0ea",
   "metadata": {},
   "outputs": [
    {
     "data": {
      "text/plain": [
       "-41.76029970389787"
      ]
     },
     "execution_count": 10,
     "metadata": {},
     "output_type": "execute_result"
    }
   ],
   "source": [
    "np.degrees(np.arctan(-1/1.12))"
   ]
  },
  {
   "cell_type": "markdown",
   "id": "11e17ad6",
   "metadata": {},
   "source": [
    "In polar form:  \n",
    "\n",
    "\\begin{equation}\\tag{1a}\n",
    "    I_2\\approxeq 67.99\\,\\mathrm{mA}\\,\\angle\\!-41.76^\\circ\n",
    "\\end{equation}    "
   ]
  },
  {
   "cell_type": "markdown",
   "id": "c51651fc",
   "metadata": {},
   "source": [
    "We can now solve for $I_1$ in equation (2).  Via the above equation, equation (2), and substitution,  \n",
    "\n",
    "$$ 120\\mathrm{V}\\angle\\,120^\\circ \\approxeq R_1\\cdot67.99\\,\\mathrm{mA}\\,\\angle\\!-41.76^\\circ \\:+\\: R_1I_1\\,\\angle\\!-90^\\circ \\:+\\: R_1\\cdot67.99\\,\\mathrm{mA}\\,\\angle\\!-131.76^\\circ \\:+\\:120\\mathrm{V}\\angle\\,240^\\circ$$"
   ]
  },
  {
   "cell_type": "markdown",
   "id": "daa328c4",
   "metadata": {},
   "source": [
    "$$ R_1I_1\\,\\angle\\!-90^\\circ \\approxeq 120\\mathrm{V}\\angle\\,120^\\circ \\:-\\: R_1\\cdot67.99\\,\\mathrm{mA}\\,\\angle\\!-41.76^\\circ \\:-\\: R_1\\cdot67.99\\,\\mathrm{mA}\\,\\angle\\!-131.76^\\circ \\:-\\:120\\mathrm{V}\\angle\\,240^\\circ$$"
   ]
  },
  {
   "cell_type": "markdown",
   "id": "1107a2bc",
   "metadata": {},
   "source": [
    "Dividing throughout by $R_1\\,\\angle\\!-90^\\circ$ gives:  \n",
    "\n",
    "\\begin{align*}\\tag{1b}\n",
    "    I_1 &\\approxeq \\frac{120\\mathrm{V}}{2650\\,\\Omega}\\,\\angle\\,210^\\circ \\:-\\: 67.99\\,\\mathrm{mA}\\,\\angle\\,48.24^\\circ \\:-\\: 67.99\\,\\mathrm{mA}\\,\\angle\\!-41.76^\\circ \\:-\\: \\frac{120\\mathrm{V}}{2650\\,\\Omega}\\,\\angle\\,330^\\circ \\\\ \\\\\n",
    "     &\\approxeq 45.28\\,\\mathrm{mA}\\,\\angle\\,210^\\circ \\:-\\: 67.99\\,\\mathrm{mA}\\,\\angle\\,48.24^\\circ \\:-\\: 67.99\\,\\mathrm{mA}\\,\\angle\\!-41.76^\\circ \\:-\\: 45.28\\,\\mathrm{mA}\\,\\angle\\,330^\\circ \\\\\n",
    "     &\\approxeq -(174.43 + j\\cdot5.43)\\,\\mathrm{mA}\n",
    "\\end{align*}"
   ]
  },
  {
   "cell_type": "code",
   "execution_count": 14,
   "id": "dc1dff26",
   "metadata": {},
   "outputs": [
    {
     "data": {
      "text/plain": [
       "0.045283018867924525"
      ]
     },
     "execution_count": 14,
     "metadata": {},
     "output_type": "execute_result"
    }
   ],
   "source": [
    "120/2650"
   ]
  },
  {
   "cell_type": "code",
   "execution_count": 15,
   "id": "7e33d711",
   "metadata": {},
   "outputs": [
    {
     "data": {
      "text/plain": [
       "(-174.42594591096366-5.434391610535364j)"
      ]
     },
     "execution_count": 15,
     "metadata": {},
     "output_type": "execute_result"
    }
   ],
   "source": [
    "I_1 = complex(45.28*cos(210) - 67.99*cos(48.24) - 67.99*cos(-41.76) - 45.28*cos(330), \\\n",
    "             45.28*sin(210) - 67.99*sin(48.24) - 67.99*sin(-41.76) - 45.28*sin(330))\n",
    "\n",
    "I_1"
   ]
  },
  {
   "cell_type": "markdown",
   "id": "7ae11cdd",
   "metadata": {},
   "source": [
    "Finally, in polar form:  \n",
    "\n",
    "\\begin{equation}\\tag{1b}\n",
    "     I_1\\approxeq174.51\\,\\mathrm{mA}\\,\\angle\\,181.78^\\circ\n",
    "\\end{equation}"
   ]
  },
  {
   "cell_type": "code",
   "execution_count": 19,
   "id": "bfb7e822",
   "metadata": {},
   "outputs": [
    {
     "data": {
      "text/plain": [
       "174.51058196886248"
      ]
     },
     "execution_count": 19,
     "metadata": {},
     "output_type": "execute_result"
    }
   ],
   "source": [
    "np.sqrt(I_1.real**2 + I_1.imag**2)"
   ]
  },
  {
   "cell_type": "code",
   "execution_count": 21,
   "id": "bfea65ad",
   "metadata": {},
   "outputs": [
    {
     "data": {
      "text/plain": [
       "181.7830398606807"
      ]
     },
     "execution_count": 21,
     "metadata": {},
     "output_type": "execute_result"
    }
   ],
   "source": [
    "np.degrees(np.arctan(5.43/174.43)) + 180"
   ]
  },
  {
   "cell_type": "markdown",
   "id": "2449f13f",
   "metadata": {},
   "source": [
    "The **voltage** running across load \\#$1$, denoted as '$E_1$', is, via Ohm's Law, equation (1b), and substitution,  \n",
    "\n",
    "$$ E_1 = R_1I_1 \\approxeq 2650\\,\\Omega\\cdot174.51\\,\\mathrm{mA}\\,\\angle\\,181.78^\\circ \\approxeq 462.45\\mathrm{V}\\angle181.78^\\circ$$"
   ]
  },
  {
   "cell_type": "code",
   "execution_count": 22,
   "id": "60595346",
   "metadata": {},
   "outputs": [
    {
     "data": {
      "text/plain": [
       "462.45149999999995"
      ]
     },
     "execution_count": 22,
     "metadata": {},
     "output_type": "execute_result"
    }
   ],
   "source": [
    "2.65*174.51"
   ]
  }
 ],
 "metadata": {
  "kernelspec": {
   "display_name": "Python 3 (ipykernel)",
   "language": "python",
   "name": "python3"
  },
  "language_info": {
   "codemirror_mode": {
    "name": "ipython",
    "version": 3
   },
   "file_extension": ".py",
   "mimetype": "text/x-python",
   "name": "python",
   "nbconvert_exporter": "python",
   "pygments_lexer": "ipython3",
   "version": "3.8.10"
  }
 },
 "nbformat": 4,
 "nbformat_minor": 5
}
