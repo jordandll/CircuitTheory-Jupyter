{
 "cells": [
  {
   "cell_type": "markdown",
   "id": "83024269",
   "metadata": {},
   "source": [
    "# Phase Rotation\n",
    "### *Chapter 10 - Polyphase AC Circuits*"
   ]
  },
  {
   "cell_type": "markdown",
   "id": "a245b836",
   "metadata": {},
   "source": [
    "## Three-Phase Alternator\n",
    "\n",
    "Let’s take the three-phase alternator design laid out earlier and watch what happens as the magnet rotates."
   ]
  },
  {
   "cell_type": "markdown",
   "id": "a873b8fe",
   "metadata": {},
   "source": [
    "![three-phase-alternator](https://www.allaboutcircuits.com/uploads/articles/three-phase-alternator.jpg)"
   ]
  },
  {
   "cell_type": "markdown",
   "id": "abc9a352",
   "metadata": {},
   "source": [
    "The phase angle shift of 120° is a function of the actual rotational angle shift of the three pairs of windings.\n",
    "\n",
    "If the magnet is rotating clockwise, winding 3 will generate its peak instantaneous voltage exactly 120° (of alternator shaft rotation) after winding 2, which will hit its peak 120° after winding 1. The magnet passes by each pole pair at different positions in the rotational movement of the shaft.\n",
    "\n",
    "Where we decide to place the windings will dictate the amount of phase shift between the windings’ AC voltage waveforms.\n",
    "\n",
    "If we make winding 1 our “reference” voltage source for phase angle (0°), then winding 2 will have a phase angle of -120° (120° lagging, or 240° leading) and winding 3 an angle of -240° (or 120° leading)."
   ]
  },
  {
   "cell_type": "markdown",
   "id": "c87f996b",
   "metadata": {},
   "source": [
    "## Phase Sequence\n",
    "\n",
    "This sequence of phase shifts has a definite order. For clockwise rotation of the shaft, the order is 1-2-3 (winding 1 peak first, them winding 2, then winding 3). This order keeps repeating itself as long as we continue to rotate the alternator’s shaft."
   ]
  },
  {
   "cell_type": "markdown",
   "id": "b6823643",
   "metadata": {},
   "source": [
    "![phase-sequence-plot](https://www.allaboutcircuits.com/uploads/articles/clockwise-rotation-phase.jpg)"
   ]
  },
  {
   "cell_type": "markdown",
   "id": "82f3254e",
   "metadata": {},
   "source": [
    "*Note that the above notion*, and anything that depends on it, including any plot, assumes that the positions of $2$b and $2$a are swapped in the above diagram and that positions of winding pairs $2$ and $3$ are subsequently swapped.  Without this assumption, winding $2$ would have a phase angle of $-60^\\circ$ (i.e. it would lag by $60^\\circ$) and winding $3$ would have a phase angle of $-120^\\circ$ (i.e. it would lag by $120^\\circ$)."
   ]
  },
  {
   "cell_type": "markdown",
   "id": "0ee98118",
   "metadata": {},
   "source": [
    "Below is the diagram with the right winding configuration.  \n",
    "\n",
    "![correct-alternator](three-phase-alternator.svg)"
   ]
  },
  {
   "cell_type": "markdown",
   "id": "44b3d1a8",
   "metadata": {},
   "source": [
    "Now, getting back to describing the phase sequence of the above depicted alternator, when we reverse direction -- that is to say, when the alternator is rotating in the counter-clockwise direction -- the associated phase sequence is reversed accordingly."
   ]
  },
  {
   "cell_type": "markdown",
   "id": "bfe8e0cc",
   "metadata": {},
   "source": [
    "![reverse-phase-sequence](https://www.allaboutcircuits.com/uploads/articles/counterclockwise-rotation-phase.jpg)"
   ]
  },
  {
   "cell_type": "markdown",
   "id": "3f5b2b65",
   "metadata": {},
   "source": [
    "## Phase Sequence Detector\n",
    "\n",
    "Since voltmeters and ammeters would be useless in telling us what the phase rotation of an operating power system is, we need to have some other kind of instrument capable of doing the job.\n",
    "\n",
    "One ingenious circuit design uses a capacitor to introduce a phase shift between voltage and current, which is then used to detect the sequence by way of comparison between the brightness of two indicator lamps in the figure below."
   ]
  },
  {
   "cell_type": "markdown",
   "id": "74e7813c",
   "metadata": {},
   "source": [
    "![phase-sequence-detector](https://www.allaboutcircuits.com/uploads/articles/phase-sequence-detector.jpg)"
   ]
  },
  {
   "cell_type": "markdown",
   "id": "8f2ba88e",
   "metadata": {},
   "source": [
    "The two lamps are of equal filament resistance and wattage. The capacitor is sized to have approximately the same amount of reactance at system frequency as each lamp’s resistance.\n",
    "\n",
    "If the capacitor were to be replaced by a resistor of equal value to the lamps’ resistance, the two lamps would glow at equal brightness, the circuit is balanced. However, the capacitor introduces a phase shift between voltage and current in the third leg of the circuit equal to 90°.\n",
    "\n",
    "This phase shift, greater than 0° but less than 120°, skews the voltage and current values across the two lamps according to their phase shifts relative to phase 3."
   ]
  },
  {
   "cell_type": "markdown",
   "id": "8796bfc2",
   "metadata": {},
   "source": [
    "### With Resistor as Load \\#3"
   ]
  },
  {
   "cell_type": "markdown",
   "id": "56474074",
   "metadata": {},
   "source": [
    "Suppose all three loads have a resistance of $2650 \\Omega$ and are connected to a power supply (an alternator) of $120\\mathrm{V}$ with phase angles, from \\#$1$ to \\#$3$, each denoted as '$\\theta_1$', '$\\theta_2$', and '$\\theta_3$' respectively, of $\\theta_1 = 0$, $\\theta_2 = 120^\\circ$, and $\\theta_3 = 240^\\circ$."
   ]
  },
  {
   "cell_type": "markdown",
   "id": "5359d028",
   "metadata": {},
   "source": [
    "When using **superposition theorem**, we evaluate the circuit one power supply at a time and then superimpose the results onto each other, keeping the polarities of each component whose values are being added in mind, to get the final result."
   ]
  },
  {
   "cell_type": "markdown",
   "id": "02096a23",
   "metadata": {},
   "source": [
    "$$ $$"
   ]
  }
 ],
 "metadata": {
  "kernelspec": {
   "display_name": "Python 3",
   "language": "python",
   "name": "python3"
  },
  "language_info": {
   "codemirror_mode": {
    "name": "ipython",
    "version": 3
   },
   "file_extension": ".py",
   "mimetype": "text/x-python",
   "name": "python",
   "nbconvert_exporter": "python",
   "pygments_lexer": "ipython3",
   "version": "3.8.10"
  }
 },
 "nbformat": 4,
 "nbformat_minor": 5
}
