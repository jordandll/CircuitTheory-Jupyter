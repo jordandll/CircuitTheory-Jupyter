{
 "cells": [
  {
   "cell_type": "markdown",
   "id": "83024269",
   "metadata": {},
   "source": [
    "# Phase Rotation\n",
    "### *Chapter 10 - Polyphase AC Circuits*"
   ]
  },
  {
   "cell_type": "markdown",
   "id": "a245b836",
   "metadata": {},
   "source": [
    "## Three-Phase Alternator\n",
    "\n",
    "Let’s take the three-phase alternator design laid out earlier and watch what happens as the magnet rotates."
   ]
  },
  {
   "cell_type": "markdown",
   "id": "a873b8fe",
   "metadata": {},
   "source": [
    "![three-phase-alternator](https://www.allaboutcircuits.com/uploads/articles/three-phase-alternator.jpg)"
   ]
  },
  {
   "cell_type": "markdown",
   "id": "abc9a352",
   "metadata": {},
   "source": [
    "The phase angle shift of 120° is a function of the actual rotational angle shift of the three pairs of windings.\n",
    "\n",
    "If the magnet is rotating clockwise, winding 3 will generate its peak instantaneous voltage exactly 120° (of alternator shaft rotation) after winding 2, which will hit its peak 120° after winding 1. The magnet passes by each pole pair at different positions in the rotational movement of the shaft.\n",
    "\n",
    "Where we decide to place the windings will dictate the amount of phase shift between the windings’ AC voltage waveforms.\n",
    "\n",
    "If we make winding 1 our “reference” voltage source for phase angle (0°), then winding 2 will have a phase angle of -120° (120° lagging, or 240° leading) and winding 3 an angle of -240° (or 120° leading)."
   ]
  },
  {
   "cell_type": "markdown",
   "id": "c87f996b",
   "metadata": {},
   "source": [
    "## Phase Sequence\n",
    "\n",
    "This sequence of phase shifts has a definite order. For clockwise rotation of the shaft, the order is 1-2-3 (winding 1 peak first, them winding 2, then winding 3). This order keeps repeating itself as long as we continue to rotate the alternator’s shaft."
   ]
  },
  {
   "cell_type": "markdown",
   "id": "3f247969",
   "metadata": {},
   "source": [
    "![phase-sequence](https://www.allaboutcircuits.com/uploads/articles/clockwise-rotation-phase.jpg)"
   ]
  },
  {
   "cell_type": "markdown",
   "id": "82f3254e",
   "metadata": {},
   "source": [
    "*Note that the above notion*, and anything that depends on it, including any plot, assumes that the positions of $2$b and $2$a are swapped in the above diagram and that positions of winding pairs $2$ and $3$ are subsequently swapped.  Without this assumption, winding $2$ would have a phase angle of $-60^\\circ$ (i.e. it would lag by $60^\\circ$) and winding $3$ would have a phase angle of $-120^\\circ$ (i.e. it would lag by $120^\\circ$)."
   ]
  },
  {
   "cell_type": "markdown",
   "id": "3f3adad4",
   "metadata": {},
   "source": [
    "Below is a diagram of an alternator with the correct winding configuration.  \n",
    "\n",
    "![corrected-alternator](three-phase-alternator.svg)"
   ]
  },
  {
   "cell_type": "markdown",
   "id": "e12c5ae6",
   "metadata": {},
   "source": [
    "Now, getting back to describing the phase sequence, when the rotation is reversed -- i.e., when the alternator's shaft is rotated in the counter-clockwise direction -- the phase sequence's order reverses accordingly."
   ]
  },
  {
   "cell_type": "markdown",
   "id": "06fb00c8",
   "metadata": {},
   "source": [
    "![phase-sequence-reversed](https://www.allaboutcircuits.com/uploads/articles/counterclockwise-rotation-phase.jpg)"
   ]
  },
  {
   "cell_type": "markdown",
   "id": "0258276d",
   "metadata": {},
   "source": [
    "## Phase Sequence Detectors\n",
    "\n",
    "Since voltmeters and ammeters would be useless in telling us what the phase rotation of an operating power system is, we need to have some other kind of instrument capable of doing the job.\n",
    "\n",
    "One ingenious circuit design uses a capacitor to introduce a phase shift between voltage and current, which is then used to detect the sequence by way of comparison between the brightness of two indicator lamps in the figure below."
   ]
  },
  {
   "cell_type": "markdown",
   "id": "5335a22b",
   "metadata": {},
   "source": [
    "![phase-sequence-detector](https://www.allaboutcircuits.com/uploads/articles/phase-sequence-detector.jpg)"
   ]
  },
  {
   "cell_type": "markdown",
   "id": "f087dc10",
   "metadata": {},
   "source": [
    "The two lamps are of equal filament resistance and wattage. The capacitor is sized to have approximately the same amount of reactance at system frequency as each lamp’s resistance.\n",
    "\n",
    "If the capacitor were to be replaced by a resistor of equal value to the lamps’ resistance, the two lamps would glow at equal brightness, the circuit is balanced. However, the capacitor introduces a phase shift between voltage and current in the third leg of the circuit equal to 90°.\n",
    "\n",
    "This phase shift, greater than 0° but less than 120°, skews the voltage and current values across the two lamps according to their phase shifts relative to phase 3."
   ]
  },
  {
   "cell_type": "markdown",
   "id": "0c96dc24",
   "metadata": {},
   "source": [
    "### With Resistor\n",
    "\n",
    "Herein is a full analysis with a resistor with the same resistance, and subsequently power dissapation or wattage, as the two lamps' filament resistance and wattage in place of capacitor connected to phase \\#3."
   ]
  },
  {
   "cell_type": "markdown",
   "id": "68477af4",
   "metadata": {},
   "source": [
    "Suppose all three loads have a resistance of $2650\\,\\Omega$ and are connected to a power supply (an alternator) with a voltage of $120 \\mathrm{V}$ and phase angles, from \\#$1$ to \\#$3$, denoted as '$\\theta_1$', '$\\theta_2$', and '$\\theta_3$' respectively, of $\\theta_1 = 0$, $\\theta_2 = 120^\\circ$, and $\\theta_3 = 240^\\circ$."
   ]
  },
  {
   "cell_type": "markdown",
   "id": "d980e9d4",
   "metadata": {},
   "source": [
    "The amplitude of each current is given by, via Ohm's Law,  \n",
    "\n",
    "$$ |E| = R|I|$$\n",
    "\n",
    "$$ |I| = \\frac{|E|}{R} = \\frac{120\\mathrm{V}}{2650\\,\\Omega}\\approxeq 45.283\\,\\mathrm{mA}$$"
   ]
  },
  {
   "cell_type": "code",
   "execution_count": 17,
   "id": "d12d5124",
   "metadata": {},
   "outputs": [
    {
     "data": {
      "text/plain": [
       "45.283018867924525"
      ]
     },
     "execution_count": 17,
     "metadata": {},
     "output_type": "execute_result"
    }
   ],
   "source": [
    "1000*120/2650"
   ]
  },
  {
   "cell_type": "markdown",
   "id": "1e3eaeb2",
   "metadata": {},
   "source": [
    "And the phase angle of each current, since the loads are balanced, is equal to the phase angle of the the voltage of it's respective load."
   ]
  },
  {
   "cell_type": "markdown",
   "id": "c9b7bc0a",
   "metadata": {},
   "source": [
    "Now, let's **verify** this against KCL.  Via KCL,  \n",
    "\n",
    "$$ I_1 + I_2 + I_3 = 0$$\n",
    "\n",
    "$$ 45.283\\,\\mathrm{mA}\\,\\angle\\,0 \\:+ \\:45.283\\,\\mathrm{mA}\\,\\angle\\,120^\\circ = - 45.283\\,\\mathrm{mA}\\,\\angle\\,240^\\circ = 45.283\\,\\mathrm{mA}\\,\\angle\\,60^\\circ$$"
   ]
  },
  {
   "cell_type": "markdown",
   "id": "cec864bd",
   "metadata": {},
   "source": [
    "In rectangular form, the above can be rewritten as:  \n",
    "\n",
    "$$ 45.283\\,\\mathrm{mA}\\,\\big(1 + \\cos120^\\circ + j\\cdot\\sin120^\\circ \\big) = 45.283\\,\\mathrm{mA}\\big(\\cos60^\\circ + j\\cdot\\sin60^\\circ \\big)$$"
   ]
  },
  {
   "cell_type": "markdown",
   "id": "9df01d48",
   "metadata": {},
   "source": [
    "Dividing throughout by the amplitude gives:  \n",
    "\n",
    "$$ \\big(1 + \\cos120^\\circ + j\\cdot\\sin120^\\circ\\big ) = \\big(\\cos60^\\circ + j\\cdot\\sin60^\\circ\\big)$$"
   ]
  },
  {
   "cell_type": "code",
   "execution_count": 18,
   "id": "6edc087a",
   "metadata": {},
   "outputs": [],
   "source": [
    "import numpy as np"
   ]
  },
  {
   "cell_type": "code",
   "execution_count": 19,
   "id": "74f12c39",
   "metadata": {},
   "outputs": [
    {
     "data": {
      "text/plain": [
       "(-0.4999999999999998, 0.8660254037844387)"
      ]
     },
     "execution_count": 19,
     "metadata": {},
     "output_type": "execute_result"
    }
   ],
   "source": [
    "(np.cos(np.radians(120)), np.sin(np.radians(120)))"
   ]
  },
  {
   "cell_type": "code",
   "execution_count": 20,
   "id": "9bac5987",
   "metadata": {},
   "outputs": [
    {
     "data": {
      "text/plain": [
       "(0.5000000000000001, 0.8660254037844386)"
      ]
     },
     "execution_count": 20,
     "metadata": {},
     "output_type": "execute_result"
    }
   ],
   "source": [
    "(np.cos(np.radians(60)), np.sin(np.radians(60)))"
   ]
  },
  {
   "cell_type": "markdown",
   "id": "6e16ac95",
   "metadata": {},
   "source": [
    "Note that, throughout this subsection, it is assumed that the polarity of the power system is the same as the one shown below, in the next subsection, with the added assumption that the positive poles of each load are adjacent to the positive poles of their respective power supply."
   ]
  },
  {
   "cell_type": "markdown",
   "id": "c3a5c044",
   "metadata": {},
   "source": [
    "### With Capacitor\n",
    "\n",
    "Suppose we have the following circuit:  \n",
    "\n",
    "![phase-sequence-detector-w/capacitor](https://www.allaboutcircuits.com/uploads/articles/spice-circuit-for-phase-sequence-detector.jpg)"
   ]
  },
  {
   "cell_type": "markdown",
   "id": "5528b379",
   "metadata": {},
   "source": [
    "First, let's consider that the frequency ($f$) can be found via the presuppostion that the reactance of $\\mathrm{C}_1$, denoted as '$X_{\\mathrm{C}1}$', is equal to $2650\\,\\Omega$.  \n",
    "\n",
    "$$ X_{\\mathrm{C}1} = \\frac{1}{2\\pi f C_1} = 2650\\,\\Omega = R_1, R_2$$"
   ]
  },
  {
   "cell_type": "markdown",
   "id": "09c72f55",
   "metadata": {},
   "source": [
    "$$ f = \\frac{1}{2\\pi \\cdot 2650\\,\\Omega\\cdot1\\mu\\mathrm{F}}\\approxeq60\\mathrm{Hz}$$"
   ]
  },
  {
   "cell_type": "code",
   "execution_count": 21,
   "id": "dd77fb19",
   "metadata": {},
   "outputs": [
    {
     "data": {
      "text/plain": [
       "60.05846909128126"
      ]
     },
     "execution_count": 21,
     "metadata": {},
     "output_type": "execute_result"
    }
   ],
   "source": [
    "f = 1 / (2*np.pi*2650*1e-6)\n",
    "f"
   ]
  },
  {
   "cell_type": "code",
   "execution_count": 22,
   "id": "aba0c271",
   "metadata": {},
   "outputs": [],
   "source": [
    "def cos(deg: float):\n",
    "    return np.cos(np.radians(deg))\n",
    "\n",
    "def sin(deg: float):\n",
    "    return np.sin(np.radians(deg))"
   ]
  },
  {
   "cell_type": "markdown",
   "id": "35d00f67",
   "metadata": {},
   "source": [
    "First we will use mesh current analysis to find the two currents flowing through load\\#$1$ and \\#$2$, denoted as '$I_1$' and '$I_2$' respectively.  Via Ohm's Law, KVL, and substitution, assuming the top mesh current, $I_1$, flows in the clockwise direction while the bottom mesh current, $I_2$, flows in the counter-clockwise direction,  \n",
    "\n",
    "\\begin{align*}\\tag{1}\n",
    "    120\\mathrm{V}\\angle\\,0^\\circ &= R_1I_1 + Z_\\mathrm{C}\\,(I_1+I_2) + 120\\mathrm{V}\\angle\\,240^\\circ \\\\\n",
    "     &= I_1\\cdot2650\\,\\Omega\\angle\\,0^\\circ \\:+\\: (I_1+I_2)\\cdot2650\\,\\Omega\\angle\\!-90^\\circ \\:+\\: 120\\mathrm{V}\\angle\\,240^\\circ\n",
    "\\end{align*}    "
   ]
  },
  {
   "cell_type": "markdown",
   "id": "5c25f392",
   "metadata": {},
   "source": [
    "and,\n",
    "\\begin{align*}\\tag{2}\n",
    "    120\\mathrm{V}\\angle\\,120^\\circ &= R_2I_2 + Z_\\mathrm{C}\\,(I_1+I_2) + 120\\mathrm{V}\\angle\\,240^\\circ \\\\\n",
    "     &= I_2\\cdot 2650\\,\\Omega\\angle\\,0^\\circ \\:+\\: (I_1+I_2)\\cdot 2650\\,\\Omega\\angle\\!-90^\\circ \\:+\\: 120\\mathrm{V}\\angle\\,240^\\circ\n",
    "\\end{align*}"
   ]
  },
  {
   "cell_type": "markdown",
   "id": "4e6f61c5",
   "metadata": {},
   "source": [
    "First, we solve for $I_1$ in terms of $I_2$.  Via equation (1),  \n",
    "\n",
    "$$ 120\\mathrm{V}\\,0^\\circ = I_1\\cdot 2650\\,\\Omega\\,\\big(1 - j \\big) + 120\\mathrm{V}\\angle\\,240^\\circ + I_2\\cdot2650\\,\\Omega\\angle\\!-90^\\circ$$"
   ]
  },
  {
   "cell_type": "markdown",
   "id": "d03e8b2a",
   "metadata": {},
   "source": [
    "$$ I_1\\cdot 2650\\,\\Omega\\,\\big(1 - j \\big) = 120\\mathrm{V}\\,0^\\circ  \\:-\\: 120\\mathrm{V}\\angle\\,240^\\circ \\:-\\: I_2\\cdot2650\\,\\Omega\\angle\\!-90^\\circ$$"
   ]
  },
  {
   "cell_type": "code",
   "execution_count": 23,
   "id": "6710d5fe",
   "metadata": {},
   "outputs": [
    {
     "data": {
      "text/plain": [
       "-45.0"
      ]
     },
     "execution_count": 23,
     "metadata": {},
     "output_type": "execute_result"
    }
   ],
   "source": [
    "np.degrees(np.arctan(-1))"
   ]
  },
  {
   "cell_type": "markdown",
   "id": "a8c07b25",
   "metadata": {},
   "source": [
    "\\begin{align*}\n",
    "    I_1\\cdot 2650\\sqrt{2}\\,\\Omega\\,\\angle\\!-45^\\circ &= 120\\mathrm{V}\\,0^\\circ  \\:-\\: 120\\mathrm{V}\\angle\\,240^\\circ \\:-\\: I_2\\cdot2650\\,\\Omega\\angle\\!-90^\\circ \\\\\n",
    "     &= 120\\mathrm{V}\\,\\big( 1\\angle\\,0^\\circ - 1\\angle\\,240^\\circ \\big)\\:-\\:I_2\\cdot2650\\,\\Omega\\angle\\!-90^\\circ \\\\\n",
    "     &= 120\\mathrm{V}\\,\\big( 1 - \\cos240^\\circ - j\\cdot\\sin240^\\circ \\big)\\:-\\:I_2\\cdot2650\\,\\Omega\\angle\\!-90^\\circ \\\\\n",
    "     &\\approxeq 120\\mathrm{V}\\,(1.5+0.866j)\\:-\\:I_2\\cdot2650\\,\\Omega\\angle\\!-90^\\circ \\\\\n",
    "     &\\approxeq 207.85\\mathrm{V}\\angle\\,30^\\circ \\:-\\:I_2\\cdot2650\\,\\Omega\\angle\\!-90^\\circ\n",
    "\\end{align*}"
   ]
  },
  {
   "cell_type": "markdown",
   "id": "fd8e628e",
   "metadata": {},
   "source": [
    "Thus, we have:  \n",
    "\n",
    "$$ I_1\\cdot 2650\\sqrt{2}\\,\\Omega\\,\\angle\\!-45^\\circ \\approxeq 207.85\\mathrm{V}\\angle\\,30^\\circ \\:-\\:I_2\\cdot2650\\,\\Omega\\,\\angle\\!-90^\\circ$$"
   ]
  },
  {
   "cell_type": "code",
   "execution_count": 24,
   "id": "eb9183e1",
   "metadata": {},
   "outputs": [
    {
     "data": {
      "text/plain": [
       "(1.5000000000000004+0.8660254037844384j)"
      ]
     },
     "execution_count": 24,
     "metadata": {},
     "output_type": "execute_result"
    }
   ],
   "source": [
    "x = complex(1-cos(240), -sin(240))\n",
    "x"
   ]
  },
  {
   "cell_type": "code",
   "execution_count": 34,
   "id": "1bbef9cc",
   "metadata": {},
   "outputs": [
    {
     "data": {
      "text/plain": [
       "207.8460969082653"
      ]
     },
     "execution_count": 34,
     "metadata": {},
     "output_type": "execute_result"
    }
   ],
   "source": [
    "120*np.sqrt(x.real**2 + x.imag**2)"
   ]
  },
  {
   "cell_type": "code",
   "execution_count": 26,
   "id": "ece5c84c",
   "metadata": {},
   "outputs": [
    {
     "data": {
      "text/plain": [
       "29.999999999999986"
      ]
     },
     "execution_count": 26,
     "metadata": {},
     "output_type": "execute_result"
    }
   ],
   "source": [
    "np.degrees(np.arctan(x.imag/x.real))"
   ]
  },
  {
   "cell_type": "markdown",
   "id": "e7f96054",
   "metadata": {},
   "source": [
    "Dividing throughout by $2650\\sqrt{2}\\,\\Omega\\,\\angle\\!-45^\\circ$ gives:  \n",
    "\n",
    "\\begin{align*}\\tag{3}\n",
    "    I_1 &\\approxeq \\frac{207.85\\mathrm{V}}{2650\\sqrt{2}\\,\\Omega}\\,\\angle\\,75^\\circ \\:-\\:\\frac{I_2}{\\sqrt{2}}\\,\\angle\\!-45^\\circ \\\\ \\\\\n",
    "     &\\approxeq 55.46\\,\\mathrm{mA}\\,\\angle\\,75^\\circ \\:-\\:\\frac{I_2}{\\sqrt{2}}\\,\\angle\\!-45^\\circ\n",
    "\\end{align*}"
   ]
  },
  {
   "cell_type": "code",
   "execution_count": 35,
   "id": "4d1271fa",
   "metadata": {},
   "outputs": [
    {
     "data": {
      "text/plain": [
       "0.055461186592310904"
      ]
     },
     "execution_count": 35,
     "metadata": {},
     "output_type": "execute_result"
    }
   ],
   "source": [
    "207.85/(2650*np.sqrt(2))"
   ]
  },
  {
   "cell_type": "markdown",
   "id": "61c2fbf7",
   "metadata": {},
   "source": [
    "We can now solve for $I_2$ in terms of known quantities.  Via equations (2) and (3) in conjunction with substitution:  \n",
    "\n",
    "\\begin{align*}\n",
    "    120\\mathrm{V}\\angle\\,120^\\circ &\\approxeq I_2\\cdot 2650\\,\\Omega\\,\\angle\\,0^\\circ \\:+\\: \\left( \\frac{207.85\\mathrm{V}}{2650\\sqrt{2}\\,\\Omega}\\,\\angle\\,75^\\circ \\:-\\:\\frac{I_2}{\\sqrt{2}}\\,\\angle\\!-45^\\circ+I_2\\right)\\cdot 2650\\,\\Omega\\,\\angle\\!-90^\\circ \\:+\\: 120\\mathrm{V}\\angle\\,240^\\circ \\\\ \\\\\n",
    "     &\\approxeq  I_2\\cdot 2650\\,\\Omega\\,\\angle\\,0^\\circ \\:+\\: \\frac{207.85\\mathrm{V}}{\\sqrt{2}}\\,\\angle\\!-15^\\circ \\:+\\: \\left(I_2 - \\frac{I_2}{\\sqrt{2}}\\,\\angle\\!-45^\\circ \\right)\\cdot 2650\\,\\Omega\\,\\angle\\!-90^\\circ \\:+\\: 120\\mathrm{V}\\angle\\,240^\\circ \\\\ \\\\\n",
    "     &\\approxeq I_2\\cdot 2650\\,\\Omega\\,\\angle\\,0^\\circ \\:+\\: \\frac{207.85\\mathrm{V}}{\\sqrt{2}}\\,\\angle\\!-15^\\circ \\:+\\:I_2\\cdot 2650\\,\\Omega\\angle\\!-90^\\circ \\:-\\: I_2\\cdot \\frac{2650\\,\\Omega}{\\sqrt{2}}\\,\\angle\\!-135^\\circ \\:+\\: 120\\mathrm{V}\\angle\\,240^\\circ \\\\ \\\\\n",
    "     &\\approxeq I_2\\cdot 2650\\,\\Omega\\,\\left(1 - j - \\frac{1}{\\sqrt{2}}\\,\\angle\\!-135^\\circ \\right) \\:+\\: \\frac{207.85\\mathrm{V}}{\\sqrt{2}}\\,\\angle\\!-15^\\circ \\:+\\: 120\\mathrm{V}\\angle\\,240^\\circ\n",
    "\\end{align*}     "
   ]
  },
  {
   "cell_type": "code",
   "execution_count": 28,
   "id": "83422db7",
   "metadata": {},
   "outputs": [
    {
     "data": {
      "text/plain": [
       "(1.7071067811865475-0.2928932188134524j)"
      ]
     },
     "execution_count": 28,
     "metadata": {},
     "output_type": "execute_result"
    }
   ],
   "source": [
    "x2 = complex(1 - cos(-135), -1-sin(-135))\n",
    "x2"
   ]
  },
  {
   "cell_type": "code",
   "execution_count": 29,
   "id": "185f0d52",
   "metadata": {},
   "outputs": [
    {
     "data": {
      "text/plain": [
       "(0.46592582628906787-1.1248444488869591j)"
      ]
     },
     "execution_count": 29,
     "metadata": {},
     "output_type": "execute_result"
    }
   ],
   "source": [
    "y = complex(cos(-15) + cos(240), sin(-15)+sin(240))\n",
    "y"
   ]
  },
  {
   "cell_type": "markdown",
   "id": "6a36dd9d",
   "metadata": {},
   "source": [
    "Thus we have:  \n",
    "\n",
    "\\begin{align*}\n",
    "    I_2\\cdot 2650\\,\\Omega\\,(1.707 - 0.293j) &\\approxeq 120\\mathrm{V}\\angle\\,120^\\circ - 120\\mathrm{V}\\,(0.466 - 1.125j) \\\\\n",
    "     &\\approxeq 120\\mathrm{V}\\,\\big(1\\angle\\,120^\\circ - 0.466 + 1.125j \\big)\\\\\n",
    "     &\\approxeq 120\\mathrm{V}\\,(-0.966 + 1.991j)\n",
    "\\end{align*} "
   ]
  },
  {
   "cell_type": "code",
   "execution_count": 30,
   "id": "6adfa262",
   "metadata": {},
   "outputs": [
    {
     "data": {
      "text/plain": [
       "(-0.9659258262890676+1.990869852671398j)"
      ]
     },
     "execution_count": 30,
     "metadata": {},
     "output_type": "execute_result"
    }
   ],
   "source": [
    "y = complex(cos(120), sin(120)) - y\n",
    "y"
   ]
  },
  {
   "cell_type": "code",
   "execution_count": 31,
   "id": "d09b9d95",
   "metadata": {},
   "outputs": [
    {
     "data": {
      "text/plain": [
       "(-9.739689263441297, -64.11811187705209)"
      ]
     },
     "execution_count": 31,
     "metadata": {},
     "output_type": "execute_result"
    }
   ],
   "source": [
    "theta_x = np.degrees(np.arctan(-0.293/1.707))\n",
    "theta_y = np.degrees(np.arctan(-1.991/0.966))\n",
    "(theta_x, theta_y)"
   ]
  },
  {
   "cell_type": "markdown",
   "id": "a7a96ca0",
   "metadata": {},
   "source": [
    "and,\n",
    "$$ I_2\\cdot 2650\\,\\Omega\\angle\\!-9.74^\\circ \\approxeq 120\\mathrm{V}\\angle\\!-64.12^\\circ$$"
   ]
  },
  {
   "cell_type": "code",
   "execution_count": 32,
   "id": "cb3a0d04",
   "metadata": {},
   "outputs": [
    {
     "data": {
      "text/plain": [
       "54.38"
      ]
     },
     "execution_count": 32,
     "metadata": {},
     "output_type": "execute_result"
    }
   ],
   "source": [
    "64.12-9.74"
   ]
  },
  {
   "cell_type": "markdown",
   "id": "9e691a9d",
   "metadata": {},
   "source": [
    "Dividing throughout by $2650\\,\\Omega\\angle\\!-9.74^\\circ$ gives:  \n",
    "\n",
    "\\begin{equation}\\tag{4}\n",
    "    I_2 \\approxeq \\frac{120\\mathrm{V}}{2650\\,\\Omega}\\,\\angle\\!-54.38^\\circ\\approxeq 45.28\\,\\mathrm{mA}\\,\\angle\\!-54.38^\\circ\n",
    "\\end{equation}    "
   ]
  }
 ],
 "metadata": {
  "kernelspec": {
   "display_name": "Python 3",
   "language": "python",
   "name": "python3"
  },
  "language_info": {
   "codemirror_mode": {
    "name": "ipython",
    "version": 3
   },
   "file_extension": ".py",
   "mimetype": "text/x-python",
   "name": "python",
   "nbconvert_exporter": "python",
   "pygments_lexer": "ipython3",
   "version": "3.8.10"
  }
 },
 "nbformat": 4,
 "nbformat_minor": 5
}
