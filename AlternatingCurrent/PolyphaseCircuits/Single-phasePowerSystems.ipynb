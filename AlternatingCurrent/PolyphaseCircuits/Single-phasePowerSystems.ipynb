{
 "cells": [
  {
   "cell_type": "markdown",
   "id": "d9efe3e6",
   "metadata": {},
   "source": [
    "# Single-phase Power Systems\n",
    "\n",
    "### Capter 10 -- Polyphase AC Circuits\n",
    "\n",
    "![basic-schematic-diagram](https://www.allaboutcircuits.com/uploads/articles/single-phase-power-system-schematic-diagram.jpg)"
   ]
  },
  {
   "cell_type": "markdown",
   "id": "8736b396",
   "metadata": {},
   "source": [
    "Single phase power system schematic diagram shows little about the wiring of a practical power circuit.\n",
    "\n",
    "Depicted above, is a very simple AC circuit. If the load resistor’s power dissipation were substantial, we might call this a “power circuit” or “power system” instead of regarding it as just a regular circuit.\n",
    "\n",
    "The distinction between a “power circuit” and a “regular circuit” may seem arbitrary, but the practical concerns are definitely not.\n"
   ]
  },
  {
   "cell_type": "markdown",
   "id": "4ff1a6ce",
   "metadata": {},
   "source": [
    "## Practical Circuit Analysis\n",
    "\n",
    "One such concern is the size and cost of wiring necessary to deliver power from the AC source to the load. Normally, we do not give much thought to this type of concern if we’re merely analyzing a circuit for the sake of learning about the laws of electricity.\n",
    "\n",
    "However, in the real world, it can be a major concern. If we give the source in the above circuit a voltage value and also give power dissipation values to the two load resistors, we can determine the wiring needs for this particular circuit:"
   ]
  },
  {
   "cell_type": "markdown",
   "id": "970052fa",
   "metadata": {},
   "source": [
    "![spec-schematic-diagram](https://www.allaboutcircuits.com/uploads/articles/single-phase-power-system-schematic-diagram-example.jpg)"
   ]
  },
  {
   "cell_type": "markdown",
   "id": "d3b61905",
   "metadata": {},
   "source": [
    "$$ P = 10\\mathrm{kW} = 0.5IE$$\n",
    "\n",
    "$$ 0.5I = \\frac{P}{E} = \\frac{10\\mathrm{kW}}{120\\mathrm{V}} = \\frac{250}{3}\\mathrm{A} \\approxeq 83.33\\mathrm{A}$$"
   ]
  },
  {
   "cell_type": "code",
   "execution_count": 1,
   "id": "399e42cf",
   "metadata": {},
   "outputs": [
    {
     "data": {
      "text/plain": [
       "83.33333333333333"
      ]
     },
     "execution_count": 1,
     "metadata": {},
     "output_type": "execute_result"
    }
   ],
   "source": [
    "250/3"
   ]
  },
  {
   "cell_type": "markdown",
   "id": "6329a82d",
   "metadata": {},
   "source": [
    "The measure of each current flowing through an individual load is equal to $0.5I$.  The measure of the total current is equal to $I$.  \n",
    "\n",
    "$$ I = 2 \\cdot \\frac{250}{3}\\mathrm{A} \\approxeq  166.67 \\mathrm{A}$$"
   ]
  },
  {
   "cell_type": "code",
   "execution_count": 2,
   "id": "3d70c866",
   "metadata": {},
   "outputs": [
    {
     "data": {
      "text/plain": [
       "166.66666666666666"
      ]
     },
     "execution_count": 2,
     "metadata": {},
     "output_type": "execute_result"
    }
   ],
   "source": [
    "500/3"
   ]
  },
  {
   "cell_type": "markdown",
   "id": "2bb17b6c",
   "metadata": {},
   "source": [
    "$83.33$ amps for each load resistor in the figure above adds up to $166.66$ amps total circuit current. This is no small amount of current and would necessitate copper wire conductors of at least 1/0 gauge.\n",
    "\n",
    "Such wire is well over 1/4 inch (6 mm) in diameter, weighing over 300 pounds per thousand feet. Bear in mind that copper is not cheap either! It would be in our best interest to find ways to minimize such costs if we were designing a power system with long conductor lengths.\n",
    "\n",
    "One way to do this would be to increase the voltage of the power source and use loads built to dissipate $10$ kW each at this higher voltage.\n",
    "\n",
    "The loads, of course, would have to have greater resistance values to dissipate the same power as before ($10$ kW each) at a greater voltage than before.\n",
    "\n",
    "The advantage would be less current required, permitting the use of smaller, lighter, and cheaper wire:"
   ]
  },
  {
   "cell_type": "markdown",
   "id": "5247373d",
   "metadata": {},
   "source": [
    "![spec-schematic-diagram-2](https://www.allaboutcircuits.com/uploads/articles/single-phase-power-system-schematic-diagram-example1.jpg)"
   ]
  },
  {
   "cell_type": "markdown",
   "id": "b626011b",
   "metadata": {},
   "source": [
    "$$ 0.5I = \\frac{P}{E} = \\frac{10\\mathrm{kW}}{240\\mathrm{V}} \\approxeq \\frac{83.33}{2} \\mathrm{A} \\approxeq 41.67 \\mathrm{A}$$"
   ]
  },
  {
   "cell_type": "code",
   "execution_count": 4,
   "id": "efb08316",
   "metadata": {},
   "outputs": [
    {
     "data": {
      "text/plain": [
       "41.665"
      ]
     },
     "execution_count": 4,
     "metadata": {},
     "output_type": "execute_result"
    }
   ],
   "source": [
    "83.33/2"
   ]
  },
  {
   "cell_type": "markdown",
   "id": "c83f45c7",
   "metadata": {},
   "source": [
    "And, the total current is given by:  \n",
    "\n",
    "$$ I \\approxeq 2\\cdot41.67\\mathrm{A} \\approxeq 83.33 \\mathrm{A}$$"
   ]
  },
  {
   "cell_type": "markdown",
   "id": "21b76e87",
   "metadata": {},
   "source": [
    "Basically, the larger $E$ is, the smaller the current needed to dissipate the same amount of power ($P$) across a given load is."
   ]
  },
  {
   "cell_type": "markdown",
   "id": "d612e191",
   "metadata": {},
   "source": [
    "Now our total circuit current is $83.33$ amps, half of what it was before.\n",
    "\n",
    "We can now use number 4 gauge wire, which weighs less than half of what 1/0 gauge wire does per unit length. This is a considerable reduction in system cost with no degradation in performance.\n",
    "\n",
    "This is why power distribution system designers elect to transmit electric power using very high voltages (many thousands of volts): to capitalize on the savings realized by the use of smaller, lighter, cheaper wire."
   ]
  },
  {
   "cell_type": "markdown",
   "id": "d7cc5696",
   "metadata": {},
   "source": [
    "## Dangers of Increasing the Source Voltage\n",
    "\n",
    "However, this solution is not without disadvantages. Another practical concern with power circuits is the danger of electric shock from high voltages.\n",
    "\n",
    "Again, this is not usually the sort of thing we concentrate on while learning about the laws of electricity, but it is a very valid concern in the real world, especially when large amounts of power are being dealt with.\n",
    "\n",
    "The gain in efficiency realized by stepping up the circuit voltage presents us with an increased danger of electric shock. Power distribution companies tackle this problem by stringing their power lines along high poles or towers and insulating the lines from the supporting structures with large, porcelain insulators.\n",
    "\n",
    "At the point of use (the electric power customer), there is still the issue of what voltage to use for powering loads.\n",
    "\n",
    "High voltage gives greater system efficiency by means of reduced conductor current, but it might not always be practical to keep power wiring out of reach at the point of use the way it can be elevated out of reach in distribution systems.\n",
    "\n",
    "This tradeoff between efficiency and danger is one that European power system designers have decided to risk, all their households and appliances operating at a nominal voltage of $240$ volts instead of $120$ volts as it is in North America.\n",
    "\n",
    "That is why tourists from America visiting Europe must carry small step-down transformers for their portable appliances, to step the $240$ VAC (volts AC) power down to a more suitable $120$ VAC."
   ]
  },
  {
   "cell_type": "markdown",
   "id": "ece55b5d",
   "metadata": {},
   "source": [
    "## Solutions for Voltage Delivery to Consumers\n",
    "\n",
    "### Step-down Transformers at End-point of Power use\n",
    "\n",
    "Is there any way to realize the advantages of both increased efficiency and reduced safety hazard at the same time?\n",
    "\n",
    "One solution would be to install step-down transformers at the end-point of power use, just as the American tourist must do while in Europe.\n",
    "\n",
    "However, this would be expensive and inconvenient for anything but very small loads (where the transformers can be built cheaply) or very large loads (where the expense of thick copper wires would exceed the expense of a transformer)."
   ]
  },
  {
   "cell_type": "markdown",
   "id": "52fbf10b",
   "metadata": {},
   "source": [
    "### Two Lower voltage Loads in Series\n",
    "\n",
    "An alternative solution would be to use a higher voltage supply to provide power to two lower voltage loads in series. This approach combines the efficiency of a high-voltage system with the safety of a low-voltage system:"
   ]
  },
  {
   "cell_type": "markdown",
   "id": "72fc28a2",
   "metadata": {},
   "source": [
    "![in-series-example](https://www.allaboutcircuits.com/uploads/articles/efficiency-of-high-voltage-system-example.jpg)"
   ]
  },
  {
   "cell_type": "markdown",
   "id": "e5c23d82",
   "metadata": {},
   "source": [
    "The power dissapate across either load, denoted as '$P$', is equal to the product of the total current and the voltage running across either load, denoted as '$I$' and '$E$' respectively.  \n",
    "\n",
    "$$ P = IE = 10\\mathrm{kW} = I \\cdot 120\\mathrm{V}$$\n",
    "\n",
    "$$ I = \\frac{P}{E} = \\frac{10\\mathrm{kW}}{120\\mathrm{V}} \\approxeq 83.33\\mathrm{A}$$"
   ]
  },
  {
   "cell_type": "code",
   "execution_count": 6,
   "id": "aa48d251",
   "metadata": {},
   "outputs": [
    {
     "data": {
      "text/plain": [
       "83.33333333333333"
      ]
     },
     "execution_count": 6,
     "metadata": {},
     "output_type": "execute_result"
    }
   ],
   "source": [
    "1000/12"
   ]
  },
  {
   "cell_type": "markdown",
   "id": "bdedc134",
   "metadata": {},
   "source": [
    "Notice the polarity markings (+ and -) for each voltage shown, as well as the unidirectional arrows for current.\n",
    "\n",
    "For the most part, I’ve avoided labeling “polarities” in the AC circuits we’ve been analyzing, even though the notation is valid to provide a frame of reference for phase.\n",
    "\n",
    "In later sections of this chapter, phase relationships will become very important, so I’m introducing this notation early on in the chapter for your familiarity.\n",
    "\n",
    "The current through each load is the same as it was in the simple $120\\mathrm{V}$ circuit, but the currents are not additive because the loads are in series rather than parallel.\n",
    "\n",
    "The voltage across each load is only $120$ volts, not $240$, so the safety factor is better. Mind you, we still have a full $240$ volts across the power system wires, but each load is operating at a reduced voltage.\n",
    "\n",
    "If anyone is going to get shocked, the odds are that it will be from coming into contact with the conductors of a particular load rather than from contact across the main wires of a power system."
   ]
  },
  {
   "cell_type": "markdown",
   "id": "f49c803e",
   "metadata": {},
   "source": [
    "## Modifications to Two Load Series Design\n",
    "\n",
    "There’s only one disadvantage to this design: the consequences of one load failing open, or being turned off (assuming each load has a series on/off switch to interrupt current) are not good.\n",
    "\n",
    "Being a series circuit, if either load were to open, the current would stop in the other load as well. For this reason, we need to modify the design a bit: (Figure below)"
   ]
  },
  {
   "cell_type": "code",
   "execution_count": null,
   "id": "cd5682b1",
   "metadata": {},
   "outputs": [],
   "source": []
  }
 ],
 "metadata": {
  "kernelspec": {
   "display_name": "Python 3 (ipykernel)",
   "language": "python",
   "name": "python3"
  },
  "language_info": {
   "codemirror_mode": {
    "name": "ipython",
    "version": 3
   },
   "file_extension": ".py",
   "mimetype": "text/x-python",
   "name": "python",
   "nbconvert_exporter": "python",
   "pygments_lexer": "ipython3",
   "version": "3.8.10"
  }
 },
 "nbformat": 4,
 "nbformat_minor": 5
}
