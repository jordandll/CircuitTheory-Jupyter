{
 "cells": [
  {
   "cell_type": "markdown",
   "id": "32289f5b",
   "metadata": {},
   "source": [
    "# Three-phase Power Systems\n",
    "\n",
    "### *Chapter 10 - Polyphase AC Circuits*"
   ]
  },
  {
   "cell_type": "markdown",
   "id": "13fac5b6",
   "metadata": {},
   "source": [
    "## What are Split-Phase Power Systems?\n",
    "\n",
    "Split-phase power systems achieve their high conductor efficiency and low safety risk by splitting up the total voltage into lesser parts and powering multiple loads at those lesser voltages while drawing currents at levels typical of a full-voltage system.\n",
    "\n",
    "This technique, by the way, works just as well for DC power systems as it does for single-phase AC systems. Such systems are usually referred to as three-wire systems rather than split-phase because “phase” is a concept restricted to AC.\n",
    "\n",
    "But we know from our experience with vectors and complex numbers that AC voltages don’t always add up as we think they would if they are out of phase with each other.\n",
    "\n",
    "This principle, applied to power systems, can be put to use to make power systems with even greater conductor efficiencies and lower shock hazard than with split-phase."
   ]
  },
  {
   "cell_type": "markdown",
   "id": "c4d70420",
   "metadata": {},
   "source": [
    "# Examples\n",
    "\n",
    "## Two 120° Out of Phase Voltage Sources\n",
    "\n",
    "Suppose that we had two sources of AC voltage connected in series just like the split-phase system we saw before, except that each voltage source was 120° out of phase with the other: (Figure below)"
   ]
  },
  {
   "cell_type": "markdown",
   "id": "d0fd4b7f",
   "metadata": {},
   "source": [
    "![example-1](https://www.allaboutcircuits.com/uploads/articles/phase-voltage-sources-example.jpg)"
   ]
  },
  {
   "cell_type": "markdown",
   "id": "13197fdb",
   "metadata": {},
   "source": [
    "### Verification\n",
    "\n",
    "Here we verify that the voltage drop from the positive pole of load \\#1 to the positive pole of load \\#2, henceforth '$E$', is indeed equal to $207.85\\mathrm{V}\\angle\\,-\\!30^\\circ$."
   ]
  },
  {
   "cell_type": "markdown",
   "id": "eae676f9",
   "metadata": {},
   "source": [
    "$$ E = 120\\mathrm{V}\\angle\\,0 - 120 \\mathrm{V}\\angle\\,120^\\circ = 120\\mathrm{V}\\angle\\,0 + 120\\mathrm{V}\\angle\\,-\\!60^\\circ$$"
   ]
  },
  {
   "cell_type": "markdown",
   "id": "1426d08d",
   "metadata": {},
   "source": [
    "In rectangular form:\n",
    "$$ E = 120\\mathrm{V} + 120\\mathrm{V}\\big(\\cos-60^\\circ + j\\cdot \\sin-60^\\circ \\big)$$"
   ]
  },
  {
   "cell_type": "code",
   "execution_count": 1,
   "id": "cc0e116e",
   "metadata": {},
   "outputs": [],
   "source": [
    "from math import pi, cos, sin, radians, degrees"
   ]
  },
  {
   "cell_type": "code",
   "execution_count": 2,
   "id": "6b179235",
   "metadata": {},
   "outputs": [
    {
     "data": {
      "text/plain": [
       "(0.5000000000000001, -0.8660254037844386)"
      ]
     },
     "execution_count": 2,
     "metadata": {},
     "output_type": "execute_result"
    }
   ],
   "source": [
    "(cos(radians(-60)), sin(radians(-60)))"
   ]
  },
  {
   "cell_type": "markdown",
   "id": "48defa91",
   "metadata": {},
   "source": [
    "Thus,\n",
    "$$ E \\approxeq 120\\mathrm{V}\\big( 1.5 - j\\cdot0.866\\big)$$"
   ]
  },
  {
   "cell_type": "markdown",
   "id": "1045bf5f",
   "metadata": {},
   "source": [
    "Finally, in polar form:\n",
    "$$ E = |E|\\angle\\,E_\\theta$$\n",
    "\n",
    "where,\n",
    "\n",
    "$$|E| = 120\\mathrm{V}\\,\\sqrt{1.5^2 + 0.866^2} \\approxeq 207.84 \\mathrm{V}$$\n",
    "\n",
    "and,\n",
    "$$ E_\\theta = \\arcsin - \\frac{0.866}{\\sqrt{1.5^2+0.866^2}} \\approxeq -30^\\circ$$"
   ]
  },
  {
   "cell_type": "code",
   "execution_count": 3,
   "id": "e11aaf40",
   "metadata": {},
   "outputs": [],
   "source": [
    "import numpy as np"
   ]
  },
  {
   "cell_type": "code",
   "execution_count": 4,
   "id": "211a53eb",
   "metadata": {},
   "outputs": [
    {
     "data": {
      "text/plain": [
       "207.84457269796582"
      ]
     },
     "execution_count": 4,
     "metadata": {},
     "output_type": "execute_result"
    }
   ],
   "source": [
    "120*np.sqrt(1.5**2 + 0.866**2)"
   ]
  },
  {
   "cell_type": "code",
   "execution_count": 5,
   "id": "17afc787",
   "metadata": {},
   "outputs": [
    {
     "data": {
      "text/plain": [
       "-29.999272229846984"
      ]
     },
     "execution_count": 5,
     "metadata": {},
     "output_type": "execute_result"
    }
   ],
   "source": [
    "np.degrees(np.arctan(-0.866/1.5))"
   ]
  },
  {
   "cell_type": "markdown",
   "id": "7081a935",
   "metadata": {},
   "source": [
    "### \"Neutral\" Conductor\n",
    "\n",
    "The current flowing through the top half of the circuit and subsequently load \\#1, denoted as '$I_1$', is given by:\n",
    "\n",
    "$$ I_1 \\approxeq 83.33\\mathrm{A}\\,\\angle\\,0$$\n",
    "\n",
    "And, the current flowing through the bottom half and subsequently load \\#2, denoted as '$I_2$', is given by:  \n",
    "\n",
    "$$ I_2 \\approxeq 83.33\\mathrm{A}\\,\\angle\\,120^\\circ$$"
   ]
  },
  {
   "cell_type": "markdown",
   "id": "6da0449a",
   "metadata": {},
   "source": [
    "As it turns out, the so called \"neutral\" conductor does not have a current of zero.  The current flowing through the \"neutral\" conductor, henceforth '$I_\\mathrm{m}$', is given by KCL.  \n",
    "\n",
    "$$ I_1 + I_2 = I_\\mathrm{m} \\approxeq 83.33\\mathrm{A}\\,\\angle\\,0^\\circ + 83.33\\mathrm{A}\\,\\angle\\,120^\\circ $$"
   ]
  },
  {
   "cell_type": "markdown",
   "id": "cc2259c4",
   "metadata": {},
   "source": [
    "Note that the above assumes that $I_1$ flows in the clockwise direction while $I_2$ flows in the counter-clockwise direction, both of which are mesh currents.  This is consistent with the polarity markings given in the diagram above."
   ]
  },
  {
   "cell_type": "markdown",
   "id": "879fba55",
   "metadata": {},
   "source": [
    "To add these mesh currents we first need to convert their complex number representation into their rectangular form."
   ]
  },
  {
   "cell_type": "markdown",
   "id": "7b53ece4",
   "metadata": {},
   "source": [
    "$$ I_\\mathrm{m} \\approxeq 83.33\\mathrm{A} + 83.33\\mathrm{A}\\big(\\cos120^\\circ + j\\cdot \\sin120^\\circ \\big)$$"
   ]
  },
  {
   "cell_type": "code",
   "execution_count": 6,
   "id": "9a4084c1",
   "metadata": {},
   "outputs": [
    {
     "data": {
      "text/plain": [
       "(-0.4999999999999998, 0.8660254037844387)"
      ]
     },
     "execution_count": 6,
     "metadata": {},
     "output_type": "execute_result"
    }
   ],
   "source": [
    "(np.cos(np.radians(120)), np.sin(np.radians(120)))"
   ]
  }
 ],
 "metadata": {
  "kernelspec": {
   "display_name": "Python 3 (ipykernel)",
   "language": "python",
   "name": "python3"
  },
  "language_info": {
   "codemirror_mode": {
    "name": "ipython",
    "version": 3
   },
   "file_extension": ".py",
   "mimetype": "text/x-python",
   "name": "python",
   "nbconvert_exporter": "python",
   "pygments_lexer": "ipython3",
   "version": "3.8.10"
  }
 },
 "nbformat": 4,
 "nbformat_minor": 5
}
