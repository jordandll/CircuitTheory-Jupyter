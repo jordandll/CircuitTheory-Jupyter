{
 "cells": [
  {
   "cell_type": "markdown",
   "id": "32289f5b",
   "metadata": {},
   "source": [
    "# Three-phase Power Systems\n",
    "\n",
    "### *Chapter 10 - Polyphase AC Circuits*"
   ]
  },
  {
   "cell_type": "markdown",
   "id": "13fac5b6",
   "metadata": {},
   "source": [
    "## What are Split-Phase Power Systems?\n",
    "\n",
    "Split-phase power systems achieve their high conductor efficiency and low safety risk by splitting up the total voltage into lesser parts and powering multiple loads at those lesser voltages while drawing currents at levels typical of a full-voltage system.\n",
    "\n",
    "This technique, by the way, works just as well for DC power systems as it does for single-phase AC systems. Such systems are usually referred to as three-wire systems rather than split-phase because “phase” is a concept restricted to AC.\n",
    "\n",
    "But we know from our experience with vectors and complex numbers that AC voltages don’t always add up as we think they would if they are out of phase with each other.\n",
    "\n",
    "This principle, applied to power systems, can be put to use to make power systems with even greater conductor efficiencies and lower shock hazard than with split-phase."
   ]
  },
  {
   "cell_type": "markdown",
   "id": "c4d70420",
   "metadata": {},
   "source": [
    "# Examples\n",
    "\n",
    "## Two 120° Out of Phase Voltage Sources\n",
    "\n",
    "Suppose that we had two sources of AC voltage connected in series just like the split-phase system we saw before, except that each voltage source was 120° out of phase with the other: (Figure below)"
   ]
  },
  {
   "cell_type": "markdown",
   "id": "d0fd4b7f",
   "metadata": {},
   "source": [
    "![example-1](https://www.allaboutcircuits.com/uploads/articles/phase-voltage-sources-example.jpg)"
   ]
  },
  {
   "cell_type": "markdown",
   "id": "13197fdb",
   "metadata": {},
   "source": [
    "### Verification\n",
    "\n",
    "Here we verify that the voltage drop from the positive pole of load \\#1 to the positive pole of load \\#2, henceforth '$E$', is indeed equal to $207.85\\mathrm{V}\\angle\\,-\\!30^\\circ$."
   ]
  },
  {
   "cell_type": "markdown",
   "id": "eae676f9",
   "metadata": {},
   "source": [
    "$$ E = 120\\mathrm{V}\\angle\\,0 - 120 \\mathrm{V}\\angle\\,120^\\circ = 120\\mathrm{V}\\angle\\,0 + 120\\mathrm{V}\\angle\\,-\\!60^\\circ$$"
   ]
  },
  {
   "cell_type": "markdown",
   "id": "1426d08d",
   "metadata": {},
   "source": [
    "In rectangular form:\n",
    "$$ E = 120\\mathrm{V} + 120\\mathrm{V}\\big(\\cos-60^\\circ + j\\cdot \\sin-60^\\circ \\big)$$"
   ]
  },
  {
   "cell_type": "code",
   "execution_count": 1,
   "id": "cc0e116e",
   "metadata": {},
   "outputs": [],
   "source": [
    "from math import pi, cos, sin, radians, degrees"
   ]
  },
  {
   "cell_type": "code",
   "execution_count": 2,
   "id": "6b179235",
   "metadata": {},
   "outputs": [
    {
     "data": {
      "text/plain": [
       "(0.5000000000000001, -0.8660254037844386)"
      ]
     },
     "execution_count": 2,
     "metadata": {},
     "output_type": "execute_result"
    }
   ],
   "source": [
    "(cos(radians(-60)), sin(radians(-60)))"
   ]
  },
  {
   "cell_type": "markdown",
   "id": "48defa91",
   "metadata": {},
   "source": [
    "Thus,\n",
    "$$ E \\approxeq 120\\mathrm{V}\\big( 1.5 - j\\cdot0.866\\big)$$"
   ]
  },
  {
   "cell_type": "markdown",
   "id": "1045bf5f",
   "metadata": {},
   "source": [
    "Finally, in polar form:\n",
    "$$ E = |E|\\angle\\,E_\\theta$$\n",
    "\n",
    "where,\n",
    "\n",
    "$$|E| = 120\\mathrm{V}\\,\\sqrt{1.5^2 + 0.866^2} \\approxeq 207.84 \\mathrm{V}$$\n",
    "\n",
    "and,\n",
    "$$ E_\\theta = \\arcsin - \\frac{0.866}{\\sqrt{1.5^2+0.866^2}} \\approxeq -30^\\circ$$"
   ]
  },
  {
   "cell_type": "code",
   "execution_count": 3,
   "id": "e11aaf40",
   "metadata": {},
   "outputs": [],
   "source": [
    "import numpy as np"
   ]
  },
  {
   "cell_type": "code",
   "execution_count": 4,
   "id": "211a53eb",
   "metadata": {},
   "outputs": [
    {
     "data": {
      "text/plain": [
       "207.84457269796582"
      ]
     },
     "execution_count": 4,
     "metadata": {},
     "output_type": "execute_result"
    }
   ],
   "source": [
    "120*np.sqrt(1.5**2 + 0.866**2)"
   ]
  },
  {
   "cell_type": "code",
   "execution_count": 5,
   "id": "17afc787",
   "metadata": {},
   "outputs": [
    {
     "data": {
      "text/plain": [
       "-29.999272229846984"
      ]
     },
     "execution_count": 5,
     "metadata": {},
     "output_type": "execute_result"
    }
   ],
   "source": [
    "np.degrees(np.arctan(-0.866/1.5))"
   ]
  },
  {
   "cell_type": "markdown",
   "id": "5aff9d56",
   "metadata": {},
   "source": [
    "### Findings and Conclusions\n",
    "\n",
    "So, we find that the “neutral” wire is carrying a full 83.33 amps, just like each “hot” wire.\n",
    "\n",
    "Note that we are still conveying 20 kW of total power to the two loads, with each load’s “hot” wire carrying 83.33 amps as before.\n",
    "\n",
    "With the same amount of current through each “hot” wire, we must use the same gauge copper conductors, so we haven’t reduced system cost over the split-phase 120/240 system.\n",
    "\n",
    "However, we have realized a gain in safety, because the overall voltage between the two “hot” conductors is 32 volts lower than it was in the split-phase system (208 volts instead of 240 volts)."
   ]
  },
  {
   "cell_type": "markdown",
   "id": "a5db59b1",
   "metadata": {},
   "source": [
    "## Three 120° Out of Phase Voltage Sources\n",
    "\n",
    "The fact that the neutral wire is carrying 83.33 amps of current raises an interesting possibility: since it's carrying current anyway, why not use that third wire as another “hot” conductor, powering another load resistor with a third 120 volt source having a phase angle of 240°?\n",
    "\n",
    "That way, we could transmit more power (another 10 kW) without having to add any more conductors. Let’s see how this might look: (Figure below)"
   ]
  },
  {
   "cell_type": "markdown",
   "id": "9038b8a9",
   "metadata": {},
   "source": [
    "![example-1.2](https://www.allaboutcircuits.com/uploads/articles/phase-voltage-sources-example1.jpg)"
   ]
  },
  {
   "cell_type": "markdown",
   "id": "789094da",
   "metadata": {},
   "source": [
    "### Circuit Analysis\n",
    "\n",
    "The only quantity that needs to be found for a complete analysis of the above circuit is the resistance of each load.  \n",
    "\n",
    "$$ P = \\frac{E^2}{R} = 10\\mathrm{kW}$$\n",
    "\n",
    "$$ R = \\frac{E^2}{P} = \\frac{120^2\\mathrm{V}^2}{10\\mathrm{kW}}$$"
   ]
  },
  {
   "cell_type": "code",
   "execution_count": 6,
   "id": "ea0ae738",
   "metadata": {},
   "outputs": [
    {
     "data": {
      "text/plain": [
       "1.44"
      ]
     },
     "execution_count": 6,
     "metadata": {},
     "output_type": "execute_result"
    }
   ],
   "source": [
    "120**2/10000"
   ]
  },
  {
   "cell_type": "markdown",
   "id": "bec8578c",
   "metadata": {},
   "source": [
    "$$ R = 1.44\\Omega$$"
   ]
  },
  {
   "cell_type": "markdown",
   "id": "90149d40",
   "metadata": {},
   "source": [
    "Note that the above applies to each load.  \n",
    "\n",
    "![analysed-example](https://www.allaboutcircuits.com/uploads/articles/spice-circuit1.jpg)"
   ]
  },
  {
   "cell_type": "markdown",
   "id": "7abecfec",
   "metadata": {},
   "source": [
    "Now, it is important to note that there is no longer a \"neutral\" conductor, but we want one for safety reasons and for voltage stability;  If one load were to fail open, the voltage dropped across the rest of the loads would change accordingly.  To fix this we'll add a \"neutral\" wire to the above circuit."
   ]
  },
  {
   "cell_type": "markdown",
   "id": "88791ff5",
   "metadata": {},
   "source": [
    "![example-1.2-w/neutral](https://www.allaboutcircuits.com/uploads/articles/spice-circuit-annotated-with-simulation-results.jpg)"
   ]
  },
  {
   "cell_type": "markdown",
   "id": "9401893d",
   "metadata": {},
   "source": [
    "So long as the loads remain balanced (equal resistance, equal currents), the neutral wire will not have to carry any current at all. It is there just in case one or more load resistors should fail open (or be shut off through a disconnecting switch)."
   ]
  },
  {
   "cell_type": "markdown",
   "id": "db402e50",
   "metadata": {},
   "source": [
    "## Polyphase Circuit\n",
    "\n",
    "This circuit we’ve been analyzing with three voltage sources is called a polyphase circuit. The prefix “poly” simply means “more than one,” as in “polytheism” (belief in more than one deity), “polygon” (a geometrical shape made of multiple line segments: for example, pentagon and hexagon), and “polyatomic” (a substance composed of multiple types of atoms).\n",
    "\n",
    "Since the voltage sources are all at different phase angles (in this case, three different phase angles), this is a “polyphase” circuit.\n",
    "\n",
    "More specifically, it is a three-phase circuit, the kind used predominantly in large power distribution systems."
   ]
  },
  {
   "cell_type": "markdown",
   "id": "b5dece9d",
   "metadata": {},
   "source": [
    "## Three-Phase System versus Single-Phase System\n",
    "\n",
    "#### Single-Phase System\n",
    "\n",
    "Let’s survey the advantages of a three-phase power system over a single-phase system of equivalent load voltage and power capacity. A single-phase system with three loads connected directly in parallel would have a very high total current (83.33 times 3, or 250 amps. (Figure below)"
   ]
  },
  {
   "cell_type": "markdown",
   "id": "a8129d1e",
   "metadata": {},
   "source": [
    "![single-phase-example-diagram](https://www.allaboutcircuits.com/uploads/articles/single-phase-system-with-three-loads.jpg)"
   ]
  },
  {
   "cell_type": "markdown",
   "id": "ab8a05ec",
   "metadata": {},
   "source": [
    "This would necessitate 3/0 gage copper wire (very large!), at about 510 pounds per thousand feet, and with a considerable price tag attached. If the distance from source to load was 1000 feet, we would need over a half-ton of copper wire to do the job."
   ]
  },
  {
   "cell_type": "markdown",
   "id": "2fedc260",
   "metadata": {},
   "source": [
    "#### Split-phase System\n",
    "\n",
    "On the other hand, we could build a split-phase system with two 15 kW, 120 volt loads. (Figure below)"
   ]
  },
  {
   "cell_type": "markdown",
   "id": "8e0eaba1",
   "metadata": {},
   "source": [
    "![split-phase-example-diagram](https://www.allaboutcircuits.com/uploads/articles/split-phase-system.jpg)"
   ]
  }
 ],
 "metadata": {
  "kernelspec": {
   "display_name": "Python 3",
   "language": "python",
   "name": "python3"
  },
  "language_info": {
   "codemirror_mode": {
    "name": "ipython",
    "version": 3
   },
   "file_extension": ".py",
   "mimetype": "text/x-python",
   "name": "python",
   "nbconvert_exporter": "python",
   "pygments_lexer": "ipython3",
   "version": "3.8.10"
  }
 },
 "nbformat": 4,
 "nbformat_minor": 5
}
