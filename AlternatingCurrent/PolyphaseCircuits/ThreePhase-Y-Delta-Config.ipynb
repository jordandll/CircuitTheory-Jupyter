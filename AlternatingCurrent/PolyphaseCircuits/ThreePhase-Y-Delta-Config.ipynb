{
 "cells": [
  {
   "cell_type": "markdown",
   "id": "1ebd264d",
   "metadata": {},
   "source": [
    "# Three-phase Y and Delta Configurations\n",
    "### *Chapter 10 - Polyphase AC Circuits*"
   ]
  },
  {
   "cell_type": "markdown",
   "id": "ce7973ab",
   "metadata": {},
   "source": [
    "## Three-phase Wye(Y) Connection\n",
    "\n",
    "Initially, we explored the idea of three-phase power systems by connecting three voltage sources together in what is commonly known as the “Y” (or “star”) configuration.\n",
    "\n",
    "This configuration of voltage sources is characterized by a common connection point joining one side of each source. (Figure below)"
   ]
  },
  {
   "cell_type": "markdown",
   "id": "86b2e983",
   "metadata": {},
   "source": [
    "![source-y-config](https://www.allaboutcircuits.com/uploads/articles/three-phase-y-connection.jpg)"
   ]
  },
  {
   "cell_type": "markdown",
   "id": "ff033a4c",
   "metadata": {},
   "source": [
    "If we draw a circuit showing each voltage source to be a coil of wire (alternator or transformer winding) and do some slight rearranging, the “Y” configuration becomes more obvious in Figure below."
   ]
  },
  {
   "cell_type": "markdown",
   "id": "71c12fbc",
   "metadata": {},
   "source": [
    "![source-y-config-windings-w/neutral](https://www.allaboutcircuits.com/uploads/articles/three-phase-four-wire-y-connection.jpg)"
   ]
  },
  {
   "cell_type": "markdown",
   "id": "d9ec30ea",
   "metadata": {},
   "source": [
    "The three conductors leading away from the voltage sources (windings) toward a load are typically called lines, while the windings themselves are typically called phases.\n",
    "\n",
    "In a Y-connected system, there may or may not (Figure below) be a neutral wire attached at the junction point in the middle, although it certainly helps alleviate potential problems should one element of a three-phase load fail open, as discussed earlier."
   ]
  },
  {
   "cell_type": "markdown",
   "id": "4158b8a0",
   "metadata": {},
   "source": [
    "![source-y-config-no-neutral](https://www.allaboutcircuits.com/uploads/articles/three-phase-three-wire-y-connection.jpg)"
   ]
  },
  {
   "cell_type": "code",
   "execution_count": 1,
   "id": "b1600158",
   "metadata": {},
   "outputs": [],
   "source": [
    "import numpy as np"
   ]
  },
  {
   "cell_type": "code",
   "execution_count": 2,
   "id": "4fdecc09",
   "metadata": {
    "code_folding": []
   },
   "outputs": [],
   "source": [
    "\"\"\" Define basic trig function that accept degrees by default. \"\"\"\n",
    "\n",
    "def sin(deg: float) -> float:\n",
    "    return np.sin(np.radians(deg))\n",
    "\n",
    "def cos(deg: float) -> float:\n",
    "    return np.cos(np.radians(deg))"
   ]
  },
  {
   "cell_type": "markdown",
   "id": "094bc156",
   "metadata": {},
   "source": [
    "## Voltage and Current Values in Three-Phase Systems\n",
    "\n",
    "When we measure voltage and current in three-phase systems, we need to be specific as to where we’re measuring.\n",
    "\n",
    "Line voltage refers to the amount of voltage measured between any two line conductors in a balanced three-phase system. With the above circuit, the line voltage is roughly $208$ volts."
   ]
  },
  {
   "cell_type": "markdown",
   "id": "728200a0",
   "metadata": {},
   "source": [
    "\\begin{align*}\n",
    "    120\\mathrm{V}\\angle\\,0^\\circ - 120\\mathrm{V}\\angle\\,120^\\circ &= 120\\mathrm{V}\\,\\big(1 - 1\\angle\\,120^\\circ \\big)\\\\\n",
    "     &= 120\\mathrm{V}\\,\\big(1 + 1\\angle\\!-60^\\circ \\big) \\\\\n",
    "     &\\approxeq 120\\mathrm{V}\\,(1.5-0.866j) \\\\\n",
    "     &\\approxeq 207.85\\mathrm{V}\\angle\\!-30^\\circ\n",
    "\\end{align*}     "
   ]
  },
  {
   "cell_type": "code",
   "execution_count": 3,
   "id": "f73bd9fd",
   "metadata": {},
   "outputs": [
    {
     "data": {
      "text/plain": [
       "(1.5-0.8660254037844386j)"
      ]
     },
     "execution_count": 3,
     "metadata": {},
     "output_type": "execute_result"
    }
   ],
   "source": [
    "v = complex(1 + cos(-60), sin(-60))\n",
    "v"
   ]
  },
  {
   "cell_type": "code",
   "execution_count": 4,
   "id": "d8d6ba51",
   "metadata": {},
   "outputs": [
    {
     "data": {
      "text/plain": [
       "(1.7320508075688772, 207.84609690826525, -29.999999999999996)"
      ]
     },
     "execution_count": 4,
     "metadata": {},
     "output_type": "execute_result"
    }
   ],
   "source": [
    "v_mag = np.sqrt(v.real**2 + v.imag**2)\n",
    "v_theta = np.degrees(np.arctan(v.imag/v.real))\n",
    "(v_mag, v_mag*120, v_theta)"
   ]
  },
  {
   "cell_type": "markdown",
   "id": "d099eb1b",
   "metadata": {},
   "source": [
    "Phase voltage refers to the voltage measured across any one component (source winding or load impedance) in a balanced three-phase source or load.\n",
    "\n",
    "For the circuit shown above, the phase voltage is $120$ volts. The terms line current and phase current follows the same logic: the former referring to the current through any one line conductor, and the latter to the current through any one component.\n",
    "\n",
    "Y-connected sources and loads always have line voltages greater than phase voltages, and line currents equal to phase currents. If the Y-connected source or load is balanced, the line voltage will be equal to the phase voltage times the square root of 3:"
   ]
  },
  {
   "cell_type": "markdown",
   "id": "3326c897",
   "metadata": {},
   "source": [
    "For \"Y\" configuration:\n",
    "\\begin{equation}\\tag{1a}\n",
    "    E_\\text{line} = \\sqrt{3}\\cdot E_\\text{phase}\n",
    "\\end{equation}"
   ]
  },
  {
   "cell_type": "markdown",
   "id": "f063fef8",
   "metadata": {},
   "source": [
    "\\begin{equation}\\tag{1b}\n",
    "    I_\\text{line} = I_\\text{phase}\n",
    "\\end{equation}    "
   ]
  },
  {
   "cell_type": "code",
   "execution_count": 5,
   "id": "12d5834f",
   "metadata": {},
   "outputs": [
    {
     "data": {
      "text/plain": [
       "2.9999999999999996"
      ]
     },
     "execution_count": 5,
     "metadata": {},
     "output_type": "execute_result"
    }
   ],
   "source": [
    "v_mag**2"
   ]
  },
  {
   "cell_type": "markdown",
   "id": "62c83b40",
   "metadata": {},
   "source": [
    "However, the “Y” configuration is not the only valid one for connecting three-phase voltage source or load elements together."
   ]
  },
  {
   "cell_type": "markdown",
   "id": "b2d81aac",
   "metadata": {},
   "source": [
    "## Three-Phase Delta$\\mathbf{(\\Delta)}$ Configuration\n",
    "\n",
    "Another configuration is known as the “Delta,” for its geometric resemblance to the Greek letter of the same name ($\\Delta$). Take close notice of the polarity for each winding in the figure below."
   ]
  },
  {
   "cell_type": "markdown",
   "id": "899ff5a0",
   "metadata": {},
   "source": [
    "![source-delta-config](https://www.allaboutcircuits.com/uploads/articles/three-phase-three-wire-delta-connection.jpg)"
   ]
  },
  {
   "cell_type": "markdown",
   "id": "7ea49ed1",
   "metadata": {},
   "source": [
    "At first glance, it seems as though three voltage sources like this would create a short-circuit, electrons flowing around the triangle with nothing but the internal impedance of the windings to hold them back.\n",
    "\n",
    "Due to the phase angles of these three voltage sources, however, this is not the case."
   ]
  },
  {
   "cell_type": "markdown",
   "id": "5479a48f",
   "metadata": {},
   "source": [
    "## Kirchhoff’s Voltage Law in Delta Connections\n",
    "\n",
    "One quick check of this is to use Kirchhoff’s Voltage Law to see if the three voltages around the loop add up to zero. If they do, then there will be no voltage available to push current around and around that loop, and consequently, there will be no circulating current.\n",
    "\n",
    "Starting with the top winding and progressing counter-clockwise, our KVL expression looks something like this:"
   ]
  },
  {
   "cell_type": "markdown",
   "id": "43c769e5",
   "metadata": {},
   "source": [
    "\\begin{align*}\\tag{2}\n",
    "    120\\mathrm{V}\\angle\\,0^\\circ + 120\\mathrm{V}\\angle\\,120^\\circ + 120\\mathrm{V}\\angle\\,240^\\circ &= 120\\mathrm{V}\\,\\big(1 + 1\\angle\\,120^\\circ + 1\\angle\\,240^\\circ \\big) \\\\\n",
    "     &= 0\n",
    "\\end{align*}    "
   ]
  },
  {
   "cell_type": "code",
   "execution_count": 6,
   "id": "be80723f",
   "metadata": {},
   "outputs": [
    {
     "data": {
      "text/plain": [
       "(-2.220446049250313e-16+3.3306690738754696e-16j)"
      ]
     },
     "execution_count": 6,
     "metadata": {},
     "output_type": "execute_result"
    }
   ],
   "source": [
    "v2 = complex(1 + cos(120) + cos(240), sin(120)+sin(240))\n",
    "v2"
   ]
  },
  {
   "cell_type": "markdown",
   "id": "2722039c",
   "metadata": {},
   "source": [
    "Indeed, if we add these three vector quantities together, they do add up to zero. Another way to verify the fact that these three voltage sources can be connected together in a loop without resulting in circulating currents is to open up the loop at one junction point and calculate the voltage across the break: (figure below)"
   ]
  },
  {
   "cell_type": "markdown",
   "id": "50f87bb8",
   "metadata": {},
   "source": [
    "![delta-break-diagram](https://www.allaboutcircuits.com/uploads/articles/voltage-across-open-delta.jpg)"
   ]
  },
  {
   "cell_type": "markdown",
   "id": "072494e3",
   "metadata": {},
   "source": [
    "$$ 120\\mathrm{V}\\angle\\,0^\\circ + 120\\mathrm{V}\\angle\\,120^\\circ + 120\\mathrm{V}\\angle\\,240^\\circ + E_\\text{break} = 0$$\n",
    "\n",
    "Via the above equation, equation (2), substitution,  \n",
    "\n",
    "$$ 0 + E_\\text{break} = 0$$\n",
    "\n",
    "Thus,\n",
    "\n",
    "\\begin{equation}\\tag{3}\n",
    "    E_\\text{break} = 0\n",
    "\\end{equation}   "
   ]
  },
  {
   "cell_type": "markdown",
   "id": "073c611b",
   "metadata": {},
   "source": [
    "Sure enough, there will be zero voltage across the break, telling us that no current will circulate within the triangular loop of windings when that connection is made complete.\n",
    "\n",
    "Having established that a Δ-connected three-phase voltage source will not burn itself to a crisp due to circulating currents, we turn to its practical use as a source of power in three-phase circuits.\n",
    "\n",
    "Because each pair of line conductors is connected directly across a single winding in a Δ circuit, the line voltage will be equal to the phase voltage.\n",
    "\n",
    "Conversely, because each line conductor attaches at a node between two windings, the line current will be the vector sum of the two joining phase currents.\n",
    "\n",
    "Not surprisingly, the resulting equations for a Δ configuration are as follows:"
   ]
  },
  {
   "cell_type": "markdown",
   "id": "7845e276",
   "metadata": {},
   "source": [
    "For \"delta\" ($\\Delta$) circuits:  \n",
    "\n",
    "\\begin{equation}\\tag{4a}\n",
    "    E_\\text{line} = E_\\text{phase}\n",
    "\\end{equation}\n",
    "\n",
    "\\begin{equation}\\tag{4b}\n",
    "    I_\\text{line} = \\sqrt{3}\\cdot I_\\text{phase}\n",
    "\\end{equation}"
   ]
  },
  {
   "cell_type": "markdown",
   "id": "fbac4f9d",
   "metadata": {},
   "source": [
    "For **verification** of equation (4b), via KCL:  \n",
    "\n",
    "$$ |I_\\text{phase}|\\angle\\,120^\\circ + I_\\text{line} - |I_\\text{phase}|\\angle,0^\\circ = 0$$"
   ]
  },
  {
   "cell_type": "markdown",
   "id": "d3ab87a9",
   "metadata": {},
   "source": [
    "\\begin{align*}\n",
    "    I_\\text{line} &= |I_\\text{phase}|\\,\\big(1 - 1\\angle\\,120^\\circ \\big) \\\\\n",
    "     &= |I_\\text{phase}|\\,\\big(1 + 1\\angle\\!-60^\\circ \\big) \\\\\n",
    "     &= |I_\\text{phase}|\\,\\big(1 + \\cos60^\\circ - j\\cdot\\sin60^\\circ \\big) \\\\\n",
    "     &= |I_\\text{phase}|\\,\\sqrt{3}\\,\\angle\\!-30^\\circ\n",
    "\\end{align*}     "
   ]
  },
  {
   "cell_type": "code",
   "execution_count": 7,
   "id": "0fd011a1",
   "metadata": {},
   "outputs": [
    {
     "data": {
      "text/plain": [
       "3.0"
      ]
     },
     "execution_count": 7,
     "metadata": {},
     "output_type": "execute_result"
    }
   ],
   "source": [
    "v.real**2 + v.imag**2"
   ]
  },
  {
   "cell_type": "markdown",
   "id": "ba439ceb",
   "metadata": {},
   "source": [
    "$$ \\big(1 + \\cos60^\\circ \\big)^2 + \\sin^2 60^\\circ = 1 + 2\\,\\cos60^\\circ + \\cos^2 60^\\circ + \\sin^2 60^\\circ = 2 + 2\\,\\cos60^\\circ = 3$$"
   ]
  },
  {
   "cell_type": "markdown",
   "id": "a5e07a52",
   "metadata": {},
   "source": [
    "## Delta Connection Example Circuit Analysis\n",
    "\n",
    "Let’s see how this works in an example circuit: (Figure below)"
   ]
  },
  {
   "cell_type": "markdown",
   "id": "a76eaea3",
   "metadata": {},
   "source": [
    "![delta-source_and_load-circuit](https://www.allaboutcircuits.com/uploads/articles/delta-connection-example-circuit-analysis.jpg)"
   ]
  },
  {
   "cell_type": "markdown",
   "id": "51e532c3",
   "metadata": {},
   "source": [
    "Via equation (4a), each load resistance has a voltage with an amplitude of $120\\mathrm{V}$.  Via the formula for electric power,  \n",
    "\n",
    "$$ I = \\frac{P}{E} = \\frac{100\\mathrm{W}}{1.2\\mathrm{V}} \\approxeq 83.33\\mathrm{A}$$"
   ]
  },
  {
   "cell_type": "code",
   "execution_count": 8,
   "id": "97b632fd",
   "metadata": {},
   "outputs": [
    {
     "data": {
      "text/plain": [
       "83.33333333333334"
      ]
     },
     "execution_count": 8,
     "metadata": {},
     "output_type": "execute_result"
    }
   ],
   "source": [
    "100/1.2"
   ]
  },
  {
   "cell_type": "markdown",
   "id": "264e03ab",
   "metadata": {},
   "source": [
    "Here, '$I$' denotes the phase current of each load and source.  Via equation (4b),  \n",
    "\n",
    "$$ I_\\text{line} = \\sqrt{3}\\cdot \\frac{100\\mathrm{W}}{1.2\\mathrm{V}} \\approxeq 144.34\\mathrm{A}$$"
   ]
  },
  {
   "cell_type": "code",
   "execution_count": 9,
   "id": "33fdb4f8",
   "metadata": {},
   "outputs": [
    {
     "data": {
      "text/plain": [
       "144.33756729740645"
      ]
     },
     "execution_count": 9,
     "metadata": {},
     "output_type": "execute_result"
    }
   ],
   "source": [
    "np.sqrt(3)*100/1.2"
   ]
  },
  {
   "cell_type": "markdown",
   "id": "e4619f24",
   "metadata": {},
   "source": [
    "## Advantages of the Delta Three-Phase System\n",
    "\n",
    "So each line current in this three-phase power system is equal to 144.34 amps, which is substantially more than the line currents in the Y-connected system we looked at earlier.\n",
    "\n",
    "One might wonder if we’ve lost all the advantages of three-phase power here, given the fact that we have such greater conductor currents, necessitating thicker, more costly wire.\n",
    "\n",
    "The answer is no. Although this circuit would require three number 1 gauge copper conductors (at 1000 feet of distance between source and load this equates to a little over 750 pounds of copper for the whole system), it is still less than the 1000+ pounds of copper required for a single-phase system delivering the same power (30 kW) at the same voltage (120 volts conductor-to-conductor).\n",
    "\n",
    "One distinct advantage of a Δ-connected system is its lack of a neutral wire. With a Y-connected system, a neutral wire was needed in case one of the phase loads were to fail open (or be turned off), in order to keep the phase voltages at the load from changing.\n",
    "\n",
    "This is not necessary (or even possible!) in a Δ-connected circuit.\n",
    "\n",
    "With each load phase element directly connected across a respective source phase winding, the phase voltage will be constant regardless of open failures in the load elements.\n",
    "\n",
    "Perhaps the greatest advantage of the Δ-connected source is its fault tolerance.\n",
    "\n",
    "It is possible for one of the windings in a Δ-connected three-phase source to fail open (Figure below) without affecting load voltage or current!"
   ]
  },
  {
   "cell_type": "markdown",
   "id": "bba1c9c6",
   "metadata": {},
   "source": [
    "![delta-source-load-failopen](https://www.allaboutcircuits.com/uploads/articles/delta-connection-example-circuit-analysis1.jpg)"
   ]
  },
  {
   "cell_type": "markdown",
   "id": "b1c4d577",
   "metadata": {},
   "source": [
    "Via KVL, the voltage across the opening, denoted as '$E_\\text{break}$', is given by:  \n",
    "\n",
    "$$ E_\\text{break} + 120\\mathrm{V}\\,\\big(1\\angle\\,0^\\circ + 1\\angle\\,120^\\circ \\big) = 0$$\n",
    "\n",
    "\\begin{align*}\n",
    "    E_\\text{break} &= 120\\mathrm{V}\\,\\big(1\\angle\\,180^\\circ + 1\\angle\\!-60^\\circ \\big) \\\\\n",
    "     &\\approxeq -120\\mathrm{V}\\,(0.5 +0.866j) \\\\\n",
    "     E_\\text{break} &= -120\\mathrm{V}\\angle\\,60^\\circ \\\\\n",
    "      &= 120\\mathrm{V}\\angle\\,240^\\circ\n",
    "\\end{align*}"
   ]
  },
  {
   "cell_type": "code",
   "execution_count": 10,
   "id": "707e93f7",
   "metadata": {},
   "outputs": [
    {
     "data": {
      "text/plain": [
       "(-0.4999999999999999-0.8660254037844386j)"
      ]
     },
     "execution_count": 10,
     "metadata": {},
     "output_type": "execute_result"
    }
   ],
   "source": [
    "v3 = complex(cos(60)-1, -sin(60))\n",
    "v3"
   ]
  },
  {
   "cell_type": "code",
   "execution_count": 11,
   "id": "11462218",
   "metadata": {},
   "outputs": [
    {
     "data": {
      "text/plain": [
       "(0.9999999999999999, 60.00000000000001)"
      ]
     },
     "execution_count": 11,
     "metadata": {},
     "output_type": "execute_result"
    }
   ],
   "source": [
    "v3_mag = np.sqrt(v3.real**2 + v3.imag**2)\n",
    "v3_theta = np.degrees(np.arctan(v3.imag/v3.real))\n",
    "(v3_mag, v3_theta)"
   ]
  },
  {
   "cell_type": "markdown",
   "id": "2fcad555",
   "metadata": {},
   "source": [
    "The load voltage and thus current are unchanged!"
   ]
  },
  {
   "cell_type": "markdown",
   "id": "9c38bf6a",
   "metadata": {},
   "source": [
    "The only consequence of a source winding failing open for a Δ-connected source is increased phase current in the remaining windings.  The current flowing through each load remains the same as before the fail open, which implies that the line currents are also unchanged."
   ]
  },
  {
   "cell_type": "markdown",
   "id": "2f3f1f0b",
   "metadata": {},
   "source": [
    "\\begin{equation}\\tag{5}\n",
    "    I = \\frac{P}{E} = \\frac{100\\mathrm{W}}{1.2\\mathrm{V}} \\approxeq 83.33\\mathrm{A}\n",
    "\\end{equation}\n",
    "\n",
    "and, \n",
    "\n",
    "\\begin{equation}\\tag{6}\n",
    "    I_\\text{line} = \\sqrt{3}\\cdot \\frac{100}{1.2}\\mathrm{A} \\approxeq 144.34\\mathrm{A}\\quad\\text{???}\n",
    "\\end{equation}    "
   ]
  },
  {
   "cell_type": "markdown",
   "id": "60bb6135",
   "metadata": {},
   "source": [
    "*Note, I am not sure about equation (6).*"
   ]
  },
  {
   "cell_type": "markdown",
   "id": "1fdf37b2",
   "metadata": {},
   "source": [
    "Below is a diagram with load polarity markings:  \n",
    "\n",
    "![delta-source-load-failopen-w/poles](delta-connection-example-circuit-analysis1-poles.svg)"
   ]
  },
  {
   "cell_type": "markdown",
   "id": "53354140",
   "metadata": {},
   "source": [
    "The circuit is reflectively symmetric about the vertical line inbetween the open (failed) source and $\\Delta$-connected loads."
   ]
  },
  {
   "cell_type": "markdown",
   "id": "6b5fdf55",
   "metadata": {},
   "source": [
    "To find the current flowing through the windings let's first convert the $\\Delta$ connected load configuration into it's \"Y\" connected counterpart.  To do this we need to find the resistance of each load.  Via Ohm's Law, equation (5), and substitution,  \n",
    "\n",
    "$$ 120\\mathrm{V} \\approxeq 83.33\\mathrm{A}R$$\n",
    "\n",
    "\\begin{equation}\\tag{7}\n",
    "    R \\approxeq \\frac{120\\mathrm{V}}{83.33\\mathrm{A}} \\approxeq 1.44\\Omega\n",
    "\\end{equation}    "
   ]
  },
  {
   "cell_type": "markdown",
   "id": "0d7f05ab",
   "metadata": {},
   "source": [
    "Let the top left terminal of the $\\Delta$-connection be defined as 'A', the top right terminal: 'B', and the bottom terminal: 'C'.  The formula to convert from \"Delta\" ($\\Delta$) to \"Wye\" (Y) can be found in the [DC Network Analysis](/notebooks/CircuitTheory/DirectCurrent/NetworkAnalysis.ipynb#$\\Delta$-and-Y-Conversion-Equations) chapter."
   ]
  },
  {
   "cell_type": "markdown",
   "id": "ebb6b71c",
   "metadata": {},
   "source": [
    "Since the loads have the same resistance,  \n",
    "\n",
    "$$ R = R_\\text{AB} = R_\\text{AC} = R_\\text{BC}$$"
   ]
  },
  {
   "cell_type": "markdown",
   "id": "0361803b",
   "metadata": {},
   "source": [
    "and, via the above equation and the relevant formulae found in the aforementioned chapter,\n",
    "$$ \\grave{R}:= R_\\text{A} = R_\\text{B} = R_\\text{C} = \\frac{R^2}{3R} = \\frac{R}{3}\\approxeq 0.48\\Omega$$"
   ]
  },
  {
   "cell_type": "markdown",
   "id": "9bc34e7f",
   "metadata": {},
   "source": [
    "Next we will use superposition theorem to find the currents flowing into each terminal of the \"Y\" equivalent circuit and subsequently find the currents flowing through each source winding."
   ]
  },
  {
   "cell_type": "markdown",
   "id": "cbd418ae",
   "metadata": {},
   "source": [
    "With **phase \\#1** ($120\\mathrm{V}\\angle\\,0^\\circ$) as the only power supply:  \n",
    "\n",
    "Via KVL, Ohm's Law, and substitution,  \n",
    "\n",
    "\\begin{align*}\n",
    "    120\\mathrm{V}\\angle\\,0^\\circ = I_\\mathrm{B}\\,(R_\\mathrm{B} + 0.5R_\\mathrm{B}) &= 1.5\\grave{R}I_\\mathrm{B} \\\\\n",
    "     &= 0.5R I_\\mathrm{B}\n",
    "\\end{align*}    \n",
    "\n",
    "Thus,  \n",
    "\\begin{equation}\\tag{8.1}\n",
    "    I_\\mathrm{B} = \\frac{120\\mathrm{V}\\angle\\,0^\\circ}{0.5R} = 2I \\approxeq 166.67\\mathrm{A}\n",
    "\\end{equation}    "
   ]
  },
  {
   "cell_type": "markdown",
   "id": "66c1d6b0",
   "metadata": {},
   "source": [
    "and, via KVL, Ohm's Law, and substitution,  \n",
    "\n",
    "$$ 120\\mathrm{V}\\angle\\,0^\\circ \\:-\\: \\grave{R}I_\\mathrm{B} = \\grave{R}I_\\mathrm{A} = \\grave{R}I_\\mathrm{C}$$"
   ]
  },
  {
   "cell_type": "markdown",
   "id": "10199e95",
   "metadata": {},
   "source": [
    "Dividing throughout by $\\grave{R}$ gives:  \n",
    "\n",
    "\\begin{equation}\\tag{8.2}\n",
    "    I_\\mathrm{A} = I_\\mathrm{C} = \\frac{360\\mathrm{V}\\angle\\,0^\\circ}{R} - I_\\mathrm{B} = I\\approxeq 83.33\\mathrm{A}\n",
    "\\end{equation}    "
   ]
  },
  {
   "cell_type": "markdown",
   "id": "c11d8592",
   "metadata": {},
   "source": [
    "With **phase \\#2** ($120\\mathrm{V}\\angle\\,120^\\circ$) as the only power supply:  \n",
    "\n",
    "Via KVL, Ohm's Law and substitution,  \n",
    "\n",
    "$$ 120\\mathrm{V}\\angle\\,120^\\circ = 1.5\\grave{R}I_\\mathrm{C} = 0.5RI_\\mathrm{C}$$"
   ]
  },
  {
   "cell_type": "markdown",
   "id": "e838b26b",
   "metadata": {},
   "source": [
    "Dividing throughout by $0.5R$ gives:  \n",
    "\n",
    "\\begin{equation}\\tag{9.1}\n",
    "    I_\\mathrm{C} = \\frac{120\\mathrm{V}\\angle\\,120^\\circ}{0.5R} = 2I\\angle\\,120^\\circ \\approxeq 166.67\\mathrm{A}\\,\\angle\\,120^\\circ\n",
    "\\end{equation}    "
   ]
  },
  {
   "cell_type": "markdown",
   "id": "3653b351",
   "metadata": {},
   "source": [
    "and, via KVL, Ohm's Law, and subsitution,  \n",
    "\n",
    "$$ 120\\mathrm{V}\\angle\\,120^\\circ - \\grave{R}I_\\mathrm{C} = \\grave{R}I_\\mathrm{B} = \\grave{R}I_\\mathrm{A}$$"
   ]
  },
  {
   "cell_type": "markdown",
   "id": "fc3932fa",
   "metadata": {},
   "source": [
    "Dividing throughout by $\\grave{R}$ gives:\n",
    "\n",
    "\\begin{align*}\\tag{9.2}\n",
    "    I_\\mathrm{B} = I_\\mathrm{A} &= \\frac{360\\mathrm{V}\\angle\\,120^\\circ}{R} - I_\\mathrm{C} \\\\ \\\\\n",
    "     &= 250\\mathrm{A}\\,\\angle\\,120^\\circ - 2I\\angle\\,120^\\circ \\\\\n",
    "     &\\approxeq 1\\mathrm{A}\\,\\angle\\,120^\\circ\\,(250 - 166.67) \\\\\n",
    "     &\\approxeq 83.33\\mathrm{A}\\,\\angle\\,120^\\circ\n",
    "\\end{align*}    "
   ]
  },
  {
   "cell_type": "markdown",
   "id": "31423dd6",
   "metadata": {},
   "source": [
    "Finally, we superimpose the above results to get the input current signal to each terminal."
   ]
  },
  {
   "cell_type": "markdown",
   "id": "476faffb",
   "metadata": {},
   "source": [
    "Via equations (8.1) and (9.2) and superposition theorem,  \n",
    "\n",
    "\\begin{align*}\n",
    "    I_\\mathrm{B} &= 2I\\angle\\,0^\\circ + I\\angle\\,120^\\circ \\\\\n",
    "     &= I\\,\\big(2\\angle\\,0^\\circ + 1\\angle\\,120^\\circ \\big) \\\\\n",
    "     &\\approxeq I\\,(1.5+0.866j) \\\\\n",
    "     &\\approxeq 1.732I\\angle\\,30^\\circ \\\\\n",
    "     &\\approxeq 144.33\\mathrm{A}\\,\\angle\\,30^\\circ\n",
    "\\end{align*}     "
   ]
  },
  {
   "cell_type": "code",
   "execution_count": 19,
   "id": "3225ac7d",
   "metadata": {},
   "outputs": [
    {
     "data": {
      "text/plain": [
       "(1.5000000000000002+0.8660254037844387j)"
      ]
     },
     "execution_count": 19,
     "metadata": {},
     "output_type": "execute_result"
    }
   ],
   "source": [
    "v4 = complex(2 + cos(120), sin(120))\n",
    "v4"
   ]
  },
  {
   "cell_type": "code",
   "execution_count": 20,
   "id": "23a6489b",
   "metadata": {},
   "outputs": [
    {
     "data": {
      "text/plain": [
       "(1.7320508075688776, 29.999999999999996, 144.33179379471457)"
      ]
     },
     "execution_count": 20,
     "metadata": {},
     "output_type": "execute_result"
    }
   ],
   "source": [
    "v4_mag = np.sqrt(v4.real**2 + v4.imag**2)\n",
    "v4_theta = np.degrees(np.arctan(v4.imag/v4.real))\n",
    "(v4_mag, v4_theta, v4_mag*83.33)"
   ]
  },
  {
   "cell_type": "markdown",
   "id": "65aaec76",
   "metadata": {},
   "source": [
    "Via equation (9.1) and (8.2) in conjunction with superposition theorem,  \n",
    "\n",
    "\\begin{align*}\n",
    "    I_\\mathrm{C} &= 2I\\angle\\,120^\\circ + I\\angle\\,0^\\circ \\\\\n",
    "     &= I\\,\\big(2\\angle\\,120^\\circ + 1\\angle\\,0^\\circ \\big) \\\\\n",
    "     &\\approxeq I\\cdot1.732j \\\\\n",
    "     &\\approxeq 144.33\\mathrm{A}\\,\\angle\\,90^\\circ\n",
    "\\end{align*}"
   ]
  },
  {
   "cell_type": "code",
   "execution_count": 21,
   "id": "2860fd4b",
   "metadata": {},
   "outputs": [
    {
     "data": {
      "text/plain": [
       "(4.440892098500626e-16+1.7320508075688774j)"
      ]
     },
     "execution_count": 21,
     "metadata": {},
     "output_type": "execute_result"
    }
   ],
   "source": [
    "v5 = complex(1 + 2*cos(120), 2*sin(120))\n",
    "v5"
   ]
  },
  {
   "cell_type": "code",
   "execution_count": 22,
   "id": "628338ac",
   "metadata": {},
   "outputs": [
    {
     "data": {
      "text/plain": [
       "144.33179379471454"
      ]
     },
     "execution_count": 22,
     "metadata": {},
     "output_type": "execute_result"
    }
   ],
   "source": [
    "v5.imag*83.33"
   ]
  },
  {
   "cell_type": "markdown",
   "id": "319926bd",
   "metadata": {},
   "source": [
    "Compare this fault tolerance with a Y-connected system suffering an open source winding in the figure below."
   ]
  }
 ],
 "metadata": {
  "kernelspec": {
   "display_name": "Python 3",
   "language": "python",
   "name": "python3"
  },
  "language_info": {
   "codemirror_mode": {
    "name": "ipython",
    "version": 3
   },
   "file_extension": ".py",
   "mimetype": "text/x-python",
   "name": "python",
   "nbconvert_exporter": "python",
   "pygments_lexer": "ipython3",
   "version": "3.8.10"
  }
 },
 "nbformat": 4,
 "nbformat_minor": 5
}
