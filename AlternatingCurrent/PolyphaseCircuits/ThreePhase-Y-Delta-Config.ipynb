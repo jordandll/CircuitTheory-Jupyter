{
 "cells": [
  {
   "cell_type": "markdown",
   "id": "1ebd264d",
   "metadata": {},
   "source": [
    "# Three-phase Y and Delta Configurations\n",
    "### *Chapter 10 - Polyphase AC Circuits*"
   ]
  },
  {
   "cell_type": "markdown",
   "id": "ce7973ab",
   "metadata": {},
   "source": [
    "## Three-phase Wye(Y) Connection\n",
    "\n",
    "Initially, we explored the idea of three-phase power systems by connecting three voltage sources together in what is commonly known as the “Y” (or “star”) configuration.\n",
    "\n",
    "This configuration of voltage sources is characterized by a common connection point joining one side of each source. (Figure below)"
   ]
  },
  {
   "cell_type": "markdown",
   "id": "86b2e983",
   "metadata": {},
   "source": [
    "![source-y-config](https://www.allaboutcircuits.com/uploads/articles/three-phase-y-connection.jpg)"
   ]
  },
  {
   "cell_type": "markdown",
   "id": "ff033a4c",
   "metadata": {},
   "source": [
    "If we draw a circuit showing each voltage source to be a coil of wire (alternator or transformer winding) and do some slight rearranging, the “Y” configuration becomes more obvious in Figure below."
   ]
  },
  {
   "cell_type": "markdown",
   "id": "71c12fbc",
   "metadata": {},
   "source": [
    "![source-y-config-windings-w/neutral](https://www.allaboutcircuits.com/uploads/articles/three-phase-four-wire-y-connection.jpg)"
   ]
  },
  {
   "cell_type": "markdown",
   "id": "d9ec30ea",
   "metadata": {},
   "source": [
    "The three conductors leading away from the voltage sources (windings) toward a load are typically called lines, while the windings themselves are typically called phases.\n",
    "\n",
    "In a Y-connected system, there may or may not (Figure below) be a neutral wire attached at the junction point in the middle, although it certainly helps alleviate potential problems should one element of a three-phase load fail open, as discussed earlier."
   ]
  },
  {
   "cell_type": "markdown",
   "id": "4158b8a0",
   "metadata": {},
   "source": [
    "![source-y-config-no-neutral](https://www.allaboutcircuits.com/uploads/articles/three-phase-three-wire-y-connection.jpg)"
   ]
  },
  {
   "cell_type": "code",
   "execution_count": 1,
   "id": "b1600158",
   "metadata": {},
   "outputs": [],
   "source": [
    "import numpy as np"
   ]
  },
  {
   "cell_type": "code",
   "execution_count": 2,
   "id": "4fdecc09",
   "metadata": {},
   "outputs": [],
   "source": [
    "\"\"\" Define basic trig function that accept degrees by default. \"\"\"\n",
    "\n",
    "def sin(deg: float) -> float:\n",
    "    return np.sin(np.radians(deg))\n",
    "\n",
    "def cos(deg: float) -> float:\n",
    "    return np.cos(np.radians(deg))"
   ]
  },
  {
   "cell_type": "markdown",
   "id": "094bc156",
   "metadata": {},
   "source": [
    "## Voltage and Current Values in Three-Phase Systems\n",
    "\n",
    "When we measure voltage and current in three-phase systems, we need to be specific as to where we’re measuring.\n",
    "\n",
    "Line voltage refers to the amount of voltage measured between any two line conductors in a balanced three-phase system. With the above circuit, the line voltage is roughly $208$ volts."
   ]
  },
  {
   "cell_type": "markdown",
   "id": "728200a0",
   "metadata": {},
   "source": [
    "\\begin{align*}\n",
    "    120\\mathrm{V}\\angle\\,0^\\circ - 120\\mathrm{V}\\angle\\,120^\\circ &= 120\\mathrm{V}\\,\\big(1 - 1\\angle\\,120^\\circ \\big)\\\\\n",
    "     &= 120\\mathrm{V}\\,\\big(1 + 1\\angle\\!-60^\\circ \\big) \\\\\n",
    "     &\\approxeq 120\\mathrm{V}\\,(1.5-0.866j) \\\\\n",
    "     &\\approxeq 207.85\\mathrm{V}\\angle\\!-30^\\circ\n",
    "\\end{align*}     "
   ]
  },
  {
   "cell_type": "code",
   "execution_count": 3,
   "id": "f73bd9fd",
   "metadata": {},
   "outputs": [
    {
     "data": {
      "text/plain": [
       "(1.5-0.8660254037844386j)"
      ]
     },
     "execution_count": 3,
     "metadata": {},
     "output_type": "execute_result"
    }
   ],
   "source": [
    "v = complex(1 + cos(-60), sin(-60))\n",
    "v"
   ]
  },
  {
   "cell_type": "code",
   "execution_count": 4,
   "id": "d8d6ba51",
   "metadata": {},
   "outputs": [
    {
     "data": {
      "text/plain": [
       "(1.7320508075688772, 207.84609690826525, -29.999999999999996)"
      ]
     },
     "execution_count": 4,
     "metadata": {},
     "output_type": "execute_result"
    }
   ],
   "source": [
    "v_mag = np.sqrt(v.real**2 + v.imag**2)\n",
    "v_theta = np.degrees(np.arctan(v.imag/v.real))\n",
    "(v_mag, v_mag*120, v_theta)"
   ]
  },
  {
   "cell_type": "markdown",
   "id": "d099eb1b",
   "metadata": {},
   "source": [
    "Phase voltage refers to the voltage measured across any one component (source winding or load impedance) in a balanced three-phase source or load.\n",
    "\n",
    "For the circuit shown above, the phase voltage is $120$ volts. The terms line current and phase current follows the same logic: the former referring to the current through any one line conductor, and the latter to the current through any one component.\n",
    "\n",
    "Y-connected sources and loads always have line voltages greater than phase voltages, and line currents equal to phase currents. If the Y-connected source or load is balanced, the line voltage will be equal to the phase voltage times the square root of 3:"
   ]
  },
  {
   "cell_type": "markdown",
   "id": "3326c897",
   "metadata": {},
   "source": [
    "For \"Y\" configuration:\n",
    "\\begin{equation}\\tag{1}\n",
    "    E_\\text{line} = \\sqrt{3}\\,E_\\text{phase}\n",
    "\\end{equation}"
   ]
  },
  {
   "cell_type": "markdown",
   "id": "f063fef8",
   "metadata": {},
   "source": [
    "\\begin{equation}\\tag{2}\n",
    "    I_\\text{line} = I_\\text{phase}\n",
    "\\end{equation}    "
   ]
  },
  {
   "cell_type": "code",
   "execution_count": 5,
   "id": "12d5834f",
   "metadata": {},
   "outputs": [
    {
     "data": {
      "text/plain": [
       "2.9999999999999996"
      ]
     },
     "execution_count": 5,
     "metadata": {},
     "output_type": "execute_result"
    }
   ],
   "source": [
    "v_mag**2"
   ]
  },
  {
   "cell_type": "markdown",
   "id": "62c83b40",
   "metadata": {},
   "source": [
    "However, the “Y” configuration is not the only valid one for connecting three-phase voltage source or load elements together."
   ]
  },
  {
   "cell_type": "markdown",
   "id": "b2d81aac",
   "metadata": {},
   "source": [
    "## Three-Phase Delta$\\mathbf{(\\Delta)}$ Configuration\n",
    "\n",
    "Another configuration is known as the “Delta,” for its geometric resemblance to the Greek letter of the same name ($\\Delta$). Take close notice of the polarity for each winding in the figure below."
   ]
  },
  {
   "cell_type": "markdown",
   "id": "899ff5a0",
   "metadata": {},
   "source": [
    "![source-delta-config](https://www.allaboutcircuits.com/uploads/articles/three-phase-three-wire-delta-connection.jpg)"
   ]
  }
 ],
 "metadata": {
  "kernelspec": {
   "display_name": "Python 3 (ipykernel)",
   "language": "python",
   "name": "python3"
  },
  "language_info": {
   "codemirror_mode": {
    "name": "ipython",
    "version": 3
   },
   "file_extension": ".py",
   "mimetype": "text/x-python",
   "name": "python",
   "nbconvert_exporter": "python",
   "pygments_lexer": "ipython3",
   "version": "3.8.10"
  }
 },
 "nbformat": 4,
 "nbformat_minor": 5
}
