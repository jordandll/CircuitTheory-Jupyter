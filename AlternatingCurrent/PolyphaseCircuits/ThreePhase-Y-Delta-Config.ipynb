{
 "cells": [
  {
   "cell_type": "markdown",
   "id": "1ebd264d",
   "metadata": {},
   "source": [
    "# Three-phase Y and Delta Configurations\n",
    "### *Chapter 10 - Polyphase AC Circuits*"
   ]
  },
  {
   "cell_type": "markdown",
   "id": "ce7973ab",
   "metadata": {},
   "source": [
    "## Three-phase Wye(Y) Connection\n",
    "\n",
    "Initially, we explored the idea of three-phase power systems by connecting three voltage sources together in what is commonly known as the “Y” (or “star”) configuration.\n",
    "\n",
    "This configuration of voltage sources is characterized by a common connection point joining one side of each source. (Figure below)"
   ]
  },
  {
   "cell_type": "markdown",
   "id": "86b2e983",
   "metadata": {},
   "source": [
    "![source-y-config](https://www.allaboutcircuits.com/uploads/articles/three-phase-y-connection.jpg)"
   ]
  },
  {
   "cell_type": "markdown",
   "id": "ff033a4c",
   "metadata": {},
   "source": [
    "If we draw a circuit showing each voltage source to be a coil of wire (alternator or transformer winding) and do some slight rearranging, the “Y” configuration becomes more obvious in Figure below."
   ]
  },
  {
   "cell_type": "markdown",
   "id": "71c12fbc",
   "metadata": {},
   "source": [
    "![source-y-config-windings-w/neutral](https://www.allaboutcircuits.com/uploads/articles/three-phase-four-wire-y-connection.jpg)"
   ]
  },
  {
   "cell_type": "markdown",
   "id": "d9ec30ea",
   "metadata": {},
   "source": [
    "The three conductors leading away from the voltage sources (windings) toward a load are typically called lines, while the windings themselves are typically called phases.\n",
    "\n",
    "In a Y-connected system, there may or may not (Figure below) be a neutral wire attached at the junction point in the middle, although it certainly helps alleviate potential problems should one element of a three-phase load fail open, as discussed earlier."
   ]
  },
  {
   "cell_type": "markdown",
   "id": "4158b8a0",
   "metadata": {},
   "source": [
    "![source-y-config-no-neutral](https://www.allaboutcircuits.com/uploads/articles/three-phase-three-wire-y-connection.jpg)"
   ]
  },
  {
   "cell_type": "code",
   "execution_count": 1,
   "id": "b1600158",
   "metadata": {},
   "outputs": [],
   "source": [
    "import numpy as np"
   ]
  },
  {
   "cell_type": "code",
   "execution_count": 2,
   "id": "4fdecc09",
   "metadata": {
    "code_folding": []
   },
   "outputs": [],
   "source": [
    "\"\"\" Define basic trig function that accept degrees by default. \"\"\"\n",
    "\n",
    "def sin(deg: float) -> float:\n",
    "    return np.sin(np.radians(deg))\n",
    "\n",
    "def cos(deg: float) -> float:\n",
    "    return np.cos(np.radians(deg))"
   ]
  },
  {
   "cell_type": "markdown",
   "id": "094bc156",
   "metadata": {},
   "source": [
    "## Voltage and Current Values in Three-Phase Systems\n",
    "\n",
    "When we measure voltage and current in three-phase systems, we need to be specific as to where we’re measuring.\n",
    "\n",
    "Line voltage refers to the amount of voltage measured between any two line conductors in a balanced three-phase system. With the above circuit, the line voltage is roughly $208$ volts."
   ]
  },
  {
   "cell_type": "markdown",
   "id": "728200a0",
   "metadata": {},
   "source": [
    "\\begin{align*}\n",
    "    120\\mathrm{V}\\angle\\,0^\\circ - 120\\mathrm{V}\\angle\\,120^\\circ &= 120\\mathrm{V}\\,\\big(1 - 1\\angle\\,120^\\circ \\big)\\\\\n",
    "     &= 120\\mathrm{V}\\,\\big(1 + 1\\angle\\!-60^\\circ \\big) \\\\\n",
    "     &\\approxeq 120\\mathrm{V}\\,(1.5-0.866j) \\\\\n",
    "     &\\approxeq 207.85\\mathrm{V}\\angle\\!-30^\\circ\n",
    "\\end{align*}     "
   ]
  },
  {
   "cell_type": "code",
   "execution_count": 3,
   "id": "f73bd9fd",
   "metadata": {},
   "outputs": [
    {
     "data": {
      "text/plain": [
       "(1.5-0.8660254037844386j)"
      ]
     },
     "execution_count": 3,
     "metadata": {},
     "output_type": "execute_result"
    }
   ],
   "source": [
    "v = complex(1 + cos(-60), sin(-60))\n",
    "v"
   ]
  },
  {
   "cell_type": "code",
   "execution_count": 4,
   "id": "d8d6ba51",
   "metadata": {},
   "outputs": [
    {
     "data": {
      "text/plain": [
       "(1.7320508075688772, 207.84609690826525, -29.999999999999996)"
      ]
     },
     "execution_count": 4,
     "metadata": {},
     "output_type": "execute_result"
    }
   ],
   "source": [
    "v_mag = np.sqrt(v.real**2 + v.imag**2)\n",
    "v_theta = np.degrees(np.arctan(v.imag/v.real))\n",
    "(v_mag, v_mag*120, v_theta)"
   ]
  },
  {
   "cell_type": "markdown",
   "id": "d099eb1b",
   "metadata": {},
   "source": [
    "Phase voltage refers to the voltage measured across any one component (source winding or load impedance) in a balanced three-phase source or load.\n",
    "\n",
    "For the circuit shown above, the phase voltage is $120$ volts. The terms line current and phase current follows the same logic: the former referring to the current through any one line conductor, and the latter to the current through any one component.\n",
    "\n",
    "Y-connected sources and loads always have line voltages greater than phase voltages, and line currents equal to phase currents. If the Y-connected source or load is balanced, the line voltage will be equal to the phase voltage times the square root of 3:"
   ]
  },
  {
   "cell_type": "markdown",
   "id": "3326c897",
   "metadata": {},
   "source": [
    "For \"Y\" configuration:\n",
    "\\begin{equation}\\tag{1}\n",
    "    E_\\text{line} = \\sqrt{3}\\,E_\\text{phase}\n",
    "\\end{equation}"
   ]
  },
  {
   "cell_type": "markdown",
   "id": "f063fef8",
   "metadata": {},
   "source": [
    "\\begin{equation}\\tag{2}\n",
    "    I_\\text{line} = I_\\text{phase}\n",
    "\\end{equation}    "
   ]
  },
  {
   "cell_type": "code",
   "execution_count": 5,
   "id": "12d5834f",
   "metadata": {},
   "outputs": [
    {
     "data": {
      "text/plain": [
       "2.9999999999999996"
      ]
     },
     "execution_count": 5,
     "metadata": {},
     "output_type": "execute_result"
    }
   ],
   "source": [
    "v_mag**2"
   ]
  },
  {
   "cell_type": "markdown",
   "id": "62c83b40",
   "metadata": {},
   "source": [
    "However, the “Y” configuration is not the only valid one for connecting three-phase voltage source or load elements together."
   ]
  },
  {
   "cell_type": "markdown",
   "id": "b2d81aac",
   "metadata": {},
   "source": [
    "## Three-Phase Delta$\\mathbf{(\\Delta)}$ Configuration\n",
    "\n",
    "Another configuration is known as the “Delta,” for its geometric resemblance to the Greek letter of the same name ($\\Delta$). Take close notice of the polarity for each winding in the figure below."
   ]
  },
  {
   "cell_type": "markdown",
   "id": "899ff5a0",
   "metadata": {},
   "source": [
    "![source-delta-config](https://www.allaboutcircuits.com/uploads/articles/three-phase-three-wire-delta-connection.jpg)"
   ]
  },
  {
   "cell_type": "markdown",
   "id": "78071d66",
   "metadata": {},
   "source": [
    "At first glance, it seems as though three voltage sources like this would create a short-circuit, electrons flowing around the triangle with nothing but the internal impedance of the windings to hold them back.\n",
    "\n",
    "Due to the phase angles of these three voltage sources, however, this is not the case."
   ]
  },
  {
   "cell_type": "markdown",
   "id": "e25e0c2c",
   "metadata": {},
   "source": [
    "## Kirchhoff’s Voltage Law in Delta Connections\n",
    "\n",
    "One quick check of this is to use Kirchhoff’s Voltage Law to see if the three voltages around the loop add up to zero. If they do, then there will be no voltage available to push current around and around that loop, and consequently, there will be no circulating current.\n",
    "\n",
    "Starting with the top winding and progressing counter-clockwise, our KVL expression looks something like this:"
   ]
  },
  {
   "cell_type": "markdown",
   "id": "d7e74921",
   "metadata": {},
   "source": [
    "\\begin{align*}\\tag{3}\n",
    "    120\\mathrm{V}\\angle\\,0^\\circ + 120\\mathrm{V}\\angle\\,120^\\circ + 120\\mathrm{V}\\angle\\,240^\\circ &= 120\\mathrm{V}\\,\\big(1 + 1\\angle\\,120^\\circ + 1\\angle\\,240^\\circ \\big) \\\\\n",
    "     &= 0\n",
    "\\end{align*}    "
   ]
  },
  {
   "cell_type": "code",
   "execution_count": 6,
   "id": "c03dd54e",
   "metadata": {},
   "outputs": [
    {
     "data": {
      "text/plain": [
       "(-2.220446049250313e-16+3.3306690738754696e-16j)"
      ]
     },
     "execution_count": 6,
     "metadata": {},
     "output_type": "execute_result"
    }
   ],
   "source": [
    "v3 = complex(1 + cos(120) + cos(240), sin(120)+sin(240))\n",
    "v3"
   ]
  },
  {
   "cell_type": "markdown",
   "id": "7606f6bb",
   "metadata": {},
   "source": [
    "Indeed, if we add these three vector quantities together, they do add up to zero. Another way to verify the fact that these three voltage sources can be connected together in a loop without resulting in circulating currents is to open up the loop at one junction point and calculate the voltage across the break: (figure below)"
   ]
  },
  {
   "cell_type": "markdown",
   "id": "6c4a881f",
   "metadata": {},
   "source": [
    "![delta-break-diagram](https://www.allaboutcircuits.com/uploads/articles/voltage-across-open-delta.jpg)"
   ]
  },
  {
   "cell_type": "markdown",
   "id": "41cd3f05",
   "metadata": {},
   "source": [
    "$$ 120\\mathrm{V}\\angle\\,0^\\circ + 120\\mathrm{V}\\angle\\,120^\\circ + E_\\text{break} = 0$$\n",
    "\n",
    "Via the above equation, equation (3), substitution,  \n",
    "\n",
    "$$ 0 + E_\\text{break} = 0$$\n",
    "\n",
    "Thus,\n",
    "\n",
    "\\begin{equation}\\tag{4}\n",
    "    E_\\text{break} = 0\n",
    "\\end{equation}   "
   ]
  },
  {
   "cell_type": "markdown",
   "id": "cfc2d9e4",
   "metadata": {},
   "source": [
    "Sure enough, there will be zero voltage across the break, telling us that no current will circulate within the triangular loop of windings when that connection is made complete.\n",
    "\n",
    "Having established that a Δ-connected three-phase voltage source will not burn itself to a crisp due to circulating currents, we turn to its practical use as a source of power in three-phase circuits.\n",
    "\n",
    "Because each pair of line conductors is connected directly across a single winding in a Δ circuit, the line voltage will be equal to the phase voltage.\n",
    "\n",
    "Conversely, because each line conductor attaches at a node between two windings, the line current will be the vector sum of the two joining phase currents.\n",
    "\n",
    "Not surprisingly, the resulting equations for a Δ configuration are as follows:"
   ]
  }
 ],
 "metadata": {
  "kernelspec": {
   "display_name": "Python 3",
   "language": "python",
   "name": "python3"
  },
  "language_info": {
   "codemirror_mode": {
    "name": "ipython",
    "version": 3
   },
   "file_extension": ".py",
   "mimetype": "text/x-python",
   "name": "python",
   "nbconvert_exporter": "python",
   "pygments_lexer": "ipython3",
   "version": "3.8.10"
  }
 },
 "nbformat": 4,
 "nbformat_minor": 5
}
