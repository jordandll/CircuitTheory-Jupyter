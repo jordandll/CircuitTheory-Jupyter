{
 "cells": [
  {
   "cell_type": "markdown",
   "id": "0db5bd64",
   "metadata": {},
   "source": [
    "# Calculating Power Factor\n",
    "### *Chapter 11 - Power Factor*"
   ]
  },
  {
   "cell_type": "markdown",
   "id": "e7617e59",
   "metadata": {},
   "source": [
    "As was mentioned before, the angle of this “power triangle” graphically indicates the ratio between the amount of dissipated (or consumed) power and the amount of absorbed/returned power.\n",
    "\n",
    "It also happens to be the same angle as that of the circuit’s impedance in polar form. When expressed as a fraction, this ratio between true power and apparent power is called the power factor for this circuit.\n",
    "\n",
    "Because true power and apparent power form the adjacent and hypotenuse sides of a right triangle, respectively, the power factor ratio is also equal to the cosine of that phase angle. Using values from the last example circuit:"
   ]
  },
  {
   "cell_type": "markdown",
   "id": "34dc15d9",
   "metadata": {},
   "source": [
    "$$ \\text{Power Factor} = \\frac{|P|}{|S|}$$"
   ]
  },
  {
   "cell_type": "markdown",
   "id": "93002d23",
   "metadata": {},
   "source": [
    "and,\n",
    "$$ \\frac{|P|}{|S|}=\\cos Z_\\theta = \\cos\\!-\\theta = \\cos\\theta$$"
   ]
  },
  {
   "cell_type": "markdown",
   "id": "15aeafff",
   "metadata": {},
   "source": [
    "Using the values from the resistive/reactive example circuit found in the [previous section](Reactive-True-Apparent-Power.ipynb#Resistive/Reactive-Load) of this chapter:  \n",
    "\n",
    "$$ \\frac{|P|}{|S|} \\approxeq \\frac{119.37\\mathrm{W}}{169.2\\mathrm{VA}}\\approxeq 0.705$$"
   ]
  },
  {
   "cell_type": "markdown",
   "id": "55cbb5e7",
   "metadata": {},
   "source": [
    "It should be noted that power factor, like all ratio measurements, is a unitless quantity."
   ]
  },
  {
   "cell_type": "markdown",
   "id": "54d1f1bf",
   "metadata": {},
   "source": [
    "## Power Factor Values\n",
    "\n",
    "For the purely resistive circuit, the power factor is 1 (perfect), because the reactive power equals zero. Here, the power triangle would look like a horizontal line, because the opposite (reactive power) side would have zero length.\n",
    "\n",
    "For the purely inductive circuit, the power factor is zero, because true power equals zero. Here, the power triangle would look like a vertical line, because the adjacent (true power) side would have zero length.\n",
    "\n",
    "The same could be said for a purely capacitive circuit. If there are no dissipative (resistive) components in the circuit, then the true power must be equal to zero, making any power in the circuit purely reactive.\n",
    "\n",
    "The power triangle for a purely capacitive circuit would again be a vertical line (pointing down instead of up as it was for the purely inductive circuit)."
   ]
  },
  {
   "cell_type": "markdown",
   "id": "2031c988",
   "metadata": {},
   "source": [
    "## Importance of Power Factor\n",
    "\n",
    "Power factor can be an important aspect to consider in an AC circuit because of any power factor less than 1 means that the circuit’s wiring has to carry more current than what would be necessary with zero reactance in the circuit to deliver the same amount of (true) power to the resistive load.\n",
    "\n",
    "If our last example circuit had been purely resistive, we would have been able to deliver a full 169.256 watts to the load with the same 1.410 amps of current, rather than the mere 119.365 watts that it is presently dissipating with that same current quantity.\n",
    "\n",
    "The poor power factor makes for an inefficient power delivery system."
   ]
  },
  {
   "cell_type": "markdown",
   "id": "bd30dcdb",
   "metadata": {},
   "source": [
    "## Poor Power Factor\n",
    "\n",
    "Poor power factor can be corrected, paradoxically, by adding another load to the circuit drawing an equal and opposite amount of reactive power, to cancel out the effects of the load’s inductive reactance.\n",
    "\n",
    "Inductive reactance can only be canceled by capacitive reactance, so we have to add a capacitor in parallel to our example circuit as the additional load.\n",
    "\n",
    "The effect of these two opposing reactances in parallel is to bring the circuit’s total impedance equal to its total resistance (to make the impedance phase angle equal, or at least closer, to zero).\n",
    "\n",
    "Since we know that the (uncorrected) reactive power is 119.998 VAR (inductive), we need to calculate the correct capacitor size to produce the same quantity of (capacitive) reactive power.\n",
    "\n",
    "Since this capacitor will be directly in parallel with the source (of known voltage), we’ll use the power formula which starts from voltage and reactance:"
   ]
  },
  {
   "cell_type": "markdown",
   "id": "acb4d8bc",
   "metadata": {},
   "source": [
    "\\begin{equation}\\tag{1}\n",
    "    Q = \\frac{E^2}{X}\n",
    "\\end{equation}\n",
    "\n",
    "\\begin{equation}\\tag{2}\n",
    "    X_\\mathrm{C}=\\frac{1}{\\omega\\,C}\n",
    "\\end{equation}    "
   ]
  },
  {
   "cell_type": "markdown",
   "id": "af59a2fe",
   "metadata": {},
   "source": [
    "Solving for the reactance $X$:  Via equation (1),\n",
    "\n",
    "$$ X = \\frac{E^2}{Q} \\approxeq \\frac{120^2\\mathrm{V}^2}{119.99\\mathrm{VAR}} \\approxeq 120.01\\,\\Omega$$"
   ]
  },
  {
   "cell_type": "code",
   "execution_count": 1,
   "id": "0596c4c7",
   "metadata": {},
   "outputs": [
    {
     "data": {
      "text/plain": [
       "120.01000083340278"
      ]
     },
     "execution_count": 1,
     "metadata": {},
     "output_type": "execute_result"
    }
   ],
   "source": [
    "120**2/119.99"
   ]
  },
  {
   "cell_type": "markdown",
   "id": "ae06e9ab",
   "metadata": {},
   "source": [
    "Solving for the capacitance ($C$):  Via equation (2), the above equation, and substitution,   \n",
    "\n",
    "$$ C = \\frac{1}{X_\\mathrm{C}\\omega}\\approxeq \\frac{1}{120\\pi \\cdot 120.01\\Omega}\\approxeq 22.1\\mu\\mathrm{F}$$"
   ]
  },
  {
   "cell_type": "code",
   "execution_count": 2,
   "id": "950c244e",
   "metadata": {},
   "outputs": [],
   "source": [
    "import numpy as np"
   ]
  },
  {
   "cell_type": "code",
   "execution_count": 12,
   "id": "d4ab3722",
   "metadata": {},
   "outputs": [],
   "source": [
    "def cos(deg: float) -> float:\n",
    "    return np.cos(np.radians(deg))\n",
    "\n",
    "def sin(deg: float) -> float:\n",
    "    return np.sin(np.radians(deg))"
   ]
  },
  {
   "cell_type": "code",
   "execution_count": 3,
   "id": "836fe782",
   "metadata": {},
   "outputs": [
    {
     "data": {
      "text/plain": [
       "2.2103011289600217e-05"
      ]
     },
     "execution_count": 3,
     "metadata": {},
     "output_type": "execute_result"
    }
   ],
   "source": [
    "1/(120*np.pi*120.01)"
   ]
  },
  {
   "cell_type": "markdown",
   "id": "eec38768",
   "metadata": {},
   "source": [
    "Below is a diagram of our circuit with a corrected power factor, using a capacitor with a rounded down capacitance of $22\\mu\\mathrm{F}$:  \n",
    "\n",
    "![corrected-power-factor-circuit](https://www.allaboutcircuits.com/uploads/articles/rounded-capacitor-value.png)"
   ]
  },
  {
   "cell_type": "markdown",
   "id": "17787538",
   "metadata": {},
   "source": [
    "Via Ohm's Law, the total current, denoted as '$I$' and '$I_\\text{total}$', can be found.  \n",
    "\n",
    "$$ 120\\mathrm{V} = ZI$$\n",
    "\n",
    "Here, $'Z'$ denotes the total impedance of the circuit, which is given by:  \n",
    "\n",
    "$$ Z = \\frac{1}{D}$$\n",
    "\n",
    "and,\n",
    "$$ D = \\omega C\\angle\\,90^\\circ + \\frac{1}{60\\Omega + X_\\mathrm{L}j}$$"
   ]
  },
  {
   "cell_type": "markdown",
   "id": "368241cd",
   "metadata": {},
   "source": [
    "Recall that the inductive reactance ($X_\\mathrm{L}$) is given by:  \n",
    "\n",
    "$$ X_\\mathrm{L} = \\omega L = 120\\pi \\cdot 0.160\\mathrm{H}\\approxeq 60.32\\Omega$$"
   ]
  },
  {
   "cell_type": "markdown",
   "id": "a851f128",
   "metadata": {},
   "source": [
    "Thus,  \n",
    "\n",
    "\\begin{align*}\n",
    "    D &\\approxeq  8.33\\mathrm{mS}\\,\\angle\\,90^\\circ + \\frac{1}{85.08}\\,\\mathrm{S}\\,\\angle\\!-45.15^\\circ \\\\ \\\\\n",
    "     &\\approxeq 8.29\\mathrm{mS} - j\\cdot2.81\\mu\\mathrm{S}\n",
    "\\end{align*}     "
   ]
  },
  {
   "cell_type": "code",
   "execution_count": 11,
   "id": "931cdded",
   "metadata": {},
   "outputs": [],
   "source": [
    "w = 120*np.pi\n",
    "C = 2.21e-5\n",
    "L = 0.160"
   ]
  },
  {
   "cell_type": "code",
   "execution_count": 15,
   "id": "ae103063",
   "metadata": {},
   "outputs": [
    {
     "data": {
      "text/plain": [
       "(120.63752432597886, 0.01942946397554271)"
      ]
     },
     "execution_count": 15,
     "metadata": {},
     "output_type": "execute_result"
    }
   ],
   "source": [
    "D1 = 8.33e-3\n",
    "D2 = 1/85.08\n",
    "v = complex(D2*cos(45.15), D1 - D2*sin(45.15))\n",
    "Z = 1/v\n",
    "mag = np.sqrt(Z.real**2 + Z.imag**2)\n",
    "theta = np.degrees(np.arctan(Z.imag/Z.real))\n",
    "(mag, theta)"
   ]
  },
  {
   "cell_type": "markdown",
   "id": "01269bdf",
   "metadata": {},
   "source": [
    "Thus,  \n",
    "\n",
    "\\begin{align*}\n",
    "    Z &\\approxeq 120.64\\Omega + j\\cdot40.91\\mathrm{m}\\Omega \\\\\n",
    "     &\\approxeq 120.64\\Omega\\angle\\,0.02^\\circ\n",
    "\\end{align*}     "
   ]
  },
  {
   "cell_type": "markdown",
   "id": "31382a9f",
   "metadata": {},
   "source": [
    "The positive impedance phase angle implies the reactance is still mostly inductive."
   ]
  },
  {
   "cell_type": "markdown",
   "id": "237b6a28",
   "metadata": {},
   "source": [
    "The current is given by:  \n",
    "\n",
    "$$ I = I_\\text{total}= \\frac{120\\mathrm{V}}{Z} \\approxeq 994.69\\mathrm{mA}\\,\\angle\\!-0.02^\\circ$$"
   ]
  },
  {
   "cell_type": "code",
   "execution_count": 16,
   "id": "27b19033",
   "metadata": {},
   "outputs": [
    {
     "data": {
      "text/plain": [
       "0.9946949602122016"
      ]
     },
     "execution_count": 16,
     "metadata": {},
     "output_type": "execute_result"
    }
   ],
   "source": [
    "120/120.64"
   ]
  },
  {
   "cell_type": "markdown",
   "id": "cbc0f52e",
   "metadata": {},
   "source": [
    "Via KCL,  \n",
    "\n",
    "\\begin{equation}\\tag{3}\n",
    "    I = I_\\mathrm{C} + I_\\text{load}\n",
    "\\end{equation}"
   ]
  },
  {
   "cell_type": "markdown",
   "id": "e8244689",
   "metadata": {},
   "source": [
    "and, via KVL and Ohm's Law,  \n",
    "\n",
    "\\begin{equation}\\tag{4}\n",
    "    Z_\\mathrm{C}I_\\mathrm{C} = Z_\\text{load}I_\\text{load}\n",
    "\\end{equation}    "
   ]
  },
  {
   "cell_type": "markdown",
   "id": "12a98f4b",
   "metadata": {},
   "source": [
    "The total load impedance is given by:  \n",
    "\n",
    "\\begin{align*}\n",
    "    Z_\\text{load} &= 60\\Omega + X_\\mathrm{L}\\angle\\,90^\\circ \\\\\n",
    "     &= 60\\Omega + j\\cdot X_\\mathrm{L} \\\\\n",
    "     &\\approxeq 85.08\\Omega\\,\\angle\\,45.15^\\circ\n",
    "\\end{align*}     "
   ]
  },
  {
   "cell_type": "code",
   "execution_count": 18,
   "id": "d602416a",
   "metadata": {},
   "outputs": [
    {
     "data": {
      "text/plain": [
       "(85.07838131051614, 45.151707132165285)"
      ]
     },
     "execution_count": 18,
     "metadata": {},
     "output_type": "execute_result"
    }
   ],
   "source": [
    "X_L = L * 120*np.pi\n",
    "\n",
    "mag = np.sqrt(60**2 + X_L**2)\n",
    "theta = np.degrees(np.arctan(X_L/60))\n",
    "(mag, theta)"
   ]
  }
 ],
 "metadata": {
  "kernelspec": {
   "display_name": "Python 3",
   "language": "python",
   "name": "python3"
  },
  "language_info": {
   "codemirror_mode": {
    "name": "ipython",
    "version": 3
   },
   "file_extension": ".py",
   "mimetype": "text/x-python",
   "name": "python",
   "nbconvert_exporter": "python",
   "pygments_lexer": "ipython3",
   "version": "3.8.10"
  }
 },
 "nbformat": 4,
 "nbformat_minor": 5
}
