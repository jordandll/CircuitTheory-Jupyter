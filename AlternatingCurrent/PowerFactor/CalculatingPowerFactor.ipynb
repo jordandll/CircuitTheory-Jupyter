{
 "cells": [
  {
   "cell_type": "markdown",
   "id": "0db5bd64",
   "metadata": {},
   "source": [
    "# Calculating Power Factor\n",
    "### *Chapter 11 - Power Factor*"
   ]
  },
  {
   "cell_type": "markdown",
   "id": "e7617e59",
   "metadata": {},
   "source": [
    "As was mentioned before, the angle of this “power triangle” graphically indicates the ratio between the amount of dissipated (or consumed) power and the amount of absorbed/returned power.\n",
    "\n",
    "It also happens to be the same angle as that of the circuit’s impedance in polar form. When expressed as a fraction, this ratio between true power and apparent power is called the power factor for this circuit.\n",
    "\n",
    "Because true power and apparent power form the adjacent and hypotenuse sides of a right triangle, respectively, the power factor ratio is also equal to the cosine of that phase angle. Using values from the last example circuit:"
   ]
  },
  {
   "cell_type": "markdown",
   "id": "34dc15d9",
   "metadata": {},
   "source": [
    "$$ \\text{Power Factor} = \\frac{|P|}{|S|}$$"
   ]
  },
  {
   "cell_type": "markdown",
   "id": "93002d23",
   "metadata": {},
   "source": [
    "and,\n",
    "$$ \\frac{|P|}{|S|}=\\cos Z_\\theta = \\cos\\!-\\theta = \\cos\\theta$$"
   ]
  },
  {
   "cell_type": "markdown",
   "id": "15aeafff",
   "metadata": {},
   "source": [
    "Using the values from the resistive/reactive example circuit found in the [previous section](Reactive-True-Apparent-Power.ipynb#Resistive/Reactive-Load) of this chapter:  \n",
    "\n",
    "$$ \\frac{|P|}{|S|} \\approxeq \\frac{119.37\\mathrm{W}}{169.2\\mathrm{VA}}\\approxeq 0.705$$"
   ]
  },
  {
   "cell_type": "markdown",
   "id": "55cbb5e7",
   "metadata": {},
   "source": [
    "It should be noted that power factor, like all ratio measurements, is a unitless quantity."
   ]
  },
  {
   "cell_type": "markdown",
   "id": "54d1f1bf",
   "metadata": {},
   "source": [
    "## Power Factor Values\n",
    "\n",
    "For the purely resistive circuit, the power factor is 1 (perfect), because the reactive power equals zero. Here, the power triangle would look like a horizontal line, because the opposite (reactive power) side would have zero length.\n",
    "\n",
    "For the purely inductive circuit, the power factor is zero, because true power equals zero. Here, the power triangle would look like a vertical line, because the adjacent (true power) side would have zero length.\n",
    "\n",
    "The same could be said for a purely capacitive circuit. If there are no dissipative (resistive) components in the circuit, then the true power must be equal to zero, making any power in the circuit purely reactive.\n",
    "\n",
    "The power triangle for a purely capacitive circuit would again be a vertical line (pointing down instead of up as it was for the purely inductive circuit)."
   ]
  },
  {
   "cell_type": "markdown",
   "id": "2031c988",
   "metadata": {},
   "source": [
    "## Importance of Power Factor\n",
    "\n",
    "Power factor can be an important aspect to consider in an AC circuit because of any power factor less than 1 means that the circuit’s wiring has to carry more current than what would be necessary with zero reactance in the circuit to deliver the same amount of (true) power to the resistive load.\n",
    "\n",
    "If our last example circuit had been purely resistive, we would have been able to deliver a full 169.256 watts to the load with the same 1.410 amps of current, rather than the mere 119.365 watts that it is presently dissipating with that same current quantity.\n",
    "\n",
    "The poor power factor makes for an inefficient power delivery system."
   ]
  },
  {
   "cell_type": "markdown",
   "id": "bd30dcdb",
   "metadata": {},
   "source": [
    "## Poor Power Factor\n",
    "\n",
    "Poor power factor can be corrected, paradoxically, by adding another load to the circuit drawing an equal and opposite amount of reactive power, to cancel out the effects of the load’s inductive reactance.\n",
    "\n",
    "Inductive reactance can only be canceled by capacitive reactance, so we have to add a capacitor in parallel to our example circuit as the additional load.\n",
    "\n",
    "The effect of these two opposing reactances in parallel is to bring the circuit’s total impedance equal to its total resistance (to make the impedance phase angle equal, or at least closer, to zero).\n",
    "\n",
    "Since we know that the (uncorrected) reactive power is 119.998 VAR (inductive), we need to calculate the correct capacitor size to produce the same quantity of (capacitive) reactive power.\n",
    "\n",
    "Since this capacitor will be directly in parallel with the source (of known voltage), we’ll use the power formula which starts from voltage and reactance:"
   ]
  }
 ],
 "metadata": {
  "kernelspec": {
   "display_name": "Python 3 (ipykernel)",
   "language": "python",
   "name": "python3"
  },
  "language_info": {
   "codemirror_mode": {
    "name": "ipython",
    "version": 3
   },
   "file_extension": ".py",
   "mimetype": "text/x-python",
   "name": "python",
   "nbconvert_exporter": "python",
   "pygments_lexer": "ipython3",
   "version": "3.8.10"
  }
 },
 "nbformat": 4,
 "nbformat_minor": 5
}
