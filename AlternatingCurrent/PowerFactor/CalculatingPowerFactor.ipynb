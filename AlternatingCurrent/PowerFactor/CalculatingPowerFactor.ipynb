{
 "cells": [
  {
   "cell_type": "markdown",
   "id": "0db5bd64",
   "metadata": {},
   "source": [
    "# Calculating Power Factor\n",
    "### *Chapter 11 - Power Factor*"
   ]
  },
  {
   "cell_type": "markdown",
   "id": "e7617e59",
   "metadata": {},
   "source": [
    "As was mentioned before, the angle of this “power triangle” graphically indicates the ratio between the amount of dissipated (or consumed) power and the amount of absorbed/returned power.\n",
    "\n",
    "It also happens to be the same angle as that of the circuit’s impedance in polar form. When expressed as a fraction, this ratio between true power and apparent power is called the power factor for this circuit.\n",
    "\n",
    "Because true power and apparent power form the adjacent and hypotenuse sides of a right triangle, respectively, the power factor ratio is also equal to the cosine of that phase angle. Using values from the last example circuit:"
   ]
  },
  {
   "cell_type": "markdown",
   "id": "34dc15d9",
   "metadata": {},
   "source": [
    "$$ \\text{Power Factor} = \\frac{|P|}{|S|}$$"
   ]
  },
  {
   "cell_type": "markdown",
   "id": "93002d23",
   "metadata": {},
   "source": [
    "and,\n",
    "$$ \\frac{|P|}{|S|}=\\cos Z_\\theta = \\cos\\!-\\theta = \\cos\\theta$$"
   ]
  },
  {
   "cell_type": "markdown",
   "id": "15aeafff",
   "metadata": {},
   "source": [
    "Using the values from the resistive/reactive example circuit found in the [previous section](Reactive-True-Apparent-Power.ipynb#Resistive/Reactive-Load) of this chapter:  \n",
    "\n",
    "$$ \\frac{|P|}{|S|} \\approxeq \\frac{119.37\\mathrm{W}}{169.2\\mathrm{VA}}\\approxeq 0.705$$"
   ]
  },
  {
   "cell_type": "markdown",
   "id": "55cbb5e7",
   "metadata": {},
   "source": [
    "It should be noted that power factor, like all ratio measurements, is a unitless quantity."
   ]
  },
  {
   "cell_type": "markdown",
   "id": "54d1f1bf",
   "metadata": {},
   "source": [
    "## Power Factor Values\n",
    "\n",
    "For the purely resistive circuit, the power factor is 1 (perfect), because the reactive power equals zero. Here, the power triangle would look like a horizontal line, because the opposite (reactive power) side would have zero length.\n",
    "\n",
    "For the purely inductive circuit, the power factor is zero, because true power equals zero. Here, the power triangle would look like a vertical line, because the adjacent (true power) side would have zero length.\n",
    "\n",
    "The same could be said for a purely capacitive circuit. If there are no dissipative (resistive) components in the circuit, then the true power must be equal to zero, making any power in the circuit purely reactive.\n",
    "\n",
    "The power triangle for a purely capacitive circuit would again be a vertical line (pointing down instead of up as it was for the purely inductive circuit)."
   ]
  },
  {
   "cell_type": "markdown",
   "id": "2031c988",
   "metadata": {},
   "source": [
    "## Importance of Power Factor\n",
    "\n",
    "Power factor can be an important aspect to consider in an AC circuit because of any power factor less than 1 means that the circuit’s wiring has to carry more current than what would be necessary with zero reactance in the circuit to deliver the same amount of (true) power to the resistive load.\n",
    "\n",
    "If our last example circuit had been purely resistive, we would have been able to deliver a full 169.256 watts to the load with the same 1.410 amps of current, rather than the mere 119.365 watts that it is presently dissipating with that same current quantity.\n",
    "\n",
    "The poor power factor makes for an inefficient power delivery system."
   ]
  },
  {
   "cell_type": "markdown",
   "id": "bd30dcdb",
   "metadata": {},
   "source": [
    "## Poor Power Factor\n",
    "\n",
    "Poor power factor can be corrected, paradoxically, by adding another load to the circuit drawing an equal and opposite amount of reactive power, to cancel out the effects of the load’s inductive reactance.\n",
    "\n",
    "Inductive reactance can only be canceled by capacitive reactance, so we have to add a capacitor in parallel to our example circuit as the additional load.\n",
    "\n",
    "The effect of these two opposing reactances in parallel is to bring the circuit’s total impedance equal to its total resistance (to make the impedance phase angle equal, or at least closer, to zero).\n",
    "\n",
    "Since we know that the (uncorrected) reactive power is 119.998 VAR (inductive), we need to calculate the correct capacitor size to produce the same quantity of (capacitive) reactive power.\n",
    "\n",
    "Since this capacitor will be directly in parallel with the source (of known voltage), we’ll use the power formula which starts from voltage and reactance:"
   ]
  },
  {
   "cell_type": "markdown",
   "id": "2622b990",
   "metadata": {},
   "source": [
    "\\begin{equation}\\tag{1}\n",
    "    Q = \\frac{E^2}{X}\n",
    "\\end{equation}\n",
    "\n",
    "\\begin{equation}\\tag{2}\n",
    "    X_\\mathrm{C}=\\frac{1}{\\omega\\,C}\n",
    "\\end{equation}    "
   ]
  },
  {
   "cell_type": "markdown",
   "id": "62797bca",
   "metadata": {},
   "source": [
    "Solving for the reactance $X$:  Via equation (1),\n",
    "\n",
    "$$ X = \\frac{E^2}{Q} \\approxeq \\frac{120^2\\mathrm{V}^2}{119.99\\mathrm{VAR}} \\approxeq 120.01\\,\\Omega$$"
   ]
  },
  {
   "cell_type": "code",
   "execution_count": 1,
   "id": "02dda2c5",
   "metadata": {},
   "outputs": [
    {
     "data": {
      "text/plain": [
       "120.01000083340278"
      ]
     },
     "execution_count": 1,
     "metadata": {},
     "output_type": "execute_result"
    }
   ],
   "source": [
    "120**2/119.99"
   ]
  },
  {
   "cell_type": "markdown",
   "id": "86065bee",
   "metadata": {},
   "source": [
    "Solving for the capacitance ($C$):  Via equation (2), the above equation, and substitution,   \n",
    "\n",
    "$$ C = \\frac{1}{X_\\mathrm{C}\\omega}\\approxeq \\frac{1}{120\\pi \\cdot 120.01\\Omega}\\approxeq 22.1\\mu\\mathrm{F}$$"
   ]
  },
  {
   "cell_type": "code",
   "execution_count": 2,
   "id": "12e75faf",
   "metadata": {},
   "outputs": [],
   "source": [
    "import numpy as np"
   ]
  },
  {
   "cell_type": "code",
   "execution_count": 12,
   "id": "7309a5dc",
   "metadata": {},
   "outputs": [],
   "source": [
    "def cos(deg: float) -> float:\n",
    "    return np.cos(np.radians(deg))\n",
    "\n",
    "def sin(deg: float) -> float:\n",
    "    return np.sin(np.radians(deg))"
   ]
  },
  {
   "cell_type": "code",
   "execution_count": 3,
   "id": "4d56e37e",
   "metadata": {},
   "outputs": [
    {
     "data": {
      "text/plain": [
       "2.2103011289600217e-05"
      ]
     },
     "execution_count": 3,
     "metadata": {},
     "output_type": "execute_result"
    }
   ],
   "source": [
    "1/(120*np.pi*120.01)"
   ]
  },
  {
   "cell_type": "markdown",
   "id": "1cd4a13b",
   "metadata": {},
   "source": [
    "Below is a diagram of our circuit with a corrected power factor, using a capacitor with a rounded down capacitance of $22\\mu\\mathrm{F}$:  \n",
    "\n",
    "![corrected-power-factor-circuit](https://www.allaboutcircuits.com/uploads/articles/rounded-capacitor-value.png)"
   ]
  },
  {
   "cell_type": "markdown",
   "id": "08b5bfc9",
   "metadata": {},
   "source": [
    "Via Ohm's Law, the total current, denoted as '$I$' and '$I_\\text{total}$', can be found.  \n",
    "\n",
    "$$ 120\\mathrm{V} = ZI$$\n",
    "\n",
    "Here, $'Z'$ denotes the total impedance of the circuit, which is given by:  \n",
    "\n",
    "$$ Z = \\frac{1}{D}$$\n",
    "\n",
    "and,\n",
    "$$ D = \\omega C\\angle\\,90^\\circ + \\frac{1}{60\\Omega + X_\\mathrm{L}j}$$"
   ]
  },
  {
   "cell_type": "markdown",
   "id": "5270b876",
   "metadata": {},
   "source": [
    "Recall that the inductive reactance ($X_\\mathrm{L}$) is given by:  \n",
    "\n",
    "$$ X_\\mathrm{L} = \\omega L = 120\\pi \\cdot 0.160\\mathrm{H}\\approxeq 60.32\\Omega$$"
   ]
  },
  {
   "cell_type": "markdown",
   "id": "527b65b7",
   "metadata": {},
   "source": [
    "Thus,  \n",
    "\n",
    "\\begin{align*}\n",
    "    D &\\approxeq  8.33\\mathrm{mS}\\,\\angle\\,90^\\circ + \\frac{1}{85.08}\\,\\mathrm{S}\\,\\angle\\!-45.15^\\circ \\\\ \\\\\n",
    "     &\\approxeq 8.29\\mathrm{mS} - j\\cdot2.81\\mu\\mathrm{S}\n",
    "\\end{align*}     "
   ]
  },
  {
   "cell_type": "code",
   "execution_count": 11,
   "id": "7e5aeb4d",
   "metadata": {},
   "outputs": [],
   "source": [
    "w = 120*np.pi\n",
    "C = 2.21e-5\n",
    "L = 0.160"
   ]
  },
  {
   "cell_type": "code",
   "execution_count": 15,
   "id": "96da5206",
   "metadata": {},
   "outputs": [
    {
     "data": {
      "text/plain": [
       "(120.63752432597886, 0.01942946397554271)"
      ]
     },
     "execution_count": 15,
     "metadata": {},
     "output_type": "execute_result"
    }
   ],
   "source": [
    "D1 = 8.33e-3\n",
    "D2 = 1/85.08\n",
    "v = complex(D2*cos(45.15), D1 - D2*sin(45.15))\n",
    "Z = 1/v\n",
    "mag = np.sqrt(Z.real**2 + Z.imag**2)\n",
    "theta = np.degrees(np.arctan(Z.imag/Z.real))\n",
    "(mag, theta)"
   ]
  },
  {
   "cell_type": "markdown",
   "id": "0c474196",
   "metadata": {},
   "source": [
    "Thus,  \n",
    "\n",
    "\\begin{align*}\n",
    "    Z &\\approxeq 120.64\\Omega + j\\cdot40.91\\mathrm{m}\\Omega \\\\\n",
    "     &\\approxeq 120.64\\Omega\\angle\\,0.02^\\circ\n",
    "\\end{align*}     "
   ]
  },
  {
   "cell_type": "markdown",
   "id": "39b42982",
   "metadata": {},
   "source": [
    "The positive impedance phase angle implies the reactance is still mostly inductive."
   ]
  },
  {
   "cell_type": "markdown",
   "id": "300e686f",
   "metadata": {},
   "source": [
    "The current is given by:  \n",
    "\n",
    "$$ I = I_\\text{total}= \\frac{120\\mathrm{V}}{Z} \\approxeq 994.69\\mathrm{mA}\\,\\angle\\!-0.02^\\circ$$"
   ]
  },
  {
   "cell_type": "code",
   "execution_count": 16,
   "id": "547f6a27",
   "metadata": {},
   "outputs": [
    {
     "data": {
      "text/plain": [
       "0.9946949602122016"
      ]
     },
     "execution_count": 16,
     "metadata": {},
     "output_type": "execute_result"
    }
   ],
   "source": [
    "120/120.64"
   ]
  },
  {
   "cell_type": "markdown",
   "id": "8f8dfac3",
   "metadata": {},
   "source": [
    "Via KCL,  \n",
    "\n",
    "\\begin{equation}\\tag{3}\n",
    "    I = I_\\mathrm{C} + I_\\text{load}\n",
    "\\end{equation}"
   ]
  },
  {
   "cell_type": "markdown",
   "id": "9352652a",
   "metadata": {},
   "source": [
    "and, via KVL and Ohm's Law,  \n",
    "\n",
    "\\begin{equation}\\tag{4}\n",
    "    Z_\\mathrm{C}I_\\mathrm{C} = Z_\\text{load}I_\\text{load}\n",
    "\\end{equation}    "
   ]
  },
  {
   "cell_type": "markdown",
   "id": "2dfbb23a",
   "metadata": {},
   "source": [
    "The total load impedance is given by:  \n",
    "\n",
    "\\begin{align*}\n",
    "    Z_\\text{load} &= 60\\Omega + X_\\mathrm{L}\\angle\\,90^\\circ \\\\\n",
    "     &= 60\\Omega + j\\cdot X_\\mathrm{L} \\\\\n",
    "     &\\approxeq 85.08\\Omega\\,\\angle\\,45.15^\\circ\n",
    "\\end{align*}     "
   ]
  },
  {
   "cell_type": "code",
   "execution_count": 19,
   "id": "d293063a",
   "metadata": {},
   "outputs": [],
   "source": [
    "X_L = L *w\n",
    "X_C = 1/(C*w)\n",
    "load_mag = np.sqrt(60**2 + X_L**2)\n",
    "load_theta = np.degrees(np.arctan(X_L/60))\n",
    "C_mag = X_C\n",
    "C_theta = -90 # degrees"
   ]
  },
  {
   "cell_type": "markdown",
   "id": "37a47b86",
   "metadata": {},
   "source": [
    "Via equation (4) and (3) in conjunction with substitution, it is possible to solve for $I_\\text{load}$."
   ]
  },
  {
   "cell_type": "markdown",
   "id": "ce3572b8",
   "metadata": {},
   "source": [
    "$$ I = \\frac{Z_\\text{load}}{Z_\\mathrm{C}}\\,I_\\text{load} + I_\\text{load}$$"
   ]
  },
  {
   "cell_type": "code",
   "execution_count": 21,
   "id": "c9462752",
   "metadata": {},
   "outputs": [
    {
     "data": {
      "text/plain": [
       "(0.49745553526357167+0.4998902230392078j)"
      ]
     },
     "execution_count": 21,
     "metadata": {},
     "output_type": "execute_result"
    }
   ],
   "source": [
    "Z_load = complex(60, X_L)\n",
    "Z_C = complex(0, -X_C)\n",
    "Z_load/Z_C + 1"
   ]
  },
  {
   "cell_type": "markdown",
   "id": "32225761",
   "metadata": {},
   "source": [
    "$$ I \\approxeq I_\\text{load}\\,(0.497\\Omega + j\\cdot 0.5\\Omega)$$"
   ]
  },
  {
   "cell_type": "code",
   "execution_count": 25,
   "id": "43439a57",
   "metadata": {},
   "outputs": [],
   "source": [
    "I = 120/Z\n",
    "I_load = I/(Z_load/Z_C + 1)"
   ]
  },
  {
   "cell_type": "markdown",
   "id": "6f8ad8db",
   "metadata": {},
   "source": [
    "Thus,  \n",
    "\n",
    "\\begin{align*}\n",
    "    I_\\text{load} &\\approxeq (994.58\\mathrm{mA} - j\\cdot1\\mathrm{A}) \\\\\n",
    "     &\\approxeq 1.41\\mathrm{A}\\,\\angle\\!-45.16^\\circ\n",
    "\\end{align*}"
   ]
  },
  {
   "cell_type": "code",
   "execution_count": 26,
   "id": "30d2c164",
   "metadata": {},
   "outputs": [
    {
     "data": {
      "text/plain": [
       "(1.4104795331248934, -45.15929776512758)"
      ]
     },
     "execution_count": 26,
     "metadata": {},
     "output_type": "execute_result"
    }
   ],
   "source": [
    "mag_load = np.sqrt(I_load.real**2 + I_load.imag**2)\n",
    "theta_load = np.degrees(np.arctan(I_load.imag/I_load.real))\n",
    "(mag_load, theta_load)"
   ]
  },
  {
   "cell_type": "markdown",
   "id": "cc55d764",
   "metadata": {},
   "source": [
    "Notice how the current flowing through the load has the same value as it did without the power factor correction.  If it didn't have the same value, the reactive and resistive power of the load would not have the same value either, since both are a function of the load current."
   ]
  },
  {
   "cell_type": "markdown",
   "id": "06a5fd5d",
   "metadata": {},
   "source": [
    "Now, for the capacitor (corrector) current:  Via equation (3),  \n",
    "\n",
    "\\begin{align*}\n",
    "    I_\\mathrm{C} &= I - I_\\text{load} \\\\\n",
    "     &\\approxeq (132.45\\mu\\mathrm{A} + j\\cdot 999.79\\mathrm{mA}) \\\\\n",
    "     &\\approxeq 999.79\\mathrm{mA}\\,\\angle\\,89.99^\\circ\n",
    "\\end{align*}     "
   ]
  },
  {
   "cell_type": "code",
   "execution_count": 28,
   "id": "4071bd0e",
   "metadata": {},
   "outputs": [
    {
     "data": {
      "text/plain": [
       "(0.9997914065871183, 89.99240936703771)"
      ]
     },
     "execution_count": 28,
     "metadata": {},
     "output_type": "execute_result"
    }
   ],
   "source": [
    "I_C = I - I_load\n",
    "mag = np.sqrt(I_C.real**2 + I_C.imag**2)\n",
    "theta = np.degrees(np.arctan(I_C.imag/I_C.real))\n",
    "(mag, theta)"
   ]
  },
  {
   "cell_type": "markdown",
   "id": "e20a1bf7",
   "metadata": {},
   "source": [
    "Below is a plot of the quantities that we just found."
   ]
  },
  {
   "cell_type": "code",
   "execution_count": 29,
   "id": "b90c3615",
   "metadata": {},
   "outputs": [],
   "source": [
    "import matplotlib.pyplot as plt"
   ]
  },
  {
   "cell_type": "code",
   "execution_count": 31,
   "id": "344d8b63",
   "metadata": {},
   "outputs": [
    {
     "data": {
      "text/plain": [
       "<matplotlib.legend.Legend at 0x7f3d61f1cd90>"
      ]
     },
     "execution_count": 31,
     "metadata": {},
     "output_type": "execute_result"
    },
    {
     "data": {
      "image/png": "[encoded data removed]",
      "text/plain": [
       "<Figure size 936x360 with 1 Axes>"
      ]
     },
     "metadata": {
      "needs_background": "light"
     },
     "output_type": "display_data"
    }
   ],
   "source": [
    "# Cyclic Wave Props.\n",
    "f = 60\n",
    "w = 120*np.pi\n",
    "p = 1/f\n",
    "\n",
    "# Create time domain over three time periods.\n",
    "t = np.linspace(0, 3*p, num=200)\n",
    "\n",
    "# Define the found quantities as a function of time.\n",
    "E = 120*np.sin(w*t)\n",
    "I = 0.99469*np.sin(w*t - np.radians(0.02))\n",
    "I_load = 1.41*np.sin(w*t + np.radians(180-45.16))\n",
    "I_C = 0.99979*np.sin(w*t + np.radians(-89.99))\n",
    "\n",
    "# Create figure and axes objects.\n",
    "fig, ax = plt.subplots(figsize=(13,5))\n",
    "ax.set_xlabel('time (ms)', size=12)\n",
    "ax.grid()\n",
    "\n",
    "# Plot the aforementioned quantities.\n",
    "ax.plot(t*1000, E, label='voltage source (V)')\n",
    "ax.plot(t*1000, I*100, label='total current (cA)')\n",
    "ax.plot(t*1000, I_load*100, label='load current (cA)')\n",
    "ax.plot(t*1000, I_C*100, label='capacitor current (cA)')\n",
    "ax.legend()"
   ]
  }
 ],
 "metadata": {
  "kernelspec": {
   "display_name": "Python 3",
   "language": "python",
   "name": "python3"
  },
  "language_info": {
   "codemirror_mode": {
    "name": "ipython",
    "version": 3
   },
   "file_extension": ".py",
   "mimetype": "text/x-python",
   "name": "python",
   "nbconvert_exporter": "python",
   "pygments_lexer": "ipython3",
   "version": "3.8.10"
  }
 },
 "nbformat": 4,
 "nbformat_minor": 5
}
