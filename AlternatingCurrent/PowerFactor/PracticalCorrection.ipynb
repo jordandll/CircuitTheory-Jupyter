{
 "cells": [
  {
   "cell_type": "markdown",
   "id": "e635cd12",
   "metadata": {},
   "source": [
    "# Practical Power Factor Correction\n",
    "### *Chapter 11 - Power Factor*"
   ]
  },
  {
   "cell_type": "markdown",
   "id": "4c762412",
   "metadata": {},
   "source": [
    "When the need arises to correct for poor power factor in an AC power system, you probably won’t have the luxury of knowing the load’s exact inductance in henrys to use for your calculations.\n",
    "\n",
    "You may be fortunate enough to have an instrument called a power factor meter to tell you what the power factor is (a number between 0 and 1), and the apparent power (which can be figured by taking a voltmeter reading in volts and multiplying by an ammeter reading in amps).\n",
    "\n",
    "In less favorable circumstances, you may have to use an oscilloscope to compare voltage and current waveforms, measuring phase shift in degrees and calculating power factor by the cosine of that phase shift.\n",
    "\n",
    "Most likely, you will have access to a wattmeter for measuring true power, whose reading you can compare against a calculation of apparent power (from multiplying total voltage and total current measurements). From the values of true and apparent power, you can determine reactive power and power factor."
   ]
  },
  {
   "cell_type": "markdown",
   "id": "1336ea91",
   "metadata": {},
   "source": [
    "## Example Problem\n",
    "\n",
    "Suppose we have the following circuit:"
   ]
  },
  {
   "cell_type": "markdown",
   "id": "70924412",
   "metadata": {},
   "source": [
    "![example-circuit](https://www.allaboutcircuits.com/uploads/articles/wattmeter-true-power.png)"
   ]
  },
  {
   "cell_type": "markdown",
   "id": "3fdac5a0",
   "metadata": {},
   "source": [
    "$$ I_\\text{load} \\approx 9.615\\text{A} \\; \\text{RMS}$$\n",
    "\n",
    "And the true power is measured to be:\n",
    "$$ P \\approx 1500\\mathrm{W}$$"
   ]
  },
  {
   "cell_type": "markdown",
   "id": "4b9b4903",
   "metadata": {},
   "source": [
    "The textbook that this example was found in says that the apparent power is equal to the ammeter reading, which is approximately 9.615 amps RMS, multiplied by the voltage;  But this appears to be measureing the load current, as opposed to the total current.  Thus, the apparent power they speak of must be that of the load only.  This works since the voltage dropped across the load is equal to the source voltage."
   ]
  }
 ],
 "metadata": {
  "kernelspec": {
   "display_name": "Python 3 (ipykernel)",
   "language": "python",
   "name": "python3"
  },
  "language_info": {
   "codemirror_mode": {
    "name": "ipython",
    "version": 3
   },
   "file_extension": ".py",
   "mimetype": "text/x-python",
   "name": "python",
   "nbconvert_exporter": "python",
   "pygments_lexer": "ipython3",
   "version": "3.8.10"
  }
 },
 "nbformat": 4,
 "nbformat_minor": 5
}
