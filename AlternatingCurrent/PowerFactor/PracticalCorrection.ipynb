{
 "cells": [
  {
   "cell_type": "markdown",
   "id": "e635cd12",
   "metadata": {},
   "source": [
    "# Practical Power Factor Correction\n",
    "### *Chapter 11 - Power Factor*"
   ]
  },
  {
   "cell_type": "markdown",
   "id": "4c762412",
   "metadata": {},
   "source": [
    "When the need arises to correct for poor power factor in an AC power system, you probably won’t have the luxury of knowing the load’s exact inductance in henrys to use for your calculations.\n",
    "\n",
    "You may be fortunate enough to have an instrument called a power factor meter to tell you what the power factor is (a number between 0 and 1), and the apparent power (which can be figured by taking a voltmeter reading in volts and multiplying by an ammeter reading in amps).\n",
    "\n",
    "In less favorable circumstances, you may have to use an oscilloscope to compare voltage and current waveforms, measuring phase shift in degrees and calculating power factor by the cosine of that phase shift.\n",
    "\n",
    "Most likely, you will have access to a wattmeter for measuring true power, whose reading you can compare against a calculation of apparent power (from multiplying total voltage and total current measurements). From the values of true and apparent power, you can determine reactive power and power factor."
   ]
  },
  {
   "cell_type": "markdown",
   "id": "1336ea91",
   "metadata": {},
   "source": [
    "## Example Problem\n",
    "\n",
    "Suppose we have the following circuit:"
   ]
  },
  {
   "cell_type": "markdown",
   "id": "70924412",
   "metadata": {},
   "source": [
    "![example-circuit](https://www.allaboutcircuits.com/uploads/articles/wattmeter-true-power.png)"
   ]
  },
  {
   "cell_type": "markdown",
   "id": "3fdac5a0",
   "metadata": {},
   "source": [
    "$$ I_\\text{load} \\approx 9.615\\text{A} \\; \\text{RMS}$$\n",
    "\n",
    "And the true power is measured to be:\n",
    "$$ P \\approx 1500\\mathrm{W}$$"
   ]
  },
  {
   "cell_type": "markdown",
   "id": "4b9b4903",
   "metadata": {},
   "source": [
    "The textbook that this example was found in says that the apparent power is equal to the ammeter reading, which is approximately 9.615 amps RMS, multiplied by the source voltage;  But the ammeter appears to be measuring the load current, as opposed to the total current.  Thus, the apparent power they speak of must be that of the load only.  This works since the voltage dropped across the load is equal to the source voltage."
   ]
  },
  {
   "cell_type": "markdown",
   "id": "9e6addcd",
   "metadata": {},
   "source": [
    "We can find apparent load power ($S_\\text{load}$) via:  \n",
    "\n",
    "$$ S_\\text{load} = EI_\\text{load} \\approxeq 240\\mathrm{V} \\cdot 9.615\\mathrm{A}= 2307.6\\mathrm{VA}$$"
   ]
  },
  {
   "cell_type": "markdown",
   "id": "b485a3a7",
   "metadata": {},
   "source": [
    "Now, is the above consistent with some other equations?  Via the formula for true power,  \n",
    "\n",
    "$$ R_\\text{load} = \\frac{P}{I_\\text{load}^2} \\approxeq 16.22\\Omega $$"
   ]
  },
  {
   "cell_type": "code",
   "execution_count": 6,
   "id": "8f96eb8d",
   "metadata": {},
   "outputs": [
    {
     "data": {
      "text/plain": [
       "16.225297997879352"
      ]
     },
     "execution_count": 6,
     "metadata": {},
     "output_type": "execute_result"
    }
   ],
   "source": [
    "R_load = 1500/(9.615**2)\n",
    "R_load"
   ]
  },
  {
   "cell_type": "markdown",
   "id": "f4ef1e7a",
   "metadata": {},
   "source": [
    "Now, to find the inductive reactance and thus the total load impedance, via KVL and Ohm's Law,  \n",
    "\n",
    "$$ 16.22\\Omega \\cdot I_\\text{load} + Z_\\mathrm{L}\\cdot I_\\text{load} \\approxeq 240\\mathrm{V}$$"
   ]
  },
  {
   "cell_type": "markdown",
   "id": "08bfb911",
   "metadata": {},
   "source": [
    "Dividing throughout by $I_\\text{load}$ gives:  \n",
    "\n",
    "$$ 16.22\\Omega + j\\cdot X_\\mathrm{L} \\approxeq \\frac{240\\mathrm{V}}{I_\\text{load}}$$"
   ]
  },
  {
   "cell_type": "markdown",
   "id": "a6b836e0",
   "metadata": {},
   "source": [
    "And, since we are looking for a scalar value, we solve for $X_\\mathrm{L}$ in the equation below:  \n",
    "\n",
    "$$ \\sqrt{16.22^2\\Omega^2 + X_\\mathrm{L}^2}\\approxeq \\frac{240\\mathrm{V}\\;\\text{RMS}}{9.615\\mathrm{A}\\;\\text{RMS}}\\approxeq 24.96\\Omega$$"
   ]
  },
  {
   "cell_type": "markdown",
   "id": "b529c655",
   "metadata": {},
   "source": [
    "$$ X_\\mathrm{L}^2 \\approxeq 24.96^2\\Omega^2 - 16.22^2\\Omega^2$$"
   ]
  },
  {
   "cell_type": "markdown",
   "id": "f765991b",
   "metadata": {},
   "source": [
    "$$ X_L \\approxeq 18.97\\Omega$$"
   ]
  },
  {
   "cell_type": "code",
   "execution_count": 9,
   "id": "f3aab071",
   "metadata": {},
   "outputs": [],
   "source": [
    "import numpy as np"
   ]
  },
  {
   "cell_type": "markdown",
   "id": "330348b2",
   "metadata": {},
   "source": [
    "And the reactive power is given by:  \n",
    "\n",
    "$$ Q = I_\\text{load}^2X_\\mathrm{L} \\approxeq 1753.74\\mathrm{VAR}$$"
   ]
  },
  {
   "cell_type": "code",
   "execution_count": 12,
   "id": "6508bc37",
   "metadata": {},
   "outputs": [
    {
     "data": {
      "text/plain": [
       "1753.74282825"
      ]
     },
     "execution_count": 12,
     "metadata": {},
     "output_type": "execute_result"
    }
   ],
   "source": [
    "I_load = 9.615\n",
    "X_L = 18.97\n",
    "Q = I_load**2*X_L\n",
    "Q"
   ]
  },
  {
   "cell_type": "markdown",
   "id": "25313546",
   "metadata": {},
   "source": [
    "Via the power triangle formula, which applies Pythagorean's theorem on the power triangle,  \n",
    "\n",
    "$$ P^2+Q^2 = S_\\text{load}^2$$"
   ]
  },
  {
   "cell_type": "code",
   "execution_count": 13,
   "id": "93a5d1f4",
   "metadata": {},
   "outputs": [
    {
     "data": {
      "text/plain": [
       "2307.729166873424"
      ]
     },
     "execution_count": 13,
     "metadata": {},
     "output_type": "execute_result"
    }
   ],
   "source": [
    "np.sqrt(1500**2 + Q**2)"
   ]
  }
 ],
 "metadata": {
  "kernelspec": {
   "display_name": "Python 3",
   "language": "python",
   "name": "python3"
  },
  "language_info": {
   "codemirror_mode": {
    "name": "ipython",
    "version": 3
   },
   "file_extension": ".py",
   "mimetype": "text/x-python",
   "name": "python",
   "nbconvert_exporter": "python",
   "pygments_lexer": "ipython3",
   "version": "3.8.10"
  }
 },
 "nbformat": 4,
 "nbformat_minor": 5
}
