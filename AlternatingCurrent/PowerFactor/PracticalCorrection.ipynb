{
 "cells": [
  {
   "cell_type": "markdown",
   "id": "e635cd12",
   "metadata": {},
   "source": [
    "# Practical Power Factor Correction\n",
    "### *Chapter 11 - Power Factor*"
   ]
  },
  {
   "cell_type": "markdown",
   "id": "4c762412",
   "metadata": {},
   "source": [
    "When the need arises to correct for poor power factor in an AC power system, you probably won’t have the luxury of knowing the load’s exact inductance in henrys to use for your calculations.\n",
    "\n",
    "You may be fortunate enough to have an instrument called a power factor meter to tell you what the power factor is (a number between 0 and 1), and the apparent power (which can be figured by taking a voltmeter reading in volts and multiplying by an ammeter reading in amps).\n",
    "\n",
    "In less favorable circumstances, you may have to use an oscilloscope to compare voltage and current waveforms, measuring phase shift in degrees and calculating power factor by the cosine of that phase shift.\n",
    "\n",
    "Most likely, you will have access to a wattmeter for measuring true power, whose reading you can compare against a calculation of apparent power (from multiplying total voltage and total current measurements). From the values of true and apparent power, you can determine reactive power and power factor."
   ]
  },
  {
   "cell_type": "markdown",
   "id": "1336ea91",
   "metadata": {},
   "source": [
    "## Example Problem\n",
    "\n",
    "Suppose we have the following circuit:"
   ]
  },
  {
   "cell_type": "markdown",
   "id": "70924412",
   "metadata": {},
   "source": [
    "![example-circuit](https://www.allaboutcircuits.com/uploads/articles/wattmeter-true-power.png)"
   ]
  },
  {
   "cell_type": "markdown",
   "id": "3fdac5a0",
   "metadata": {},
   "source": [
    "$$ I_\\text{load} \\approx 9.615\\text{A} \\; \\text{RMS}$$\n",
    "\n",
    "And the true power is measured to be:\n",
    "$$ P \\approx 1500\\mathrm{W}$$"
   ]
  },
  {
   "cell_type": "markdown",
   "id": "4b9b4903",
   "metadata": {},
   "source": [
    "The textbook that this example was found in says that the apparent power is equal to the ammeter reading, which is approximately 9.615 amps RMS, multiplied by the source voltage;  But the ammeter appears to be measuring the load current, as opposed to the total current.  Thus, the apparent power they speak of must be that of the load only.  This works since the voltage dropped across the load is equal to the source voltage."
   ]
  },
  {
   "cell_type": "markdown",
   "id": "9e6addcd",
   "metadata": {},
   "source": [
    "We can find apparent load power ($S_\\text{load}$) via:  \n",
    "\n",
    "$$ S_\\text{load} = EI_\\text{load} \\approxeq 240\\mathrm{V} \\cdot 9.615\\mathrm{A}= 2307.6\\mathrm{VA}$$"
   ]
  },
  {
   "cell_type": "markdown",
   "id": "b485a3a7",
   "metadata": {},
   "source": [
    "Now, is the above consistent with some other equations?  Via the formula for true power,  \n",
    "\n",
    "$$ R_\\text{load} = \\frac{P}{I_\\text{load}^2} \\approxeq 16.22\\Omega $$"
   ]
  },
  {
   "cell_type": "code",
   "execution_count": 1,
   "id": "8f96eb8d",
   "metadata": {},
   "outputs": [
    {
     "data": {
      "text/plain": [
       "16.225297997879352"
      ]
     },
     "execution_count": 1,
     "metadata": {},
     "output_type": "execute_result"
    }
   ],
   "source": [
    "R_load = 1500/(9.615**2)\n",
    "R_load"
   ]
  },
  {
   "cell_type": "markdown",
   "id": "f4ef1e7a",
   "metadata": {},
   "source": [
    "Now, to find the inductive reactance and thus the total load impedance, via KVL and Ohm's Law,  \n",
    "\n",
    "$$ 16.22\\Omega \\cdot I_\\text{load} + Z_\\mathrm{L}\\cdot I_\\text{load} \\approxeq 240\\mathrm{V}$$"
   ]
  },
  {
   "cell_type": "markdown",
   "id": "08bfb911",
   "metadata": {},
   "source": [
    "Dividing throughout by $I_\\text{load}$ gives:  \n",
    "\n",
    "$$ 16.22\\Omega + j\\cdot X_\\mathrm{L} \\approxeq \\frac{240\\mathrm{V}}{I_\\text{load}}$$"
   ]
  },
  {
   "cell_type": "markdown",
   "id": "a6b836e0",
   "metadata": {},
   "source": [
    "And, since we are looking for a scalar value, we solve for $X_\\mathrm{L}$ in the equation below:  \n",
    "\n",
    "$$ \\sqrt{16.22^2\\Omega^2 + X_\\mathrm{L}^2}\\approxeq \\frac{240\\mathrm{V}\\;\\text{RMS}}{9.615\\mathrm{A}\\;\\text{RMS}}\\approxeq 24.96\\Omega$$"
   ]
  },
  {
   "cell_type": "markdown",
   "id": "b529c655",
   "metadata": {},
   "source": [
    "$$ X_\\mathrm{L}^2 \\approxeq 24.96^2\\Omega^2 - 16.22^2\\Omega^2$$"
   ]
  },
  {
   "cell_type": "markdown",
   "id": "f765991b",
   "metadata": {},
   "source": [
    "$$ X_L \\approxeq 18.97\\Omega$$"
   ]
  },
  {
   "cell_type": "code",
   "execution_count": 7,
   "id": "590b6e1b",
   "metadata": {},
   "outputs": [],
   "source": [
    "S = S_load = 2307.6"
   ]
  },
  {
   "cell_type": "code",
   "execution_count": 2,
   "id": "f3aab071",
   "metadata": {},
   "outputs": [],
   "source": [
    "import numpy as np"
   ]
  },
  {
   "cell_type": "markdown",
   "id": "330348b2",
   "metadata": {},
   "source": [
    "And the reactive power is given by:  \n",
    "\n",
    "$$ Q = I_\\text{load}^2X_\\mathrm{L} \\approxeq 1753.74\\mathrm{VAR}$$"
   ]
  },
  {
   "cell_type": "code",
   "execution_count": 3,
   "id": "6508bc37",
   "metadata": {},
   "outputs": [
    {
     "data": {
      "text/plain": [
       "1753.74282825"
      ]
     },
     "execution_count": 3,
     "metadata": {},
     "output_type": "execute_result"
    }
   ],
   "source": [
    "I_load = 9.615\n",
    "X_L = 18.97\n",
    "Q = I_load**2*X_L\n",
    "Q"
   ]
  },
  {
   "cell_type": "markdown",
   "id": "25313546",
   "metadata": {},
   "source": [
    "Via the power triangle formula, which applies Pythagorean's theorem on the power triangle,  \n",
    "\n",
    "$$ P^2+Q^2 = S_\\text{load}^2$$"
   ]
  },
  {
   "cell_type": "code",
   "execution_count": 4,
   "id": "93a5d1f4",
   "metadata": {},
   "outputs": [
    {
     "data": {
      "text/plain": [
       "2307.729166873424"
      ]
     },
     "execution_count": 4,
     "metadata": {},
     "output_type": "execute_result"
    }
   ],
   "source": [
    "np.sqrt(1500**2 + Q**2)"
   ]
  },
  {
   "cell_type": "markdown",
   "id": "2a178815",
   "metadata": {},
   "source": [
    "The above checks out, which means our power factor is given by:  \n",
    "\n",
    "$$ \\text{Power Factor} = \\frac{P}{S_\\text{load}} \\approxeq0.65$$"
   ]
  },
  {
   "cell_type": "markdown",
   "id": "db3d7d21",
   "metadata": {},
   "source": [
    "The power factor is rather poor, which means the amplitude of the current, and thus, the required ampacity of the conductor, is higher than it needs to be to dissipate the same amount of true power."
   ]
  },
  {
   "cell_type": "markdown",
   "id": "988ae0ef",
   "metadata": {},
   "source": [
    "## How to Correct Power Factor with a Capacitor\n",
    "\n",
    "If this load is an electric motor or most any other industrial AC load, it will have a lagging (inductive) power factor, which means that we’ll have to correct for it with a capacitor of appropriate size, wired in parallel.\n",
    "\n",
    "Now that we know the amount of reactive power ($1.754 \\mathrm{kVAR} \\approxeq 1753.74\\mathrm{VAR}$), we can calculate the size of the capacitor needed to counteract its effects:"
   ]
  },
  {
   "cell_type": "markdown",
   "id": "404b20a3",
   "metadata": {},
   "source": [
    "\\begin{equation}\\tag{1}\n",
    "    Q = \\frac{E^2}{X_\\mathrm{C}} = I_\\text{load}^2X_\\mathrm{L} \\approxeq 1753.74\\mathrm{VAR}\n",
    "\\end{equation}    "
   ]
  },
  {
   "cell_type": "markdown",
   "id": "b6c70cb3",
   "metadata": {},
   "source": [
    "\\begin{equation}\\tag{2}\n",
    "    X_\\mathrm{C} = \\frac{1}{\\omega C}\n",
    "\\end{equation}    "
   ]
  },
  {
   "cell_type": "markdown",
   "id": "0dc812ff",
   "metadata": {},
   "source": [
    "Via equation (1),  \n",
    "\n",
    "$$ X_\\mathrm{C} = \\frac{E^2}{Q} \\approxeq \\frac{240^2\\mathrm{V}^2}{1753.74\\mathrm{VAR}}\\approxeq 32.84\\Omega$$"
   ]
  },
  {
   "cell_type": "code",
   "execution_count": 5,
   "id": "b91a232f",
   "metadata": {},
   "outputs": [
    {
     "data": {
      "text/plain": [
       "32.844040227652464"
      ]
     },
     "execution_count": 5,
     "metadata": {},
     "output_type": "execute_result"
    }
   ],
   "source": [
    "240**2/Q"
   ]
  },
  {
   "cell_type": "markdown",
   "id": "7457b824",
   "metadata": {},
   "source": [
    "Via the above equation, equation (2), and substitution,  \n",
    "\n",
    "$$ C = \\frac{1}{X_\\mathrm{C}\\cdot\\omega} \\approxeq \\frac{1}{120\\pi \\mathrm{Hz} \\cdot 32.84\\Omega}\\approxeq 80.77\\mu\\mathrm{F}$$"
   ]
  },
  {
   "cell_type": "code",
   "execution_count": 6,
   "id": "ba1184f5",
   "metadata": {},
   "outputs": [
    {
     "data": {
      "text/plain": [
       "8.077291062317058e-05"
      ]
     },
     "execution_count": 6,
     "metadata": {},
     "output_type": "execute_result"
    }
   ],
   "source": [
    "C = 1/(120*np.pi*32.84)\n",
    "C"
   ]
  },
  {
   "cell_type": "markdown",
   "id": "ef2de43e",
   "metadata": {},
   "source": [
    "Below is a diagram of our circuit with a corrective capacitor with a rounded down capacitance of $80\\mu\\mathrm{F}$ in parallel with the load.  \n",
    "\n",
    "![corrected-power-factor-circuit](https://www.allaboutcircuits.com/uploads/articles/parallel-capacitor-corrects-lagging.png)"
   ]
  }
 ],
 "metadata": {
  "kernelspec": {
   "display_name": "Python 3 (ipykernel)",
   "language": "python",
   "name": "python3"
  },
  "language_info": {
   "codemirror_mode": {
    "name": "ipython",
    "version": 3
   },
   "file_extension": ".py",
   "mimetype": "text/x-python",
   "name": "python",
   "nbconvert_exporter": "python",
   "pygments_lexer": "ipython3",
   "version": "3.8.10"
  }
 },
 "nbformat": 4,
 "nbformat_minor": 5
}
