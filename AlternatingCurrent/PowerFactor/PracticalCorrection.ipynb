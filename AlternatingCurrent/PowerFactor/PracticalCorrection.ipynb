{
 "cells": [
  {
   "cell_type": "markdown",
   "id": "e635cd12",
   "metadata": {},
   "source": [
    "# Practical Power Factor Correction\n",
    "### *Chapter 11 - Power Factor*"
   ]
  },
  {
   "cell_type": "markdown",
   "id": "4c762412",
   "metadata": {},
   "source": [
    "When the need arises to correct for poor power factor in an AC power system, you probably won’t have the luxury of knowing the load’s exact inductance in henrys to use for your calculations.\n",
    "\n",
    "You may be fortunate enough to have an instrument called a power factor meter to tell you what the power factor is (a number between 0 and 1), and the apparent power (which can be figured by taking a voltmeter reading in volts and multiplying by an ammeter reading in amps).\n",
    "\n",
    "In less favorable circumstances, you may have to use an oscilloscope to compare voltage and current waveforms, measuring phase shift in degrees and calculating power factor by the cosine of that phase shift.\n",
    "\n",
    "Most likely, you will have access to a wattmeter for measuring true power, whose reading you can compare against a calculation of apparent power (from multiplying total voltage and total current measurements). From the values of true and apparent power, you can determine reactive power and power factor."
   ]
  },
  {
   "cell_type": "markdown",
   "id": "1336ea91",
   "metadata": {},
   "source": [
    "## Example Problem\n",
    "\n",
    "Suppose we have the following circuit:"
   ]
  },
  {
   "cell_type": "markdown",
   "id": "70924412",
   "metadata": {},
   "source": [
    "![example-circuit](https://www.allaboutcircuits.com/uploads/articles/wattmeter-true-power.png)"
   ]
  },
  {
   "cell_type": "markdown",
   "id": "3fdac5a0",
   "metadata": {},
   "source": [
    "$$ I_\\text{load} \\approx 9.615\\text{A} \\; \\text{RMS}$$\n",
    "\n",
    "And the true power is measured to be:\n",
    "$$ P \\approx 1500\\mathrm{W}$$"
   ]
  },
  {
   "cell_type": "markdown",
   "id": "4b9b4903",
   "metadata": {},
   "source": [
    "The textbook that this example was found in says that the apparent power is equal to the ammeter reading, which is approximately 9.615 amps RMS, multiplied by the source voltage;  But the ammeter appears to be measuring the load current, as opposed to the total current.  Thus, the apparent power they speak of must be that of the load only.  This works since the voltage dropped across the load is equal to the source voltage."
   ]
  },
  {
   "cell_type": "markdown",
   "id": "e5fd7dff",
   "metadata": {},
   "source": [
    "We can find apparent load power ($S_\\text{load}$) via:  \n",
    "\n",
    "$$ S_\\text{load} = EI_\\text{load} \\approxeq 240\\mathrm{V} \\cdot 9.615\\mathrm{A}= 2307.6\\mathrm{VA}$$"
   ]
  },
  {
   "cell_type": "markdown",
   "id": "5da6d315",
   "metadata": {},
   "source": [
    "Now, is the above consistent with some other equations?  Via the formula for true power,  \n",
    "\n",
    "$$ R_\\text{load} = \\frac{E^2}{P} = \\frac{120^2\\mathrm{V}^2}{1500\\mathrm{W}}=9.6\\Omega$$"
   ]
  },
  {
   "cell_type": "code",
   "execution_count": 3,
   "id": "6d88d4cc",
   "metadata": {},
   "outputs": [
    {
     "data": {
      "text/plain": [
       "9.6"
      ]
     },
     "execution_count": 3,
     "metadata": {},
     "output_type": "execute_result"
    }
   ],
   "source": [
    "120**2/1500"
   ]
  },
  {
   "cell_type": "markdown",
   "id": "1df3b8d1",
   "metadata": {},
   "source": [
    "Via another formula for true power,  \n",
    "\n",
    "$$ P = I_\\text{load}^2R_\\text{load} $$\n",
    "\n",
    "But,\n",
    "$$ I_\\text{load}^2R_\\text{load} \\approxeq 887.5\\mathrm{W} \\ne 1500\\mathrm{W} = P$$"
   ]
  },
  {
   "cell_type": "markdown",
   "id": "978e1c48",
   "metadata": {},
   "source": [
    "The equation given by the true power formula is inconsistent with the given values.  Either the ammeter is measuring the total current or the wattmeter is giving a false reading.  The latter is of course assumed to be false, which leaves with the former."
   ]
  },
  {
   "cell_type": "code",
   "execution_count": 4,
   "id": "5a3eec74",
   "metadata": {},
   "outputs": [],
   "source": [
    "I_load = 9.615\n",
    "P = 1500\n",
    "R_load = 9.6"
   ]
  },
  {
   "cell_type": "code",
   "execution_count": 5,
   "id": "60b642f5",
   "metadata": {},
   "outputs": [
    {
     "data": {
      "text/plain": [
       "887.50296"
      ]
     },
     "execution_count": 5,
     "metadata": {},
     "output_type": "execute_result"
    }
   ],
   "source": [
    "I_load**2*R_load"
   ]
  }
 ],
 "metadata": {
  "kernelspec": {
   "display_name": "Python 3",
   "language": "python",
   "name": "python3"
  },
  "language_info": {
   "codemirror_mode": {
    "name": "ipython",
    "version": 3
   },
   "file_extension": ".py",
   "mimetype": "text/x-python",
   "name": "python",
   "nbconvert_exporter": "python",
   "pygments_lexer": "ipython3",
   "version": "3.8.10"
  }
 },
 "nbformat": 4,
 "nbformat_minor": 5
}
