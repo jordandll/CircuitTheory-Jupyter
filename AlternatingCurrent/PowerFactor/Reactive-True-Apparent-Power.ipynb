{
 "cells": [
  {
   "cell_type": "code",
   "execution_count": 2,
   "id": "09c2e10f",
   "metadata": {},
   "outputs": [],
   "source": [
    "import numpy as np"
   ]
  },
  {
   "cell_type": "code",
   "execution_count": 5,
   "id": "4007ee83",
   "metadata": {},
   "outputs": [],
   "source": [
    "def cos(deg: float) -> float:\n",
    "    return np.cos(np.radians(deg))\n",
    "\n",
    "def sin(deg: float) -> float:\n",
    "    return np.sin(np.radians(deg))"
   ]
  },
  {
   "cell_type": "markdown",
   "id": "d24698e2",
   "metadata": {},
   "source": [
    "## Resistive/Reactive Load\n",
    "\n",
    "![resistive-reactive-load](https://www.allaboutcircuits.com/uploads/articles/true-reactive-apparent-power-for-a-purely-resistive-reactive-load.png)"
   ]
  },
  {
   "cell_type": "markdown",
   "id": "fd9c4bc7",
   "metadata": {},
   "source": [
    "An identical circuit was described by the following equations in the [first section](ResistiveAndReactive.ipynb#AC-circuit-with-a-Resistive-and-Purely-Reactive-load) of this chapter:"
   ]
  },
  {
   "cell_type": "markdown",
   "id": "7427d187",
   "metadata": {},
   "source": [
    "The reactance of the inductor and the total impedance of the circuit are given by:\n",
    "\n",
    "$$ X_\\mathrm{L} = 120\\pi\\mathrm{Hz} \\cdot 0.160\\mathrm{H} = 19.2\\pi\\,\\Omega$$"
   ]
  },
  {
   "cell_type": "markdown",
   "id": "7aec81b0",
   "metadata": {},
   "source": [
    "\\begin{align*}\n",
    "    Z &= (60+19.2\\pi j)\\,\\Omega \\\\\n",
    "     &\\approxeq (60 + 60.32j)\\,\\Omega \\\\\n",
    "     &\\approxeq 85.08\\,\\Omega\\,\\angle\\,45.15^\\circ\n",
    "\\end{align*}     "
   ]
  },
  {
   "cell_type": "code",
   "execution_count": 3,
   "id": "0a7feb37",
   "metadata": {},
   "outputs": [
    {
     "data": {
      "text/plain": [
       "60.31857894892403"
      ]
     },
     "execution_count": 3,
     "metadata": {},
     "output_type": "execute_result"
    }
   ],
   "source": [
    "19.2*np.pi"
   ]
  },
  {
   "cell_type": "markdown",
   "id": "43e55716",
   "metadata": {},
   "source": [
    "And, the current is given by:  \n",
    "\n",
    "$$ I = \\frac{120\\mathrm{V}}{Z} \\approxeq 1.41\\mathrm{A}\\,\\angle\\!-45.15^\\circ$$"
   ]
  },
  {
   "cell_type": "markdown",
   "id": "a512f01f",
   "metadata": {},
   "source": [
    "As for (apparent) power, denoted as '$S$':  \n",
    "\n",
    "$$ S = IE \\approxeq 120\\mathrm{V}\\,\\sin(\\omega t) \\cdot 1.41\\mathrm{A}\\,\\sin\\big(\\omega t - 45.15^\\circ \\big)$$"
   ]
  },
  {
   "cell_type": "markdown",
   "id": "16d0d66d",
   "metadata": {},
   "source": [
    "Via the above equation, equation (3) from the [Trigonometry](/notebooks/Math/Trigonometry.ipynb) notebook, and substitution,  \n",
    "\n",
    "\\begin{align*}\n",
    "    S &\\approxeq 120\\mathrm{V}\\cdot1.41\\mathrm{A}\\cdot\\sin(\\omega t) \\,\\big(\\sin(\\omega t)\\,\\cos45.15^\\circ \\:-\\: \\cos(\\omega t)\\,\\sin45.15^\\circ \\big) \\\\\n",
    "     &\\approxeq 169.2\\mathrm{W}\\,\\big(0.705\\,\\sin^2(\\omega t) - 0.709\\,\\sin(\\omega t)\\cos(\\omega t)\\big) \\\\\n",
    "     &\\approxeq 169.2\\mathrm{W}\\,\\big(0.705\\,\\sin^2(\\omega t) - 0.354\\,\\sin(2\\omega t)\\big) \\\\\n",
    "     &\\approxeq 169.2\\mathrm{W}\\,\\Big(0.353\\,\\big(1 - \\cos(2\\omega t)\\big) \\:-\\:0.354\\,\\sin(2\\omega t)\\Big) \n",
    "\\end{align*}     "
   ]
  },
  {
   "cell_type": "code",
   "execution_count": 7,
   "id": "65c01d8b",
   "metadata": {},
   "outputs": [
    {
     "data": {
      "text/plain": [
       "119.368108927009"
      ]
     },
     "execution_count": 7,
     "metadata": {},
     "output_type": "execute_result"
    }
   ],
   "source": [
    "120**2*cos(45.15)/np.sqrt(60**2 + (19.2*np.pi)**2)"
   ]
  },
  {
   "cell_type": "code",
   "execution_count": 8,
   "id": "472b06e0",
   "metadata": {},
   "outputs": [
    {
     "data": {
      "text/plain": [
       "119.99476088646807"
      ]
     },
     "execution_count": 8,
     "metadata": {},
     "output_type": "execute_result"
    }
   ],
   "source": [
    "120**2*sin(45.15)/np.sqrt(60**2 + (19.2*np.pi)**2)"
   ]
  },
  {
   "cell_type": "markdown",
   "id": "22993167",
   "metadata": {},
   "source": [
    "More generally speaking,  \n",
    "\n",
    "$$ S = |E||I|\\,\\sin(\\omega t)\\,\\big(\\sin(\\omega t)\\,\\cos\\theta \\:+\\: \\cos(\\omega t)\\,\\sin\\theta\\big)$$"
   ]
  },
  {
   "cell_type": "markdown",
   "id": "c1726fa9",
   "metadata": {},
   "source": [
    "Here, '$\\theta$' denotes the phase angle of the current ($I$)."
   ]
  },
  {
   "cell_type": "markdown",
   "id": "f53ae9de",
   "metadata": {},
   "source": [
    "Via the above equation in conjunction with the identities of both the true power ($P$) and the reactive power ($Q$),"
   ]
  },
  {
   "cell_type": "markdown",
   "id": "9481a5dc",
   "metadata": {},
   "source": [
    "\\begin{align*}\n",
    "    S &= P\\,\\sin(\\omega t) + Q\\,\\cos(\\omega t) \\\\ \n",
    "     &= |P|\\,\\sin^2(\\omega t) + |Q|\\,\\sin(\\omega t)\\cos(\\omega t) \\\\\n",
    "     &= 0.5\\,\\Big(|P|\\,\\big(1 - \\cos(2\\omega t)\\big) + |Q|\\,\\sin(2\\omega t) \\Big) \\\\\n",
    "     &= 0.5\\,\\Big(|P| - |P|\\sin\\big(2\\omega t + 90^\\circ\\big) + |Q|\\,\\sin(2\\omega t) \\Big)\n",
    "\\end{align*}     "
   ]
  },
  {
   "cell_type": "markdown",
   "id": "64cc0be7",
   "metadata": {},
   "source": [
    "In terms of scalar values,  \n",
    "\n",
    "\\begin{align*}\n",
    "    |S| &= |E||I| \\approxeq 169.2\\mathrm{VA} \\\\\n",
    "    |P| &= |S|\\cos\\theta \\approxeq 119.37 \\mathrm{W}\\\\\n",
    "    |Q| &= |S|\\sin\\theta \\approxeq 119.99 \\mathrm{VAR}\n",
    "\\end{align*}    "
   ]
  },
  {
   "cell_type": "markdown",
   "id": "2f08cef5",
   "metadata": {},
   "source": [
    "As for vector values,"
   ]
  },
  {
   "cell_type": "markdown",
   "id": "0c153226",
   "metadata": {},
   "source": [
    "$$ P:=P(t) = |P|\\sin(\\omega t)$$\n",
    "\n",
    "$$ Q:=Q(t) = |Q|\\sin(\\omega t)$$"
   ]
  },
  {
   "cell_type": "markdown",
   "id": "6c254b80",
   "metadata": {},
   "source": [
    "Now, more specifically,\n",
    "\n",
    "$$ S \\approxeq 59.73\\mathrm{W}\\,\\big(1 - \\sin\\big(2\\omega t + 90^\\circ \\big) - \\sin(2\\omega t)\\big)$$"
   ]
  },
  {
   "cell_type": "markdown",
   "id": "7d76b121",
   "metadata": {},
   "source": [
    "The Fourier Transform of $S$ has a dc component or level of $59.73\\mathrm{W}$, wihch gives the center line of the wave, assuming a symmetric waveform, and one harmonic that can be expressed as a complex number.  \n",
    "\n",
    "$$H_1\\approxeq -59.73\\mathrm{W}\\,(1 + j)= -59.73\\mathrm{W}\\sqrt{2}\\,\\angle\\,45^\\circ\\approxeq -84.47\\mathrm{W}\\,\\angle\\,45^\\circ$$"
   ]
  },
  {
   "cell_type": "markdown",
   "id": "23d490e8",
   "metadata": {},
   "source": [
    "The apparent power as a function of time can be expressed in real terms as:  \n",
    "\n",
    "\\begin{align*}\n",
    "    S:=S(t) &\\approxeq 59.73\\mathrm{W} - 59.73\\mathrm{W}\\sqrt{2}\\,\\sin\\big(2\\omega t + 45^\\circ\\big) \\\\\n",
    "     &= 59.73\\mathrm{W}\\,\\Big(1 - \\sqrt{2}\\,\\sin\\big(2\\omega t + 45^\\circ\\big) \\Big)\n",
    "\\end{align*}"
   ]
  },
  {
   "cell_type": "markdown",
   "id": "7a1ec619",
   "metadata": {},
   "source": [
    "**In general**, assuming a sine wave, the DC level is equal to $0.5|P|$.  Furthermore, the smaller the DC level is, the more power is given back to the system, which means less energy is needed to rotate the shaft of the generator, assuming the power supply actually is a generator.  What's more, the relationship mentioned in the previous section of this chapter between $\\theta$ and the ratio between the power absorbed by the load and the power released back into the system by the load is that the closer the complex number representation of either the impedance or the current is to the imaginary axis, the smaller the DC level is, which implies less power absorbtion.  This relationship is illustrated in the next section of this notebook."
   ]
  },
  {
   "cell_type": "markdown",
   "id": "1393657b",
   "metadata": {},
   "source": [
    "Again, assuming a sine wave, the first and only harmonic of the Fourier Transform of $S$ is, in complex number form, \n",
    "\n",
    "\\begin{align*}\n",
    "    H_1 &= -0.5\\,\\big(|Q|\\angle\\,0^\\circ + |P|\\angle\\,90^\\circ \\big) \\\\\n",
    "     &= -0.5(|Q| + j|P|) \\\\\n",
    "     &= -0.5|S|\\,(\\sin\\theta + j\\,\\cos\\theta)\n",
    "\\end{align*}     "
   ]
  },
  {
   "cell_type": "markdown",
   "id": "6cbe60bb",
   "metadata": {},
   "source": [
    "Thus,\n",
    "\n",
    "$$ H_1 = -0.5|S|\\angle\\big(90^\\circ - \\theta \\big)$$"
   ]
  }
 ],
 "metadata": {
  "kernelspec": {
   "display_name": "Python 3",
   "language": "python",
   "name": "python3"
  },
  "language_info": {
   "codemirror_mode": {
    "name": "ipython",
    "version": 3
   },
   "file_extension": ".py",
   "mimetype": "text/x-python",
   "name": "python",
   "nbconvert_exporter": "python",
   "pygments_lexer": "ipython3",
   "version": "3.8.10"
  }
 },
 "nbformat": 4,
 "nbformat_minor": 5
}
