{
 "cells": [
  {
   "cell_type": "markdown",
   "id": "5b35fb9c",
   "metadata": {},
   "source": [
    "# Root Mean Squared (RMS)"
   ]
  },
  {
   "cell_type": "markdown",
   "id": "ed31a81b",
   "metadata": {},
   "source": [
    "Suppose we have an AC power supply with a voltage of $E:=E(t)$, where $E(t)$ is a periodic function with a period of $p$ and a half-period of $L$.\n",
    "\n",
    "$$ L = 0.5p$$"
   ]
  },
  {
   "cell_type": "markdown",
   "id": "5cbd8109",
   "metadata": {},
   "source": [
    "The root mean square (RMS) of $E(t)$, denoted as '$E_\\mathrm{RMS}$', is given by:\n",
    "\n",
    "\\begin{equation}\\tag{1}\n",
    "\\label{eq:rms}\n",
    "    E_\\mathrm{RMS} = \\sqrt{\\frac{\\int_0^L E^2 \\, \\mathrm{d}t}{L}}\n",
    "\\end{equation}    "
   ]
  },
  {
   "cell_type": "markdown",
   "id": "c1965057",
   "metadata": {},
   "source": [
    "Basically, it is defined as the square root of the mean value of $E^2$ over a half period of $E^2$, which is assumed to be equal to $L$, the half period of $E(t)$."
   ]
  },
  {
   "cell_type": "markdown",
   "id": "b74026d8",
   "metadata": {},
   "source": [
    "## Relation to Power"
   ]
  },
  {
   "cell_type": "markdown",
   "id": "b00fe873",
   "metadata": {},
   "source": [
    "Recall that the power is given by:\n",
    "\n",
    "\\begin{equation}\\tag{2}\n",
    "\\label{eq:power}\n",
    "    P:= P(t) = IE = \\frac{E^2}{R} = I^2R\n",
    "\\end{equation}    "
   ]
  },
  {
   "cell_type": "markdown",
   "id": "e00b753d",
   "metadata": {},
   "source": [
    "Via the above equation:\n",
    "\n",
    "$$ \\int E^2 \\, \\mathrm{d}t = R\\int P(t) \\cdot \\mathrm{d}t = \\frac{1}{R}\\int I^2 \\, \\mathrm{d}t$$"
   ]
  },
  {
   "cell_type": "markdown",
   "id": "fda61382",
   "metadata": {},
   "source": [
    "Thus,\n",
    "\\begin{equation}\\tag{3}\n",
    "    \\int_0^L E^2 \\cdot \\mathrm{d}t = R\\int_0^L P(t) \\cdot \\mathrm{d}t = \\frac{1}{R} \\int_0^L I^2\\,\\mathrm{d}t\n",
    "\\end{equation}    "
   ]
  },
  {
   "cell_type": "markdown",
   "id": "3fa178dc",
   "metadata": {},
   "source": [
    "Via the above equation, equation (1), and substitution,\n",
    "\n",
    "\\begin{equation}\\tag{1.a}\n",
    "\\label{eq:rms-power}\n",
    "    E_\\mathrm{RMS} = \\sqrt{\\frac{R}{L} \\, \\int_0^L P(t) \\cdot \\mathrm{d}t}\n",
    "\\end{equation}    "
   ]
  },
  {
   "cell_type": "markdown",
   "id": "ea086ffd",
   "metadata": {},
   "source": [
    "## Relation to Current\n",
    "\n",
    "Via equations (3) and (1.a) in conjunction with substitution,\n",
    "\n",
    "\\begin{equation}\\tag{1.b}\n",
    "\\label{eq:rms-current}\n",
    "    E_\\mathrm{RMS} = \\sqrt{\\frac{1}{RL} \\int_0^L I^2 \\cdot \\mathrm{d}t}\n",
    "\\end{equation}    "
   ]
  },
  {
   "cell_type": "markdown",
   "id": "3757acd7",
   "metadata": {},
   "source": [
    "## Examples"
   ]
  },
  {
   "cell_type": "markdown",
   "id": "f255cf35",
   "metadata": {},
   "source": [
    "### Simple Sine Wave\n",
    "\n",
    "Suppose that a sine waveform given by:\n",
    "$$ E:=E(t) = 5 \\mathrm{V}\\sin t$$"
   ]
  },
  {
   "cell_type": "markdown",
   "id": "226d1804",
   "metadata": {},
   "source": [
    "This voltage signal has a period and half-period of:\n",
    "\n",
    "\\begin{align*}\n",
    "    p &= 2\\pi \\,\\mathrm{s} \\\\\n",
    "    L &= 0.5p = \\pi \\,\\mathrm{s}\n",
    "\\end{align*}    "
   ]
  },
  {
   "cell_type": "markdown",
   "id": "832e1f7c",
   "metadata": {},
   "source": [
    "The primitive integral of $E^2$ is:\n",
    "\n",
    "$$ \\int E^2 \\cdot \\mathrm{d}t = 25\\mathrm{V}^2 \\int \\sin^2t \\cdot \\mathrm{d}t$$"
   ]
  },
  {
   "cell_type": "markdown",
   "id": "e20bce86",
   "metadata": {},
   "source": [
    "Via equation (5) in the [Trigonometry](../../Math/Trigonometry.ipynb) chapter,"
   ]
  },
  {
   "cell_type": "markdown",
   "id": "03ffc599",
   "metadata": {},
   "source": [
    "$$ \\int E^2 \\cdot \\mathrm{d}t = 0.5\\cdot25\\mathrm{V}^2 \\left( \\int 1 \\, \\mathrm{d}t - \\int \\cos 2t \\, \\mathrm{d}t \\right) $$"
   ]
  },
  {
   "cell_type": "markdown",
   "id": "eba7ce06",
   "metadata": {},
   "source": [
    "$$ \\int E^2 \\cdot \\mathrm{d}t = 0.5 \\cdot 25 \\mathrm{V}^2 \\big(t - 0.5 \\sin 2t\\big) + K$$"
   ]
  },
  {
   "cell_type": "markdown",
   "id": "5260c605",
   "metadata": {},
   "source": [
    "Where $K\\in\\mathbb{R}$ is an arbitrary constant."
   ]
  },
  {
   "cell_type": "markdown",
   "id": "0b4bb1f7",
   "metadata": {},
   "source": [
    "Now, let $\\mathrm{f}(t)$ be defined as:\n",
    "\n",
    "$$ \\mathrm{f}(t):=\\int E^2 \\cdot \\mathrm{d} t$$"
   ]
  },
  {
   "cell_type": "markdown",
   "id": "8b7e5f4b",
   "metadata": {},
   "source": [
    "Via the above equation and equation (1) of this chapter,\n",
    "\n",
    "$$ E_\\mathrm{RMS} = \\sqrt{\\frac{f(L) - f(0)}{L}}$$"
   ]
  },
  {
   "cell_type": "markdown",
   "id": "d21f82e9",
   "metadata": {},
   "source": [
    "$$ f(L) = 0.5 \\cdot 25\\mathrm{V}^2  \\big(\\pi - 0 \\big) + K = 0.5\\cdot25L\\mathrm{V}^2 + K$$"
   ]
  },
  {
   "cell_type": "markdown",
   "id": "d8fa12ab",
   "metadata": {},
   "source": [
    "$$ f(0) = K$$"
   ]
  },
  {
   "cell_type": "markdown",
   "id": "aa0d1a63",
   "metadata": {},
   "source": [
    "Thus,\n",
    "$$ E_\\mathrm{RMS} = \\sqrt{0.5 \\cdot 5^2 \\mathrm{V}^2} = 5\\sqrt{0.5} \\, \\mathrm{V}$$"
   ]
  },
  {
   "cell_type": "code",
   "execution_count": 1,
   "id": "6167e387",
   "metadata": {},
   "outputs": [
    {
     "data": {
      "text/plain": [
       "3.5355339059327378"
      ]
     },
     "execution_count": 1,
     "metadata": {},
     "output_type": "execute_result"
    }
   ],
   "source": [
    "from math import sqrt\n",
    "5*sqrt(0.5)"
   ]
  },
  {
   "cell_type": "markdown",
   "id": "9d085ffb",
   "metadata": {},
   "source": [
    "### General Sine Wave\n",
    "\n",
    "Suppose we have a generic sine waveform given by:\n",
    "\n",
    "$$ \\mathbf{E}:=\\mathbf{E}(t) = E \\cdot \\sin \\omega t$$"
   ]
  },
  {
   "cell_type": "markdown",
   "id": "218f3c46",
   "metadata": {},
   "source": [
    "Let $\\mathrm{f}(t)$ be defined as the primitive integral of $\\mathbf{E}^2$, which is given by:\n",
    "\n",
    "$$ \\mathrm{f}(t) := \\int \\mathbf{E}^2\\,\\mathrm{d}t = E^2\\int \\sin^2\\omega t \\cdot \\mathrm{d}t$$"
   ]
  },
  {
   "cell_type": "markdown",
   "id": "1d7b45fd",
   "metadata": {},
   "source": [
    "Via equation (5) of the aforementioned Trig. chapter,\n",
    "\n",
    "$$ \\mathrm{f}(t) = 0.5E^2 \\left( \\int 1 \\, \\mathrm{d}t - \\int \\cos 2\\omega t \\cdot \\mathrm{d}t \\right)$$"
   ]
  },
  {
   "cell_type": "markdown",
   "id": "794cef77",
   "metadata": {},
   "source": [
    "$$ \\mathrm{f}(t) = 0.5E^2 \\left( t - \\frac{1}{2\\omega} \\, \\sin 2\\omega t \\right) + K$$"
   ]
  },
  {
   "cell_type": "markdown",
   "id": "986acf34",
   "metadata": {},
   "source": [
    "Via the above equation and equation (1) of this chapter,\n",
    "\n",
    "$$ E_\\mathrm{RMS} = \\sqrt{\\frac{\\mathrm{f}(L) - \\mathrm{f}(0)}{L}}$$"
   ]
  },
  {
   "cell_type": "markdown",
   "id": "14e2037b",
   "metadata": {},
   "source": [
    "Here, $L$ is the half-period of $\\mathbf{E}(t)$ and is given by:\n",
    "\n",
    "$$ L = 0.5p = \\frac{1}{2f} $$"
   ]
  },
  {
   "cell_type": "markdown",
   "id": "ba32a20f",
   "metadata": {},
   "source": [
    "The frequency ($f$) is of course given by:\n",
    "\n",
    "$$ \\omega = 2\\pi f$$\n",
    "\n",
    "$$f = \\frac{\\omega}{2\\pi} $$"
   ]
  },
  {
   "cell_type": "markdown",
   "id": "9a747212",
   "metadata": {},
   "source": [
    "Thus,\n",
    "$$ L = \\frac{1}{2} \\, \\frac{2\\pi}{\\omega} = \\frac{\\pi}{\\omega}$$"
   ]
  },
  {
   "cell_type": "markdown",
   "id": "b4cf2502",
   "metadata": {},
   "source": [
    "$$ \\mathrm{f}(L) = 0.5E^2\\big(L - 0\\big) + K$$"
   ]
  },
  {
   "cell_type": "markdown",
   "id": "1ceba37b",
   "metadata": {},
   "source": [
    "$$ \\mathrm{f}(0) = K$$"
   ]
  },
  {
   "cell_type": "markdown",
   "id": "9a1df795",
   "metadata": {},
   "source": [
    "Finally,\n",
    "$$ E_\\mathrm{RMS} = \\sqrt{0.5E^2} = E\\sqrt{0.5}$$"
   ]
  },
  {
   "cell_type": "markdown",
   "id": "e4d3f22c",
   "metadata": {},
   "source": [
    "In conlusion, when the waveform is a sine wave, the magnitude (a.k.a amplitude) of said waveform, denoted as '$E$', is given by:\n",
    "\n",
    "\\begin{equation}\\tag{4}\n",
    "    E = \\frac{E_\\mathrm{RMS}}{\\sqrt{0.5}} = E_\\mathrm{RMS}\\sqrt{2}\n",
    "\\end{equation}    "
   ]
  },
  {
   "cell_type": "markdown",
   "id": "79b260da",
   "metadata": {},
   "source": [
    "The frequency and thus the angular velocity of the waveform can be ignored when trying to find the magnitude assuming the RMS of the waveform is given."
   ]
  }
 ],
 "metadata": {
  "kernelspec": {
   "display_name": "Python 3",
   "language": "python",
   "name": "python3"
  },
  "language_info": {
   "codemirror_mode": {
    "name": "ipython",
    "version": 3
   },
   "file_extension": ".py",
   "mimetype": "text/x-python",
   "name": "python",
   "nbconvert_exporter": "python",
   "pygments_lexer": "ipython3",
   "version": "3.8.10"
  }
 },
 "nbformat": 4,
 "nbformat_minor": 5
}
