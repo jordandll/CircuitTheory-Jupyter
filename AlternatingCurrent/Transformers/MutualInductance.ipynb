{
 "cells": [
  {
   "cell_type": "markdown",
   "id": "a4ea4bb3",
   "metadata": {},
   "source": [
    "# Mutual Inductance\n",
    "\n",
    "Suppose we have an inductor with an iron core (Figure (A)).\n",
    "![Figure-A](https://www.allaboutcircuits.com/uploads/articles/insulated-winding-on-ferromagnetic-loop.jpg)\n",
    "\n",
    "The relationship between the voltage running across the inductor and the magnetic flux is described by the equation below.\n",
    "\n",
    "\\begin{equation}\\tag{1}\n",
    "\\label{eq:e}\n",
    "    e = N \\frac{d\\Phi}{dt}\n",
    "\\end{equation}\n",
    "\n",
    "Example chart:\n",
    "![Ex-Chart](https://www.allaboutcircuits.com/uploads/articles/sinusoidal-voltage-source-lags-the-voltage-wave2.jpg)"
   ]
  },
  {
   "cell_type": "markdown",
   "id": "f3871dd5",
   "metadata": {},
   "source": [
    "Due to its function in providing a magnetizing force (mmf) for the core, this current is sometimes referred to as the magnetizing current.\n",
    "\n",
    "It should be mentioned that the current through an iron-core inductor is not perfectly sinusoidal (sine-wave shaped), due to the nonlinear B/H magnetization curve of iron.\n",
    "\n",
    "In fact, if the inductor is cheaply built, using as little iron as possible, the magnetic flux density might reach high levels (approaching saturation), resulting in a magnetizing current waveform that looks something like the figure below:\n",
    "\n",
    "![saturation-effect](https://www.allaboutcircuits.com/uploads/articles/distorted-magnetizing-current-waveform2.jpg)"
   ]
  },
  {
   "cell_type": "markdown",
   "id": "10d74420",
   "metadata": {},
   "source": [
    "To explain the above effect, recall that:\n",
    "\n",
    "\\begin{equation}\\tag{2}\n",
    "\\label{eq:mmf}\n",
    "    \\text{mmf} = \\mathfrak{R}\\Phi = \\frac{l}{\\mu A}\\Phi\n",
    "\\end{equation}\n",
    "\n",
    "\\begin{equation}\\tag{3}\n",
    "\\label{eq:H}\n",
    "    H = \\frac{\\text{mmf}}{l}\n",
    "\\end{equation}\n",
    "\n",
    "\\begin{equation}\\tag{4}\n",
    "\\label{eq:B}\n",
    "    B = \\frac{\\Phi}{A}\n",
    "\\end{equation}"
   ]
  },
  {
   "cell_type": "markdown",
   "id": "b6301ba9",
   "metadata": {},
   "source": [
    "Equaton (3) can be rewritten as:\n",
    "$$ H = \\frac{\\Phi}{\\mu A}$$"
   ]
  },
  {
   "cell_type": "markdown",
   "id": "cad1d359",
   "metadata": {},
   "source": [
    "Via the above equation an equation (4), in conjunction with substitution,\n",
    "\n",
    "$$ H = \\frac{B}{\\mu}$$\n",
    "\n",
    "$$ B = \\mu H$$"
   ]
  },
  {
   "cell_type": "markdown",
   "id": "978fd3c9",
   "metadata": {},
   "source": [
    "![HvsB](https://www.allaboutcircuits.com/uploads/articles/mathematical-relationship-between-field-force-and-flux.jpg)"
   ]
  },
  {
   "cell_type": "markdown",
   "id": "435100bb",
   "metadata": {},
   "source": [
    "When $H$, which is analogous to $e$, is outisde it's saturation zone the curve is steeper, implying that $B$, which is analogous to $i$, has a higher response rate to $H$ in this zone.  And when the curve is in it's saturation zone, the opposite is true;  The flux density ($B$) responds to $H$ at a lower rate.  \n",
    "\n",
    "The relationship between $B$ and $H$ for a particular material is reflected in the plot of $e$, $\\Phi$, and $i$ found above.  As $e$ gets closer to zero, the rate of change of $i$ gets large.  And, as $e$ gets closer to it's min and max values (i.e. gets closer to it's max absolute value), both of which corresponds to a higher field intensity ($H$), the rate of change of $i$ gets smaller, corresponding to a smaller rate of change between $B$ and $H$."
   ]
  },
  {
   "cell_type": "markdown",
   "id": "c821c8d1",
   "metadata": {},
   "source": [
    "### Magnetomotive Force\n",
    "\n",
    "Recall that:\n",
    "\\begin{equation}\\tag{5}\n",
    "\\label{eq:e-in-i}\n",
    "    e = L \\frac{di}{dt}\n",
    "\\end{equation}\n",
    "\n",
    "\\begin{equation}\\tag{6}\n",
    "\\label{eq:L}\n",
    "    L = \\frac{N^2\\mu A}{l}\n",
    "\\end{equation}\n",
    "Where,\n",
    "* $N$ is the number of turns or cycles in the coil;\n",
    "* $A$ is the cross sectional area of the coil (in meters);\n",
    "* $l$ is the average length of each turn or cycle (in meters);\n",
    "* $\\mu$ is the permeability of the core (absolute, not relative)."
   ]
  },
  {
   "cell_type": "markdown",
   "id": "18d2bf30",
   "metadata": {},
   "source": [
    "Via the above two equations, equation(1), and equivalence principle,\n",
    "$$ \\frac{N\\mu A}{l} i = \\Phi$$"
   ]
  },
  {
   "cell_type": "markdown",
   "id": "765f7b86",
   "metadata": {},
   "source": [
    "Multiplying throughout the above equation by $\\mu A / l$ gives, in conjunction with equation (2) and substitution,\n",
    "$$ N i = \\text{mmf}$$"
   ]
  },
  {
   "cell_type": "markdown",
   "id": "e9e630c1",
   "metadata": {},
   "source": [
    "## Simple Transformer Action\n",
    "\n",
    "![example-1](https://www.allaboutcircuits.com/uploads/articles/spice-circuit-for-coupled-inductors.jpg)"
   ]
  },
  {
   "cell_type": "markdown",
   "id": "cdf3939b",
   "metadata": {},
   "source": [
    "The following assumes a coefficient of magnetic couple of $k=0.999$ and a frequency of $f = 60 \\text{Hz}$."
   ]
  },
  {
   "cell_type": "markdown",
   "id": "fdb57abe",
   "metadata": {},
   "source": [
    "Via equation (1),\n",
    "$$ e_1 = N_1 \\Phi_1'(t)$$\n",
    "\\begin{equation}\\tag{7}\n",
    "\\label{eq:e_1}\n",
    "    \\int e_1 \\cdot dt = N_1 \\Phi_1\n",
    "\\end{equation}    \n",
    "\n",
    "$$ e_1 = L i_1'(t)$$\n",
    "$$ \\int e_1 \\cdot dt = L_1 i_1$$\n",
    "\n",
    "Via the above two equation and equivalence principle,\n",
    "$$ L_1 i_i = N_1 \\Phi_1$$\n",
    "\n",
    "$$ L_1 = \\frac{N_1\\Phi_1}{i_1}$$"
   ]
  },
  {
   "cell_type": "markdown",
   "id": "958b8d98",
   "metadata": {},
   "source": [
    "And, for the second coil:\n",
    "$$ \\int e_2 \\cdot dt = N_2 \\Phi_2 = kN_1 \\Phi_1 $$"
   ]
  },
  {
   "cell_type": "markdown",
   "id": "91c732e2",
   "metadata": {},
   "source": [
    "Via the above equation, equation (7), and substitution,\n",
    "$$ \\int e_2 \\cdot dt = k \\cdot \\int e_1 \\cdot dt$$\n",
    "\n",
    "Differentiating throughout with respect to $t$ gives,\n",
    "$$ e_2 = k e_1 = 0.999 e_1 = 9.99 \\text{V} \\angle 0 = 9.99 \\text{V}$$"
   ]
  },
  {
   "cell_type": "markdown",
   "id": "b3d5dd3e",
   "metadata": {},
   "source": [
    "Via KVL and Ohm's Law,\n",
    "$$ V_R = e_2 = 1000 \\Omega i_2 $$\n",
    "\n",
    "$$ i_2 = \\frac{9.99\\text{V}}{1000\\Omega} = 9.99 \\text{mA} \\angle 0$$"
   ]
  },
  {
   "cell_type": "markdown",
   "id": "abc952df",
   "metadata": {},
   "source": [
    "Via a law of mutual induction,\n",
    "$$ e_2 = M \\frac{di_1}{dt}$$\n",
    "\n",
    "where\n",
    "$$ M = k\\sqrt{L_1L_2} = k \\cdot 100 \\text{H} = 99.9 \\text{H}$$"
   ]
  },
  {
   "cell_type": "markdown",
   "id": "5c892c63",
   "metadata": {},
   "source": [
    "Thus,\n",
    "$$ e_2 = k Z_1 i_1$$\n",
    "\n",
    "where\n",
    "$$ Z_1 = X_1 \\angle 0.5\\pi $$\n",
    "$$ X_1 = 2\\pi f L_1$$\n",
    "\n",
    "\n",
    "$$ i_1 = \\frac{e_2}{k Z_1}$$"
   ]
  },
  {
   "cell_type": "code",
   "execution_count": 1,
   "id": "44d198d1",
   "metadata": {},
   "outputs": [
    {
     "data": {
      "text/plain": [
       "0.0002652582384864922"
      ]
     },
     "execution_count": 1,
     "metadata": {},
     "output_type": "execute_result"
    }
   ],
   "source": [
    "import numpy as np\n",
    "f = 60; k = 0.999; L_1 = 100\n",
    "X_1 = 2 * np.pi * f * L_1\n",
    "\n",
    "mag_i_1 = 9.99 / (k * X_1)\n",
    "mag_i_1"
   ]
  },
  {
   "cell_type": "markdown",
   "id": "8e9f7ae0",
   "metadata": {},
   "source": [
    "$$i_1 = 0.265 \\text{mA} \\angle -0.5\\pi$$"
   ]
  }
 ],
 "metadata": {
  "kernelspec": {
   "display_name": "Python 3",
   "language": "python",
   "name": "python3"
  },
  "language_info": {
   "codemirror_mode": {
    "name": "ipython",
    "version": 3
   },
   "file_extension": ".py",
   "mimetype": "text/x-python",
   "name": "python",
   "nbconvert_exporter": "python",
   "pygments_lexer": "ipython3",
   "version": "3.8.10"
  }
 },
 "nbformat": 4,
 "nbformat_minor": 5
}
