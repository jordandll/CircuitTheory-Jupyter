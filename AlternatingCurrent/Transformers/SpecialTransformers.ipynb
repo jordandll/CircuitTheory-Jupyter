{
 "cells": [
  {
   "cell_type": "markdown",
   "id": "c2ac8d8d",
   "metadata": {},
   "source": [
    "# Special Transformers and Applications\n",
    "\n",
    "### Chapter 9 - Transformers "
   ]
  },
  {
   "cell_type": "markdown",
   "id": "08a041fd",
   "metadata": {},
   "source": [
    "## Impedance Matching\n",
    "\n",
    "Because transformers can step voltage and current to different levels, and because power is transferred equivalently between primary and secondary windings, they can be used to “convert” the impedance of a load to a different level. That last phrase deserves some explanation, so let’s investigate what it means.\n",
    "\n",
    "The purpose of a load (usually) is to do something productive with the power it dissipates. In the case of a resistive heating element, the practical purpose for the power dissipated is to heat something up.\n",
    "\n",
    "Loads are engineered to safely dissipate a certain maximum amount of power, but two\n",
    "loads of equal power ratings are not necessarily identical. Consider these two 1000 watt resistive heating elements:"
   ]
  },
  {
   "cell_type": "markdown",
   "id": "8cb1c703",
   "metadata": {},
   "source": [
    "![1000W-load](https://www.allaboutcircuits.com/uploads/articles/two-1000-watt-resistive-heating-elements.jpg)"
   ]
  },
  {
   "cell_type": "markdown",
   "id": "e3dbe917",
   "metadata": {},
   "source": [
    "*Heating elements dissipate 1000 watts, at different voltage and current ratings.*"
   ]
  },
  {
   "cell_type": "markdown",
   "id": "04234dbe",
   "metadata": {},
   "source": [
    "Both heaters dissipate exactly 1000 watts of power, but they do so at different voltage and current levels (either 250 volts and 4 amps, or 125 volts and 8 amps). Using Ohm’s Law to determine the necessary resistance of these heating elements ($R=E/I$), we arrive at figures of 62.5 Ω and 15.625 Ω, respectively.\n",
    "\n",
    "If these are AC loads, we might refer to their opposition to current in terms of impedance rather than plain resistance, although in this case, that’s all they’re composed of (no reactance). The 250-volt heater would be said to be a higher impedance load than the 125-volt heater.\n",
    "\n",
    "If we desire to operate the 250-volt heater element directly on a 125-volt power system, we would end up being disappointed. With 62.5 Ω of impedance (resistance), the current would only be 2 amps ($I=E\\div R$; $125\\div62.5$), and the power dissipation would only be 250 watts (P=IE; 125 x 2), or one-quarter of its rated power.\n",
    "\n",
    "The impedance of the heater and the voltage of our source would be mismatched, and we couldn’t obtain the full rated power dissipation from the heater.\n",
    "\n",
    "All hope is not lost, though. With a step-up transformer, we could operate the 250 volt heater element on the 125 volt power system like the Figure below."
   ]
  },
  {
   "cell_type": "markdown",
   "id": "cebc3b9e",
   "metadata": {},
   "source": [
    "![impedance-mathed](https://www.allaboutcircuits.com/uploads/articles/heater-element-on-the-125-volt-power-system.jpg)"
   ]
  },
  {
   "cell_type": "markdown",
   "id": "18418eed",
   "metadata": {},
   "source": [
    "*Step-up transformer operates 1000 watt 250 V heater from 125 V power source.*"
   ]
  },
  {
   "cell_type": "markdown",
   "id": "a5d4a5cf",
   "metadata": {},
   "source": [
    "### Question\n",
    "\n",
    "How do we find the appropriate voltage transformation ratio to ensure a load power dissapation of $P_L:=P_\\mathrm{load} = 1000 \\,\\mathrm{W}$ given a load of $R:=R_\\mathrm{load}=62.5 \\,\\Omega$ and an AC power supply of $E_\\mathrm{p}=125\\,\\mathrm{V}$?"
   ]
  },
  {
   "cell_type": "markdown",
   "id": "6bdb8a08",
   "metadata": {},
   "source": [
    "### Answer\n",
    "\n",
    "First, we find the required impedance of a load that is part of the primary circuit to dissipate $1000 \\,\\mathrm{W}$.  To find this load impedance, henceforth '$R_\\mathrm{p}$', we will use the following equations:"
   ]
  },
  {
   "cell_type": "markdown",
   "id": "f8221562",
   "metadata": {},
   "source": [
    "$$ 125 \\,\\mathrm{V} = R_\\mathrm{p} I_\\mathrm{p}$$\n",
    "\n",
    "$$ P_L = 1000 \\,\\mathrm{W} = 125 \\,\\mathrm{V} \\cdot I_\\mathrm{p} = \\frac{125^2 \\,\\mathrm{V}^2}{R_\\mathrm{p}}$$"
   ]
  },
  {
   "cell_type": "markdown",
   "id": "e0044d52",
   "metadata": {},
   "source": [
    "$$ R_\\mathrm{p} = \\frac{5^6 \\,\\mathrm{V}^2}{2^3 5^3 \\,\\mathrm{W}} = \\frac{125}{8} \\,\\Omega = 15.625 \\,\\Omega$$"
   ]
  },
  {
   "cell_type": "markdown",
   "id": "b2823e26",
   "metadata": {},
   "source": [
    "Another, more generic way, of writing the above equations:  \n",
    "\n",
    "$$ P_L = \\frac{E_\\mathrm{p}^2}{R_\\mathrm{p}}$$"
   ]
  },
  {
   "cell_type": "markdown",
   "id": "ae52ce33",
   "metadata": {},
   "source": [
    "Now, to find the required secondary voltage, and thus the required voltage transformation ratio, we use the following equation:\n",
    "\n",
    "$$ P_L = \\frac{E_\\mathrm{s}^2}{R_\\mathrm{s}}$$"
   ]
  },
  {
   "cell_type": "markdown",
   "id": "651e3c18",
   "metadata": {},
   "source": [
    "Multiplying throughout by $R_\\mathrm{s}$ gives:  \n",
    "\n",
    "$$ E_\\mathrm{s}^2 = P_LR_\\mathrm{s} = 1000 \\cdot 62.5 \\,\\mathrm{V}^2$$"
   ]
  },
  {
   "cell_type": "markdown",
   "id": "64e792c8",
   "metadata": {},
   "source": [
    "$$ E_\\mathrm{s} = 250 \\,\\mathrm{V}$$"
   ]
  },
  {
   "cell_type": "code",
   "execution_count": 2,
   "id": "b3fdca10",
   "metadata": {},
   "outputs": [
    {
     "data": {
      "text/plain": [
       "250.0"
      ]
     },
     "execution_count": 2,
     "metadata": {},
     "output_type": "execute_result"
    }
   ],
   "source": [
    "from math import sqrt\n",
    "sqrt(1000*62.5)"
   ]
  },
  {
   "cell_type": "code",
   "execution_count": 5,
   "id": "dcbfc2d3",
   "metadata": {},
   "outputs": [
    {
     "name": "stdout",
     "output_type": "stream",
     "text": [
      "Voltage transformation ratio\t= 2.00\n",
      "Impedance transformation ratio\t= 4.00\n"
     ]
    }
   ],
   "source": [
    "R_s = 62.5\n",
    "R_p = 125/8\n",
    "V_p, V_s = 125, 250\n",
    "\n",
    "# Voltage transformation ratio.\n",
    "v_ratio = V_s / V_p\n",
    "\n",
    "# Impedance transformation ratio.\n",
    "z_ratio = r_ratio = R_s / R_p\n",
    "\n",
    "print(f'Voltage transformation ratio\\t= {v_ratio:.2f}\\nImpedance transformation ratio\\t= {z_ratio:.2f}')"
   ]
  },
  {
   "cell_type": "markdown",
   "id": "c4fcc31c",
   "metadata": {},
   "source": [
    "The above relationship can be described as:  \n",
    "\n",
    "$$ \\frac{R_\\mathrm{s}}{R_\\mathrm{p}} = \\left(\\frac{E_\\mathrm{s}}{E_\\mathrm{p}}\\right)^2$$"
   ]
  },
  {
   "cell_type": "markdown",
   "id": "8f7fe4a8",
   "metadata": {},
   "source": [
    "**Proposition:**  The above is true in all cases."
   ]
  },
  {
   "cell_type": "markdown",
   "id": "c16749f1",
   "metadata": {},
   "source": [
    "**Proof:**"
   ]
  },
  {
   "cell_type": "markdown",
   "id": "41e5cc25",
   "metadata": {},
   "source": [
    "Recall that:  \n",
    "\n",
    "$$ P_L = \\frac{E_\\mathrm{p}^2}{R_\\mathrm{p}}$$\n",
    "\n",
    "and,\n",
    "$$ P_L = \\frac{E_\\mathrm{s}^2}{R_\\mathrm{s}}$$"
   ]
  },
  {
   "cell_type": "markdown",
   "id": "d2014ac9",
   "metadata": {},
   "source": [
    "Via the above two equations and equivalence principle,\n",
    "\n",
    "$$  \\frac{E_\\mathrm{p}^2}{R_\\mathrm{p}} = \\frac{E_\\mathrm{s}^2}{R_\\mathrm{s}} $$"
   ]
  },
  {
   "cell_type": "markdown",
   "id": "d1fc940f",
   "metadata": {},
   "source": [
    "Which leads to:\n",
    "\n",
    "$$ \\frac{R_\\mathrm{s}}{R_\\mathrm{p}} = \\frac{E_\\mathrm{s}^2}{E_\\mathrm{p}^2} $$"
   ]
  },
  {
   "cell_type": "markdown",
   "id": "9f7adca4",
   "metadata": {},
   "source": [
    "**Q.E.D.**"
   ]
  },
  {
   "cell_type": "markdown",
   "id": "49fecd2e",
   "metadata": {},
   "source": [
    "## Impedance, Current and Voltage Transformation Ratios\n",
    "\n",
    "The ratio of the transformer’s windings provides the voltage step-up and current step-down we need for the otherwise mismatched load to operate properly on this system. Take a close look at the primary circuit figures: 125 volts at 8 amps. As far as the power supply “knows,” its powering a 15.625 Ω (R=E/I) load at 125 volts, not a 62.5 Ω load!\n",
    "\n",
    "The voltage and current figures for the primary winding are indicative of 15.625 Ω load impedance, not the actual 62.5 Ω of the load itself. In other words, not only has our step-up transformer transformed voltage and current, but it has transformed impedance as well.\n",
    "\n",
    "The transformation ratio of impedance is the square of the voltage/current transformation ratio, the same as the winding inductance ratio:"
   ]
  },
  {
   "cell_type": "markdown",
   "id": "d07fb1af",
   "metadata": {},
   "source": [
    "\\begin{equation}\\tag{1}\n",
    "    \\text{Voltage Transformation Ratio} \\; = \\frac{V_\\mathrm{s}}{V_\\mathrm{p}} = \\frac{N_\\mathrm{s}}{N_\\mathrm{p}} \n",
    "\\end{equation}\n",
    "\n",
    "\\begin{equation}\\tag{2}\n",
    "    \\text{Current Transformation Ratio} \\; = \\frac{I_\\mathrm{s}}{I_\\mathrm{p}} = \\frac{N_\\mathrm{p}}{N_\\mathrm{s}}\n",
    "\\end{equation}\n",
    "\n",
    "\\begin{equation}\\tag{3}\n",
    "    \\text{Impedance Transformation Ratio} \\; = \\left(\\frac{N_\\mathrm{s}}{N_\\mathrm{p}}\\right)^2\n",
    "\\end{equation}"
   ]
  }
 ],
 "metadata": {
  "kernelspec": {
   "display_name": "Python 3",
   "language": "python",
   "name": "python3"
  },
  "language_info": {
   "codemirror_mode": {
    "name": "ipython",
    "version": 3
   },
   "file_extension": ".py",
   "mimetype": "text/x-python",
   "name": "python",
   "nbconvert_exporter": "python",
   "pygments_lexer": "ipython3",
   "version": "3.8.10"
  }
 },
 "nbformat": 4,
 "nbformat_minor": 5
}
