{
 "cells": [
  {
   "cell_type": "markdown",
   "id": "ca26bb10",
   "metadata": {},
   "source": [
    "# Autotransformers\n",
    "\n",
    "An autotransformer is a transformer built from a single winding, thus doing away with electrical isolation."
   ]
  },
  {
   "cell_type": "markdown",
   "id": "d0436bbd",
   "metadata": {},
   "source": [
    "## Worksheet Problems"
   ]
  },
  {
   "cell_type": "markdown",
   "id": "e1cc7a65",
   "metadata": {},
   "source": [
    "Herein are some questions about example autotransformers."
   ]
  },
  {
   "cell_type": "markdown",
   "id": "8bbc5998",
   "metadata": {},
   "source": [
    "### Question 1"
   ]
  },
  {
   "cell_type": "markdown",
   "id": "b883b217",
   "metadata": {},
   "source": [
    "How much voltage is there between the following pairs of points in this circuit?\n",
    "\n",
    "![example-1](https://sub.allaboutcircuits.com/images/quiz/00667x01.png)"
   ]
  },
  {
   "cell_type": "markdown",
   "id": "2f5348bb",
   "metadata": {},
   "source": [
    "The number of turns in the primary coil, denoted as '$N_p$', -- or, in other words, the number of turns between the primary taps (tap C and tap F), denoted as '$N_{CF}$' -- is given by:\n",
    "\n",
    "$$ N_p = N_{CF} = 2000 + 2000 + 5000 = 9000$$"
   ]
  },
  {
   "cell_type": "markdown",
   "id": "beb992ff",
   "metadata": {},
   "source": [
    "And, of course,\n",
    "$$ V_p = 48\\text{V}$$"
   ]
  },
  {
   "cell_type": "markdown",
   "id": "87a5a461",
   "metadata": {},
   "source": [
    "Between **C** and **F**:  $\\quad V_{CF} = \\mathrm{ ???}$  \n",
    "\n",
    "The number of turns between C and F ($N_{CF}$) is given by:\n",
    "\n",
    "$$ N_{CF} = N_p = 9000$$"
   ]
  },
  {
   "cell_type": "markdown",
   "id": "85aa86d4",
   "metadata": {},
   "source": [
    "And, the voltage drop between these two point is equal to the primary voltage:\n",
    "\n",
    "$$ V_{CF} = V_p = 48 \\text{V}$$"
   ]
  },
  {
   "cell_type": "markdown",
   "id": "ad8ac201",
   "metadata": {},
   "source": [
    "Between **A** and **B**: $\\quad V_{AB} = \\mathrm{ ???}$  "
   ]
  },
  {
   "cell_type": "markdown",
   "id": "7e606f76",
   "metadata": {},
   "source": [
    "$$ N_s := N_{AB} = 4000$$"
   ]
  },
  {
   "cell_type": "markdown",
   "id": "b70c355e",
   "metadata": {},
   "source": [
    "Via equation (1) in the [Mutual Inductance](../../DirectCurrent/Magnetism-and-Electromagnetism/MutualInductance.ipynb) chapter,\n",
    "\n",
    "$$ \\frac{N_s}{N_p} = \\frac{V_s}{V_p} = \\frac{V_{AB}}{48 \\text{V}}$$"
   ]
  },
  {
   "cell_type": "markdown",
   "id": "14b6123c",
   "metadata": {},
   "source": [
    "$$ \\frac{N_s}{N_p} = \\frac{4000}{9000} = \\frac{4}{9}$$"
   ]
  },
  {
   "cell_type": "markdown",
   "id": "44d5ab99",
   "metadata": {},
   "source": [
    "Via the above two equations,\n",
    "\n",
    "$$ V_{AB} = \\frac{4}{9} \\cdot 48\\text{V} = \\frac{64}{3} \\text{V}$$"
   ]
  },
  {
   "cell_type": "code",
   "execution_count": 1,
   "id": "99a8f891",
   "metadata": {},
   "outputs": [
    {
     "data": {
      "text/plain": [
       "21.333333333333332"
      ]
     },
     "execution_count": 1,
     "metadata": {},
     "output_type": "execute_result"
    }
   ],
   "source": [
    "V_AB = 48*4/9\n",
    "V_AB"
   ]
  },
  {
   "cell_type": "markdown",
   "id": "f8e51c22",
   "metadata": {},
   "source": [
    "Between **D** and **E**: $\\quad V_{DE} = \\mathrm{ ???}$  "
   ]
  },
  {
   "cell_type": "code",
   "execution_count": 5,
   "id": "4bebc70d",
   "metadata": {},
   "outputs": [
    {
     "data": {
      "text/plain": [
       "10.666666666666666"
      ]
     },
     "execution_count": 5,
     "metadata": {},
     "output_type": "execute_result"
    }
   ],
   "source": [
    "V_DE = 48*2/9\n",
    "V_DE"
   ]
  },
  {
   "cell_type": "markdown",
   "id": "5e740f7d",
   "metadata": {},
   "source": [
    "Between **D** and **F**: $\\quad V_{DF} = \\mathrm{ ???}$  "
   ]
  },
  {
   "cell_type": "code",
   "execution_count": 6,
   "id": "7f55edfe",
   "metadata": {},
   "outputs": [
    {
     "data": {
      "text/plain": [
       "37.333333333333336"
      ]
     },
     "execution_count": 6,
     "metadata": {},
     "output_type": "execute_result"
    }
   ],
   "source": [
    "V_DF = 48*7/9\n",
    "V_DF"
   ]
  },
  {
   "cell_type": "markdown",
   "id": "7e722f3f",
   "metadata": {},
   "source": [
    "### Question 2\n",
    "\n",
    "How much voltage is there between the following pairs of points in this circuit?\n",
    "\n",
    "![example-2](https://sub.allaboutcircuits.com/images/quiz/00668x01.png)"
   ]
  },
  {
   "cell_type": "markdown",
   "id": "252212f4",
   "metadata": {},
   "source": [
    "Between **D** and **F**: $\\quad V_{DF} = \\mathrm{ ???}$  "
   ]
  },
  {
   "cell_type": "markdown",
   "id": "4f14364e",
   "metadata": {},
   "source": [
    "Via KVL,\n",
    "\n",
    "$$ V_{DF} = V_p = 16\\text{V}$$"
   ]
  },
  {
   "cell_type": "markdown",
   "id": "1e91ccc4",
   "metadata": {},
   "source": [
    "Between **D** and **E**: $\\quad V_{DE} = \\mathrm{ ???}$  "
   ]
  },
  {
   "cell_type": "code",
   "execution_count": 7,
   "id": "4085560c",
   "metadata": {},
   "outputs": [
    {
     "data": {
      "text/plain": [
       "4.571428571428571"
      ]
     },
     "execution_count": 7,
     "metadata": {},
     "output_type": "execute_result"
    }
   ],
   "source": [
    "V_DE = 16*2/7\n",
    "V_DE"
   ]
  },
  {
   "cell_type": "markdown",
   "id": "dfcb3037",
   "metadata": {},
   "source": [
    "Between **A** and **B**: $\\quad V_{AB} = \\mathrm{ ???}$  "
   ]
  },
  {
   "cell_type": "code",
   "execution_count": 8,
   "id": "40b3c87b",
   "metadata": {},
   "outputs": [
    {
     "data": {
      "text/plain": [
       "9.142857142857142"
      ]
     },
     "execution_count": 8,
     "metadata": {},
     "output_type": "execute_result"
    }
   ],
   "source": [
    "V_AB = 16 * 4/7\n",
    "V_AB"
   ]
  },
  {
   "cell_type": "markdown",
   "id": "a1082b73",
   "metadata": {},
   "source": [
    "Between **C** and **F**:  $\\quad V_{CF} = \\mathrm{ ???}$"
   ]
  },
  {
   "cell_type": "code",
   "execution_count": 9,
   "id": "7e288842",
   "metadata": {},
   "outputs": [
    {
     "data": {
      "text/plain": [
       "20.571428571428573"
      ]
     },
     "execution_count": 9,
     "metadata": {},
     "output_type": "execute_result"
    }
   ],
   "source": [
    "V_CF = 16 * 9/7\n",
    "V_CF"
   ]
  },
  {
   "cell_type": "markdown",
   "id": "69d9d78d",
   "metadata": {},
   "source": [
    "### Question 7\n",
    "Suppose you had an audio impedance-matching transformer ($1000\\Omega$  to $8\\Omega$), and you wished to know the phase relationships of the windings. Unfortunately, the only test equipment you have is an analog DC voltmeter and a $9\\mathrm{V}$ battery. Explain how you would use these two devices to test winding “polarity.”  \n",
    "\n",
    "![example-6](https://sub.allaboutcircuits.com/images/quiz/01562x01.png)"
   ]
  },
  {
   "cell_type": "markdown",
   "id": "60fd2df0",
   "metadata": {},
   "source": [
    "Note, you may disregard the middle tap of the primary ($1000\\Omega$) winding."
   ]
  },
  {
   "cell_type": "markdown",
   "id": "4b663fa7",
   "metadata": {},
   "source": [
    "### Answer"
   ]
  },
  {
   "cell_type": "markdown",
   "id": "85cf7c14",
   "metadata": {},
   "source": [
    "Considering that the secondary to primary reactance ratio is equal to the inductance ratio\n",
    "\n",
    "$$ \\frac{X_s}{X_p} = \\frac{2\\pi f L_s}{2\\pi f L_p} = \\frac{L_s}{L_p} = \\frac{8}{1000} = \\frac{1}{125}$$"
   ]
  },
  {
   "cell_type": "markdown",
   "id": "6794db97",
   "metadata": {},
   "source": [
    "The secondary to primary voltage ratio is given by:\n",
    "\n",
    "$$ \\frac{V_s}{V_p} = \\sqrt{\\frac{L_s}{L_p}} = \\frac{1}{\\sqrt{125}} = \\frac{1}{5 \\sqrt{5}}$$"
   ]
  },
  {
   "cell_type": "markdown",
   "id": "4566e4a9",
   "metadata": {},
   "source": [
    "First we connect the positive end of the battery to the right tap of the primary winding and the negative end to the left tap of the primary winding.  The right and left taps of the primary winding become the positive and negative poles of the primary winding respectively."
   ]
  },
  {
   "cell_type": "markdown",
   "id": "6cfb46e8",
   "metadata": {},
   "source": [
    "Next, we connect the red (positive) probe and the black (negative) probe of the DC voltmeter to the right and left tap of the seconding winding respectively."
   ]
  },
  {
   "cell_type": "markdown",
   "id": "eb2f9870",
   "metadata": {},
   "source": [
    "If the reading is a positive $9 \\div \\sqrt{125}\\, \\mathrm{V} \\approxeq 0.805 \\mathrm{V}$ then the windings are in-phase.  If the reading is roughly $-9\\div\\sqrt{125} \\, \\mathrm{V}$ then the windings are out of phase (the polarities are inverted)."
   ]
  },
  {
   "cell_type": "code",
   "execution_count": 1,
   "id": "80f5bfb5",
   "metadata": {},
   "outputs": [
    {
     "data": {
      "text/plain": [
       "0.8049844718999243"
      ]
     },
     "execution_count": 1,
     "metadata": {},
     "output_type": "execute_result"
    }
   ],
   "source": [
    "from math import sqrt\n",
    "\n",
    "9/sqrt(125)"
   ]
  },
  {
   "cell_type": "markdown",
   "id": "79acbc91",
   "metadata": {},
   "source": [
    "### Question 8\n",
    "\n",
    "It should be obvious that the load voltage in this resistive voltage divider circuit will be less than 30 volts AC (RMS):\n",
    "\n",
    "![example-8-resistive](https://sub.allaboutcircuits.com/images/quiz/03219x01.png)"
   ]
  },
  {
   "cell_type": "markdown",
   "id": "6dbd3d51",
   "metadata": {},
   "source": [
    "Likewise, it should be apparent that the load voltage in this *inductive* voltage divider circuit will be less than 30 volts AC (RMS):\n",
    "\n",
    "![example-8-inductive](https://sub.allaboutcircuits.com/images/quiz/03219x02.png)"
   ]
  },
  {
   "cell_type": "markdown",
   "id": "62add06e",
   "metadata": {},
   "source": [
    "From this brief analysis it would appear these two voltage divider circuits are equivalent to one another. However, there is a very important difference in terms of *current*: load versus supply. Estimate the load and source currents in each of these divider circuits, and comment on the difference(s) between the two."
   ]
  },
  {
   "cell_type": "markdown",
   "id": "3c9d4a92",
   "metadata": {},
   "source": [
    "### Answer\n",
    "\n",
    "In both circuits, the voltage runnng accross the load is half of the supplied voltage ($E$), which means that the RMS of the load voltage, denoted as '$\\mathrm{RMS}_\\mathrm{Load}$', is also half of the supplied voltage's RMS ($\\mathrm{RMS}_E$).\n",
    "\n",
    "$$ V_\\mathrm{load} := V_L = 0.5 E$$"
   ]
  },
  {
   "cell_type": "markdown",
   "id": "a5a0f69b",
   "metadata": {},
   "source": [
    "and,\n",
    "$$\\mathrm{RMS}_\\mathrm{Load} = 0.5\\mathrm{RMS}_L = 15\\mathrm{V}$$"
   ]
  },
  {
   "cell_type": "markdown",
   "id": "4f31e177",
   "metadata": {},
   "source": [
    "As for the current, which apparently differs between the two circuits, let's analyse the first as a parallel circuit, and then take a look at the second to better understand the difference."
   ]
  },
  {
   "cell_type": "markdown",
   "id": "a08f20f3",
   "metadata": {},
   "source": [
    "Assuming the load is mostly resistive, with only negligible non-resistive impedance, the phase shift between the current and the supply voltage will be roughly equal to zero in the first circuit, however this is false for the second circuit;  In which there will be a non-negligible phase shift between the current and supplied voltage.  \n",
    "\n",
    "The load being resistive is a baseless assumption.  It is never stated in the question that the load is resistive."
   ]
  },
  {
   "cell_type": "markdown",
   "id": "5c9df44c",
   "metadata": {},
   "source": [
    "#### First CIrcuit's Current"
   ]
  },
  {
   "cell_type": "markdown",
   "id": "4d90d09a",
   "metadata": {},
   "source": [
    "The first circuit is a parallel circuit defined by: $E--R_1--R_2//R_L$, where:\n",
    "* $E$ is the power supply;\n",
    "* $R_1$ and $R_2$ are both a half of the divider resistor, denoted as '$R_\\mathrm{p}$';\n",
    "* and $R_L$ is the, assumed to be, resistive load."
   ]
  },
  {
   "cell_type": "markdown",
   "id": "328082aa",
   "metadata": {},
   "source": [
    "$$ R_1=R_2=0.5R_\\mathrm{p}$$"
   ]
  },
  {
   "cell_type": "markdown",
   "id": "339e30d3",
   "metadata": {},
   "source": [
    "Which leaves us with the circuit equation,\n",
    "\n",
    "$$ E = I\\cdot(R_1 + R_\\mathrm{s})$$"
   ]
  },
  {
   "cell_type": "markdown",
   "id": "6fe938f9",
   "metadata": {},
   "source": [
    "where\n",
    "$$ R_\\mathrm{s} = \\frac{1}{D_\\mathrm{s}} $$\n",
    "\n",
    "and,\n",
    "$$ D_\\mathrm{s} = \\frac{1}{R_2} + \\frac{1}{R_L}$$"
   ]
  },
  {
   "cell_type": "markdown",
   "id": "0f1c5223",
   "metadata": {},
   "source": [
    "Via KCL,\n",
    "$$ I - I_1 - I_2 = 0$$\n",
    "\n",
    "$$ I_1 + I_2 = I$$"
   ]
  },
  {
   "cell_type": "markdown",
   "id": "51eb661b",
   "metadata": {},
   "source": [
    "Via the first equation of this answer,\n",
    "\n",
    "$$ V_L = R_L I_2 = 0.5E$$"
   ]
  },
  {
   "cell_type": "markdown",
   "id": "83552097",
   "metadata": {},
   "source": [
    "Via KVL,\n",
    "$$ V_{R2} - V_L = 0$$\n",
    "\n",
    "Via the above two equations,\n",
    "$$ R_LI_2 = R_2I_1 = 0.5E$$"
   ]
  },
  {
   "cell_type": "markdown",
   "id": "95bd4cde",
   "metadata": {},
   "source": [
    "Via the above equation, KCL, and substitution,\n",
    "\n",
    "$$ R_LI_2 = R_2(I-I_2)$$"
   ]
  },
  {
   "cell_type": "markdown",
   "id": "cdfcc53f",
   "metadata": {},
   "source": [
    "$$ R_2I = I_2(R_L + R_2)$$"
   ]
  },
  {
   "cell_type": "markdown",
   "id": "50527f8a",
   "metadata": {},
   "source": [
    "$$ I_2 = \\frac{R_2}{R_L + R_2} \\, I$$"
   ]
  },
  {
   "cell_type": "markdown",
   "id": "3319520c",
   "metadata": {},
   "source": [
    "And, since:\n",
    "$$ 0 < \\frac{R_2}{R_L + R_2} < 1$$"
   ]
  },
  {
   "cell_type": "markdown",
   "id": "36602a16",
   "metadata": {},
   "source": [
    "The relationship between the load current ($I_2$) and the source current ($I$) is that the load current is less than the source current."
   ]
  },
  {
   "cell_type": "markdown",
   "id": "ef8496f2",
   "metadata": {},
   "source": [
    "$$ I_2 < I$$"
   ]
  },
  {
   "cell_type": "markdown",
   "id": "49a9ac2d",
   "metadata": {},
   "source": [
    "Trivial to the above relationship, assuming the load is mostly resistive, there is also negligible phase shift between the two currents.  If the load has non-resistive impedance then there will be a non-negligible phase shift, but the above relationship between the two currents in terms of magnitude will still hold true."
   ]
  },
  {
   "cell_type": "markdown",
   "id": "89c82833",
   "metadata": {},
   "source": [
    "#### Second Circuit's Current\n",
    "\n",
    "To find the relationship between the source (a.k.a primary) current and the load (a.k.a secondary) current we will analyse the second circuit as an autotransformer."
   ]
  },
  {
   "cell_type": "markdown",
   "id": "c22c1009",
   "metadata": {},
   "source": [
    "Via equation (2) in the [Mutual Inductance](../../DirectCurrent/Magnetism-and-Electromagnetism/MutualInductance.ipynb#Proving-the-Second-Equation) chapter,"
   ]
  },
  {
   "cell_type": "markdown",
   "id": "4ff24b76",
   "metadata": {},
   "source": [
    "$$\\frac{I_\\mathrm{p}}{I_\\mathrm{s}} = \\frac{N_\\mathrm{s}}{N_\\mathrm{p}} = 0.5$$"
   ]
  },
  {
   "cell_type": "markdown",
   "id": "63b7b6c4",
   "metadata": {},
   "source": [
    "Multiplying throughout by $I_\\mathrm{s}$ gives:\n",
    "\n",
    "$$ I_\\mathrm{p} = I = 0.5 I_\\mathrm{s} = 0.5I_2$$"
   ]
  },
  {
   "cell_type": "markdown",
   "id": "e3f02ac4",
   "metadata": {},
   "source": [
    "Via the above,\n",
    "$$ I < I_2$$"
   ]
  },
  {
   "cell_type": "markdown",
   "id": "851b2e52",
   "metadata": {},
   "source": [
    "The relationship between the currents is the opposite of the one found in the first circuit."
   ]
  },
  {
   "cell_type": "markdown",
   "id": "5060dbac",
   "metadata": {},
   "source": [
    "### Question 11\n",
    "\n",
    "Find the currents flowing through this circuit assuming 100% efficiency.\n",
    "\n",
    "![example-11](https://sub.allaboutcircuits.com/images/quiz/00670x01.png)"
   ]
  },
  {
   "cell_type": "markdown",
   "id": "b1dbb7e9",
   "metadata": {},
   "source": [
    "### Answer\n",
    "\n",
    "First, the primary to secondary voltage ratio is:\n",
    "\n",
    "\\begin{equation}\\tag{11.1}\n",
    "\\label{p-s-ratio}\n",
    "    \\frac{V_\\mathrm{p}}{V_\\mathrm{s}} = \\frac{120}{85} \\approxeq 1.412\n",
    "\\end{equation}    "
   ]
  },
  {
   "cell_type": "markdown",
   "id": "c525e883",
   "metadata": {},
   "source": [
    "The secondary current can be found with the following equation:\n",
    "\n",
    "$$ V_\\mathrm{s}= 85\\mathrm{V} = 500\\,\\Omega \\cdot I_\\mathrm{s}$$\n",
    "\n",
    "\\begin{equation}\\tag{11.2}\n",
    "\\label{eq:secondary}\n",
    "    I_\\mathrm{s} = \\frac{85\\mathrm{V}}{500\\,\\Omega} = 0.17 \\mathrm{A} = 170\\,\\mathrm{mA}\n",
    "\\end{equation}"
   ]
  },
  {
   "cell_type": "markdown",
   "id": "d9f03e9b",
   "metadata": {},
   "source": [
    "Since,\n",
    "$$ \\frac{N_\\mathrm{p}}{N_\\mathrm{s}} = \\frac{V_\\mathrm{p}}{V_\\mathrm{s}}$$"
   ]
  },
  {
   "cell_type": "markdown",
   "id": "647c0298",
   "metadata": {},
   "source": [
    "and,\n",
    "$$ \\frac{N_\\mathrm{s}}{N_\\mathrm{p}} = \\frac{I_\\mathrm{p}}{I_\\mathrm{s}} $$"
   ]
  },
  {
   "cell_type": "markdown",
   "id": "0a33d2ef",
   "metadata": {},
   "source": [
    "$$ \\frac{I_\\mathrm{p}}{I_\\mathrm{s}}  = \\frac{V_\\mathrm{s}}{V_\\mathrm{p}} = \\frac{85}{120} $$"
   ]
  },
  {
   "cell_type": "markdown",
   "id": "6eff3003",
   "metadata": {},
   "source": [
    "Multiplying throughout by $I_\\mathrm{s}$ gives:\n",
    "\n",
    "\\begin{equation}\\tag{11.3}\n",
    "    I_\\mathrm{p} = \\frac{85}{120} \\, I_\\mathrm{s} = \\frac{85^2 \\mathrm{V}}{120 \\cdot 500 \\, \\Omega} \\approxeq 120.417 \\,\\mathrm{mA}\n",
    "\\end{equation}"
   ]
  },
  {
   "cell_type": "code",
   "execution_count": 3,
   "id": "82f75e46",
   "metadata": {},
   "outputs": [
    {
     "data": {
      "text/plain": [
       "0.12041666666666667"
      ]
     },
     "execution_count": 3,
     "metadata": {},
     "output_type": "execute_result"
    }
   ],
   "source": [
    "(85**2)/(120*500)"
   ]
  },
  {
   "cell_type": "markdown",
   "id": "bf126a25",
   "metadata": {},
   "source": [
    "Now, to find the current ($I_1$) that is flowing through the part of the inductor that is in parallel to resistor, we will use KCL and the fact that $I_\\mathrm{s}$ is leaving the top junction, while $I_\\mathrm{p}$ is entering.\n",
    "\n",
    "$$ I_\\mathrm{p} - I_\\mathrm{s} + I_1 = 0$$\n",
    "\n",
    "$$ I_1 = I_\\mathrm{s} - I_\\mathrm{p} \\approxeq 49.6 \\,\\mathrm{mA} $$"
   ]
  },
  {
   "cell_type": "markdown",
   "id": "add030df",
   "metadata": {},
   "source": [
    "The positive value implies that $I_1$ is entering the top junction and thus leaving the bottom junction."
   ]
  },
  {
   "cell_type": "code",
   "execution_count": 4,
   "id": "ffc3537f",
   "metadata": {},
   "outputs": [
    {
     "data": {
      "text/plain": [
       "49.599999999999994"
      ]
     },
     "execution_count": 4,
     "metadata": {},
     "output_type": "execute_result"
    }
   ],
   "source": [
    "170-120.4"
   ]
  },
  {
   "cell_type": "markdown",
   "id": "cff00bfc",
   "metadata": {},
   "source": [
    "### Question 12\n",
    "\n",
    "Suppose the load in this circuit suddenly stops receiving power:\n",
    "\n",
    "![example-12](https://sub.allaboutcircuits.com/images/quiz/00669x01.png)"
   ]
  },
  {
   "cell_type": "markdown",
   "id": "9549db6b",
   "metadata": {},
   "source": [
    "Your first step in troubleshooting is to take some voltage measurements:\n",
    "\n",
    "* $V_\\mathrm{AB} = 120 \\mathrm{V}$\n",
    "* $V_\\mathrm{EC} = 0 \\mathrm{V}$\n",
    "* $V_\\mathrm{DC} = 120 \\mathrm{V}$\n",
    "\n",
    "Based on these measurements, where do you think the fault is in this circuit, and what type of fault is it?"
   ]
  }
 ],
 "metadata": {
  "kernelspec": {
   "display_name": "Python 3",
   "language": "python",
   "name": "python3"
  },
  "language_info": {
   "codemirror_mode": {
    "name": "ipython",
    "version": 3
   },
   "file_extension": ".py",
   "mimetype": "text/x-python",
   "name": "python",
   "nbconvert_exporter": "python",
   "pygments_lexer": "ipython3",
   "version": "3.8.10"
  }
 },
 "nbformat": 4,
 "nbformat_minor": 5
}
