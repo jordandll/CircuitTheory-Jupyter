{
 "cells": [
  {
   "cell_type": "markdown",
   "id": "ca26bb10",
   "metadata": {},
   "source": [
    "# Autotransformers\n",
    "\n",
    "An autotransformer is a transformer built from a single winding, thus doing away with electrical isolation."
   ]
  },
  {
   "cell_type": "markdown",
   "id": "d0436bbd",
   "metadata": {},
   "source": [
    "## Worksheet Problems"
   ]
  },
  {
   "cell_type": "markdown",
   "id": "e1cc7a65",
   "metadata": {},
   "source": [
    "Herein are some questions about example autotransformers."
   ]
  },
  {
   "cell_type": "markdown",
   "id": "8bbc5998",
   "metadata": {},
   "source": [
    "### Question 1"
   ]
  },
  {
   "cell_type": "markdown",
   "id": "b883b217",
   "metadata": {},
   "source": [
    "How much voltage is there between the following pairs of points in this circuit?\n",
    "\n",
    "![example-1](https://sub.allaboutcircuits.com/images/quiz/00667x01.png)"
   ]
  },
  {
   "cell_type": "markdown",
   "id": "2f5348bb",
   "metadata": {},
   "source": [
    "The number of turns in the primary coil, denoted as '$N_p$', -- or, in other words, the number of turns between the primary taps (tap C and tap F), denoted as '$N_{CF}$' -- is given by:\n",
    "\n",
    "$$ N_p = N_{CF} = 2000 + 2000 + 5000 = 9000$$"
   ]
  },
  {
   "cell_type": "markdown",
   "id": "beb992ff",
   "metadata": {},
   "source": [
    "And, of course,\n",
    "$$ V_p = 48\\text{V}$$"
   ]
  },
  {
   "cell_type": "markdown",
   "id": "87a5a461",
   "metadata": {},
   "source": [
    "Between **C** and **F**:  $\\quad V_{CF} = \\mathrm{ ???}$  \n",
    "\n",
    "The number of turns between C and F ($N_{CF}$) is given by:\n",
    "\n",
    "$$ N_{CF} = N_p = 9000$$"
   ]
  },
  {
   "cell_type": "markdown",
   "id": "85aa86d4",
   "metadata": {},
   "source": [
    "And, the voltage drop between these two point is equal to the primary voltage:\n",
    "\n",
    "$$ V_{CF} = V_p = 48 \\text{V}$$"
   ]
  },
  {
   "cell_type": "markdown",
   "id": "ad8ac201",
   "metadata": {},
   "source": [
    "Between **A** and **B**: $\\quad V_{AB} = \\mathrm{ ???}$  "
   ]
  },
  {
   "cell_type": "markdown",
   "id": "7e606f76",
   "metadata": {},
   "source": [
    "$$ N_s := N_{AB} = 4000$$"
   ]
  },
  {
   "cell_type": "markdown",
   "id": "b70c355e",
   "metadata": {},
   "source": [
    "Via equation (1) in the [Mutual Inductance](../../DirectCurrent/Magnetism-and-Electromagnetism/MutualInductance.ipynb) chapter,\n",
    "\n",
    "$$ \\frac{N_s}{N_p} = \\frac{V_s}{V_p} = \\frac{V_{AB}}{48 \\text{V}}$$"
   ]
  },
  {
   "cell_type": "markdown",
   "id": "14b6123c",
   "metadata": {},
   "source": [
    "$$ \\frac{N_s}{N_p} = \\frac{4000}{9000} = \\frac{4}{9}$$"
   ]
  },
  {
   "cell_type": "markdown",
   "id": "44d5ab99",
   "metadata": {},
   "source": [
    "Via the above two equations,\n",
    "\n",
    "$$ V_{AB} = \\frac{4}{9} \\cdot 48\\text{V} = \\frac{64}{3} \\text{V}$$"
   ]
  },
  {
   "cell_type": "code",
   "execution_count": 1,
   "id": "99a8f891",
   "metadata": {},
   "outputs": [
    {
     "data": {
      "text/plain": [
       "21.333333333333332"
      ]
     },
     "execution_count": 1,
     "metadata": {},
     "output_type": "execute_result"
    }
   ],
   "source": [
    "V_AB = 48*4/9\n",
    "V_AB"
   ]
  },
  {
   "cell_type": "markdown",
   "id": "f8e51c22",
   "metadata": {},
   "source": [
    "Between **D** and **E**: $\\quad V_{DE} = \\mathrm{ ???}$  "
   ]
  },
  {
   "cell_type": "code",
   "execution_count": 5,
   "id": "4bebc70d",
   "metadata": {},
   "outputs": [
    {
     "data": {
      "text/plain": [
       "10.666666666666666"
      ]
     },
     "execution_count": 5,
     "metadata": {},
     "output_type": "execute_result"
    }
   ],
   "source": [
    "V_DE = 48*2/9\n",
    "V_DE"
   ]
  },
  {
   "cell_type": "markdown",
   "id": "5e740f7d",
   "metadata": {},
   "source": [
    "Between **D** and **F**: $\\quad V_{DF} = \\mathrm{ ???}$  "
   ]
  },
  {
   "cell_type": "code",
   "execution_count": 6,
   "id": "7f55edfe",
   "metadata": {},
   "outputs": [
    {
     "data": {
      "text/plain": [
       "37.333333333333336"
      ]
     },
     "execution_count": 6,
     "metadata": {},
     "output_type": "execute_result"
    }
   ],
   "source": [
    "V_DF = 48*7/9\n",
    "V_DF"
   ]
  },
  {
   "cell_type": "markdown",
   "id": "7e722f3f",
   "metadata": {},
   "source": [
    "### Question 2\n",
    "\n",
    "How much voltage is there between the following pairs of points in this circuit?\n",
    "\n",
    "![example-2](https://sub.allaboutcircuits.com/images/quiz/00668x01.png)"
   ]
  },
  {
   "cell_type": "markdown",
   "id": "252212f4",
   "metadata": {},
   "source": [
    "Between **D** and **F**: $\\quad V_{DF} = \\mathrm{ ???}$  "
   ]
  },
  {
   "cell_type": "markdown",
   "id": "4f14364e",
   "metadata": {},
   "source": [
    "Via KVL,\n",
    "\n",
    "$$ V_{DF} = V_p = 16\\text{V}$$"
   ]
  },
  {
   "cell_type": "markdown",
   "id": "1e91ccc4",
   "metadata": {},
   "source": [
    "Between **D** and **E**: $\\quad V_{DE} = \\mathrm{ ???}$  "
   ]
  },
  {
   "cell_type": "code",
   "execution_count": 7,
   "id": "4085560c",
   "metadata": {},
   "outputs": [
    {
     "data": {
      "text/plain": [
       "4.571428571428571"
      ]
     },
     "execution_count": 7,
     "metadata": {},
     "output_type": "execute_result"
    }
   ],
   "source": [
    "V_DE = 16*2/7\n",
    "V_DE"
   ]
  },
  {
   "cell_type": "markdown",
   "id": "dfcb3037",
   "metadata": {},
   "source": [
    "Between **A** and **B**: $\\quad V_{AB} = \\mathrm{ ???}$  "
   ]
  },
  {
   "cell_type": "code",
   "execution_count": 8,
   "id": "40b3c87b",
   "metadata": {},
   "outputs": [
    {
     "data": {
      "text/plain": [
       "9.142857142857142"
      ]
     },
     "execution_count": 8,
     "metadata": {},
     "output_type": "execute_result"
    }
   ],
   "source": [
    "V_AB = 16 * 4/7\n",
    "V_AB"
   ]
  },
  {
   "cell_type": "markdown",
   "id": "a1082b73",
   "metadata": {},
   "source": [
    "Between **C** and **F**:  $\\quad V_{CF} = \\mathrm{ ???}$"
   ]
  },
  {
   "cell_type": "code",
   "execution_count": 9,
   "id": "7e288842",
   "metadata": {},
   "outputs": [
    {
     "data": {
      "text/plain": [
       "20.571428571428573"
      ]
     },
     "execution_count": 9,
     "metadata": {},
     "output_type": "execute_result"
    }
   ],
   "source": [
    "V_CF = 16 * 9/7\n",
    "V_CF"
   ]
  },
  {
   "cell_type": "markdown",
   "id": "69d9d78d",
   "metadata": {},
   "source": [
    "### Question 7\n",
    "Suppose you had an audio impedance-matching transformer ($1000\\Omega$  to $8\\Omega$), and you wished to know the phase relationships of the windings. Unfortunately, the only test equipment you have is an analog DC voltmeter and a $9\\mathrm{V}$ battery. Explain how you would use these two devices to test winding “polarity.”  \n",
    "\n",
    "![example-6](https://sub.allaboutcircuits.com/images/quiz/01562x01.png)"
   ]
  },
  {
   "cell_type": "markdown",
   "id": "60fd2df0",
   "metadata": {},
   "source": [
    "Note, you may disregard the middle tap of the primary ($1000\\Omega$) winding."
   ]
  },
  {
   "cell_type": "markdown",
   "id": "4b663fa7",
   "metadata": {},
   "source": [
    "### Answer"
   ]
  },
  {
   "cell_type": "markdown",
   "id": "85cf7c14",
   "metadata": {},
   "source": [
    "Considering that the secondary to primary reactance ratio is equal to the inductance ratio\n",
    "\n",
    "$$ \\frac{X_s}{X_p} = \\frac{2\\pi f L_s}{2\\pi f L_p} = \\frac{L_s}{L_p} = \\frac{8}{1000} = \\frac{1}{125}$$"
   ]
  },
  {
   "cell_type": "markdown",
   "id": "6794db97",
   "metadata": {},
   "source": [
    "The secondary to primary voltage ratio is given by:\n",
    "\n",
    "$$ \\frac{V_s}{V_p} = \\sqrt{\\frac{L_s}{L_p}} = \\frac{1}{\\sqrt{125}} = \\frac{1}{5 \\sqrt{5}}$$"
   ]
  },
  {
   "cell_type": "markdown",
   "id": "4566e4a9",
   "metadata": {},
   "source": [
    "First we connect the positive end of the battery to the right tap of the primary winding and the negative end to the left tap of the primary winding.  The right and left taps of the primary winding become the positive and negative poles of the primary winding respectively."
   ]
  },
  {
   "cell_type": "markdown",
   "id": "6cfb46e8",
   "metadata": {},
   "source": [
    "Next, we connect the red (positive) probe and the black (negative) probe of the DC voltmeter to the right and left tap of the seconding winding respectively."
   ]
  },
  {
   "cell_type": "markdown",
   "id": "eb2f9870",
   "metadata": {},
   "source": [
    "If the reading is a positive $9 \\div \\sqrt{125}\\, \\mathrm{V} \\approxeq 0.805 \\mathrm{V}$ then the windings are in-phase.  If the reading is roughly $-9\\div\\sqrt{125} \\, \\mathrm{V}$ then the windings are out of phase (the polarities are inverted)."
   ]
  },
  {
   "cell_type": "code",
   "execution_count": 11,
   "id": "80f5bfb5",
   "metadata": {},
   "outputs": [
    {
     "data": {
      "text/plain": [
       "0.8049844718999243"
      ]
     },
     "execution_count": 11,
     "metadata": {},
     "output_type": "execute_result"
    }
   ],
   "source": [
    "from math import sqrt\n",
    "\n",
    "9/sqrt(125)"
   ]
  }
 ],
 "metadata": {
  "kernelspec": {
   "display_name": "Python 3",
   "language": "python",
   "name": "python3"
  },
  "language_info": {
   "codemirror_mode": {
    "name": "ipython",
    "version": 3
   },
   "file_extension": ".py",
   "mimetype": "text/x-python",
   "name": "python",
   "nbconvert_exporter": "python",
   "pygments_lexer": "ipython3",
   "version": "3.8.10"
  }
 },
 "nbformat": 4,
 "nbformat_minor": 5
}
