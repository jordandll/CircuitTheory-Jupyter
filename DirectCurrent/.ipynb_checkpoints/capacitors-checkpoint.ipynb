{
 "cells": [
  {
   "cell_type": "code",
   "execution_count": 3,
   "id": "b11b46ae",
   "metadata": {},
   "outputs": [],
   "source": [
    "import discharge"
   ]
  },
  {
   "cell_type": "markdown",
   "id": "e988cc97",
   "metadata": {},
   "source": [
    "# Capacitors\n",
    "Suppose we have a circuit with only one component, a capacitor with a capacitance of $C$ farads, along with a power source supplying a voltage of $E$ volts.\n",
    "$$ \\frac{1}{C} \\int i \\cdot dt = V_C = E$$\n",
    "## In Parallel\n",
    "It then follows that the current drawn by the capacitor that is in parallel with other nodes of the circuit is proportional to the instantaneous rate of change of the voltage.\n",
    "$$ i = C \\frac{dV_C}{dt} = C V_C'(t)$$\n",
    "This property makes it a good stabilizer.  During a voltage spike, it will draw a current that is proportional to said spike;  Thus subtracting from the total current when the voltage is increasing and adding to the total current when the voltage is decreasing.\n",
    "## Capacitor as a Battery\n",
    "Using a capacitor as the battery or power supply of a circuit is one way of discharging one.\n",
    "Suppose there is a circuit consisting of only a capacitor, serving as the \n",
    "battery or power supply of the circuit, with a capacitance of $C$ \n",
    "farads and an initial charge of $q_0$ Coloumbs and a resistor with a \n",
    "resistance of $R$ ohms.  The following equations hold true:\n",
    "$$ V_C + V_R = \\frac{1}{C}q(t) + Rq'(t) = 0$$\n",
    "The above is a differential equation with the charge in the capacitor, \n",
    "denoted as '$q$', as the dependent variable and time ($t$) as the \n",
    "independent variable.  As such, the general solution for $q(t)$ is of the \n",
    "form:\n",
    "$$ q(t) := q(t \\vert C, R, q_0) = Ae^{mt}$$\n",
    "To solve for $m$, we use the auxiliary equation:\n",
    "$$Rm + \\frac{1}{C} = 0$$\n",
    "$$CRm + 1 = 0$$\n",
    "$$m = - \\frac{1}{CR}$$\n",
    "And to solve for the arbitrary constant, $A \\in \\mathbb{R}$, we use the IVP:\n",
    "$$ q(0) = Ae^{m \\cdot 0} = A = q_0$$\n",
    "This leaves us with the specific solution for the parametric function that \n",
    "gives the charge in the capacitor as a function of time.\n",
    "$$ q(t \\vert C, R, q_0) = q_0e^{mt}$$\n"
   ]
  },
  {
   "cell_type": "code",
   "execution_count": 4,
   "id": "c14a4ffd",
   "metadata": {},
   "outputs": [
    {
     "name": "stdout",
     "output_type": "stream",
     "text": [
      "Help on function gen_charge in module discharge:\n",
      "\n",
      "gen_charge(C, R, q_0)\n",
      "    A parametric function that gives the charge in capacitor as a function\n",
      "    of time.  The parameters are:\n",
      "      C:    The capacitance in farads;\n",
      "      R:    The resistance in ohms;\n",
      "      q_0:  The initial charge in Coloumbs.\n",
      "\n"
     ]
    }
   ],
   "source": [
    "help(discharge.gen_charge)"
   ]
  },
  {
   "cell_type": "markdown",
   "id": "a058ce86",
   "metadata": {},
   "source": [
    "#### Example\n",
    "This is a real life example.  I have a $50$V $10\\mu\\text{F}=10^{-5}$F capacitor that is fully charged.  Via the aforementioned fact, the first equation of this chapter, and substitution, the initial charge is:\n",
    "$$ q_0 = 50 \\text{V} \\cdot 10^{-5}\\text{F}=5 \\cdot 10^{-4}\\text{C}$$\n",
    "Note that the 'C' in the above equation stands for Coloumbs, and is not to be confused with '$C$', the denotation for the capacitance.  \n",
    "Let '$q(t)'$ be defined as:\n",
    "$$ q(t):=q(t \\vert 10\\mu \\text{F}, 560\\Omega, 10^{-4}\\text{C})$$\n",
    "If this were used as a power supply to a circuit containing a resistor with a resistance of $560\\Omega$, then the charge of a function of time would be given by $q(t)$"
   ]
  },
  {
   "cell_type": "code",
   "execution_count": 6,
   "id": "f72d140f",
   "metadata": {},
   "outputs": [
    {
     "data": {
      "text/plain": [
       "9.998214445143572e-05"
      ]
     },
     "execution_count": 6,
     "metadata": {},
     "output_type": "execute_result"
    }
   ],
   "source": [
    "q = discharge.gen_charge(1e-5, 560, 1e-4)\n",
    "q(1e-6)"
   ]
  },
  {
   "cell_type": "markdown",
   "id": "903bde34",
   "metadata": {},
   "source": [
    "As one can see with the code above, the charge goes down very quickly.  After just one micro second, the charge goes down by one order of magnitude."
   ]
  }
 ],
 "metadata": {
  "kernelspec": {
   "display_name": "Python 3",
   "language": "python",
   "name": "python3"
  },
  "language_info": {
   "codemirror_mode": {
    "name": "ipython",
    "version": 3
   },
   "file_extension": ".py",
   "mimetype": "text/x-python",
   "name": "python",
   "nbconvert_exporter": "python",
   "pygments_lexer": "ipython3",
   "version": "3.6.9"
  }
 },
 "nbformat": 4,
 "nbformat_minor": 5
}
