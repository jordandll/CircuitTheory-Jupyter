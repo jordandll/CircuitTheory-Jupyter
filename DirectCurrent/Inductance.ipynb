{
 "cells": [
  {
   "cell_type": "markdown",
   "id": "5be4a127",
   "metadata": {},
   "source": [
    "# Inductance\n",
    "\n",
    "The inductance, denoted as '$L$', of an inductor is given by:\n",
    "\n",
    "\\begin{equation}\\tag{1}\n",
    "\\label{eq:L}\n",
    "    L = \\frac{N^2\\mu A}{l}\n",
    "\\end{equation}\n",
    "Where,\n",
    "* $N$ is the number of turns or cycles in the coil;\n",
    "* $A$ is the cross sectional area of the coil (in meters);\n",
    "* $l$ is the average length of each turn or cycle (in meters);\n",
    "* $\\mu$ is the permeability of the core (absolute, not relative)."
   ]
  },
  {
   "cell_type": "markdown",
   "id": "bc0b9cc9",
   "metadata": {},
   "source": [
    "The standard unit of measurement for inductance is Henries (H)."
   ]
  }
 ],
 "metadata": {
  "kernelspec": {
   "display_name": "Python 3",
   "language": "python",
   "name": "python3"
  },
  "language_info": {
   "codemirror_mode": {
    "name": "ipython",
    "version": 3
   },
   "file_extension": ".py",
   "mimetype": "text/x-python",
   "name": "python",
   "nbconvert_exporter": "python",
   "pygments_lexer": "ipython3",
   "version": "3.8.10"
  }
 },
 "nbformat": 4,
 "nbformat_minor": 5
}
