{
 "cells": [
  {
   "cell_type": "markdown",
   "id": "6fe95b77",
   "metadata": {},
   "source": [
    "# Circuit Theory - Jerzy Rutkowski\n",
    "### *Chapter 2 - DC Analysis*"
   ]
  },
  {
   "cell_type": "markdown",
   "id": "617dcd99",
   "metadata": {},
   "source": [
    "These are the so called drill problems found in Jerzy Rutkowski's online text book about circuit theory."
   ]
  },
  {
   "cell_type": "markdown",
   "id": "1155768b",
   "metadata": {},
   "source": [
    "## *Chapter 2.1* - Circuit Elements"
   ]
  },
  {
   "cell_type": "markdown",
   "id": "6377cab8",
   "metadata": {},
   "source": [
    "**Problem 1**:  \n",
    "\n",
    "The resistance is $R=10\\Omega$.  The power from zero to one seconds is $P=IE=10\\mathrm{W}$.  And, the work down over that time interval is $W_1 = 10\\mathrm{J}$."
   ]
  }
 ],
 "metadata": {
  "kernelspec": {
   "display_name": "Python 3",
   "language": "python",
   "name": "python3"
  },
  "language_info": {
   "codemirror_mode": {
    "name": "ipython",
    "version": 3
   },
   "file_extension": ".py",
   "mimetype": "text/x-python",
   "name": "python",
   "nbconvert_exporter": "python",
   "pygments_lexer": "ipython3",
   "version": "3.8.10"
  }
 },
 "nbformat": 4,
 "nbformat_minor": 5
}
