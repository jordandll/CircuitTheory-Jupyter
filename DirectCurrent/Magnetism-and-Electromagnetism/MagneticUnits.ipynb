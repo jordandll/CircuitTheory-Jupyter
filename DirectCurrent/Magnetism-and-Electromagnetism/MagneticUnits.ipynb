{
 "cells": [
  {
   "cell_type": "markdown",
   "id": "bbb057d9",
   "metadata": {},
   "source": [
    "# Magnetic Units of Measurement\n",
    "\n",
    "If the burden of two systems of measurement for common quantities (English vs. metric) throws your mind into confusion, this is not the place for you! Due to an early lack of standardization in the science of magnetism, we have been plagued with no less than three complete systems of measurement for magnetic quantities.\n",
    "\n",
    "First, we need to become acquainted with the various quantities associated with magnetism. There are quite a few more quantities to be dealt with in magnetic systems than for electrical systems. With electricity, the basic quantities are Voltage (E), Current (I), Resistance (R), and Power (P).\n",
    "\n",
    "The first three are related to one another by Ohm’s Law (E=IR ; I=E/R ; R=E/I), while Power is related to voltage, current, and resistance by Joule’s Law (P=IE ; P=I2R ; P=E2/R).\n",
    "\n",
    " \n",
    "\n",
    "With magnetism, we have the following quantities to deal with:\n",
    "\n",
    "**Magnetomotive Force**—The quantity of magnetic field force, or “push.” Analogous to electric voltage (electromotive force).\n",
    "\n",
    "**Field Flux**—The quantity of total field effect, or “substance” of the field. Analogous to electric current.\n",
    "\n",
    "**Field Intensity**—The amount of field force (mmf) distributed over the length of the electromagnet. Sometimes referred to as Magnetizing Force.\n",
    "\n",
    "**Flux Density**—The amount of magnetic field flux concentrated in a given area.\n",
    "\n",
    "**Reluctance**—The opposition to magnetic field flux through a given volume of space or material. Analogous to electrical resistance.\n",
    "\n",
    "**Permeability**—The specific measure of a material’s acceptance of magnetic flux, analogous to the specific resistance of a conductive material (ρ), except inverse (greater permeability means easier passage of magnetic flux, whereas greater specific resistance means more difficult passage of electric current).\n",
    "\n",
    " \n",
    "\n",
    "But wait . . . the fun is just beginning! Not only do we have more quantities to keep track of with magnetism than with electricity, but we have several different systems of unit measurement for each of these quantities. As with common quantities of length, weight, volume, and temperature, we have both English and metric systems. However, there is actually more than one metric system of units, and multiple metric systems are used in magnetic field measurements!\n",
    "\n",
    "One is called the cgs, which stands for Centimeter-Gram-Second, denoting the root measures upon which the whole system is based. The other was originally known as the mks system, which stood for Meter-Kilogram-Second, which was later revised into another system, called rmks, standing for Rationalized Meter-Kilogram-Second. This ended up being adopted as an international standard and renamed SI (Systeme International).\n",
    "\n",
    "![TableOfUnits](https://www.allaboutcircuits.com/uploads/articles/magnetic-units-of-measurement-table.jpg)"
   ]
  },
  {
   "cell_type": "markdown",
   "id": "f1ee5f37",
   "metadata": {},
   "source": [
    "And yes, the µ symbol is really the same as the metric prefix “micro.” I find this especially confusing, using the exact same alphabetical character to symbolize both a specific quantity and a general metric prefix!\n",
    "\n",
    "As you might have guessed already, the relationship between field force, field flux, and reluctance is much the same as that between the electrical quantities of electromotive force (E), current (I), and resistance (R). This provides something akin to an Ohm’s Law for magnetic circuits:\n",
    "\n",
    "$$ E = RI$$\n",
    "\n",
    "$$ \\text{mmf} = \\Phi \\mathfrak{R}$$\n",
    "\n",
    "And, given that permeability is inversely analogous to specific resistance, the equation for finding the reluctance of a magnetic material is very similar to that for finding the resistance of a conductor:\n",
    "\n",
    "$$ R = \\rho \\frac{l}$$"
   ]
  }
 ],
 "metadata": {
  "kernelspec": {
   "display_name": "Python 3",
   "language": "python",
   "name": "python3"
  },
  "language_info": {
   "codemirror_mode": {
    "name": "ipython",
    "version": 3
   },
   "file_extension": ".py",
   "mimetype": "text/x-python",
   "name": "python",
   "nbconvert_exporter": "python",
   "pygments_lexer": "ipython3",
   "version": "3.8.10"
  }
 },
 "nbformat": 4,
 "nbformat_minor": 5
}
