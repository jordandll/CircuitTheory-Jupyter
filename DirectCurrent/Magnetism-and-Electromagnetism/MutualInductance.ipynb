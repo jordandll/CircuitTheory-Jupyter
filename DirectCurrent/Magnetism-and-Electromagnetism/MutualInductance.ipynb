{
 "cells": [
  {
   "cell_type": "markdown",
   "id": "146ed0b4",
   "metadata": {},
   "source": [
    "# Mutual Induction\n",
    "\n",
    "![illustration-equations](https://www.allaboutcircuits.com/uploads/articles/basic-transformer-operation.jpg)"
   ]
  },
  {
   "cell_type": "markdown",
   "id": "09f706d2",
   "metadata": {},
   "source": [
    "$$ e = N \\frac{d\\Phi}{dt} = N\\Phi'(t)$$"
   ]
  },
  {
   "cell_type": "markdown",
   "id": "570a3f36",
   "metadata": {},
   "source": [
    "### Proving the First Equation\n",
    "\n",
    "$$ V_P := E_P = N_P \\frac{d\\Phi}{dt}$$\n",
    "\n",
    "$$ \\Phi'(t) = \\frac{d\\Phi}{dt} = \\frac{V_P}{N_P}$$\n",
    "\n",
    "$$ V_S := E_S = N_S \\frac{d\\Phi}{dt}$$\n",
    "\n",
    "$$ \\frac{d\\Phi}{dt} = \\frac{V_S}{N_S}$$\n",
    "\n",
    "Via equivalance principle,\n",
    "$$ \\frac{V_S}{N_S} = \\frac{V_P}{N_P}$$\n",
    "\n",
    "$$ \\frac{N_P}{N_S} = \\frac{V_P}{V_S}$$"
   ]
  },
  {
   "cell_type": "markdown",
   "id": "cddabe6b",
   "metadata": {},
   "source": [
    "### Proving the Second Equation"
   ]
  }
 ],
 "metadata": {
  "kernelspec": {
   "display_name": "Python 3",
   "language": "python",
   "name": "python3"
  },
  "language_info": {
   "codemirror_mode": {
    "name": "ipython",
    "version": 3
   },
   "file_extension": ".py",
   "mimetype": "text/x-python",
   "name": "python",
   "nbconvert_exporter": "python",
   "pygments_lexer": "ipython3",
   "version": "3.6.9"
  }
 },
 "nbformat": 4,
 "nbformat_minor": 5
}
