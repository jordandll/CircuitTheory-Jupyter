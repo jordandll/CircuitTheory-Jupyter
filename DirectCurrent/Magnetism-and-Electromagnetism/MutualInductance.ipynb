{
 "cells": [
  {
   "cell_type": "markdown",
   "id": "146ed0b4",
   "metadata": {},
   "source": [
    "# Mutual Induction\n",
    "\n",
    "![illustration-equations](https://www.allaboutcircuits.com/uploads/articles/basic-transformer-operation.jpg)"
   ]
  },
  {
   "cell_type": "markdown",
   "id": "09f706d2",
   "metadata": {},
   "source": [
    "\\begin{equation}\\tag{0}\n",
    "    e = N \\frac{\\mathrm{d}\\Phi}{\\mathrm{d}t} = N\\Phi'(t)\n",
    "\\end{equation}    "
   ]
  },
  {
   "cell_type": "markdown",
   "id": "570a3f36",
   "metadata": {},
   "source": [
    "### Proving the First Equation\n",
    "\n",
    "$$ V_P := E_P = N_P \\frac{\\mathrm{d}\\Phi}{\\mathrm{d}t}$$\n",
    "\n",
    "$$ \\Phi'(t) = \\frac{\\mathrm{d}\\Phi}{\\mathrm{d}t} = \\frac{V_P}{N_P}$$\n",
    "\n",
    "$$ V_S := E_S = N_S \\frac{\\mathrm{d}\\Phi}{\\mathrm{d}t}$$\n",
    "\n",
    "$$ \\frac{\\mathrm{d}\\Phi}{\\mathrm{d}t} = \\frac{V_S}{N_S}$$\n",
    "\n",
    "Via equivalance principle,\n",
    "$$ \\frac{V_S}{N_S} = \\frac{V_P}{N_P}$$\n",
    "\n",
    "\\begin{equation}\\tag{1}\n",
    "    \\frac{N_P}{N_S} = \\frac{V_P}{V_S}\n",
    "\\end{equation}    "
   ]
  },
  {
   "cell_type": "markdown",
   "id": "cddabe6b",
   "metadata": {},
   "source": [
    "### Proving the Second Equation"
   ]
  },
  {
   "cell_type": "markdown",
   "id": "950dd898",
   "metadata": {},
   "source": [
    "Via,\n",
    "$$ e = L \\, \\frac{\\mathrm{d}i}{\\mathrm{d}t}\\,\\text{,}$$\n",
    "\n",
    "equation (0), and equivalence principle,"
   ]
  },
  {
   "cell_type": "markdown",
   "id": "f62eff78",
   "metadata": {},
   "source": [
    "$$ L\\,i'(t) = N\\,\\Phi'(t)$$"
   ]
  },
  {
   "cell_type": "markdown",
   "id": "35f5176a",
   "metadata": {},
   "source": [
    "Integrating throughout with respect to time gives:\n",
    "\n",
    "$$ Li = N\\Phi$$"
   ]
  },
  {
   "cell_type": "markdown",
   "id": "cd324159",
   "metadata": {},
   "source": [
    "Applying the above equation to our primary and secondary widing, we get:\n",
    "\n",
    "$$ L_pI_p = N_p \\Phi$$\n",
    "\n",
    "and,\n",
    "$$ L_sI_s = N_s \\Phi$$"
   ]
  },
  {
   "cell_type": "markdown",
   "id": "0f23a976",
   "metadata": {},
   "source": [
    "Remember that the magnetic flux, denoted as '$\\Phi$', is shared between the two inductors."
   ]
  },
  {
   "cell_type": "markdown",
   "id": "9a9996e4",
   "metadata": {},
   "source": [
    "Via the above two equations and equivalence principle,\n",
    "\n",
    "$$ \\frac{L_pI_p}{N_p} = \\frac{L_sI_s}{N_s}$$"
   ]
  },
  {
   "cell_type": "markdown",
   "id": "b9a3870e",
   "metadata": {},
   "source": [
    "Dividing throughout by $I_s$ and multiplying throughout by $N_p$, we get:\n",
    "\n",
    "$$ \\frac{L_pI_p}{I_s} = \\frac{L_sN_p}{N_s}$$"
   ]
  },
  {
   "cell_type": "markdown",
   "id": "ec22d10e",
   "metadata": {},
   "source": [
    "Dividing throughout by $L_s$ gives:\n",
    "\n",
    "$$ \\frac{L_p}{L_s}\\,\\frac{I_p}{I_s} = \\frac{N_p}{N_s}$$"
   ]
  },
  {
   "cell_type": "markdown",
   "id": "12401155",
   "metadata": {},
   "source": [
    "Assuming the cross sectional area ($A$) and average length of each turn or cycle ($l$) of both windings is equal, via equation (1) in the [Inductance](../Inductance.ipynb) chapter,"
   ]
  },
  {
   "cell_type": "markdown",
   "id": "203d9534",
   "metadata": {},
   "source": [
    "$$ \\frac{L_p}{L_s} = \\frac{N_p^2}{N_s^2}$$"
   ]
  },
  {
   "cell_type": "markdown",
   "id": "833cb42c",
   "metadata": {},
   "source": [
    "Via the above two equations and substitution,\n",
    "\n",
    "$$ \\frac{N_p^2}{N_s^2} \\frac{I_p}{I_s} = \\frac{N_p}{N_s}$$"
   ]
  },
  {
   "cell_type": "markdown",
   "id": "aae9d358",
   "metadata": {},
   "source": [
    "Which gives us,\n",
    "\n",
    "\\begin{equation}\\tag{2}\n",
    "    \\frac{I_p}{I_s} = \\frac{N_s}{N_p}\n",
    "\\end{equation}    "
   ]
  },
  {
   "cell_type": "markdown",
   "id": "6836398d",
   "metadata": {},
   "source": [
    "## In terms of Inductance\n",
    "\n",
    "The **voltage transformation ratio** can be expressed in terms of $L$ instead of $N$."
   ]
  },
  {
   "cell_type": "markdown",
   "id": "bb9e1d95",
   "metadata": {},
   "source": [
    "Recall that, assuming $A$ and $l$ are equal in both coils:\n",
    "\n",
    "\\begin{equation}\\tag{3}\n",
    "    \\frac{L_p}{L_s} = \\frac{N_p^2}{N_s^2}\n",
    "\\end{equation}    "
   ]
  },
  {
   "cell_type": "markdown",
   "id": "056a0c5b",
   "metadata": {},
   "source": [
    "Flipping both sides gives:\n",
    "\n",
    "\\begin{equation}\\tag{3}\n",
    "    \\frac{L_s}{L_p} = \\frac{N_s^2}{N_p^2}\n",
    "\\end{equation}    "
   ]
  },
  {
   "cell_type": "markdown",
   "id": "4e590591",
   "metadata": {},
   "source": [
    "Taking the square root of both sides gives:\n",
    "\n",
    "\\begin{equation}\\tag{3}\n",
    "    \\sqrt{\\frac{L_s}{L_p}} = \\frac{N_s}{N_p}\n",
    "\\end{equation}    "
   ]
  },
  {
   "cell_type": "markdown",
   "id": "819def18",
   "metadata": {},
   "source": [
    "Via the above equation, equation (1), and equivalence principle,\n",
    "\n",
    "\\begin{equation}\\tag{4}\n",
    "    \\frac{E_s}{E_p} := \\frac{V_s}{V_p} = \\sqrt{\\frac{L_s}{L_p}}\n",
    "\\end{equation}    "
   ]
  },
  {
   "cell_type": "markdown",
   "id": "93309916",
   "metadata": {},
   "source": [
    "The **current transformation ratio** can also be expressed in terms of $L$ instead of $N$."
   ]
  },
  {
   "cell_type": "markdown",
   "id": "4e8385e2",
   "metadata": {},
   "source": [
    "Via equations (3) and (2) in conjunction with equivalence principle,\n",
    "\n",
    "\\begin{equation}\\tag{5}\n",
    "    \\frac{I_p}{I_s} = \\sqrt{\\frac{L_s}{L_p}}\n",
    "\\end{equation}    "
   ]
  }
 ],
 "metadata": {
  "kernelspec": {
   "display_name": "Python 3",
   "language": "python",
   "name": "python3"
  },
  "language_info": {
   "codemirror_mode": {
    "name": "ipython",
    "version": 3
   },
   "file_extension": ".py",
   "mimetype": "text/x-python",
   "name": "python",
   "nbconvert_exporter": "python",
   "pygments_lexer": "ipython3",
   "version": "3.8.10"
  }
 },
 "nbformat": 4,
 "nbformat_minor": 5
}
