{
 "cells": [
  {
   "cell_type": "markdown",
   "id": "7da7d2d8",
   "metadata": {},
   "source": [
    "# Network Analysis\n",
    "\n",
    "# Millman's Theorem\n",
    "\n",
    "In Millman’s Theorem, the circuit is re-drawn as a parallel network of branches, each branch containing a resistor or series battery/resistor combination. Millman’s Theorem is applicable only to those circuits which can be redrawn accordingly. Here again, is our example circuit used for the last two analysis methods:\n",
    "\n",
    "![example-circuit](https://www.allaboutcircuits.com/uploads/articles/parallel-network-branches-circuit.jpg)"
   ]
  },
  {
   "cell_type": "markdown",
   "id": "a41479b0",
   "metadata": {},
   "source": [
    "Here is the same circuit redrawn to better illustrate the three branchs that we will be working with.\n",
    "![example-circuit](https://www.allaboutcircuits.com/uploads/articles/parallel-network-branches-circuit-two.jpg)"
   ]
  },
  {
   "cell_type": "markdown",
   "id": "e125bf99",
   "metadata": {},
   "source": [
    "## Millman’s Theorem Equation\n",
    "\n",
    "\\begin{equation}\\tag{1}\n",
    "\\label{eq:millman}\n",
    "    \\frac{\\frac{E_{B1}}{R_1} + \\frac{E_{B2}}{R_2} + \\frac{E_{B3}}{R_3}}{\\frac{1}{R_1} + \\frac{1}{R_2} + \\frac{1}{R_3}} = \\text{Voltage running across each branch}\n",
    "\\end{equation}"
   ]
  },
  {
   "cell_type": "markdown",
   "id": "af750302",
   "metadata": {},
   "source": [
    "This equation can be further generalized to any circuit with a number of branches ($n$) greater than one.\n",
    "\\begin{equation}\\tag{\\ref{eq:millman}}\n",
    "\\frac{\\frac{E_{B1}}{R_1} + \\frac{E_{B2}}{R_2} + \\dotsb + \\frac{E_{Bn}}{R_n}}{\\frac{1}{R_1} + \\frac{1}{R_2} + \\dotsb + \\frac{1}{R_n}} = \\text{Voltage running across each branch}\n",
    "\\end{equation}\n",
    "\n",
    "where\n",
    "$$ n \\in \\mathbb{N} \\text{ and } n > 1$$"
   ]
  },
  {
   "cell_type": "markdown",
   "id": "fb5d1d7b",
   "metadata": {},
   "source": [
    "For our circuit, that gives us:"
   ]
  },
  {
   "cell_type": "code",
   "execution_count": 1,
   "id": "ab8e002b",
   "metadata": {},
   "outputs": [
    {
     "data": {
      "text/plain": [
       "8.0"
      ]
     },
     "execution_count": 1,
     "metadata": {},
     "output_type": "execute_result"
    }
   ],
   "source": [
    "(28/4 + 0 + 7/1)/(1/4 + 1/2 + 1)"
   ]
  },
  {
   "cell_type": "markdown",
   "id": "32e6540c",
   "metadata": {},
   "source": [
    "The voltage running across each branch, henceforth '$E$', is equal to $8\\text{V}$.\n",
    "\n",
    "$$ E = 8\\text{V}$$"
   ]
  },
  {
   "cell_type": "markdown",
   "id": "ade19bac",
   "metadata": {},
   "source": [
    "Which leads to the following:\n",
    "$$ E_{B1} + E_{R1} = 8\\text{V}$$\n",
    "$$ E_{R1} = (8 - 28)\\text{V} = -20\\text{V}$$\n",
    "\n",
    "$$ E_{B2} + E_{R2} = 8\\text{V}$$\n",
    "$$ E_{R2} = 8\\text{V}$$\n",
    "\n",
    "$$ E_{B3} + E_{R3} = 8\\text{V}$$\n",
    "$$ E_{R3} = (8- 7)\\text{V} = 1\\text{V}$$"
   ]
  },
  {
   "cell_type": "markdown",
   "id": "e00e3c53",
   "metadata": {},
   "source": [
    "The above equations assume the following polarities:\n",
    "![example-circuit-poles-1](parallel-network-branches-circuit-two.png)"
   ]
  },
  {
   "cell_type": "markdown",
   "id": "0d25386f",
   "metadata": {},
   "source": [
    "If we reverse the poles of $R_1$ then $E_{R1}$ becomes positive and the current flowing through it, denoted as '$I_1$', flows towards the junction between the three branches, labeled '$J$' in the diagram below.  The current flowing through $R_3$ and the third branch, denoted as '$I_3$', flows away from said junction, which is at the top end of the second or middle branch.\n",
    "![example-circuit-2](parallel-network-branches-circuit-two-2.png)"
   ]
  },
  {
   "cell_type": "markdown",
   "id": "bfbe25ca",
   "metadata": {},
   "source": [
    "Assuming the above polarities:\n",
    "$$ E_{R1} = 4\\Omega I_1=  20\\text{V}$$\n",
    "$$ E_{R2} = 2\\Omega I_2 =8\\text{V} $$\n",
    "$$ E_{R3} = 1\\Omega I_3 =1\\text{V}$$\n",
    "\n",
    "Via the above three equations,\n",
    "$$ I_1 = 5\\text{A}$$\n",
    "$$ I_2 = 4\\text{A}$$\n",
    "$$ I_3 = 1\\text{A}$$"
   ]
  },
  {
   "cell_type": "markdown",
   "id": "bd3104ce",
   "metadata": {},
   "source": [
    "Now, is the above consistent with KCL, which says that:\n",
    "$$ I_1 - I_2 - I_3 = 0$$\n",
    "\n",
    "Via the above four equations and substitution,\n",
    "$$ 5 - 4 - 1 = 5-5 =0$$\n",
    "\n",
    "Yes, it is!"
   ]
  },
  {
   "cell_type": "markdown",
   "id": "49c94f30",
   "metadata": {},
   "source": [
    "# Superposition Theorem\n",
    "\n",
    "Superposition theorem is one of those strokes of genius that takes a complex subject and simplifies it in a way that makes perfect sense. A theorem like Millman’s certainly works well, but it is not quite obvious why it works so well. Superposition, on the other hand, is obvious.\n",
    "\n",
    "## Series/Parallel Analysis\n",
    "\n",
    "The strategy used in the Superposition Theorem is to eliminate all but one source of power within a network at a time, using series/parallel analysis to determine voltage drops (and/or currents) within the modified network for each power source separately. Then, once voltage drops and/or currents have been determined for each power source working separately, the values are all “superimposed” on top of each other (added algebraically) to find the actual voltage drops/currents with all sources active. Let’s look at our example circuit again and apply Superposition Theorem to it:\n",
    "\n",
    "![circuit-example](https://www.allaboutcircuits.com/uploads/articles/series-parallel-analysis-circuit1.jpg)"
   ]
  },
  {
   "cell_type": "markdown",
   "id": "4cddef14",
   "metadata": {},
   "source": [
    "### Battery One\n",
    "\n",
    "First, we will ignore $B_2$ and analyse the circuit defined by '$E_{B1}--R_1--R_2//R_3$'.\n",
    "\n",
    "$$ E_{B1} = R_T I$$\n",
    "\n",
    "$$ R_T = R_1 + \\frac{1}{D}$$\n",
    "\n",
    "$$ D = \\frac{1}{R_2} + \\frac{1}{R_3} = (0.5 + 1)\\frac{1}{\\Omega} = 1.5\\Omega^{-1} = 1.5\\text{S}$$\n",
    "\n",
    "$$ R_T = 4\\Omega + \\frac{2}{3}\\Omega$$\n",
    "\n",
    "\\begin{equation}\\tag{2}\n",
    "\\label{eq:I-B_1}\n",
    "    I = \\frac{E_{B1}}{R_T} = \\frac{28 \\cdot 3}{14}\\frac{\\text{V}}{\\Omega} = 6\\text{A}\n",
    "\\end{equation}"
   ]
  },
  {
   "cell_type": "markdown",
   "id": "d5397b4e",
   "metadata": {},
   "source": [
    "Next, we subsequently find the voltage dropped across the each component, the values of which will be superimposed upon the values of the voltages dropped across each component while ignoring $B_1$.  \n",
    "\n",
    "\\begin{equation}\\tag{3}\n",
    "\\label{eq:E_R1-B_1}\n",
    "    E_{R1} = R_1I = 4\\Omega \\cdot 6\\text{A} = 24\\text{V}\n",
    "\\end{equation}\n",
    "\n",
    "$$ E_{B1} = E_{R1} + E_{R2}$$\n",
    "$$ E_{R2} = E_{R3}$$\n",
    "\n",
    "Via the above three equations,\n",
    "\\begin{equation}\\tag{4}\n",
    "E_{R2} = E_{R3} = E_{B1} - E_{R1} = (28-24)\\text{V} = 4\\text{V}\n",
    "\\end{equation}"
   ]
  },
  {
   "cell_type": "markdown",
   "id": "4e6a3e11",
   "metadata": {},
   "source": [
    "Finally, we can find the currents flowing through each branch of $R_2//R_3$.  Via Ohm's Law,\n",
    "$$ E_{R2} = R_2I_a$$\n",
    "\\begin{equation}\\tag{5}\n",
    "\\label{eq:I_a-B_1}\n",
    "    I_a = \\frac{E_{R2}}{R_2} = 2\\text{A}\n",
    "\\end{equation}\n",
    "\n",
    "$$ E_{R3} = R_3I_b$$\n",
    "\\begin{equation}\\tag{6}\n",
    "\\label{eq:I_b-B_1}\n",
    "    I_b = \\frac{E_{R3}}{R_3} = 4\\text{A}\n",
    "\\end{equation}"
   ]
  },
  {
   "cell_type": "markdown",
   "id": "c496a5f3",
   "metadata": {},
   "source": [
    "Please note that the positive pole of $R_1$ is on it's left; R_2: it's top; and $R_3$: it's left."
   ]
  },
  {
   "cell_type": "markdown",
   "id": "ecef9246",
   "metadata": {},
   "source": [
    "### Battery Two\n",
    "\n",
    "Now, we ignore $B_1$ and analyse the circuit defined by '$E_{B2}--R_3--R_2//R_1$'.\n",
    "\n",
    "$$ E_{B2} = R_TI$$\n",
    "\n",
    "$$ R_T = R_3 + \\frac{1}{D}$$\n",
    "\n",
    "$$ D = \\frac{1}{R_2} + \\frac{1}{R_1} = (0.5 + 0.25)\\Omega^{-1} = \\frac{3}{4}\\Omega^{-1}$$\n",
    "\n",
    "$$ R_T = 1\\Omega + \\frac{4}{3}\\Omega = \\frac{7}{3}\\Omega$$\n",
    "\n",
    "\\begin{equation}\\tag{1.2}\n",
    "\\label{eq:I-B_2}\n",
    "    I=\\frac{E_{B2}}{R_T} = \\frac{3 \\cdot 7}{7} \\text{A} = 3\\text{A}\n",
    "\\end{equation}"
   ]
  },
  {
   "cell_type": "markdown",
   "id": "921ad9e2",
   "metadata": {},
   "source": [
    "Next, we find the individual voltage drops.  Via Ohm's Law,\n",
    "\n",
    "$$ E_{R3} = R_3I = 1\\Omega3\\text{A} = 3\\text{V}$$\n",
    "\n",
    "Via KVL,\n",
    "$$ E_{B2} = E_{R3} + E_{R2}$$\n",
    "\n",
    "Via the above equation in conjunction with:\n",
    "$$ E_{R2} = E_{R1}$$\n",
    "\n",
    "we have:\n",
    "$$ E_{R2}=E_{R1}=E_{B2} - E_{R3} = (7-3)\\text{V} = 4\\text{V}$$"
   ]
  },
  {
   "cell_type": "markdown",
   "id": "ac444121",
   "metadata": {},
   "source": [
    "With that, we can now find the branch currents of $R_2//R_1$.  Via Ohm's Law,\n",
    "\n",
    "$$ E_{R2} = R_2I_a$$\n",
    "\n",
    "$$ I_a = \\frac{E_{R2}}{R_2} = 2\\text{A}$$\n",
    "\n",
    "$$ E_{R1} = R_1I_b$$\n",
    "\n",
    "$$ I_b = 1\\text{A}$$"
   ]
  },
  {
   "cell_type": "markdown",
   "id": "02371534",
   "metadata": {},
   "source": [
    "Please note that the positive pole of $R_3$ is on it's right; $R_2$: it's top; and $R_1$: it's right.  Basically, the poles of $R_1$ and $R_3$ are inverted with respect to the $B_1$ circuit, while $R_2$ remains the same."
   ]
  },
  {
   "cell_type": "markdown",
   "id": "1f5d2228",
   "metadata": {},
   "source": [
    "### Both Batteries\n",
    "\n",
    "To find the voltage dropped across and the currents flowing through each resistor when both batteries are considered part of the circuit we shall superimpose the voltage drops found while ignoring one of the batteries onto each other.\n",
    "\n",
    "$$ E_{R1} = (24-4)\\text{V} = 20\\text{V}$$\n",
    "\n",
    "$$ E_{R2} = (4+4) \\text{V} = 8\\text{V}$$\n",
    "\n",
    "$$ E_{R3} = (4-3)\\text{V}=1\\text{V} $$\n",
    "\n",
    "Note that the paradigm used in the above equations is such that the polarities of each component are the same as they are when $B_2$ is ignored.  \n",
    "\n",
    "The currents flowing through each component can be found via the above three equations in conjunction with Ohm's Law.\n",
    "\n",
    "$$ E_{R1} = R_1I_1$$\n",
    "\n",
    "$$ I_1 = 5\\text{A}$$\n",
    "\n",
    "$$ E_{R2} = R_2 I_2$$\n",
    "\n",
    "$$ I_2 = 4\\text{A}$$\n",
    "\n",
    "$$ E_{R3} = R_3I_3$$\n",
    "\n",
    "$$ I_3 = 1\\text{V}$$"
   ]
  },
  {
   "cell_type": "markdown",
   "id": "94abdd5b",
   "metadata": {},
   "source": [
    "The above is consistent with KCL, which says that:\n",
    "$$ I_1 - I_2 - I_3 = 0$$\n",
    "\n",
    "$$ 5-4-1=0$$"
   ]
  },
  {
   "cell_type": "markdown",
   "id": "af629aa1",
   "metadata": {},
   "source": [
    "# Thevenin’s Theorem \n",
    "\n",
    "Thevenin’s Theorem states that it is possible to simplify any linear circuit, no matter how complex, to an equivalent circuit with just a single voltage source and series resistance connected to a load. The qualification of “linear” is identical to that found in the Superposition Theorem, where all the underlying equations must be linear (no exponents or roots). If we’re dealing with passive components (such as resistors, and later, inductors and capacitors), this is true. However, there are some components (especially certain gas-discharge and semiconductor components) which are nonlinear: that is, their opposition to current changes with voltage and/or current. As such, we would call circuits containing these types of components, nonlinear circuits."
   ]
  },
  {
   "cell_type": "markdown",
   "id": "36a8fb13",
   "metadata": {},
   "source": [
    "## Thevenin’s Theorem in Power Systems\n",
    "\n",
    "Thevenin’s Theorem is especially useful in analyzing power systems and other circuits where one particular resistor in the circuit (called the “load” resistor) is subject to change, and re-calculation of the circuit is necessary with each trial value of load resistance, to determine the voltage across it and current through it. Let’s take another look at our example circuit:\n",
    "\n",
    "![example-circuit](https://www.allaboutcircuits.com/uploads/articles/series-parallel-analysis-circuit1.jpg)"
   ]
  },
  {
   "cell_type": "markdown",
   "id": "102ab32f",
   "metadata": {},
   "source": [
    "Let’s suppose that we decide to designate R2 as the “load” resistor in this circuit. We already have four methods of analysis at our disposal (Branch Current, Mesh Current, Millman’s Theorem, and Superposition Theorem) to use in determining the voltage across R2 and current through R2, but each of these methods are time-consuming. Imagine repeating any of these methods over and over again to find what would happen if the load resistance changed (changing load resistance is very common in power systems, as multiple loads get switched on and off as needed. the total resistance of their parallel connections changing depending on how many are connected at a time). This could potentially involve a lot of work! "
   ]
  },
  {
   "cell_type": "markdown",
   "id": "3946aa8d",
   "metadata": {},
   "source": [
    "## Thevenin Equivalent Circuit\n",
    "\n",
    "Thevenin’s Theorem makes this easy by temporarily removing the load resistance from the original circuit and reducing what’s left to an equivalent circuit composed of a single voltage source and series resistance. The load resistance can then be re-connected to this “Thevenin equivalent circuit” and calculations carried out as if the whole network were nothing but a simple series circuit:\n",
    "![equivalent-example-circuit](https://www.allaboutcircuits.com/uploads/articles/thevenin-equivalent-circuit-diagram1.jpg)"
   ]
  },
  {
   "cell_type": "markdown",
   "id": "ee30429e",
   "metadata": {},
   "source": [
    ".. . after Thevenin conversion . . .\n",
    "![thevenin-equivalent-circuit](https://www.allaboutcircuits.com/uploads/articles/thevenin-equivalent-circuit-diagram2.jpg)"
   ]
  },
  {
   "cell_type": "markdown",
   "id": "a9471e3c",
   "metadata": {},
   "source": [
    "## Determine Thevenin Voltage\n",
    "\n",
    "To find the Thevenin voltage, denoted as '$E_\\text{Thevenin}$', we first find the voltage dropped across each resistor in the original circuit with $R_2$ removed along with the branch that it rests on, creating an opening in the circuit where it used to be.\n",
    "![modified-circuit](https://www.allaboutcircuits.com/uploads/articles/thenin-equivalent-circuit-diagram1.jpg)"
   ]
  },
  {
   "cell_type": "markdown",
   "id": "c4762762",
   "metadata": {},
   "source": [
    "Via KVL,\n",
    "$$ 28\\text{V} - 7\\text{V} - E_{R1} - E_{R3} = 0$$\n",
    "$$ E_{R1} + E_{R3} = 21\\text{V}$$\n",
    "\n",
    "Via the above in conjunction with Ohm's Law,\n",
    "$$ 21\\text{V} = R_TI = (R_1+R_3)I = E_{R1} + E_{R3} = 5\\Omega I$$\n",
    "\n",
    "$$ I = \\frac{21}{5} \\text{A}$$"
   ]
  },
  {
   "cell_type": "code",
   "execution_count": 1,
   "id": "d44feab6",
   "metadata": {},
   "outputs": [
    {
     "data": {
      "text/plain": [
       "4.2"
      ]
     },
     "execution_count": 1,
     "metadata": {},
     "output_type": "execute_result"
    }
   ],
   "source": [
    "I = 21/5\n",
    "I"
   ]
  },
  {
   "cell_type": "markdown",
   "id": "d0d40b4d",
   "metadata": {},
   "source": [
    "Via Ohm's Law,\n",
    "$$ E_{R1} = 4\\Omega \\cdot 4.2 \\text{A} = 16.8\\text{V}$$"
   ]
  },
  {
   "cell_type": "code",
   "execution_count": 3,
   "id": "7924cafd",
   "metadata": {},
   "outputs": [
    {
     "data": {
      "text/plain": [
       "16.8"
      ]
     },
     "execution_count": 3,
     "metadata": {},
     "output_type": "execute_result"
    }
   ],
   "source": [
    "E_R1 = 4*4.2\n",
    "E_R1"
   ]
  },
  {
   "cell_type": "markdown",
   "id": "7bfea538",
   "metadata": {},
   "source": [
    "$$E_{R3} = 1\\Omega \\cdot 4.2\\text{A} = 4.2\\text{V}$$"
   ]
  },
  {
   "cell_type": "markdown",
   "id": "fa31488f",
   "metadata": {},
   "source": [
    "Please note that this section assumes that the positive poles of $B_1$ and $B_2$ are on their respective top ends while the positive poles of the resistors are on their respective left ends."
   ]
  },
  {
   "cell_type": "markdown",
   "id": "9f737550",
   "metadata": {},
   "source": [
    "Now, to find the voltage dropped across the opening where the load used to be, denoted as '$E_\\text{load}$', we shall use KVL.  Via KVL, assuming the positive pole of $B_1$ is on it's bottom, the positive pole of $R_1$ is on it's left, and the positive pole of the load opening is on it's top,\n",
    "$$ -28\\text{V} + 16.8\\text{V} + E_\\text{load} = 0$$\n",
    "\n",
    "$$ E_\\text{load} = (28-16.8)\\text{V}$$"
   ]
  },
  {
   "cell_type": "code",
   "execution_count": 6,
   "id": "1efa6579",
   "metadata": {},
   "outputs": [
    {
     "data": {
      "text/latex": [
       "$\\displaystyle E_\\text{load} = 11.2\\text{V}$"
      ],
      "text/plain": [
       "<IPython.core.display.Math object>"
      ]
     },
     "execution_count": 6,
     "metadata": {},
     "output_type": "execute_result"
    }
   ],
   "source": [
    "from IPython.display import Math\n",
    "E_load = 28-16.8\n",
    "Math(r'E_\\text{load} = ' + str(E_load) + r'\\text{V}')"
   ]
  },
  {
   "cell_type": "markdown",
   "id": "99439e7a",
   "metadata": {},
   "source": [
    "This is our \"Thevenin's voltage\" ($E_\\text{Thevenin}$).\n",
    "![thevenin-equivalent-circuit](https://www.allaboutcircuits.com/uploads/articles/thevenin-resistance-equivalent-circuit-diagram3_1.jpg)"
   ]
  },
  {
   "cell_type": "markdown",
   "id": "4fa69ca3",
   "metadata": {},
   "source": [
    "## Finding the Thevenin Resistance\n",
    "\n",
    "To find $R_\\text{Thevenin}$ we need to take the orginal circuit with the load removed, which creates the aforementioned opening in the branch of the circuit that it once rested on, along with both batteries and find the resistance between the two terminals of the load opening.  This resistance is given by the $R_1$ and $R_3$ in parallel ($R_1//R_3$).\n",
    "\n",
    "$$ R_\\text{Thevenin} = \\frac{1}{D}$$\n",
    "\n",
    "$$ D = \\frac{1}{R_1} + \\frac{1}{R_3} = (0.25 + 1)\\Omega^{-1} = \\frac{5}{4}\\Omega^{-1}$$\n",
    "\n",
    "Thus,\n",
    "$$ R_\\text{Thevenin} = \\frac{4}{5}\\Omega = 0.8\\Omega$$"
   ]
  },
  {
   "cell_type": "markdown",
   "id": "ca78a5fe",
   "metadata": {},
   "source": [
    "## Voltage Running Across the Load\n",
    "\n",
    "To find the voltage dropped across the load we find the total current via Ohm's Law.\n",
    "\n",
    "$$ E:=E_\\text{Thevenin} = R_TI = (0.8 + 2)\\Omega \\cdot I = \\frac{14}{5}\\Omega \\cdot I$$\n",
    "\n",
    "$$ I = \\frac{11.2\\text{V}}{2.8\\Omega}$$"
   ]
  },
  {
   "cell_type": "code",
   "execution_count": 7,
   "id": "ea9e50ef",
   "metadata": {},
   "outputs": [
    {
     "data": {
      "text/plain": [
       "4.0"
      ]
     },
     "execution_count": 7,
     "metadata": {},
     "output_type": "execute_result"
    }
   ],
   "source": [
    "I = 11.2/2.8\n",
    "I"
   ]
  },
  {
   "cell_type": "markdown",
   "id": "2a14ee80",
   "metadata": {},
   "source": [
    "$$I = 4\\text{A}$$\n",
    "\n",
    "Via Ohm's Law,\n",
    "$$ E_\\text{load} = 2\\Omega \\cdot 4\\text{A} = 8\\text{V}$$"
   ]
  },
  {
   "cell_type": "markdown",
   "id": "53ed9515",
   "metadata": {},
   "source": [
    "# Norton's Theorem\n",
    "\n",
    "Norton’s Theorem states that it is possible to simplify any linear circuit, no matter how complex, to an equivalent circuit with just a single current source and parallel resistance connected to a load. Just as with Thevenin’s Theorem, the qualification of “linear” is identical to that found in the Superposition Theorem: all underlying equations must be linear (no exponents or roots).\n",
    "\n",
    "## Simplifying Linear Circuits\n",
    "\n",
    "Contrasting our original example circuit against the Norton equivalent: it looks something like this:\n",
    "![example-circuit](https://www.allaboutcircuits.com/uploads/articles/series-parallel-analysis-circuit1.jpg)\n",
    "\n",
    ". . . after Norton conversion . . .\n",
    "![norton-equivalent-circuit](https://www.allaboutcircuits.com/uploads/articles/norton-equivalent-circuit-diagram1.jpg)"
   ]
  },
  {
   "cell_type": "markdown",
   "id": "27b4c4ff",
   "metadata": {},
   "source": [
    "## Identify The Load Resistance\n",
    "\n",
    "As before, the first step is to identify the load resistance and remove it from the original circuit:\n",
    "![load-removed-circuit](https://www.allaboutcircuits.com/uploads/articles/thenin-equivalent-circuit-diagram1.jpg)"
   ]
  },
  {
   "cell_type": "markdown",
   "id": "4bcf751b",
   "metadata": {},
   "source": [
    "## Find the Norton Current\n",
    "\n",
    "Then, to find the Norton current (for the current source in the Norton equivalent circuit), place a direct wire (short) connection between the load points and determine the resultant current. Note that this step is exactly opposite the respective step in Thevenin’s Theorem, where we replaced the load resistor with a break (open circuit):\n",
    "![notron-modified-circuit](https://www.allaboutcircuits.com/uploads/articles/find-the-norton-current.jpg)"
   ]
  },
  {
   "cell_type": "markdown",
   "id": "532c1f90",
   "metadata": {},
   "source": [
    "To find the voltage drops and current values of each resistor we shall use mesh current analysis.  Suppose there are two mesh currents, denoted as '$I_1$' and '$I_2$', flowing through the above circuit.  $I_1$ flows through the left hand side -- $B_1$ and $R_1$ -- in a clockwise direction, while $I_2$ flows through the other half -- $B_2$ and $R_3$ -- in a counter-clockwise direction.  Via KVL,\n",
    "$$ -28\\text{V} + 4\\Omega \\cdot I_1 = 0$$\n",
    "$$ I_1 = 7\\text{A}$$\n",
    "\n",
    "$$ -7\\text{V} + 1\\Omega \\cdot I_2 = 0$$\n",
    "$$ I_2 = 7\\text{A}$$\n",
    "Note that the above assumes that the positive pole of $R_1$ is on it's left side while the positive pole of $R_3$ is on it's right side.  \n",
    "\n",
    "Via KCL,\n",
    "$$ I_1 + I_2 - I_\\text{short} = 0$$\n",
    "$$ I_\\text{short} = I_1 + I_2 = 14\\text{A}$$"
   ]
  },
  {
   "cell_type": "markdown",
   "id": "94f23aa1",
   "metadata": {},
   "source": [
    "## Find Norton Resistance\n",
    "\n",
    "Remember, the arrow notation for current source points in the direction of conventional current flow. To calculate the Norton resistance (RNorton), we do the exact same thing as we did for calculating Thevenin resistance (RThevenin): take the original circuit (with the load resistor still removed), remove the power sources (in the same style as we did with the Superposition Theorem: voltage sources replaced with wires and current sources replaced with breaks), and figure total resistance from one load connection point to the other:\n",
    "$$ R_\\text{Norton} = \\frac{1}{D}$$\n",
    "\n",
    "$$ D = \\frac{1}{R_1} + \\frac{1}{R_3} = \\frac{5}{4}\\Omega^{-1}$$\n",
    "\n",
    "Thus,\n",
    "$$ R_\\text{Norton} = \\frac{4}{5}\\Omega = 0.8\\Omega$$"
   ]
  },
  {
   "cell_type": "markdown",
   "id": "1216a8b2",
   "metadata": {},
   "source": [
    "Now are Norton equivalent circuit looks like this:\n",
    "![norton-equivalent-circuit](https://www.allaboutcircuits.com/uploads/articles/norton-equivalent-circuit-diagram3.jpg)"
   ]
  },
  {
   "cell_type": "markdown",
   "id": "d4a2be19",
   "metadata": {},
   "source": [
    "## Find the Load Voltage Drop\n",
    "\n",
    "Via Ohm's Law for parallel circuits:\n",
    "$$ E_\\text{load} = R_TI_\\text{Norton}$$\n",
    "\n",
    "$$ R_T = \\frac{1}{D}$$\n",
    "\n",
    "$$ D = \\frac{1}{0.8\\Omega} + \\frac{1}{2\\Omega} = (1.25 + 0.5)\\Omega^{-1} = \\frac{7}{4}\\Omega^{-1}$$\n",
    "\n",
    "$$R_T = \\frac{4}{7}\\Omega $$\n",
    "\n",
    "$$ E_\\text{load} = \\frac{4}{7}\\Omega \\cdot 14\\text{A} = 8 \\text{V}$$"
   ]
  },
  {
   "cell_type": "markdown",
   "id": "017b1343",
   "metadata": {},
   "source": [
    "## Find the Load Current\n",
    "\n",
    "Via Ohm's Law,\n",
    "$$ E_\\text{load} = 8\\text{V} = 2\\Omega I_2$$\n",
    "\n",
    "$$ I_2 = 4\\text{A}$$\n",
    "\n",
    "And,\n",
    "$$ E_1 = 8\\text{V} = \\frac{4}{5}\\Omega \\cdot I_1$$\n",
    "\n",
    "$$I_1 = 10\\text{A} $$"
   ]
  },
  {
   "cell_type": "markdown",
   "id": "a8e8b41a",
   "metadata": {},
   "source": [
    "# $\\Delta$-Y and Y-$\\Delta$ Conversions\n",
    "\n",
    " In many circuit applications, we encounter components connected together in one of two ways to form a three-terminal network: the “Delta,” or Δ (also known as the “Pi,” or π) configuration, and the “Y” (also known as the “T”) configuration.\n",
    "![delta-and-Y-circuits](https://www.allaboutcircuits.com/uploads/articles/three-terminal-network-diagram.jpg)"
   ]
  },
  {
   "cell_type": "markdown",
   "id": "2a60d012",
   "metadata": {},
   "source": [
    "It is possible to calculate the proper values of resistors necessary to form one kind of network ($\\Delta$ or Y) that behaves identically to the other kind, as analyzed from the terminal connections alone. That is, if we had two separate resistor networks, one $\\Delta$ and one Y, each with its resistors hidden from view, with nothing but the three terminals ($A$, $B$, and $C$) exposed for testing, the resistors could be sized for the two networks so that there would be no way to electrically determine one network apart from the other. In other words, equivalent $\\Delta$ and Y networks behave identically."
   ]
  },
  {
   "cell_type": "markdown",
   "id": "d7ccf5e0",
   "metadata": {},
   "source": [
    "## $\\Delta$ and Y Conversion Equations\n",
    "\n",
    "Below are a suite of equations to help convert from one kind of network to another.\n",
    "![conversion-equations](https://www.allaboutcircuits.com/uploads/articles/delta-wye-conversion-equations.jpg)"
   ]
  },
  {
   "cell_type": "code",
   "execution_count": 8,
   "id": "c2150ab3",
   "metadata": {},
   "outputs": [],
   "source": [
    "# Convert from Delta to Wye (Y).\n",
    "\n",
    "def R_A(R_AB, R_AC, R_BC):\n",
    "    return (R_AB * R_AC)/(R_AB + R_AC + R_BC)\n",
    "\n",
    "def R_B(R_AB, R_AC, R_BC):\n",
    "    return (R_AB * R_BC)/(R_AB + R_AC + R_BC)\n",
    "\n",
    "def R_C(R_AB, R_AC, R_BC):\n",
    "    return (R_AC * R_BC)/(R_AB + R_AC + R_BC)"
   ]
  },
  {
   "cell_type": "markdown",
   "id": "e4782484",
   "metadata": {},
   "source": [
    "## Application of $\\Delta$-Y Conversion\n",
    "\n",
    "A prime application of this type of conversion is to analyse the bridge circuit shown below.\n",
    "![bridge-circuit](https://www.allaboutcircuits.com/uploads/articles/application-of-delta-and-wye-conversion.jpg)"
   ]
  },
  {
   "cell_type": "markdown",
   "id": "e6caa062",
   "metadata": {},
   "source": [
    "The top half of the bridge network, which consists of $R_1$, $R_2$, and $R_3$, is a $\\Delta$ network.  If the top terminal is $B$, the left is $A$, and the right is $C$ then $R_3=R_{AC}$, $R_1=R_{AB}$, and $R_2=R_{BC}$."
   ]
  },
  {
   "cell_type": "code",
   "execution_count": 10,
   "id": "a610d72b",
   "metadata": {},
   "outputs": [
    {
     "name": "stdout",
     "output_type": "stream",
     "text": [
      "R_A = 2.00;\tR_B = 6.00;\tR_C = 3.00\n"
     ]
    }
   ],
   "source": [
    "R_AC = 6; R_AB = 12; R_BC = 18\n",
    "Ra = R_A(R_AB, R_AC, R_BC)\n",
    "Rb = R_B(R_AB, R_AC, R_BC)\n",
    "Rc = R_C(R_AB, R_AC, R_BC)\n",
    "\n",
    "print(f'R_A = {Ra:.2f};\\tR_B = {Rb:.2f};\\tR_C = {Rc:.2f}')"
   ]
  },
  {
   "cell_type": "markdown",
   "id": "f9b6d52a",
   "metadata": {},
   "source": [
    "Now, suppose we replace the delta network with it's Wye or 'Y' equivalent with each terminal of the equivalent Wye network being in the same position as it's delta counterpart.  We now have a much more managable series-parallel circuit to analyse.  Said circuit can be defined as '$10\\text{V}--R_B--(R_A--R_4)//(R_C--R_5)$'."
   ]
  },
  {
   "cell_type": "markdown",
   "id": "2705fead",
   "metadata": {},
   "source": [
    "$$10\\text{V}--R_B--(R_A--R_4)//(R_C--R_5) = 10\\text{V}--6\\Omega--20\\Omega//15\\Omega$$"
   ]
  },
  {
   "cell_type": "markdown",
   "id": "36eb42af",
   "metadata": {},
   "source": [
    "Via Ohm's Law,\n",
    "$$ 10\\text{V} = R_TI$$\n",
    "\n",
    "$$ R_T = 6\\Omega + \\frac{1}{D}$$\n",
    "\n",
    "$$ D = \\frac{1}{20\\Omega} + \\frac{1}{15\\Omega}$$"
   ]
  },
  {
   "cell_type": "code",
   "execution_count": 12,
   "id": "19c2578b",
   "metadata": {},
   "outputs": [
    {
     "data": {
      "text/plain": [
       "8.571428571428571"
      ]
     },
     "execution_count": 12,
     "metadata": {},
     "output_type": "execute_result"
    }
   ],
   "source": [
    "D = 1/20 + 1/15\n",
    "1/D"
   ]
  },
  {
   "cell_type": "markdown",
   "id": "04940d46",
   "metadata": {},
   "source": [
    "$$ R_T = (6 + 8.571)\\Omega$$"
   ]
  },
  {
   "cell_type": "code",
   "execution_count": 13,
   "id": "26a52f55",
   "metadata": {},
   "outputs": [
    {
     "data": {
      "text/plain": [
       "14.571428571428571"
      ]
     },
     "execution_count": 13,
     "metadata": {},
     "output_type": "execute_result"
    }
   ],
   "source": [
    "R_T = 6 + 1/D\n",
    "R_T"
   ]
  },
  {
   "cell_type": "markdown",
   "id": "2f1f0f35",
   "metadata": {},
   "source": [
    "$$ I = \\frac{10\\text{V}}{R_T} = \\frac{10\\text{V}}{14.571\\Omega}$$"
   ]
  },
  {
   "cell_type": "code",
   "execution_count": 16,
   "id": "08884886",
   "metadata": {},
   "outputs": [
    {
     "name": "stdout",
     "output_type": "stream",
     "text": [
      "I = 686.27mA\n"
     ]
    }
   ],
   "source": [
    "I = 10/R_T\n",
    "print(f'I = {I*1000:.2f}mA') "
   ]
  },
  {
   "cell_type": "markdown",
   "id": "293c533e",
   "metadata": {},
   "source": [
    "Via KVL,\n",
    "$$ 10\\text{V} = V_B + V_A + V_4$$\n",
    "$$ 10\\text{V} = V_B + V_C + V_5$$\n",
    "\n",
    "Via the above, a property of parallel circuits, and Ohm's Law,\n",
    "$$ V_A + V_4 = V_5 + V_C = 20\\Omega I_a = 15\\Omega I_b = 10\\text{V} - 6\\Omega \\cdot I  = ...$$"
   ]
  },
  {
   "cell_type": "code",
   "execution_count": 17,
   "id": "1fb9eebb",
   "metadata": {},
   "outputs": [
    {
     "data": {
      "text/plain": [
       "5.882352941176471"
      ]
     },
     "execution_count": 17,
     "metadata": {},
     "output_type": "execute_result"
    }
   ],
   "source": [
    "10 - 6*I"
   ]
  },
  {
   "cell_type": "markdown",
   "id": "4e44bad1",
   "metadata": {},
   "source": [
    "Via the above,\n",
    "$$ I_5=I_b = \\frac{5.882\\text{V}}{15\\Omega}$$\n",
    "\n",
    "$$ I_4= I_a = \\frac{5.882\\text{V}}{20\\Omega}$$"
   ]
  },
  {
   "cell_type": "code",
   "execution_count": 19,
   "id": "4356f6a2",
   "metadata": {},
   "outputs": [
    {
     "name": "stdout",
     "output_type": "stream",
     "text": [
      "I_4 = 294.10mA;\tI_5 = 392.13mA\n",
      "I_4 + I_5 = 686.23mA\n"
     ]
    }
   ],
   "source": [
    "I_5 = I_b = 5.882/15\n",
    "I_4 = I_a = 5.882/20\n",
    "print(f'I_4 = {I_4*1000:.2f}mA;\\tI_5 = {I_5*1000:.2f}mA\\nI_4 + I_5 = {(I_4+I_5)*1000:.2f}mA')"
   ]
  },
  {
   "cell_type": "markdown",
   "id": "1cb06419",
   "metadata": {},
   "source": [
    "The above is consistent with KCL, which says that:\n",
    "$$ I_4 + I_5 - I = 0$$"
   ]
  },
  {
   "cell_type": "markdown",
   "id": "a30c5213",
   "metadata": {},
   "source": [
    "With what we have now, we can find the volage dropped against $R_4$ and $R_5$."
   ]
  },
  {
   "cell_type": "code",
   "execution_count": 21,
   "id": "e6232c78",
   "metadata": {},
   "outputs": [
    {
     "name": "stdout",
     "output_type": "stream",
     "text": [
      "E_4 = 5.29V;\tE_5 = 4.71V\n"
     ]
    }
   ],
   "source": [
    "R_4, R_5 = 18, 12\n",
    "E_4 = V_4 = 18*I_4\n",
    "E_5 = V_5 = 12*I_5\n",
    "print(f'E_4 = {E_4:.2f}V;\\tE_5 = {E_5:.2f}V')"
   ]
  },
  {
   "cell_type": "markdown",
   "id": "a306de9b",
   "metadata": {},
   "source": [
    "To find the voltage drops across the other resistors, we first shall find the currents flowing through each one.  Via KCL,\n",
    "\n",
    "$$ I = I_1 + I_2$$\n",
    "$$ I_1 - I_4 - I_3 = 0$$\n",
    "$$ I_3 + I_2 - I_5 = 0$$\n",
    "\n",
    "Note that the above three equations assumes that the positive pole of $R_3$ is on it's left, and the positive poles of $R_1$ and $R_2$ face the $B$ terminal."
   ]
  },
  {
   "cell_type": "markdown",
   "id": "aff7bd2a",
   "metadata": {},
   "source": [
    "With three unkowns and three unique equations we should be able to sovle for every unknown current.  Via the first two equations and substitution, \n",
    "$$ I-I_2-I_4-I_3=0$$\n",
    "Via the above equation the third equation and substitution,\n",
    "$$ I-I_2-I_4 + I_2 - I_5 = 0$$\n",
    "\n",
    "Well, that didn't work as expected.  Instead let's convert the bottom half of the bridge network into it's Y equivalent, which leaves us with the circuit defined by:\n",
    "$$ 10\\text{V}--R_B--(R_A -- R_1)//(R_C -- R_2)$$"
   ]
  },
  {
   "cell_type": "markdown",
   "id": "1b457c87",
   "metadata": {},
   "source": [
    "Terminals $A$ and $C$ are in the same position as before, but $B$ is at the bottom.  This means that $R_4 = R_{AB}$, $R_3 = R_{AC}$ and $R_5 = R_{BC}$."
   ]
  },
  {
   "cell_type": "code",
   "execution_count": 22,
   "id": "613478bd",
   "metadata": {},
   "outputs": [
    {
     "name": "stdout",
     "output_type": "stream",
     "text": [
      "R_A = 3.00;\tR_B = 6.00;\tR_C = 2.00\n"
     ]
    }
   ],
   "source": [
    "R_AB = R_4; R_BC = R_5\n",
    "Ra = R_A(R_AB, R_AC, R_BC)\n",
    "Rb = R_B(R_AB, R_AC, R_BC)\n",
    "Rc = R_C(R_AB, R_AC, R_BC)\n",
    "print(f'R_A = {Ra:.2f};\\tR_B = {Rb:.2f};\\tR_C = {Rc:.2f}')"
   ]
  },
  {
   "cell_type": "markdown",
   "id": "4d933c8e",
   "metadata": {},
   "source": [
    "Via Ohm's Law,\n",
    "$$ I = \\frac{10\\text{V}}{R_T}$$\n",
    "\n",
    "$$ R_T = R_B + \\frac{1}{D}$$\n",
    "\n",
    "$$D = \\frac{1}{R_A + R_1} + \\frac{1}{R_C + R_2}$$"
   ]
  },
  {
   "cell_type": "code",
   "execution_count": 27,
   "id": "5387f889",
   "metadata": {},
   "outputs": [
    {
     "name": "stdout",
     "output_type": "stream",
     "text": [
      "I = 686.27mA\n"
     ]
    }
   ],
   "source": [
    "D = 1/(12 + 3) + 1/(2 + 18)\n",
    "R_T = 6 + 1/D\n",
    "I = 10/R_T\n",
    "print(f'I = {I*1000:.2f}mA')"
   ]
  },
  {
   "cell_type": "code",
   "execution_count": 28,
   "id": "354a509f",
   "metadata": {},
   "outputs": [
    {
     "name": "stdout",
     "output_type": "stream",
     "text": [
      "V_B = 4.12V\n"
     ]
    }
   ],
   "source": [
    "V_B = Rb*I\n",
    "print(f'V_B = {V_B:.2f}V')"
   ]
  },
  {
   "cell_type": "markdown",
   "id": "346fba0f",
   "metadata": {},
   "source": [
    "$$ (R_A + R_1)I_a = (R_C + R_2)I_b = 10\\text{V} - V_B$$\n",
    "\n",
    "$$ I_a = I_1 = \\frac{10\\text{V} - V_B}{R_A + R_1} = . . .$$"
   ]
  },
  {
   "cell_type": "code",
   "execution_count": 30,
   "id": "1666aff4",
   "metadata": {},
   "outputs": [
    {
     "name": "stdout",
     "output_type": "stream",
     "text": [
      "I_1 = 392.16mA\n",
      "I_2 = 294.12mA\n"
     ]
    }
   ],
   "source": [
    "R_1, R_2 = 12, 18\n",
    "I_1 = (10-V_B) / (Ra + R_1)\n",
    "I_2 = (10-V_B) / (Rc + R_2)\n",
    "print(f'I_1 = {I_1*1000:.2f}mA\\nI_2 = {I_2*1000:.2f}mA')"
   ]
  },
  {
   "cell_type": "markdown",
   "id": "23345073",
   "metadata": {},
   "source": [
    "This allows us to find the voltage dropped across $R_1$ and $R_2$."
   ]
  },
  {
   "cell_type": "code",
   "execution_count": 31,
   "id": "72b1ba54",
   "metadata": {},
   "outputs": [
    {
     "name": "stdout",
     "output_type": "stream",
     "text": [
      "V_1 = 4.71V\n",
      "V_2 = 5.29V\n"
     ]
    }
   ],
   "source": [
    "E_1 = V_1 = R_1 * I_1\n",
    "E_2 = V_2 = R_2 * I_2\n",
    "print(f'V_1 = {V_1:.2f}V\\nV_2 = {V_2:.2f}V')"
   ]
  },
  {
   "cell_type": "markdown",
   "id": "beb728cf",
   "metadata": {},
   "source": [
    "And now, to solve for the voltage dropped across $R_3$, denoted as '$V_3$', and the current flowing through it, denoted as '$I_3$', we will assume that the positive pole of $R_3$ is on it's left.  Via KCL,\n",
    "$$I_1 - I_3 - I_4 = 0 $$\n",
    "$$ I_3 = I_1 - I_4$$"
   ]
  },
  {
   "cell_type": "code",
   "execution_count": 32,
   "id": "cc838ee9",
   "metadata": {},
   "outputs": [
    {
     "name": "stdout",
     "output_type": "stream",
     "text": [
      "I_3 = 98.06mA\n"
     ]
    }
   ],
   "source": [
    "I_3 = I_1-I_4\n",
    "print(f'I_3 = {I_3*1000:.2f}mA')"
   ]
  },
  {
   "cell_type": "markdown",
   "id": "b5261543",
   "metadata": {},
   "source": [
    "This is consistent with the other equation that follows from KCL,\n",
    "$$ I_2 + I_3 - I_5 = 0$$"
   ]
  },
  {
   "cell_type": "code",
   "execution_count": 33,
   "id": "2319528b",
   "metadata": {},
   "outputs": [
    {
     "data": {
      "text/plain": [
       "4.117647058832219e-05"
      ]
     },
     "execution_count": 33,
     "metadata": {},
     "output_type": "execute_result"
    }
   ],
   "source": [
    "I_2 + I_3 - I_5"
   ]
  },
  {
   "cell_type": "code",
   "execution_count": 34,
   "id": "2cae07e0",
   "metadata": {},
   "outputs": [
    {
     "name": "stdout",
     "output_type": "stream",
     "text": [
      "E_3 = V_3 = 0.59V\n"
     ]
    }
   ],
   "source": [
    "R_3 = 6\n",
    "E_3 = V_3 = R_3 * I_3\n",
    "print(f'E_3 = V_3 = {E_3:.2f}V')"
   ]
  }
 ],
 "metadata": {
  "kernelspec": {
   "display_name": "Python 3",
   "language": "python",
   "name": "python3"
  },
  "language_info": {
   "codemirror_mode": {
    "name": "ipython",
    "version": 3
   },
   "file_extension": ".py",
   "mimetype": "text/x-python",
   "name": "python",
   "nbconvert_exporter": "python",
   "pygments_lexer": "ipython3",
   "version": "3.6.9"
  },
  "latex_envs": {
   "LaTeX_envs_menu_present": true,
   "autoclose": false,
   "autocomplete": true,
   "bibliofile": "biblio.bib",
   "cite_by": "apalike",
   "current_citInitial": 1,
   "eqLabelWithNumbers": true,
   "eqNumInitial": 1,
   "hotkeys": {
    "equation": "Ctrl-E",
    "itemize": "Ctrl-I"
   },
   "labels_anchors": false,
   "latex_user_defs": false,
   "report_style_numbering": false,
   "user_envs_cfg": false
  }
 },
 "nbformat": 4,
 "nbformat_minor": 5
}
