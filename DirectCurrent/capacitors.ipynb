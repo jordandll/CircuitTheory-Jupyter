{
 "cells": [
  {
   "cell_type": "code",
   "execution_count": 2,
   "id": "b11b46ae",
   "metadata": {},
   "outputs": [],
   "source": [
    "import discharge"
   ]
  },
  {
   "cell_type": "markdown",
   "id": "e988cc97",
   "metadata": {},
   "source": [
    "# Capacitors\n",
    "Suppose we have a circuit with only one component, a capacitor with a capacitance of $C$ farads, along with a power source supplying a voltage of $E$ volts.\n",
    "$$ \\frac{1}{C} \\int i \\cdot dt = V_C = E$$\n",
    "## In Parallel\n",
    "It then follows that the current drawn by the capacitor that is in parallel with other nodes of the circuit is proportional to the instantaneous rate of change of the voltage.\n",
    "$$ i = C \\frac{dV_C}{dt} = C V_C'(t)$$\n",
    "This property makes it a good stabilizer.  During a voltage spike, it will draw a current that is proportional to said spike;  Thus subtracting from the total current when the voltage is increasing and adding to the total current when the voltage is decreasing.\n",
    "## Capacitor as a Battery\n",
    "Using a capacitor as the battery or power supply of a circuit is one way of discharging one.\n",
    "Suppose there is a circuit consisting of only a capacitor, serving as the \n",
    "battery or power supply of the circuit, with a capacitance of $C$ \n",
    "farads and an initial charge of $q_0$ Coloumbs and a resistor with a \n",
    "resistance of $R$ ohms.  The following equations hold true:\n",
    "$$ V_C + V_R = \\frac{1}{C}q(t) + Rq'(t) = 0$$\n",
    "The above is a differential equation with the charge in the capacitor, \n",
    "denoted as '$q$', as the dependent variable and time ($t$) as the \n",
    "independent variable.  As such, the general solution for $q(t)$ is of the \n",
    "form:\n",
    "$$ q(t) := q(t \\vert C, R, q_0) = Ae^{mt}$$\n",
    "To solve for $m$, we use the auxiliary equation:\n",
    "$$Rm + \\frac{1}{C} = 0$$\n",
    "$$CRm + 1 = 0$$\n",
    "$$m = - \\frac{1}{CR}$$\n",
    "And to solve for the arbitrary constant, $A \\in \\mathbb{R}$, we use the IVP:\n",
    "$$ q(0) = Ae^{m \\cdot 0} = A = q_0$$\n",
    "This leaves us with the specific solution for the parametric function that \n",
    "gives the charge in the capacitor as a function of time.\n",
    "\\begin{equation}\\label{eq:charge}\n",
    "    q(t \\vert C, R, q_0) = q_0e^{mt}\n",
    "\\end{equation}"
   ]
  },
  {
   "cell_type": "code",
   "execution_count": 4,
   "id": "c14a4ffd",
   "metadata": {},
   "outputs": [
    {
     "name": "stdout",
     "output_type": "stream",
     "text": [
      "Help on function gen_charge in module discharge:\n",
      "\n",
      "gen_charge(C, R, q_0)\n",
      "    A parametric function that gives the charge in capacitor as a function\n",
      "    of time.  The parameters are:\n",
      "      C:    The capacitance in farads;\n",
      "      R:    The resistance in ohms;\n",
      "      q_0:  The initial charge in Coloumbs.\n",
      "\n"
     ]
    }
   ],
   "source": [
    "help(discharge.gen_charge)"
   ]
  },
  {
   "cell_type": "markdown",
   "id": "a058ce86",
   "metadata": {},
   "source": [
    "#### Example\n",
    "This is a real life example.  I have a $50$V $10\\mu\\text{F}=10^{-5}$F capacitor that is fully charged.  Via the aforementioned fact, the first equation of this chapter, and substitution, the initial charge is:\n",
    "$$ q_0 = 50 \\text{V} \\cdot 10^{-5}\\text{F}=5 \\cdot 10^{-4}\\text{C}$$\n",
    "Note that the 'C' in the above equation stands for Coloumbs, and is not to be confused with '$C$', the denotation for the capacitance.  \n",
    "Let '$q(t)'$ be defined as:\n",
    "$$ q(t):=q(t \\vert 10\\mu \\text{F}, 560\\Omega, 5 \\cdot 10^{-4}\\text{C})$$\n",
    "If this were used as a power supply to a circuit containing a resistor with a resistance of $560\\Omega$, then the charge of a function of time would be given by $q(t)$"
   ]
  },
  {
   "cell_type": "code",
   "execution_count": 6,
   "id": "f72d140f",
   "metadata": {},
   "outputs": [
    {
     "data": {
      "text/plain": [
       "0.00040355887350269464"
      ]
     },
     "execution_count": 6,
     "metadata": {},
     "output_type": "execute_result"
    }
   ],
   "source": [
    "q = discharge.gen_charge(1e-5, 560, 5e-4)\n",
    "q(0.0012)"
   ]
  },
  {
   "cell_type": "markdown",
   "id": "903bde34",
   "metadata": {},
   "source": [
    "As one can see with the code above, the charge goes down very quickly.  After just one micro second, the charge goes down by one order of magnitude."
   ]
  },
  {
   "cell_type": "markdown",
   "id": "74199df5",
   "metadata": {},
   "source": [
    "### Time to Discharge\n",
    "The time it takes to discharge to $X$% of the initial charge is given by:\n",
    "Let $t:=t(X):=t(X \\vert R, C)$\n",
    "$$ q_0 \\cdot 0.01X = q_0e^{mt} $$\n",
    "$$ 10^{-2}X = e^{mt}$$\n",
    "$$ \\ln(X)-2\\ln(10) = mt$$\n",
    "$$ t = t(X) = - CR\\big(\\ln(X)-2\\ln(10)\\big) = CR(2\\ln10 - \\ln X)$$\n",
    "\n",
    "#### Example\n",
    "This example uses the same capacitor as the previous example.  Below is how long it takes in milli seconds to discharge to 5% of the initial charge.\n"
   ]
  },
  {
   "cell_type": "code",
   "execution_count": 8,
   "id": "4f58b735",
   "metadata": {},
   "outputs": [
    {
     "name": "stdout",
     "output_type": "stream",
     "text": [
      "Help on function gen_time in module discharge:\n",
      "\n",
      "gen_time(C, R)\n",
      "    A parametric function that gives the time it takes for the charge in a \n",
      "    capacitor with a capacitance of C farads to reach X% of it's initial charge.\n",
      "    The returned function accepts one argument, the desired percent of the initial charge,\n",
      "    denoted as 'X'.  Said function returns the time, in seconds, that it takes to reach\n",
      "    X% of the initial charge.\n",
      "    Parameter:\n",
      "      C:    Capacitance in farads;;\n",
      "      R:    Resistance in ohms.\n",
      "\n"
     ]
    }
   ],
   "source": [
    "help(discharge.gen_time)"
   ]
  },
  {
   "cell_type": "code",
   "execution_count": 10,
   "id": "5b365c38",
   "metadata": {},
   "outputs": [
    {
     "name": "stdout",
     "output_type": "stream",
     "text": [
      "t(10%)=0.012894s=12.894ms\n"
     ]
    }
   ],
   "source": [
    "t = discharge.gen_time(1e-5, 560)\n",
    "print(f't(10%)={t(10):.6f}s={t(10)*1000:.3f}ms')"
   ]
  },
  {
   "cell_type": "markdown",
   "id": "6c7feb36",
   "metadata": {},
   "source": [
    "Below is a curve given by $q(t)$."
   ]
  },
  {
   "cell_type": "code",
   "execution_count": 11,
   "id": "8f63ead2",
   "metadata": {},
   "outputs": [
    {
     "data": {
      "text/plain": [
       "<matplotlib.legend.Legend at 0x7fe7a30c7be0>"
      ]
     },
     "execution_count": 11,
     "metadata": {},
     "output_type": "execute_result"
    },
    {
     "data": {
      "image/png": "[encoded data removed]",
      "text/plain": [
       "<Figure size 432x288 with 1 Axes>"
      ]
     },
     "metadata": {
      "needs_background": "light"
     },
     "output_type": "display_data"
    }
   ],
   "source": [
    "import numpy as np\n",
    "import matplotlib.pyplot as plt\n",
    "X=T=np.linspace(0.0, 0.013, num=200)\n",
    "Y=Q=np.array(list(map(q, T)))\n",
    "mX=X*1000\n",
    "mY=Y*1000\n",
    "fig, ax = plt.subplots()\n",
    "ax.set_title('Charge in Capacitor')\n",
    "ax.set_xlabel('time (ms)')\n",
    "ax.set_ylabel('charge (milli Coloumbs)')\n",
    "ax.plot(mX, mY, label=r'R=560 $\\Omega$, C=10$\\mu$F')\n",
    "ax.legend()"
   ]
  }
 ],
 "metadata": {
  "kernelspec": {
   "display_name": "Python 3",
   "language": "python",
   "name": "python3"
  },
  "language_info": {
   "codemirror_mode": {
    "name": "ipython",
    "version": 3
   },
   "file_extension": ".py",
   "mimetype": "text/x-python",
   "name": "python",
   "nbconvert_exporter": "python",
   "pygments_lexer": "ipython3",
   "version": "3.6.9"
  }
 },
 "nbformat": 4,
 "nbformat_minor": 5
}
