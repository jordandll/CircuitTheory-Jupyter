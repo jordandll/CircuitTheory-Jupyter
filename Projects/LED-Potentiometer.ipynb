{
 "cells": [
  {
   "cell_type": "markdown",
   "id": "43cd1bad",
   "metadata": {},
   "source": [
    "# LED-Potentiometer\n",
    "\n",
    "In this project we will make a circuit consisting of a an LED whose brightness is controlled by a potentiometer.  The circuit is of the form:  $E--R--R_1//(R_2--D)$.  The resistance of the potentiometer, denoted as '$R_\\mathrm{p}$', is divided into two, $R$ and $R_1$.  The value of each is detetermined by the direction of the knob of the potentiometer, denoted as '$\\theta$'.  Please note that the LED is denoted as '$D$' in the circuit description."
   ]
  },
  {
   "cell_type": "markdown",
   "id": "f0926f2e",
   "metadata": {},
   "source": [
    "\\begin{equation}\\tag{1}\n",
    "    R+R_1 = R_\\mathrm{p}\n",
    "\\end{equation}    "
   ]
  },
  {
   "cell_type": "markdown",
   "id": "cc295bcc",
   "metadata": {},
   "source": [
    "Via KVL and Ohm's Law,  \n",
    "\n",
    "\\begin{equation}\\tag{2}\n",
    "    R_1I_1 = R_2I_2\n",
    "\\end{equation}    "
   ]
  },
  {
   "cell_type": "markdown",
   "id": "212755cb",
   "metadata": {},
   "source": [
    "and,\n",
    "\\begin{equation}\\tag{3}\n",
    "    E - RI - R_1I_1 = 0\n",
    "\\end{equation}    "
   ]
  },
  {
   "cell_type": "markdown",
   "id": "e6add46a",
   "metadata": {},
   "source": [
    "Via KCL,  \n",
    "\n",
    "\\begin{equation}\\tag{4}\n",
    "    I = I_1 + I_2\n",
    "\\end{equation}    "
   ]
  },
  {
   "cell_type": "markdown",
   "id": "7496940c",
   "metadata": {},
   "source": [
    "Now let's find the transfer function that maps $E$ to $I_2$.  Via equations (4) and (3),  \n",
    "\n",
    "$$E - R(I_1+I_2) - R_1I_1 = 0$$"
   ]
  },
  {
   "cell_type": "markdown",
   "id": "993f2d21",
   "metadata": {},
   "source": [
    "$$ I_1(R_1+R) = E - RI_2$$"
   ]
  },
  {
   "cell_type": "markdown",
   "id": "e24b1fc5",
   "metadata": {},
   "source": [
    "\\begin{equation}\\tag{5}\n",
    "    I_1 = \\frac{E-RI_2}{R_1+R}\n",
    "\\end{equation}    "
   ]
  },
  {
   "cell_type": "markdown",
   "id": "fdc1dcbc",
   "metadata": {},
   "source": [
    "Via equations (5) and (2),  \n",
    "\n",
    "$$ R_2I_2(R_1+R) = R_1(E-RI_2)$$"
   ]
  },
  {
   "cell_type": "markdown",
   "id": "01902f97",
   "metadata": {},
   "source": [
    "$$ R_2I_2(R_1+R) + RR_1I_2 = R_1E $$"
   ]
  },
  {
   "cell_type": "markdown",
   "id": "554cb040",
   "metadata": {},
   "source": [
    "$$ I_2\\big(R_2(R_1+R) + RR_1\\big) = R_1E$$"
   ]
  },
  {
   "cell_type": "markdown",
   "id": "b03b6474",
   "metadata": {},
   "source": [
    "Thus,\n",
    "\\begin{equation}\\tag{6}\n",
    "    I_2:=I_2(E\\vert R, R_1, R_2) = \\frac{ER_1}{R_2(R_1+R)+RR_1}\n",
    "\\end{equation}    "
   ]
  },
  {
   "cell_type": "markdown",
   "id": "b2efd8ba",
   "metadata": {},
   "source": [
    "Via equation (6) and the fact that $R = R_\\mathrm{p} - R_1$,  \n",
    "\n",
    "\\begin{equation}\\tag{6a}\n",
    "    I_2 := I_2(E\\vert R_\\mathrm{p}, R_1, R_2) = I_2(E\\vert R_\\mathrm{p}-R_1, R_1, R_2) = \\frac{ER_1}{R_2R_\\mathrm{p} + R_1(R_\\mathrm{p}-R_1)}\n",
    "\\end{equation}    "
   ]
  },
  {
   "cell_type": "markdown",
   "id": "156d93ce",
   "metadata": {},
   "source": [
    "Now lets redefine $I_2$ to make $E$ a parameter and $R_1$ the variable.\n",
    "\n",
    "\\begin{equation}\\tag{6b}\n",
    "    I_2 := I_2(R_1\\vert E, R_\\mathrm{p}, R_2) = \\frac{ER_1}{R_2R_\\mathrm{p} + R_1(R_\\mathrm{p}-R_1)}\n",
    "\\end{equation}    "
   ]
  },
  {
   "cell_type": "markdown",
   "id": "74c995ec",
   "metadata": {},
   "source": [
    "Next, lets define a function that maps $\\theta$ to $R_1$, assuming that $R_1$ is proportional to $\\theta$.  \n",
    "\n",
    "\\begin{equation}\\tag{7}\n",
    "    R_1 := R_1(\\theta) := \\frac{\\theta}{2\\pi}\\,R_\\mathrm{p}\n",
    "\\end{equation}    "
   ]
  },
  {
   "cell_type": "markdown",
   "id": "d8ce7fc9",
   "metadata": {},
   "source": [
    "Finally, lets compose the functions identified in equations (6b) and (7) into one function.  \n",
    "\n",
    "$$ I_2 := I_2(\\theta\\vert E, R_\\mathrm{p}, R_2):=I_2(R_1(\\theta)|E, R_\\mathrm{p},R_2) = I_2(R_1\\vert E, R_\\mathrm{p},R_2)\\circ R_1(\\theta)$$"
   ]
  },
  {
   "cell_type": "code",
   "execution_count": 1,
   "id": "a0f14a87",
   "metadata": {},
   "outputs": [],
   "source": [
    "import numpy as np\n",
    "import matplotlib.pyplot as plt"
   ]
  },
  {
   "cell_type": "code",
   "execution_count": 2,
   "id": "86949979",
   "metadata": {
    "code_folding": [
     0
    ]
   },
   "outputs": [
    {
     "data": {
      "text/plain": [
       "[<matplotlib.lines.Line2D at 0x7f01d67c2be0>]"
      ]
     },
     "execution_count": 2,
     "metadata": {},
     "output_type": "execute_result"
    },
    {
     "data": {
      "image/png": "[encoded data removed]",
      "text/plain": [
       "<Figure size 432x288 with 1 Axes>"
      ]
     },
     "metadata": {
      "needs_background": "light"
     },
     "output_type": "display_data"
    }
   ],
   "source": [
    "# Set the parameters\n",
    "E = 9\n",
    "R_p = 1e4\n",
    "R_2 = 330\n",
    "\n",
    "# Set the domain of the function\n",
    "theta = np.linspace(0.125*np.pi, np.pi*(1-0.0125), num=200)\n",
    "\n",
    "# Define the functions\n",
    "R_1 = R_p*(theta)/(np.pi)\n",
    "I_2 = E*R_1/(R_2*R_p + R_1*(R_p-R_1))\n",
    "\n",
    "# Create fig and axes.\n",
    "fig, ax = plt.subplots()\n",
    "ax.set_title('LED current', size=14)\n",
    "ax.set_ylabel('current (mA)')\n",
    "ax.set_xlabel('knob angle (%)')\n",
    "ax.grid()\n",
    "\n",
    "# Plot the data.\n",
    "ax.plot(100*theta/(np.pi), 1000*I_2)"
   ]
  },
  {
   "cell_type": "markdown",
   "id": "e7eb26bf",
   "metadata": {},
   "source": [
    "### Application\n",
    "Assuming $R_1=R_\\mathrm{p}$,  \n",
    "\n",
    "$$ I_2 = \\frac{E}{R_2}$$"
   ]
  },
  {
   "cell_type": "markdown",
   "id": "d64bc6c6",
   "metadata": {},
   "source": [
    "And, assuming $I_2=20\\mathrm{mA}$ and $E=9\\mathrm{V}$,  \n",
    "\n",
    "$$ R_2 = \\frac{9\\mathrm{V}}{0.02\\mathrm{A}} = 450\\Omega$$"
   ]
  },
  {
   "cell_type": "code",
   "execution_count": 3,
   "id": "4e32dd74",
   "metadata": {},
   "outputs": [
    {
     "data": {
      "text/plain": [
       "450.0"
      ]
     },
     "execution_count": 3,
     "metadata": {},
     "output_type": "execute_result"
    }
   ],
   "source": [
    "9/0.02"
   ]
  },
  {
   "cell_type": "markdown",
   "id": "a8d08038",
   "metadata": {},
   "source": [
    "$$ I_2 = \\frac{9\\mathrm{V}}{560\\Omega} \\approxeq 16.07\\mathrm{mA}$$"
   ]
  },
  {
   "cell_type": "code",
   "execution_count": 4,
   "id": "3a339296",
   "metadata": {},
   "outputs": [
    {
     "data": {
      "text/plain": [
       "0.01607142857142857"
      ]
     },
     "execution_count": 4,
     "metadata": {},
     "output_type": "execute_result"
    }
   ],
   "source": [
    "9/560"
   ]
  },
  {
   "cell_type": "code",
   "execution_count": 5,
   "id": "4e5239fd",
   "metadata": {},
   "outputs": [
    {
     "data": {
      "text/plain": [
       "27.272727272727273"
      ]
     },
     "execution_count": 5,
     "metadata": {},
     "output_type": "execute_result"
    }
   ],
   "source": [
    "1000*9/330"
   ]
  }
 ],
 "metadata": {
  "kernelspec": {
   "display_name": "Python 3",
   "language": "python",
   "name": "python3"
  },
  "language_info": {
   "codemirror_mode": {
    "name": "ipython",
    "version": 3
   },
   "file_extension": ".py",
   "mimetype": "text/x-python",
   "name": "python",
   "nbconvert_exporter": "python",
   "pygments_lexer": "ipython3",
   "version": "3.8.10"
  }
 },
 "nbformat": 4,
 "nbformat_minor": 5
}
