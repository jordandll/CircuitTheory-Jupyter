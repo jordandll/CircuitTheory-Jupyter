{
 "cells": [
  {
   "cell_type": "markdown",
   "id": "2ff069d9",
   "metadata": {},
   "source": [
    "# LED-Potentiometer\n",
    "\n",
    "In this project we will make a circuit consisting of a an LED whose brightness is controlled by a potentiometer.  The circuit is of the form:  $E--R--R_1//(R_2--D)$.  The resistance of the potentiometer, denoted as '$R_\\mathrm{p}$', is divided into two, $R$ and $R_1$.  The value of each is detetermined by the direction of the knob of the potentiometer, denoted as '$\\theta$'.  Please note that the LED is denoted as '$D$' in the circuit description."
   ]
  },
  {
   "cell_type": "markdown",
   "id": "8ab2b972",
   "metadata": {},
   "source": [
    "\\begin{equation}\\tag{1}\n",
    "    R+R_1 = R_\\mathrm{p}\n",
    "\\end{equation}    "
   ]
  },
  {
   "cell_type": "markdown",
   "id": "06aa6d4a",
   "metadata": {},
   "source": [
    "Via KVL and Ohm's Law,  \n",
    "\n",
    "\\begin{equation}\\tag{2}\n",
    "    R_1I_1 = R_2I_2\n",
    "\\end{equation}    "
   ]
  },
  {
   "cell_type": "markdown",
   "id": "e02aa3d6",
   "metadata": {},
   "source": [
    "and,\n",
    "\\begin{equation}\\tag{3}\n",
    "    E - RI - R_1I_1 = 0\n",
    "\\end{equation}    "
   ]
  },
  {
   "cell_type": "markdown",
   "id": "63fb3c71",
   "metadata": {},
   "source": [
    "Via KCL,  \n",
    "\n",
    "\\begin{equation}\\tag{4}\n",
    "    I = I_1 + I_2\n",
    "\\end{equation}    "
   ]
  },
  {
   "cell_type": "markdown",
   "id": "75003349",
   "metadata": {},
   "source": [
    "Now let's find the transfer function that maps $E$ to $I_2$.  Via equations (4) and (3),  \n",
    "\n",
    "$$E - R(I_1+I_2) - R_1I_1 = 0$$"
   ]
  },
  {
   "cell_type": "markdown",
   "id": "4b8592c4",
   "metadata": {},
   "source": [
    "$$ I_1(R_1+R) = E - RI_2$$"
   ]
  },
  {
   "cell_type": "markdown",
   "id": "3aebc767",
   "metadata": {},
   "source": [
    "\\begin{equation}\\tag{5}\n",
    "    I_1 = \\frac{E-RI_2}{R_1+R}\n",
    "\\end{equation}    "
   ]
  },
  {
   "cell_type": "markdown",
   "id": "890e1a80",
   "metadata": {},
   "source": [
    "Via equations (5) and (2),  \n",
    "\n",
    "$$ R_2I_2(R_1+R) = R_1(E-RI_2)$$"
   ]
  },
  {
   "cell_type": "markdown",
   "id": "95018463",
   "metadata": {},
   "source": [
    "$$ R_2I_2(R_1+R) + RR_1I_2 = R_1E $$"
   ]
  },
  {
   "cell_type": "markdown",
   "id": "98a86b5f",
   "metadata": {},
   "source": [
    "$$ I_2\\big(R_2(R_1+R) + RR_1\\big) = R_1E$$"
   ]
  },
  {
   "cell_type": "markdown",
   "id": "fa7401dc",
   "metadata": {},
   "source": [
    "Thus,\n",
    "\\begin{equation}\\tag{6}\n",
    "    I_2:=I_2(E\\vert R, R_1, R_2) = \\frac{ER_1}{R_2(R_1+R)+RR_1}\n",
    "\\end{equation}    "
   ]
  },
  {
   "cell_type": "markdown",
   "id": "985f739b",
   "metadata": {},
   "source": [
    "Via equation (6) and the fact that $R = R_\\mathrm{p} - R_1$,  \n",
    "\n",
    "\\begin{equation}\\tag{6a}\n",
    "    I_2 := I_2(E\\vert R_\\mathrm{p}, R_1, R_2) = I_2(E\\vert R_\\mathrm{p}-R_1, R_1, R_2) = \\frac{ER_1}{R_2R_\\mathrm{p} + R_1(R_\\mathrm{p}-R_1)}\n",
    "\\end{equation}    "
   ]
  },
  {
   "cell_type": "markdown",
   "id": "6cd5cb63",
   "metadata": {},
   "source": [
    "### Application\n",
    "Assuming $R_1=R_\\mathrm{p}$,  \n",
    "\n",
    "$$ I_2 = \\frac{E}{R_2}$$"
   ]
  },
  {
   "cell_type": "markdown",
   "id": "537f9804",
   "metadata": {},
   "source": [
    "And, assuming $I_2=20\\mathrm{mA}$ and $E=9\\mathrm{V}$,  \n",
    "\n",
    "$$ R_2 = \\frac{9\\mathrm{V}}{0.02\\mathrm{A}} = 450\\Omega$$"
   ]
  },
  {
   "cell_type": "code",
   "execution_count": 1,
   "id": "4850c959",
   "metadata": {},
   "outputs": [
    {
     "data": {
      "text/plain": [
       "450.0"
      ]
     },
     "execution_count": 1,
     "metadata": {},
     "output_type": "execute_result"
    }
   ],
   "source": [
    "9/0.02"
   ]
  },
  {
   "cell_type": "markdown",
   "id": "4212fd37",
   "metadata": {},
   "source": [
    "$$ I_2 = \\frac{9\\mathrm{V}}{560\\Omega} \\approxeq 16.07\\mathrm{mA}$$"
   ]
  },
  {
   "cell_type": "code",
   "execution_count": 2,
   "id": "6d320d1a",
   "metadata": {},
   "outputs": [
    {
     "data": {
      "text/plain": [
       "0.01607142857142857"
      ]
     },
     "execution_count": 2,
     "metadata": {},
     "output_type": "execute_result"
    }
   ],
   "source": [
    "9/560"
   ]
  }
 ],
 "metadata": {
  "kernelspec": {
   "display_name": "Python 3",
   "language": "python",
   "name": "python3"
  },
  "language_info": {
   "codemirror_mode": {
    "name": "ipython",
    "version": 3
   },
   "file_extension": ".py",
   "mimetype": "text/x-python",
   "name": "python",
   "nbconvert_exporter": "python",
   "pygments_lexer": "ipython3",
   "version": "3.8.10"
  }
 },
 "nbformat": 4,
 "nbformat_minor": 5
}
