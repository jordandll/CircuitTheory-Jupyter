{
 "cells": [
  {
   "cell_type": "markdown",
   "id": "282c6588",
   "metadata": {},
   "source": [
    "# Series-Parallel Circuits\n",
    "\n",
    "A series-parallel circuit consists of a parallel circuit in series with other nodes which can be parallel circuits themselves or simply a basic circuit component (e.g. a capacitor or a resistor, etc.).  There are atleast two ways to analyse these types of circuits.  One is the branch current method, and the other that we will be looking into is to use simultaneous equations, one for each branch current."
   ]
  },
  {
   "cell_type": "markdown",
   "id": "024cb12f",
   "metadata": {},
   "source": [
    "## Example 1\n",
    "\n",
    "Suppose there is a circuit defined by '$E--R_1--R_2//R_3$' with a DC power supply.  In this section we will look at two method to solve for the current, denoted as '$I$'.\n",
    "\n",
    "### Branch Method\n",
    "\n",
    "Via KVL,\n",
    "$$ E = (R_a + R_b)I$$\n",
    "\n",
    "where,\n",
    "$$ R_a = R_1$$\n",
    "\n",
    "and,\n",
    "$$ R_b = \\frac{1}{D}$$\n",
    "\n",
    "$$ D = \\frac{1}{R_2} + \\frac{1}{R_3}$$"
   ]
  },
  {
   "cell_type": "markdown",
   "id": "c00581a0",
   "metadata": {},
   "source": [
    "$$ I = \\frac{E}{R_a+R_b}$$"
   ]
  },
  {
   "cell_type": "code",
   "execution_count": 1,
   "id": "ed27e8b8",
   "metadata": {},
   "outputs": [],
   "source": [
    "def dc_cur_branch(E, R_1, R_2, R_3):\n",
    "    D = 1/R_2 + 1/R_3\n",
    "    R_b = 1/D\n",
    "    return E / (R_1 + R_b) "
   ]
  },
  {
   "cell_type": "markdown",
   "id": "f2d006bb",
   "metadata": {},
   "source": [
    "### Simultaneous Equations\n",
    "\n",
    "Via KVL,\n",
    "\\begin{equation}\\tag{1}\n",
    "    E = R_1I + R_2I_1\n",
    "\\end{equation}\n",
    "\n",
    "and,\n",
    "\\begin{equation}\\tag{2}\n",
    "    E = R_1I + R_3I_2\n",
    "\\end{equation}\n",
    "\n",
    "Via KCL,\n",
    "\\begin{equation}\\tag{3}\n",
    "    I = I_1 + I_2\n",
    "\\end{equation}"
   ]
  },
  {
   "cell_type": "markdown",
   "id": "5331bd4a",
   "metadata": {},
   "source": [
    "Via equations (2) and (3) and substitution,\n",
    "\\begin{equation}\\tag{2}\n",
    "    E = R_1I + R_3(I-I_1)\n",
    "\\end{equation}"
   ]
  },
  {
   "cell_type": "markdown",
   "id": "0b0b0064",
   "metadata": {},
   "source": [
    "The above allows us to solve for $I_1$ in terms of $I$.\n",
    "$$ R_3 I_1 = I(R_1+R_3) - E$$\n",
    "\n",
    "\\begin{equation}\\tag{4}\n",
    "\\label{eq:I_1}\n",
    "    I_1 = \\frac{I(R_1+R_3) - E}{R_3}\n",
    "\\end{equation}"
   ]
  },
  {
   "cell_type": "markdown",
   "id": "4eb6d2ea",
   "metadata": {},
   "source": [
    "Via equations (4) and (1) and substitution, we can solve for $I$.\n",
    "\\begin{align*}\n",
    "    E &= R_1I + \\frac{I(R_1+R_3) - E}{R_3} \\\\\n",
    "    E &= I \\left( R_1 + \\frac{R_1+R_3 - E}{R_3} \\right) \\\\\n",
    "    E &= I \\frac{R_1R_3 + R_1+R_3 -E}{R_3}\n",
    "\\end{align*}"
   ]
  },
  {
   "cell_type": "markdown",
   "id": "6af788c5",
   "metadata": {},
   "source": [
    "$$ I = \\frac{R_3E}{R_1R_3 + R_1+R_3 -E}$$"
   ]
  },
  {
   "cell_type": "code",
   "execution_count": 2,
   "id": "43be415f",
   "metadata": {},
   "outputs": [],
   "source": [
    "def dc_cur_simultaneous(E, R_1, R_2, R_3):\n",
    "    return (R_3*E) / (R_1*R_3 + R_1 + R_3 - E)"
   ]
  },
  {
   "cell_type": "markdown",
   "id": "825bcacb",
   "metadata": {},
   "source": [
    "### Test\n",
    "\n",
    "Assuming that\n",
    "* $E = 5\\text{V}$\n",
    "* $R_1 = 330\\Omega$\n",
    "* $R_2 = 560\\Omega$\n",
    "* $R_3 = 330\\Omega$\n",
    "\n",
    "we get:"
   ]
  },
  {
   "cell_type": "code",
   "execution_count": 3,
   "id": "53a4daa4",
   "metadata": {},
   "outputs": [
    {
     "data": {
      "text/plain": [
       "0.009299895506792059"
      ]
     },
     "execution_count": 3,
     "metadata": {},
     "output_type": "execute_result"
    }
   ],
   "source": [
    "dc_cur_branch(5, 330, 560, 330)"
   ]
  },
  {
   "cell_type": "code",
   "execution_count": 4,
   "id": "f675248c",
   "metadata": {},
   "outputs": [
    {
     "data": {
      "text/plain": [
       "0.015060928300853453"
      ]
     },
     "execution_count": 4,
     "metadata": {},
     "output_type": "execute_result"
    }
   ],
   "source": [
    "dc_cur_simultaneous(5, 330, 560, 330)"
   ]
  }
 ],
 "metadata": {
  "kernelspec": {
   "display_name": "Python 3",
   "language": "python",
   "name": "python3"
  },
  "language_info": {
   "codemirror_mode": {
    "name": "ipython",
    "version": 3
   },
   "file_extension": ".py",
   "mimetype": "text/x-python",
   "name": "python",
   "nbconvert_exporter": "python",
   "pygments_lexer": "ipython3",
   "version": "3.6.9"
  }
 },
 "nbformat": 4,
 "nbformat_minor": 5
}
